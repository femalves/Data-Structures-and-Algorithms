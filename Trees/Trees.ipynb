{
 "cells": [
  {
   "cell_type": "code",
   "execution_count": 1,
   "metadata": {},
   "outputs": [],
   "source": [
    "def BinaryTree(r):\n",
    "    return [r, [], []]"
   ]
  },
  {
   "cell_type": "code",
   "execution_count": 2,
   "metadata": {},
   "outputs": [],
   "source": [
    "def insertLeft(root, newBranch):\n",
    "    t = root.pop(1)\n",
    "    if len(t) > 1: \n",
    "        root.insert(1, [newBranch, t, []])\n",
    "    else: \n",
    "        root.insert(1, [newBranch, [], []])\n",
    "    return root"
   ]
  },
  {
   "cell_type": "code",
   "execution_count": 3,
   "metadata": {},
   "outputs": [],
   "source": [
    "def insertRight(root, newBranch):\n",
    "    t = root.pop(2)\n",
    "    if len(t) > 1: \n",
    "        root.insert(2, [newBranch, [], t])\n",
    "    else: \n",
    "        root.insert(2, [newBranch, [], []])\n",
    "    return root "
   ]
  },
  {
   "cell_type": "code",
   "execution_count": 4,
   "metadata": {},
   "outputs": [],
   "source": [
    "def getRootVal(root):\n",
    "    return root[0]"
   ]
  },
  {
   "cell_type": "code",
   "execution_count": 5,
   "metadata": {},
   "outputs": [],
   "source": [
    "def setRootVal(root, newVal):\n",
    "    root[0] = newVal "
   ]
  },
  {
   "cell_type": "code",
   "execution_count": 6,
   "metadata": {},
   "outputs": [],
   "source": [
    "def getLeftChild(root):\n",
    "    return root[1]"
   ]
  },
  {
   "cell_type": "code",
   "execution_count": 7,
   "metadata": {},
   "outputs": [],
   "source": [
    "def getLeftChild(root):\n",
    "    return root[2]"
   ]
  },
  {
   "cell_type": "code",
   "execution_count": 8,
   "metadata": {},
   "outputs": [],
   "source": [
    "r = BinaryTree(3)"
   ]
  },
  {
   "cell_type": "code",
   "execution_count": 9,
   "metadata": {},
   "outputs": [
    {
     "data": {
      "text/plain": [
       "[3, [4, [], []], []]"
      ]
     },
     "execution_count": 9,
     "metadata": {},
     "output_type": "execute_result"
    }
   ],
   "source": [
    "insertLeft(r, 4)"
   ]
  },
  {
   "cell_type": "code",
   "execution_count": 10,
   "metadata": {},
   "outputs": [
    {
     "data": {
      "text/plain": [
       "[3, [5, [4, [], []], []], []]"
      ]
     },
     "execution_count": 10,
     "metadata": {},
     "output_type": "execute_result"
    }
   ],
   "source": [
    "insertLeft(r, 5)"
   ]
  },
  {
   "cell_type": "code",
   "execution_count": 92,
   "metadata": {},
   "outputs": [],
   "source": [
    "class BinaryTree(object):\n",
    "    \n",
    "    def __init__(self, rootObj):\n",
    "        \n",
    "        self.key = rootObj\n",
    "        self.leftChild = None\n",
    "        self.rightChild = None\n",
    "    \n",
    "    def insertLeft(self, newNode):\n",
    "        \n",
    "        if self.leftChild == None: \n",
    "            self.leftChild = BinaryTree(newNode)\n",
    "        else:\n",
    "            t = BinaryTree(newNode)\n",
    "            t.leftChild = self.leftChild\n",
    "            self.leftChild = t\n",
    "    \n",
    "    def insertRight(self, newNode):\n",
    "        \n",
    "        if self.rightChild == None:\n",
    "            self.rightChild = BinaryTree(newNode)\n",
    "        else: \n",
    "            t = BinaryTree(newNode)\n",
    "            t.rightChild = self.rightChild\n",
    "            self.rightChild = t\n",
    "            \n",
    "    def getRightChild(self):\n",
    "        return self.rightChild\n",
    "    \n",
    "    def getLeftChild(self):\n",
    "        return self.leftChild\n",
    "    \n",
    "    def setRootVal(self, obj):\n",
    "        self.key = obj\n",
    "        \n",
    "    def getRootVal(self):\n",
    "        return self.key \n",
    "    \n",
    "    def preorder(self, root):\n",
    "        out = []\n",
    "        if root: \n",
    "            out.append(root.getRootVal())\n",
    "            out += self.preorder(root.leftChild)\n",
    "            out += self.preorder(root.rightChild)\n",
    "        return out\n",
    "    \n",
    "    def inorder(self, root):\n",
    "        out = []\n",
    "        if root: \n",
    "            out += self.preorder(root.leftChild)\n",
    "            out.append(root.getRootVal())\n",
    "            out += self.preorder(root.rightChild)\n",
    "        return out        \n",
    "            \n",
    "    \n",
    "    def postorder(self, root):\n",
    "        out = []\n",
    "        if root: \n",
    "            out += self.preorder(root.leftChild)\n",
    "            out += self.preorder(root.rightChild)\n",
    "            out.append(root.getRootVal())\n",
    "        return out\n",
    "    \n",
    "    \n",
    "        \n",
    "    \n",
    "        "
   ]
  },
  {
   "cell_type": "code",
   "execution_count": 93,
   "metadata": {},
   "outputs": [],
   "source": [
    "r = BinaryTree('a')"
   ]
  },
  {
   "cell_type": "code",
   "execution_count": 94,
   "metadata": {},
   "outputs": [
    {
     "data": {
      "text/plain": [
       "'a'"
      ]
     },
     "execution_count": 94,
     "metadata": {},
     "output_type": "execute_result"
    }
   ],
   "source": [
    "r.getRootVal()"
   ]
  },
  {
   "cell_type": "code",
   "execution_count": 95,
   "metadata": {},
   "outputs": [],
   "source": [
    "r.insertLeft('b')\n",
    "r.insertRight('c')"
   ]
  },
  {
   "cell_type": "code",
   "execution_count": 96,
   "metadata": {},
   "outputs": [
    {
     "data": {
      "text/plain": [
       "'b'"
      ]
     },
     "execution_count": 96,
     "metadata": {},
     "output_type": "execute_result"
    }
   ],
   "source": [
    "r.getLeftChild().getRootVal()\n"
   ]
  },
  {
   "cell_type": "code",
   "execution_count": 97,
   "metadata": {},
   "outputs": [
    {
     "data": {
      "text/plain": [
       "['a', 'b', 'c']"
      ]
     },
     "execution_count": 97,
     "metadata": {},
     "output_type": "execute_result"
    }
   ],
   "source": [
    "r.preorder(r)"
   ]
  },
  {
   "cell_type": "code",
   "execution_count": 98,
   "metadata": {},
   "outputs": [
    {
     "data": {
      "text/plain": [
       "['b', 'a', 'c']"
      ]
     },
     "execution_count": 98,
     "metadata": {},
     "output_type": "execute_result"
    }
   ],
   "source": [
    "r.inorder(r)"
   ]
  },
  {
   "cell_type": "code",
   "execution_count": 99,
   "metadata": {},
   "outputs": [
    {
     "data": {
      "text/plain": [
       "['b', 'c', 'a']"
      ]
     },
     "execution_count": 99,
     "metadata": {},
     "output_type": "execute_result"
    }
   ],
   "source": [
    "r.postorder(r)"
   ]
  },
  {
   "cell_type": "code",
   "execution_count": 249,
   "metadata": {},
   "outputs": [],
   "source": [
    "class Node(object):\n",
    "    \n",
    "    def __init__(self, value):\n",
    "        self.value = value\n",
    "        self.left = None\n",
    "        self.right = None\n",
    "        \n",
    "    def insert(self, value):\n",
    "        newNode = Node(value)\n",
    "        # if there is a root\n",
    "        if self.value:\n",
    "            # if value of root is equal to value, substitute\n",
    "            if value == self.value:\n",
    "                self.value = value\n",
    "            # if value of root is less than value, we look left \n",
    "            if value < self.value: \n",
    "                # if there is not left\n",
    "                if self.left is None: \n",
    "                    # put new node there\n",
    "                    self.left = newNode\n",
    "                # if there's a left node already\n",
    "                else: \n",
    "                    # go left and call insert again\n",
    "                    # left node will act as new root\n",
    "                    self.left.insert(value)\n",
    "            # if value of root is greater than node value, go right\n",
    "            if value > self.value:\n",
    "                # if there is no right\n",
    "                if self.right is None:\n",
    "                    # put new node there\n",
    "                    self.right = newNode\n",
    "                # if there is a right already\n",
    "                else:\n",
    "                    #go right and call insert with right node acting\n",
    "                    # as new root\n",
    "                    self.right.insert(value)\n",
    "        #if there is no root\n",
    "        else:\n",
    "            self.value = value\n",
    "            \n",
    "    def search(self, value):\n",
    "        if value == self.value:\n",
    "            return True\n",
    "        if value < self.value: \n",
    "            if self.left is None: \n",
    "                return False\n",
    "            return self.left.search(value)\n",
    "        if value > self.value:\n",
    "            if self.right is None:\n",
    "                return False\n",
    "            return self.right.search(value)\n",
    "    \n",
    "    def delete(self, value):\n",
    "        pass\n",
    "    \n",
    "    def levels(self): \n",
    "        count_left = 0\n",
    "        count_right = 0\n",
    "        \n",
    "        if self.left: \n",
    "            count_left += 1\n",
    "            count_left += self.left.levels()\n",
    "            \n",
    "        if self.right:\n",
    "            count_right += 1\n",
    "            count_right += self.right.levels()\n",
    "            \n",
    "        return max(levels, count_right)\n",
    "    \n",
    "    def maxDepth(root):\n",
    "        \"\"\"\n",
    "        :type root: TreeNode\n",
    "        :rtype: int\n",
    "        \"\"\"\n",
    "        if root is None: \n",
    "            return 0\n",
    "        return max(maxDepth(root.right), maxDepth(root.left)) + 1 \n",
    "   \n",
    "    def isSameTree(self, p, q):\n",
    "        if p.value == q.value: \n",
    "            self.isSameTree(p.left, q.left)\n",
    "            self.isSameTree(p.right, q.right)\n",
    "        else: \n",
    "            return False\n",
    "        \n",
    "        return True\n",
    "        \n",
    "    def PrintTree(self):\n",
    "        if self.left: \n",
    "            self.left.PrintTree()\n",
    "        print(self.value)\n",
    "        if self.right:\n",
    "            self.right.PrintTree()\n",
    "    \n",
    "    #entire left -> root -> entire right\n",
    "    def inorder(self, root):\n",
    "        \"\"\"\n",
    "        :type root: TreeNode\n",
    "        :rtype: List[int]\n",
    "        \"\"\"\n",
    "        out = []\n",
    "        self._inorder(root, out)\n",
    "        return out\n",
    "    \n",
    "    def inorderiter(self, root): \n",
    "        stack, out = [], []\n",
    "        current = root\n",
    "        while True: \n",
    "            while current is not None:\n",
    "                stack.append(current)\n",
    "                current = current.left\n",
    "            while len(stack) > 0: \n",
    "                popped = stack.pop()\n",
    "                out.append(popped.value)\n",
    "                current = popped.right\n",
    "            if current is None and len(stack) == 0: break\n",
    "        return out\n",
    "    \n",
    "\n",
    "    def _inorder(self, node, out):\n",
    "        if not node:\n",
    "            return\n",
    "        self._inorder(node.left, out)\n",
    "        out.append(node.value)\n",
    "        self._inorder(node.right, out)\n",
    "        \n",
    "    # entire left -> entire right -> root\n",
    "    def postorder(self, root):\n",
    "        \"\"\"\n",
    "        :type root: TreeNode\n",
    "        :rtype: List[int]\n",
    "        \"\"\"\n",
    "        out = []\n",
    "        self._postorder(root, out)\n",
    "        return out\n",
    "\n",
    "    def _postorder(self, node, out):\n",
    "        if not node:\n",
    "            return\n",
    "        self._postorder(node.left, out)\n",
    "        self._postorder(node.right, out)\n",
    "        out.append(node.value)\n",
    "       \n",
    "    # root -> entire left -> entire right\n",
    "    def preorder(self, root):\n",
    "        out = []\n",
    "        self._preorder(root, out)\n",
    "        return out\n",
    "    \n",
    "    def _preorder(self, node, out):\n",
    "        if not node: \n",
    "            return \n",
    "        out.append(node.value)\n",
    "        self._preorder(node.left, out)\n",
    "        self._preorder(node.right, out)"
   ]
  },
  {
   "cell_type": "code",
   "execution_count": 250,
   "metadata": {},
   "outputs": [],
   "source": [
    "root = Node(27)"
   ]
  },
  {
   "cell_type": "code",
   "execution_count": 251,
   "metadata": {},
   "outputs": [],
   "source": [
    "root.insert(14)"
   ]
  },
  {
   "cell_type": "code",
   "execution_count": 252,
   "metadata": {},
   "outputs": [],
   "source": [
    "root.insert(35)\n",
    "root.insert(10)\n",
    "root.insert(19)\n",
    "root.insert(31)\n",
    "root.insert(42)\n",
    "\n",
    "\n",
    "\n"
   ]
  },
  {
   "cell_type": "code",
   "execution_count": 247,
   "metadata": {},
   "outputs": [
    {
     "name": "stdout",
     "output_type": "stream",
     "text": [
      "[10, 14, 19, 27, 31, 35, 42]\n"
     ]
    }
   ],
   "source": [
    "print(root.inorder(root))"
   ]
  },
  {
   "cell_type": "code",
   "execution_count": 150,
   "metadata": {},
   "outputs": [
    {
     "name": "stdout",
     "output_type": "stream",
     "text": [
      "[10, 17, 18, 20, 19, 14, 31, 42, 35, 27]\n"
     ]
    }
   ],
   "source": [
    "print(root.postorder(root))"
   ]
  },
  {
   "cell_type": "code",
   "execution_count": 185,
   "metadata": {},
   "outputs": [
    {
     "data": {
      "text/plain": [
       "False"
      ]
     },
     "execution_count": 185,
     "metadata": {},
     "output_type": "execute_result"
    }
   ],
   "source": [
    "root.search(14)"
   ]
  },
  {
   "cell_type": "code",
   "execution_count": 152,
   "metadata": {},
   "outputs": [
    {
     "name": "stdout",
     "output_type": "stream",
     "text": [
      "[27, 14, 10, 19, 18, 17, 20, 35, 31, 42]\n"
     ]
    }
   ],
   "source": [
    "print(root.preorder(root))"
   ]
  },
  {
   "cell_type": "code",
   "execution_count": 177,
   "metadata": {},
   "outputs": [
    {
     "name": "stdout",
     "output_type": "stream",
     "text": [
      "[]\n"
     ]
    }
   ],
   "source": [
    "root.PrintTree()\n"
   ]
  },
  {
   "cell_type": "markdown",
   "metadata": {},
   "source": [
    "# 230. Kth smallest \n",
    "\n",
    "Given a binary search tree, write a function kthSmallest to find the kth smallest element in it.\n",
    "\n",
    "Note: \n",
    "You may assume k is always valid, 1 ≤ k ≤ BST's total elements.\n",
    "\n",
    "Example 1:\n",
    "\n",
    "Input: root = [3,1,4,null,2], k = 1\n",
    "   3\n",
    "  / \\\n",
    " 1   4\n",
    "  \\\n",
    "   2\n",
    "Output: 1\n",
    "Example 2:\n",
    "\n",
    "Input: root = [5,3,6,2,4,null,null,1], k = 3\n",
    "       5\n",
    "      / \\\n",
    "     3   6\n",
    "    / \\\n",
    "   2   4\n",
    "  /\n",
    " 1\n",
    "Output: 3\n",
    "Follow up:\n",
    "What if the BST is modified (insert/delete operations) often and you need to find the kth smallest frequently? How would you optimize the kthSmallest routine?"
   ]
  },
  {
   "cell_type": "code",
   "execution_count": 1,
   "metadata": {},
   "outputs": [],
   "source": [
    "class Solution(object):\n",
    "    def kthSmallest(self, root, k):\n",
    "        \"\"\"\n",
    "        :type root: TreeNode\n",
    "        :type k: int\n",
    "        :rtype: int\n",
    "        \"\"\"\n",
    "        \n",
    "        stack = []\n",
    "        while root or stack:\n",
    "            while root:\n",
    "                stack.append(root)\n",
    "                root = root.left\n",
    "            root = stack.pop()\n",
    "            k -= 1\n",
    "            if k == 0:\n",
    "                return root.val\n",
    "            root = root.right\n",
    "        \n",
    "        "
   ]
  },
  {
   "cell_type": "raw",
   "metadata": {},
   "source": []
  }
 ],
 "metadata": {
  "kernelspec": {
   "display_name": "Python 3",
   "language": "python",
   "name": "python3"
  },
  "language_info": {
   "codemirror_mode": {
    "name": "ipython",
    "version": 3
   },
   "file_extension": ".py",
   "mimetype": "text/x-python",
   "name": "python",
   "nbconvert_exporter": "python",
   "pygments_lexer": "ipython3",
   "version": "3.6.4"
  }
 },
 "nbformat": 4,
 "nbformat_minor": 2
}
