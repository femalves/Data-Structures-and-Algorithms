{
 "cells": [
  {
   "cell_type": "code",
   "execution_count": 1,
   "metadata": {},
   "outputs": [],
   "source": [
    "def BinaryTree(r):\n",
    "    return [r, [], []]"
   ]
  },
  {
   "cell_type": "code",
   "execution_count": 2,
   "metadata": {},
   "outputs": [],
   "source": [
    "def insertLeft(root, newBranch):\n",
    "    t = root.pop(1)\n",
    "    if len(t) > 1: \n",
    "        root.insert(1, [newBranch, t, []])\n",
    "    else: \n",
    "        root.insert(1, [newBranch, [], []])\n",
    "    return root"
   ]
  },
  {
   "cell_type": "code",
   "execution_count": 3,
   "metadata": {},
   "outputs": [],
   "source": [
    "def insertRight(root, newBranch):\n",
    "    t = root.pop(2)\n",
    "    if len(t) > 1: \n",
    "        root.insert(2, [newBranch, [], t])\n",
    "    else: \n",
    "        root.insert(2, [newBranch, [], []])\n",
    "    return root "
   ]
  },
  {
   "cell_type": "code",
   "execution_count": 4,
   "metadata": {},
   "outputs": [],
   "source": [
    "def getRootVal(root):\n",
    "    return root[0]"
   ]
  },
  {
   "cell_type": "code",
   "execution_count": 5,
   "metadata": {},
   "outputs": [],
   "source": [
    "def setRootVal(root, newVal):\n",
    "    root[0] = newVal "
   ]
  },
  {
   "cell_type": "code",
   "execution_count": 6,
   "metadata": {},
   "outputs": [],
   "source": [
    "def getLeftChild(root):\n",
    "    return root[1]"
   ]
  },
  {
   "cell_type": "code",
   "execution_count": 7,
   "metadata": {},
   "outputs": [],
   "source": [
    "def getLeftChild(root):\n",
    "    return root[2]"
   ]
  },
  {
   "cell_type": "code",
   "execution_count": 8,
   "metadata": {},
   "outputs": [],
   "source": [
    "r = BinaryTree(3)"
   ]
  },
  {
   "cell_type": "code",
   "execution_count": 9,
   "metadata": {},
   "outputs": [
    {
     "data": {
      "text/plain": [
       "[3, [4, [], []], []]"
      ]
     },
     "execution_count": 9,
     "metadata": {},
     "output_type": "execute_result"
    }
   ],
   "source": [
    "insertLeft(r, 4)"
   ]
  },
  {
   "cell_type": "code",
   "execution_count": 10,
   "metadata": {},
   "outputs": [
    {
     "data": {
      "text/plain": [
       "[3, [5, [4, [], []], []], []]"
      ]
     },
     "execution_count": 10,
     "metadata": {},
     "output_type": "execute_result"
    }
   ],
   "source": [
    "insertLeft(r, 5)"
   ]
  },
  {
   "cell_type": "code",
   "execution_count": 92,
   "metadata": {},
   "outputs": [],
   "source": [
    "class BinaryTree(object):\n",
    "    \n",
    "    def __init__(self, rootObj):\n",
    "        \n",
    "        self.key = rootObj\n",
    "        self.leftChild = None\n",
    "        self.rightChild = None\n",
    "    \n",
    "    def insertLeft(self, newNode):\n",
    "        \n",
    "        if self.leftChild == None: \n",
    "            self.leftChild = BinaryTree(newNode)\n",
    "        else:\n",
    "            t = BinaryTree(newNode)\n",
    "            t.leftChild = self.leftChild\n",
    "            self.leftChild = t  \n",
    "    \n",
    "    def insertRight(self, newNode):\n",
    "        \n",
    "        if self.rightChild == None:\n",
    "            self.rightChild = BinaryTree(newNode)\n",
    "        else: \n",
    "            t = BinaryTree(newNode)\n",
    "            t.rightChild = self.rightChild\n",
    "            self.rightChild = t\n",
    "            \n",
    "    def getRightChild(self):\n",
    "        return self.rightChild\n",
    "    \n",
    "    def getLeftChild(self):\n",
    "        return self.leftChild\n",
    "    \n",
    "    def setRootVal(self, obj):\n",
    "        self.key = obj\n",
    "        \n",
    "    def getRootVal(self):\n",
    "        return self.key \n",
    "    \n",
    "    def preorder(self, root):\n",
    "        out = []\n",
    "        if root: \n",
    "            out.append(root.getRootVal())\n",
    "            out += self.preorder(root.leftChild)\n",
    "            out += self.preorder(root.rightChild)\n",
    "        return out\n",
    "    \n",
    "    def inorder(self, root):\n",
    "        out = []\n",
    "        if root: \n",
    "            out += self.preorder(root.leftChild)\n",
    "            out.append(root.getRootVal())\n",
    "            out += self.preorder(root.rightChild)\n",
    "        return out        \n",
    "            \n",
    "    def postorder(self, root):\n",
    "        out = []\n",
    "        if root: \n",
    "            out += self.preorder(root.leftChild)\n",
    "            out += self.preorder(root.rightChild)\n",
    "            out.append(root.getRootVal())\n",
    "        return out\n",
    "    \n",
    "    \n",
    "        \n",
    "    \n",
    "        "
   ]
  },
  {
   "cell_type": "code",
   "execution_count": 93,
   "metadata": {},
   "outputs": [],
   "source": [
    "r = BinaryTree('a')"
   ]
  },
  {
   "cell_type": "code",
   "execution_count": 94,
   "metadata": {},
   "outputs": [
    {
     "data": {
      "text/plain": [
       "'a'"
      ]
     },
     "execution_count": 94,
     "metadata": {},
     "output_type": "execute_result"
    }
   ],
   "source": [
    "r.getRootVal()"
   ]
  },
  {
   "cell_type": "code",
   "execution_count": 95,
   "metadata": {},
   "outputs": [],
   "source": [
    "r.insertLeft('b')\n",
    "r.insertRight('c')"
   ]
  },
  {
   "cell_type": "code",
   "execution_count": 96,
   "metadata": {},
   "outputs": [
    {
     "data": {
      "text/plain": [
       "'b'"
      ]
     },
     "execution_count": 96,
     "metadata": {},
     "output_type": "execute_result"
    }
   ],
   "source": [
    "r.getLeftChild().getRootVal()\n"
   ]
  },
  {
   "cell_type": "code",
   "execution_count": 97,
   "metadata": {},
   "outputs": [
    {
     "data": {
      "text/plain": [
       "['a', 'b', 'c']"
      ]
     },
     "execution_count": 97,
     "metadata": {},
     "output_type": "execute_result"
    }
   ],
   "source": [
    "r.preorder(r)"
   ]
  },
  {
   "cell_type": "code",
   "execution_count": 98,
   "metadata": {},
   "outputs": [
    {
     "data": {
      "text/plain": [
       "['b', 'a', 'c']"
      ]
     },
     "execution_count": 98,
     "metadata": {},
     "output_type": "execute_result"
    }
   ],
   "source": [
    "r.inorder(r)"
   ]
  },
  {
   "cell_type": "code",
   "execution_count": 99,
   "metadata": {},
   "outputs": [
    {
     "data": {
      "text/plain": [
       "['b', 'c', 'a']"
      ]
     },
     "execution_count": 99,
     "metadata": {},
     "output_type": "execute_result"
    }
   ],
   "source": [
    "r.postorder(r)"
   ]
  },
  {
   "cell_type": "code",
   "execution_count": 182,
   "metadata": {},
   "outputs": [],
   "source": [
    "class Node(object):\n",
    "    \n",
    "    def __init__(self, value):\n",
    "        self.value = value\n",
    "        self.left = None\n",
    "        self.right = None\n",
    "        \n",
    "    def insert(self, value):\n",
    "        newNode = Node(value)\n",
    "        # if there is a root\n",
    "        if self.value:\n",
    "            # if value of root is equal to value, substitute\n",
    "            if value == self.value:\n",
    "                self.value = value\n",
    "            # if value of root is less than value, we look left \n",
    "            if value < self.value: \n",
    "                # if there is not left\n",
    "                if self.left is None: \n",
    "                    # put new node there\n",
    "                    self.left = newNode\n",
    "                # if there's a left node already\n",
    "                else: \n",
    "                    # go left and call insert again\n",
    "                    # left node will act as new root\n",
    "                    self.left.insert(value)\n",
    "            # if value of root is greater than node value, go right\n",
    "            if value > self.value:\n",
    "                # if there is no right\n",
    "                if self.right is None:\n",
    "                    # put new node there\n",
    "                    self.right = newNode\n",
    "                # if there is a right already\n",
    "                else:\n",
    "                    #go right and call insert with right node acting\n",
    "                    # as new root\n",
    "                    self.right.insert(value)\n",
    "        #if there is no root\n",
    "        else:\n",
    "            self.value = value\n",
    "            \n",
    "    def search(self, value):\n",
    "        if value == self.value:\n",
    "            return True\n",
    "        if value < self.value: \n",
    "            if self.left is None: \n",
    "                return False\n",
    "            return self.left.search(value)\n",
    "        if value > self.value:\n",
    "            if self.right is None:\n",
    "                return False\n",
    "            return self.right.search(value)\n",
    "    \n",
    "    def delete(self, value):\n",
    "        pass\n",
    "    \n",
    "    def levels(self): \n",
    "        count_left = 0\n",
    "        count_right = 0\n",
    "        \n",
    "        if self.left: \n",
    "            count_left += 1\n",
    "            count_left += self.left.levels()\n",
    "            \n",
    "        if self.right:\n",
    "            count_right += 1\n",
    "            count_right += self.right.levels()\n",
    "            \n",
    "        return max(levels, count_right)\n",
    "    \n",
    "    def maxDepth(root):\n",
    "        \"\"\"\n",
    "        :type root: TreeNode\n",
    "        :rtype: int\n",
    "        \"\"\"\n",
    "        if root is None: \n",
    "            return 0\n",
    "        return max(maxDepth(root.right), maxDepth(root.left)) + 1 \n",
    "   \n",
    "    def isSameTree(self, p, q):\n",
    "        if p.value == q.value: \n",
    "            self.isSameTree(p.left, q.left)\n",
    "            self.isSameTree(p.right, q.right)\n",
    "        else: \n",
    "            return False\n",
    "        \n",
    "        return True\n",
    "        \n",
    "    def PrintTree(self):\n",
    "        if self.left: \n",
    "            self.left.PrintTree()\n",
    "        print(self.value)\n",
    "        if self.right:\n",
    "            self.right.PrintTree()\n",
    "    \n",
    "    #entire left -> root -> entire right\n",
    "    def inorder(self, root):\n",
    "        \"\"\"\n",
    "        :type root: TreeNode\n",
    "        :rtype: List[int]\n",
    "        \"\"\"\n",
    "        out = []\n",
    "        self._inorder(root, out)\n",
    "        return out\n",
    "    \n",
    "    def inorderiter(self, root): \n",
    "        stack, out = [], []\n",
    "        current = root\n",
    "        while True: \n",
    "            while current is not None:\n",
    "                stack.append(current)\n",
    "                current = current.left\n",
    "            while len(stack) > 0: \n",
    "                popped = stack.pop()\n",
    "                out.append(popped.value)\n",
    "                current = popped.right\n",
    "            if current is None and len(stack) == 0: break\n",
    "        return out\n",
    "    \n",
    "\n",
    "    def _inorder(self, node, out):\n",
    "        if not node:\n",
    "            return\n",
    "        self._inorder(node.left, out)\n",
    "        out.append(node.value)\n",
    "        self._inorder(node.right, out)\n",
    "        \n",
    "    # entire left -> entire right -> root\n",
    "    def postorder(self, root):\n",
    "        \"\"\"\n",
    "        :type root: TreeNode\n",
    "        :rtype: List[int]\n",
    "        \"\"\"\n",
    "        out = []\n",
    "        self._postorder(root, out)\n",
    "        return out\n",
    "\n",
    "    def _postorder(self, node, out):\n",
    "        if not node:\n",
    "            return\n",
    "        self._postorder(node.left, out)\n",
    "        self._postorder(node.right, out)\n",
    "        out.append(node.value)\n",
    "       \n",
    "    # root -> entire left -> entire right\n",
    "    def preorder(self, root):\n",
    "        out = []\n",
    "        self._preorder(root, out)\n",
    "        return out\n",
    "    \n",
    "    def _preorder(self, node, out):\n",
    "        if not node: \n",
    "            return \n",
    "        out.append(node.value)\n",
    "        self._preorder(node.left, out)\n",
    "        self._preorder(node.right, out)"
   ]
  },
  {
   "cell_type": "code",
   "execution_count": 183,
   "metadata": {},
   "outputs": [],
   "source": [
    "root = Node(-10)"
   ]
  },
  {
   "cell_type": "code",
   "execution_count": 184,
   "metadata": {},
   "outputs": [],
   "source": [
    "root.insert(-3)"
   ]
  },
  {
   "cell_type": "code",
   "execution_count": 185,
   "metadata": {},
   "outputs": [],
   "source": [
    "root.insert(0)\n",
    "root.insert(9)\n",
    "root.insert(5)\n",
    "# root.insert(31)\n",
    "# root.insert(42)\n",
    "\n",
    "\n",
    "\n",
    "\n",
    "\n"
   ]
  },
  {
   "cell_type": "code",
   "execution_count": 186,
   "metadata": {},
   "outputs": [
    {
     "name": "stdout",
     "output_type": "stream",
     "text": [
      "[-10, -3, 5, 9]\n"
     ]
    }
   ],
   "source": [
    "print(root.inorder(root))"
   ]
  },
  {
   "cell_type": "code",
   "execution_count": 187,
   "metadata": {},
   "outputs": [
    {
     "name": "stdout",
     "output_type": "stream",
     "text": [
      "[5, 9, -3, -10]\n"
     ]
    }
   ],
   "source": [
    "print(root.postorder(root))"
   ]
  },
  {
   "cell_type": "code",
   "execution_count": 185,
   "metadata": {},
   "outputs": [
    {
     "data": {
      "text/plain": [
       "False"
      ]
     },
     "execution_count": 185,
     "metadata": {},
     "output_type": "execute_result"
    }
   ],
   "source": [
    "root.search(14)"
   ]
  },
  {
   "cell_type": "code",
   "execution_count": 188,
   "metadata": {},
   "outputs": [
    {
     "name": "stdout",
     "output_type": "stream",
     "text": [
      "[-10, -3, 9, 5]\n"
     ]
    }
   ],
   "source": [
    "print(root.preorder(root))"
   ]
  },
  {
   "cell_type": "code",
   "execution_count": 189,
   "metadata": {},
   "outputs": [
    {
     "name": "stdout",
     "output_type": "stream",
     "text": [
      "-10\n",
      "-3\n",
      "5\n",
      "9\n"
     ]
    }
   ],
   "source": [
    "root.PrintTree()\n"
   ]
  },
  {
   "cell_type": "markdown",
   "metadata": {},
   "source": [
    "# 230. Kth smallest \n",
    "\n",
    "Given a binary search tree, write a function kthSmallest to find the kth smallest element in it.\n",
    "\n",
    "Note: \n",
    "You may assume k is always valid, 1 ≤ k ≤ BST's total elements.\n",
    "\n",
    "Example 1:\n",
    "\n",
    "Input: root = [3,1,4,null,2], k = 1\n",
    "   3\n",
    "  / \\\n",
    " 1   4\n",
    "  \\\n",
    "   2\n",
    "Output: 1\n",
    "Example 2:\n",
    "\n",
    "Input: root = [5,3,6,2,4,null,null,1], k = 3\n",
    "       5\n",
    "      / \\\n",
    "     3   6\n",
    "    / \\\n",
    "   2   4\n",
    "  /\n",
    " 1\n",
    "Output: 3\n",
    "Follow up:\n",
    "What if the BST is modified (insert/delete operations) often and you need to find the kth smallest frequently? How would you optimize the kthSmallest routine?"
   ]
  },
  {
   "cell_type": "code",
   "execution_count": 117,
   "metadata": {},
   "outputs": [],
   "source": [
    "class Solution(object):\n",
    "    def kthSmallest(self, root, k):\n",
    "        \"\"\"\n",
    "        :type root: TreeNode\n",
    "        :type k: int\n",
    "        :rtype: int\n",
    "        \"\"\"\n",
    "        \n",
    "        stack = []\n",
    "        while root or stack:\n",
    "            while root:\n",
    "                stack.append(root)\n",
    "                root = root.left\n",
    "            root = stack.pop()\n",
    "            k -= 1\n",
    "            if k == 0:\n",
    "                return root.value\n",
    "            root = root.right\n",
    "           \n",
    "   \n",
    "    \n",
    "        \n",
    "      "
   ]
  },
  {
   "cell_type": "markdown",
   "metadata": {},
   "source": [
    "# 98. Validate Binary Search Tree\n",
    "Given a binary tree, determine if it is a valid binary search tree (BST).\n",
    "\n",
    "Assume a BST is defined as follows:\n",
    "\n",
    "The left subtree of a node contains only nodes with keys less than the node's key.\n",
    "The right subtree of a node contains only nodes with keys greater than the node's key.\n",
    "Both the left and right subtrees must also be binary search trees."
   ]
  },
  {
   "cell_type": "code",
   "execution_count": 118,
   "metadata": {},
   "outputs": [],
   "source": [
    "class Solution(object):\n",
    "\n",
    "   \n",
    "    def isValidBST(self, root):\n",
    "        \"\"\"\n",
    "        :type root: TreeNode\n",
    "        :rtype: bool\n",
    "        \"\"\"\n",
    "        \n",
    "        out = []\n",
    "        self.inorder(root, out)\n",
    "        for i in range(1, len(out)):\n",
    "            if out[i-1] >= out[i]:\n",
    "                return False\n",
    "        return True\n",
    "\n",
    "    def inorder(self, root, res):\n",
    "        if not root:\n",
    "            return\n",
    "        self.inorder(root.left, res)\n",
    "        res.append(root.val)\n",
    "        self.inorder(root.right, res)\n",
    "                "
   ]
  },
  {
   "cell_type": "code",
   "execution_count": 41,
   "metadata": {},
   "outputs": [],
   "source": [
    "def isValid(root):\n",
    "    stack = []\n",
    "    stack2 = []\n",
    "    while root or stack: \n",
    "        while root: \n",
    "            if (root.left and root.left.value > root.value) or (root.right and root.right.value < root.value):\n",
    "                return False\n",
    "            stack.append(root)\n",
    "            root = root.left\n",
    "        root = stack.pop()\n",
    "        stack2.append(root.value)\n",
    "        root = root.right\n",
    "    for i in range(1, len(stack2)):\n",
    "        if stack2[i] < stack2[i-1]:\n",
    "            return False\n",
    "    return True"
   ]
  },
  {
   "cell_type": "code",
   "execution_count": 42,
   "metadata": {},
   "outputs": [
    {
     "data": {
      "text/plain": [
       "False"
      ]
     },
     "execution_count": 42,
     "metadata": {},
     "output_type": "execute_result"
    }
   ],
   "source": [
    "isValid(root)"
   ]
  },
  {
   "cell_type": "markdown",
   "metadata": {},
   "source": [
    "# 108. Convert sorted array to BST\n",
    "\n",
    "Given an array where elements are sorted in ascending order, convert it to a height balanced BST.\n",
    "\n",
    "For this problem, a height-balanced binary tree is defined as a binary tree in which the depth of the two subtrees of every node never differ by more than 1.\n",
    "\n",
    "Example:\n",
    "\n",
    "Given the sorted array: [-10,-3,0,5,9],\n",
    "\n",
    "One possible answer is: [0,-3,9,-10,null,5], which represents the following height balanced BST:"
   ]
  },
  {
   "cell_type": "code",
   "execution_count": 119,
   "metadata": {},
   "outputs": [],
   "source": [
    "class TreeNode(object):\n",
    "    \n",
    "    def __init__(self, x):\n",
    "        self.val = x\n",
    "        self.left = None\n",
    "        self.right = None\n",
    "        \n",
    "    def sortedArrayToBST(self, nums):\n",
    "        \n",
    "        if not nums: return None \n",
    "        \n",
    "        mid = len(nums)//2\n",
    "        \n",
    "        root = TreeNode(nums[mid])\n",
    "        root.left = self.sortedArrayToBST(nums[:mid])\n",
    "        root.right = self.sortedArrayToBST(nums[mid+1:])\n",
    "        \n",
    "        return root\n",
    "    \n",
    "    \n",
    "    def PrintTree(self):\n",
    "        if self.left: \n",
    "            self.left.PrintTree()\n",
    "        print(self.val)\n",
    "        if self.right:\n",
    "            self.right.PrintTree()     \n",
    "        \n",
    "    def insertTree(self, node):\n",
    "        # if there is a root\n",
    "        if self.val:\n",
    "            # if value of root is less than value, we look left \n",
    "            if node.val < self.val: \n",
    "                # if there is not left\n",
    "                if self.left is None: \n",
    "                    # put new node there\n",
    "                    self.left = node\n",
    "                # if there's a left node already\n",
    "                else: \n",
    "                    # go left and call insert again\n",
    "                    # left node will act as new root\n",
    "                    self.left.insertTree(node)\n",
    "            # if value of root is greater than node value, go right\n",
    "            if node.val > self.val:\n",
    "                # if there is no right\n",
    "                if self.right is None:\n",
    "                    # put new node there\n",
    "                    self.right = node\n",
    "                # if there is a right already\n",
    "                else:\n",
    "                    #go right and call insert with right node acting\n",
    "                    # as new root\n",
    "                    self.right.insertTree(node)\n",
    "        #if there is no root\n",
    "        else:\n",
    "            self.val = node.val\n",
    "        \n",
    "        \n",
    "        \n",
    "        "
   ]
  },
  {
   "cell_type": "code",
   "execution_count": 268,
   "metadata": {},
   "outputs": [],
   "source": [
    "class TreeNode(object):\n",
    "    \n",
    "    def __init__(self, val):\n",
    "        self.val = val\n",
    "        self.left = None\n",
    "        self.right = None\n",
    "        \n",
    "    def PrintTree(self):\n",
    "        if self.left: \n",
    "            self.left.PrintTree()\n",
    "        print(self.value)\n",
    "        if self.right:\n",
    "            self.right.PrintTree()    \n",
    "            \n",
    "    def insert(self, value):\n",
    "        newNode = TreeNode(value)\n",
    "        if not self.value: \n",
    "            self.value = value\n",
    "        else: \n",
    "            if value >= self.value: \n",
    "                if not self.right:\n",
    "                    self.right = newNode\n",
    "                else: \n",
    "                    self.right.insert(value)\n",
    "            else:\n",
    "                if not self.left:\n",
    "                    self.left = newNode\n",
    "                else: \n",
    "                    self.left.insert(value)\n",
    "                    \n",
    "    def search(self, value):\n",
    "        if value == self.value:\n",
    "            return True\n",
    "        if value > self.value: \n",
    "            if self.right: \n",
    "                return self.right.search(value)\n",
    "            else:\n",
    "                return False\n",
    "        elif value < self.value:\n",
    "            if self.left:\n",
    "                return self.left.search(value)\n",
    "            else:\n",
    "                return False\n",
    "                    \n"
   ]
  },
  {
   "cell_type": "code",
   "execution_count": 269,
   "metadata": {},
   "outputs": [],
   "source": [
    "root = TreeNode(1)\n",
    "root.left = TreeNode(2)\n",
    "root.left.left = TreeNode(3)\n",
    "root.left.right = TreeNode(4)\n",
    "root.right = TreeNode(5)\n",
    "root.right.right = TreeNode(6)\n"
   ]
  },
  {
   "cell_type": "code",
   "execution_count": 276,
   "metadata": {},
   "outputs": [
    {
     "data": {
      "text/plain": [
       "6"
      ]
     },
     "execution_count": 276,
     "metadata": {},
     "output_type": "execute_result"
    }
   ],
   "source": [
    "root.right.right.val"
   ]
  },
  {
   "cell_type": "code",
   "execution_count": 120,
   "metadata": {},
   "outputs": [],
   "source": [
    "root.right = TreeNode(20)"
   ]
  },
  {
   "cell_type": "code",
   "execution_count": 121,
   "metadata": {},
   "outputs": [],
   "source": [
    "root.right.right = TreeNode(7)"
   ]
  },
  {
   "cell_type": "code",
   "execution_count": 122,
   "metadata": {},
   "outputs": [],
   "source": [
    "root.right.left = TreeNode(15)"
   ]
  },
  {
   "cell_type": "code",
   "execution_count": 265,
   "metadata": {},
   "outputs": [
    {
     "name": "stdout",
     "output_type": "stream",
     "text": [
      "3\n",
      "2\n",
      "4\n",
      "1\n",
      "5\n",
      "6\n"
     ]
    }
   ],
   "source": [
    "root.PrintTree()"
   ]
  },
  {
   "cell_type": "markdown",
   "metadata": {},
   "source": [
    "# 102. Binary Tree Level Order Traversal\n",
    "\n",
    "Given a binary tree, return the level order traversal of its nodes' values. (ie, from left to right, level by level).\n",
    "\n",
    "For example:\n",
    "Given binary tree [3,9,20,null,null,15,7]\n",
    "\n",
    "[\n",
    "  [3],\n",
    "  [9,20],\n",
    "  [15,7]\n",
    "]"
   ]
  },
  {
   "cell_type": "code",
   "execution_count": 224,
   "metadata": {},
   "outputs": [],
   "source": [
    "import collections\n",
    "def levelOrder(root):\n",
    "        \"\"\"\n",
    "        :type root: TreeNode\n",
    "        :rtype: List[List[int]]\n",
    "        \"\"\"\n",
    "        #Breadth first traversal\n",
    "        #Create a queue\n",
    "        #Unqueue the first element q\n",
    "        #while queue\n",
    "        #if q has left, append left to queue\n",
    "        #if q has right,append right to queue\n",
    "        #go to next element\n",
    "        \n",
    "        if not root: return []\n",
    "        queue = collections.deque()\n",
    "        queue.append(root)\n",
    "           \n",
    "        out = []\n",
    "        \n",
    "        while queue:\n",
    "            cur = []\n",
    "            for i in range(len(queue)):\n",
    "                node = queue.popleft()\n",
    "                cur.append(node.value)\n",
    "                if node.left: \n",
    "                    queue.append(node.left)\n",
    "                if node.right:\n",
    "                    queue.append(node.right)\n",
    "            out.append(cur)\n",
    "        return out            \n",
    "        \n",
    "    "
   ]
  },
  {
   "cell_type": "code",
   "execution_count": 225,
   "metadata": {},
   "outputs": [
    {
     "data": {
      "text/plain": [
       "[[10], [6, 15], [3, 8, 20]]"
      ]
     },
     "execution_count": 225,
     "metadata": {},
     "output_type": "execute_result"
    }
   ],
   "source": [
    "levelOrder(root)"
   ]
  },
  {
   "cell_type": "code",
   "execution_count": 227,
   "metadata": {},
   "outputs": [],
   "source": [
    "def levelOrder(root):\n",
    "    if root is None: return []\n",
    "    q = [[root]]\n",
    "\n",
    "    for level in q:\n",
    "        result = []\n",
    "        for node in level:\n",
    "            if node.left: result.append(node.left)\n",
    "            if node.right: result.append(node.right)\n",
    "        if result: q.append(result)\n",
    "\n",
    "    return [[node.value for node in level] for level in q]\n",
    "            "
   ]
  },
  {
   "cell_type": "code",
   "execution_count": 228,
   "metadata": {},
   "outputs": [
    {
     "data": {
      "text/plain": [
       "[[10], [6, 15], [3, 8, 20]]"
      ]
     },
     "execution_count": 228,
     "metadata": {},
     "output_type": "execute_result"
    }
   ],
   "source": [
    "levelOrder(root)"
   ]
  },
  {
   "cell_type": "markdown",
   "metadata": {},
   "source": [
    "# 101. Symmetric Tree\n",
    "Given a binary tree, check whether it is a mirror of itself (ie, symmetric around its center).\n",
    "\n",
    "For example, this binary tree [1,2,2,3,4,4,3] is symmetric:\n",
    "\n",
    "    1\n",
    "   / \\\n",
    "  2   2\n",
    " / \\ / \\\n",
    "3  4 4  3\n",
    "But the following [1,2,2,null,3,null,3] is not:\n",
    "    1\n",
    "   / \\\n",
    "  2   2\n",
    "   \\   \\\n",
    "   3    3\n",
    "Note:\n",
    "Bonus points if you could solve it both recursively and iteratively."
   ]
  },
  {
   "cell_type": "code",
   "execution_count": 3,
   "metadata": {},
   "outputs": [],
   "source": [
    "def isSymmetric(self, root):\n",
    "    \n",
    "    return self.symmetry(root, root)\n",
    "\n",
    "def symmetry(self, left, right):\n",
    "    \n",
    "    if left is None and right is None: return True\n",
    "    \n",
    "    if left is not None and right is not None and left.value == right.value:\n",
    "        return self.symmetry(left.left, right.right) and self.symmetry(left.right, right.left)\n",
    "    \n",
    "    return False\n",
    "    "
   ]
  },
  {
   "cell_type": "code",
   "execution_count": 43,
   "metadata": {},
   "outputs": [],
   "source": [
    "def isSymmetric(self, root):\n",
    "    \n",
    "    if not root: return True\n",
    "    \n",
    "    queue = collections.deque()\n",
    "    queue.append((root.left, root.right))\n",
    "    \n",
    "    while queue: \n",
    "        left, right = queue.popleft()\n",
    "        \n",
    "        if (not left or not right) or left.val != right.val:\n",
    "            return False\n",
    "        \n",
    "        if not left and not right: continue\n",
    "            \n",
    "        queue.append((left.left, right.right))\n",
    "        queue.append((left.right, right.left))\n",
    "        \n",
    "    return True"
   ]
  },
  {
   "cell_type": "markdown",
   "metadata": {},
   "source": [
    "# 105. Construct Binary Tree from Preorder and Inorder \n",
    "\n",
    "Given preorder and inorder traversal of a tree, construct the binary tree.\n",
    "\n",
    "Note:\n",
    "You may assume that duplicates do not exist in the tree.\n",
    "\n",
    "For example, given\n",
    "\n",
    "preorder = [3,9,20,15,7]\n",
    "inorder = [9,3,15,20,7]"
   ]
  },
  {
   "cell_type": "code",
   "execution_count": 44,
   "metadata": {},
   "outputs": [],
   "source": [
    "def buildTree(preorder, inorder):\n",
    "\n",
    "#     3\n",
    "#  9    20\n",
    "#     15   7\n",
    "    \n",
    "    if not preorder: \n",
    "        return \n",
    "    \n",
    "    head = treeNode(preorder[0])\n",
    "    stack = [head]\n",
    "    j = 0\n",
    "    \n",
    "    \n",
    "    for i in range(1, len(preorder)):\n",
    "        \n",
    "        curr = treeNode(preorder[i])\n",
    "        tempHead = None \n",
    "        \n",
    "        while stack and stack[-1].val == inorder[j]:\n",
    "            tempHead = stack.pop()\n",
    "            j += 1\n",
    "        \n",
    "        if tempHead: \n",
    "            tempHead.right = curr\n",
    "        else: \n",
    "            stack[-1].left = curr\n",
    "        \n",
    "        stack.append()\n",
    "    return head \n",
    "        \n",
    "        \n",
    "    \n",
    "    \n",
    "        "
   ]
  },
  {
   "cell_type": "markdown",
   "metadata": {},
   "source": [
    "# 106. Construct Binary Tree from Inorder and Postorder \n",
    "\n",
    "Given inorder and postorder traversal of a tree, construct the binary tree.\n",
    "\n",
    "Note:\n",
    "You may assume that duplicates do not exist in the tree.\n",
    "\n",
    "For example, given\n",
    "\n",
    "inorder = [9,3,15,20,7]\n",
    "postorder = [9,15,7,20,3]\n",
    "\n",
    "Traverse it backwards"
   ]
  },
  {
   "cell_type": "code",
   "execution_count": 52,
   "metadata": {},
   "outputs": [],
   "source": [
    "def buildTree(inorder, postorder): \n",
    "    \n",
    "    if not inorder: \n",
    "        return \n",
    "    \n",
    "    head = TreeNode(postorder[-1])\n",
    "    stack = [head]\n",
    "\n",
    "    j = len(inorder)-1\n",
    "    \n",
    "    for i in range(len(postorder)-2, -1, -1):\n",
    "        tempHead = None\n",
    "        curr = TreeNode(postorder[i])\n",
    "\n",
    "        while stack and stack[-1].val == inorder[j]:\n",
    "            tempHead = stack.pop()\n",
    "            j -= 1\n",
    "            \n",
    "        if tempHead:\n",
    "            tempHead.left = curr\n",
    "        else:\n",
    "            stack[-1].right = curr\n",
    "        \n",
    "        stack.append(curr)\n",
    "    return head\n",
    "        "
   ]
  },
  {
   "cell_type": "code",
   "execution_count": 278,
   "metadata": {},
   "outputs": [],
   "source": [
    "class ListNode(object):\n",
    "    def __init__(self, x):\n",
    "        self.val = x\n",
    "        self.next = None\n",
    "\n",
    "# class TreeNode(object):\n",
    "    \n",
    "#     def __init__(self, x):\n",
    "#         self.value = x\n",
    "#         self.left = None\n",
    "#         self.right = None\n",
    "    \n",
    "#     def PrintTree(self):\n",
    "#         if self.left: \n",
    "#             self.left.PrintTree()\n",
    "#         if self.right:\n",
    "#             self.right.PrintTree()\n",
    "        \n",
    "    \n",
    "\n",
    "        \n",
    "def printList(head):\n",
    "    result = \"\"\n",
    "    while head:\n",
    "        result += str(head.val) + \"->\"\n",
    "        head = head.next\n",
    "    return result[:-2]"
   ]
  },
  {
   "cell_type": "code",
   "execution_count": 216,
   "metadata": {},
   "outputs": [
    {
     "data": {
      "text/plain": [
       "'-10->-3->0->5->9'"
      ]
     },
     "execution_count": 216,
     "metadata": {},
     "output_type": "execute_result"
    }
   ],
   "source": [
    "head = ListNode(-10)\n",
    "head.next = ListNode(-3)\n",
    "head.next.next = ListNode(0)\n",
    "head.next.next.next = ListNode(5)\n",
    "head.next.next.next.next = ListNode(9)\n",
    "printList(head)"
   ]
  },
  {
   "cell_type": "code",
   "execution_count": 210,
   "metadata": {},
   "outputs": [
    {
     "name": "stdout",
     "output_type": "stream",
     "text": [
      "-3\n",
      "5\n",
      "9\n"
     ]
    }
   ],
   "source": []
  },
  {
   "cell_type": "markdown",
   "metadata": {},
   "source": [
    "# 109. Convert Sorted List to Binary Search Tree*\n",
    "\n",
    "Given a singly linked list where elements are sorted in ascending order, convert it to a height balanced BST.\n",
    "\n",
    "For this problem, a height-balanced binary tree is defined as a binary tree in which the depth of the two subtrees of every node never differ by more than 1.\n",
    "Given the sorted linked list: [-10,-3,0,5,9],\n",
    "\n",
    "One possible answer is: [0,-3,9,-10,null,5], which represents the following height balanced BST:"
   ]
  },
  {
   "cell_type": "code",
   "execution_count": 260,
   "metadata": {},
   "outputs": [],
   "source": [
    "def sortedListToBST(head):\n",
    "    \n",
    "    valList = []\n",
    "    while head:\n",
    "        valList.append(head.val)\n",
    "        head = head.next\n",
    "\n",
    "    def createTree(start, end):\n",
    "\n",
    "        if start > end:\n",
    "            return None\n",
    "\n",
    "        mid = (start + end) // 2\n",
    "        root = TreeNode(valList[mid])\n",
    "\n",
    "        if start == end:\n",
    "            return root\n",
    "\n",
    "        root.left = createTree(start, mid-1)\n",
    "        root.right = createTree(mid+1, end)\n",
    "\n",
    "        return root\n",
    "\n",
    "    return createTree(0, len(valList)-1)\n"
   ]
  },
  {
   "cell_type": "code",
   "execution_count": 261,
   "metadata": {},
   "outputs": [
    {
     "data": {
      "text/plain": [
       "0"
      ]
     },
     "execution_count": 261,
     "metadata": {},
     "output_type": "execute_result"
    }
   ],
   "source": [
    "sortedListToBST(head).val"
   ]
  },
  {
   "cell_type": "code",
   "execution_count": 262,
   "metadata": {},
   "outputs": [],
   "source": [
    "def sortedListToBST(self, head):\n",
    "    \"\"\"\n",
    "    :type head: ListNode\n",
    "    :rtype: TreeNode\n",
    "    \"\"\"\n",
    "    nums = []\n",
    "    while head:\n",
    "        nums.append(head.val)\n",
    "        head = head.next\n",
    "    return self.listToBST(nums)\n",
    "\n",
    "def listToBST(self,nums):\n",
    "\n",
    "    if not nums:\n",
    "        return None        \n",
    "\n",
    "    mid = len(nums)//2\n",
    "    root = TreeNode(nums[mid])\n",
    "    root.left = self.listToBST(nums[:mid])\n",
    "    root.right = self.listToBST(nums[mid+1:])        \n",
    "    return root\n",
    "        \n"
   ]
  },
  {
   "cell_type": "code",
   "execution_count": 284,
   "metadata": {},
   "outputs": [],
   "source": [
    "def flatten(root):\n",
    "    \"\"\"\n",
    "    :type root: TreeNode\n",
    "    :rtype: void Do not return anything, modify root in-place instead.\n",
    "    \"\"\"\n",
    "    dummy = ListNode(None)\n",
    "    linkedList(root, dummy)\n",
    "\n",
    "def linkedList(root, dummy): \n",
    "    if not root: \n",
    "        return \n",
    "    linkedList(root.left, dummy.next)\n",
    "    root.next = ListNode(root.val)\n",
    "    linkedList(root.right, dummy.next)\n",
    "    \n",
    "def _inorder(self, node, out):\n",
    "        if not node:\n",
    "            return\n",
    "        self._inorder(node.left, out)\n",
    "        out.append(node.value)\n",
    "        self._inorder(node.right, out)\n",
    "    \n",
    "        \n",
    "        "
   ]
  },
  {
   "cell_type": "code",
   "execution_count": 291,
   "metadata": {},
   "outputs": [],
   "source": [
    "flatten(root)"
   ]
  },
  {
   "cell_type": "code",
   "execution_count": 293,
   "metadata": {},
   "outputs": [
    {
     "data": {
      "text/plain": [
       "<__main__.TreeNode at 0x109a61470>"
      ]
     },
     "execution_count": 293,
     "metadata": {},
     "output_type": "execute_result"
    }
   ],
   "source": [
    "root"
   ]
  },
  {
   "cell_type": "code",
   "execution_count": null,
   "metadata": {},
   "outputs": [],
   "source": []
  }
 ],
 "metadata": {
  "kernelspec": {
   "display_name": "Python 3",
   "language": "python",
   "name": "python3"
  },
  "language_info": {
   "codemirror_mode": {
    "name": "ipython",
    "version": 3
   },
   "file_extension": ".py",
   "mimetype": "text/x-python",
   "name": "python",
   "nbconvert_exporter": "python",
   "pygments_lexer": "ipython3",
   "version": "3.6.4"
  }
 },
 "nbformat": 4,
 "nbformat_minor": 2
}
