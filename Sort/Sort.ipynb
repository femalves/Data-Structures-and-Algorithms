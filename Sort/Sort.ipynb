{
 "cells": [
  {
   "cell_type": "markdown",
   "metadata": {},
   "source": [
    "# Bubble sort \n",
    "\n",
    "Loop through an array comparing each number with its successor. At each iteration, if the former is greater than the latter, we swap them.   \n",
    "\n",
    "![Alt Text](https://www.tutorialspoint.com/data_structures_algorithms/images/bubble_sort_0.jpg)\n",
    "\n",
    "![Alt Text](https://www.tutorialspoint.com/data_structures_algorithms/images/bubble_sort_1.jpg)\n",
    "\n",
    "![Alt Text](https://www.tutorialspoint.com/data_structures_algorithms/images/bubble_sort_2.jpg)\n",
    "\n",
    "![Alt Text](https://www.tutorialspoint.com/data_structures_algorithms/images/bubble_sort_3.jpg)\n",
    "\n",
    "![Alt Text](https://www.tutorialspoint.com/data_structures_algorithms/images/bubble_sort_4.jpg)\n",
    "\n",
    "![Alt Text](https://www.tutorialspoint.com/data_structures_algorithms/images/bubble_sort_5.jpg)\n",
    "\n",
    "![Alt Text](https://www.tutorialspoint.com/data_structures_algorithms/images/bubble_sort_6.jpg)\n",
    "\n",
    "![Alt Text](https://www.tutorialspoint.com/data_structures_algorithms/images/bubble_sort_7.jpg)\n",
    "\n",
    "![Alt Text](https://www.tutorialspoint.com/data_structures_algorithms/images/bubble_sort_8.jpg)\n",
    "\n",
    "![Alt Text](https://www.tutorialspoint.com/data_structures_algorithms/images/bubble_sort_9.jpg)\n",
    "\n",
    "![Alt Text](https://www.tutorialspoint.com/data_structures_algorithms/images/bubble_sort_10.jpg)\n",
    "\n",
    "![Alt Text](https://www.tutorialspoint.com/data_structures_algorithms/images/bubble_sort_11.jpg)\n",
    "\n",
    "![Alt Text](https://www.tutorialspoint.com/data_structures_algorithms/images/bubble_sort_12.jpg)\n",
    "\n",
    "## Time complexity\n",
    "\n",
    "* Average case: O(n²)\n",
    "* Best case: O(n)\n",
    "\n",
    "## Pseudocode\n",
    "\n",
    "* Start looping from the end of the array towards the beginning\n",
    "* Start an inner loop from the beginning until i-1\n",
    "* If arr[j] is greater than arr[j+1], swap those two values\n",
    "* Return the sorted array "
   ]
  },
  {
   "cell_type": "code",
   "execution_count": 13,
   "metadata": {},
   "outputs": [],
   "source": [
    "def bubbleSort(arr): \n",
    "    for i in range(len(arr)-1, -1, -1): \n",
    "        noSwaps = True\n",
    "        for j in range(i-1): \n",
    "            if arr[j] > arr[i]: \n",
    "                arr[j], arr[i] = arr[i], arr[j]\n",
    "                noSwaps = False\n",
    "        if noSwaps: break\n",
    "    return arr\n",
    "        "
   ]
  },
  {
   "cell_type": "code",
   "execution_count": 14,
   "metadata": {},
   "outputs": [
    {
     "data": {
      "text/plain": [
       "[1, 2, 3, 4, 4, 6, 7, 8, 9]"
      ]
     },
     "execution_count": 14,
     "metadata": {},
     "output_type": "execute_result"
    }
   ],
   "source": [
    "bubbleSort([9,8,7,6,4,2,3,4,1])"
   ]
  },
  {
   "attachments": {},
   "cell_type": "markdown",
   "metadata": {},
   "source": [
    "# Selection Sort \n",
    "\n",
    "* Similar to bubble sort, but instead of first placing large values into sorted position, it places small values into sorted position\n",
    "\n",
    "![Alt Text](https://upload.wikimedia.org/wikipedia/commons/9/94/Selection-Sort-Animation.gif)\n",
    "\n",
    "\n",
    "## Pseudocode\n",
    "* Store the first element as the smallest value you've seen so far\n",
    "* Compare this item to the next item in the array until you find a smaller number\n",
    "* If a smaller number is found, designate that smaller number to be the new \"minimum\" and continue until the end of the array\n",
    "* If the \"minimum\" is not the value (index) you initially began with, swap the two values\n",
    "* Repeat this with the next element until the array is sorted\n",
    "\n",
    "## Time complexity\n",
    "* O(n²)\n",
    "* Potentially better than bubble sort if we're worried about memory, because the swap only happens at the end of each iteration as opposed to with each single comparison.  \n"
   ]
  },
  {
   "cell_type": "code",
   "execution_count": 43,
   "metadata": {},
   "outputs": [],
   "source": [
    "def selectionSort(arr):\n",
    "    i = 0\n",
    "    for i in range(len(arr)-1): \n",
    "        lowest = i\n",
    "        for j in range(i+1, len(arr)):\n",
    "            if arr[j] < arr[lowest]: \n",
    "                lowest = j\n",
    "        arr[i], arr[lowest] = arr[lowest], arr[i]   \n",
    "    return arr\n",
    "        \n",
    "    "
   ]
  },
  {
   "cell_type": "code",
   "execution_count": 46,
   "metadata": {},
   "outputs": [
    {
     "data": {
      "text/plain": [
       "[1, 15]"
      ]
     },
     "execution_count": 46,
     "metadata": {},
     "output_type": "execute_result"
    }
   ],
   "source": [
    "selectionSort([15,1])"
   ]
  },
  {
   "cell_type": "markdown",
   "metadata": {},
   "source": [
    "# Insertion Sort \n",
    "* Builds up the sort by gradually creating a larger left half which is always sorted\n",
    "\n",
    "![Alt-text](https://upload.wikimedia.org/wikipedia/commons/0/0f/Insertion-sort-example-300px.gif)\n",
    "\n",
    "## Pseudocode\n",
    "\n",
    "* Start by picking the second element in the array\n",
    "* Now compare the second element with the one before it and swap if necessary\n",
    "* Continue to the next element and if it is in the incorrect order, iterate througth the sorted portion(i.e. the left side) to place the element in the correct place\n",
    "* Repeat until the array is sorted. \n",
    "\n",
    "## Time complexity\n",
    "* O(n²)\n",
    "* If the data is mostly sorted, then O(n)\n",
    "* Good for online data, which is incoming data that needs to be inserted one at a time. So, basically, we have an already sorted array that we keep and we only have to insert the incoming data.  "
   ]
  },
  {
   "cell_type": "code",
   "execution_count": 106,
   "metadata": {},
   "outputs": [],
   "source": [
    "def insertionSort(arr):    \n",
    "    for i in range(1, len(arr)):\n",
    "        keep, curr = arr[i], i\n",
    "        while curr > 0 and keep < arr[curr-1]:\n",
    "            arr[curr] = arr[curr-1]\n",
    "            curr -= 1\n",
    "        arr[curr] = keep\n",
    "    return arr"
   ]
  },
  {
   "cell_type": "code",
   "execution_count": 112,
   "metadata": {},
   "outputs": [
    {
     "data": {
      "text/plain": [
       "[1, 2, 3, 4, 5, 6, 7, 8]"
      ]
     },
     "execution_count": 112,
     "metadata": {},
     "output_type": "execute_result"
    }
   ],
   "source": [
    "insertionSort([6,5,3,1,8,7,2,4])"
   ]
  },
  {
   "cell_type": "markdown",
   "metadata": {},
   "source": [
    "| Algorithm     | Time Complexity (Best)| Time Complexity (Average)|Time Complexity(Worst)|Space Complexity|\n",
    "| ------------- |:---------------------:| ------------------------:|---------------------:|---------------:|\n",
    "| Bubble Sort   | O(n)                  | O(n²)                    |O(n²)                 | O(1)           |\n",
    "| Insertion Sort| O(n)                  | O(n²)                    |O(n²)                 | O(1)           |      \n",
    "| Selection Sort| O(n²)                 | O(n²)                    |O(n²)                 | O(1)           |             \n"
   ]
  },
  {
   "cell_type": "markdown",
   "metadata": {},
   "source": [
    "# Merge sort "
   ]
  },
  {
   "cell_type": "code",
   "execution_count": null,
   "metadata": {},
   "outputs": [],
   "source": []
  }
 ],
 "metadata": {
  "kernelspec": {
   "display_name": "Python 3",
   "language": "python",
   "name": "python3"
  },
  "language_info": {
   "codemirror_mode": {
    "name": "ipython",
    "version": 3
   },
   "file_extension": ".py",
   "mimetype": "text/x-python",
   "name": "python",
   "nbconvert_exporter": "python",
   "pygments_lexer": "ipython3",
   "version": "3.6.4"
  }
 },
 "nbformat": 4,
 "nbformat_minor": 2
}
