{
 "cells": [
  {
   "cell_type": "markdown",
   "metadata": {},
   "source": [
    "# Bubble sort \n",
    "\n",
    "* Multiple passes through the list \n",
    "\n",
    "Loop through an array comparing each number with its successor. At each iteration, if the former is greater than the latter, we swap them.   \n",
    "\n",
    "![Alt Text](https://www.tutorialspoint.com/data_structures_algorithms/images/bubble_sort_0.jpg)\n",
    "\n",
    "![Alt Text](https://www.tutorialspoint.com/data_structures_algorithms/images/bubble_sort_1.jpg)\n",
    "\n",
    "![Alt Text](https://www.tutorialspoint.com/data_structures_algorithms/images/bubble_sort_2.jpg)\n",
    "\n",
    "![Alt Text](https://www.tutorialspoint.com/data_structures_algorithms/images/bubble_sort_3.jpg)\n",
    "\n",
    "![Alt Text](https://www.tutorialspoint.com/data_structures_algorithms/images/bubble_sort_4.jpg)\n",
    "\n",
    "![Alt Text](https://www.tutorialspoint.com/data_structures_algorithms/images/bubble_sort_5.jpg)\n",
    "\n",
    "![Alt Text](https://www.tutorialspoint.com/data_structures_algorithms/images/bubble_sort_6.jpg)\n",
    "\n",
    "![Alt Text](https://www.tutorialspoint.com/data_structures_algorithms/images/bubble_sort_7.jpg)\n",
    "\n",
    "![Alt Text](https://www.tutorialspoint.com/data_structures_algorithms/images/bubble_sort_8.jpg)\n",
    "\n",
    "![Alt Text](https://www.tutorialspoint.com/data_structures_algorithms/images/bubble_sort_9.jpg)\n",
    "\n",
    "![Alt Text](https://www.tutorialspoint.com/data_structures_algorithms/images/bubble_sort_10.jpg)\n",
    "\n",
    "![Alt Text](https://www.tutorialspoint.com/data_structures_algorithms/images/bubble_sort_11.jpg)\n",
    "\n",
    "![Alt Text](https://www.tutorialspoint.com/data_structures_algorithms/images/bubble_sort_12.jpg)\n",
    "\n",
    "## Time complexity\n",
    "\n",
    "* Average case: O(n²)\n",
    "* Best case: O(n)\n",
    "\n",
    "## Pseudocode\n",
    "\n",
    "* Start looping from the end of the array towards the beginning\n",
    "* Start an inner loop from the beginning until i-1\n",
    "* If arr[j] is greater than arr[j+1], swap those two values\n",
    "* Return the sorted array "
   ]
  },
  {
   "cell_type": "code",
   "execution_count": 173,
   "metadata": {},
   "outputs": [],
   "source": [
    "def bubble_sort(arr): \n",
    "    for i in range(len(arr)-1, 0, -1): \n",
    "        noSwaps = True\n",
    "        for j in range(i): \n",
    "            if arr[j] > arr[i]: \n",
    "                arr[j], arr[i] = arr[i], arr[j]\n",
    "                noSwaps = False\n",
    "        if noSwaps: break\n",
    "    return arr\n",
    "        "
   ]
  },
  {
   "cell_type": "code",
   "execution_count": 175,
   "metadata": {},
   "outputs": [
    {
     "data": {
      "text/plain": [
       "[2, 3, 5, 7]"
      ]
     },
     "execution_count": 175,
     "metadata": {},
     "output_type": "execute_result"
    }
   ],
   "source": [
    "bubble_sort([5,3,7,2])"
   ]
  },
  {
   "cell_type": "markdown",
   "metadata": {},
   "source": [
    "# Selection Sort \n",
    "\n",
    "* Similar to bubble sort, but instead of first placing large values into sorted position, it places small values into sorted position\n",
    "\n",
    "![Alt Text](https://upload.wikimedia.org/wikipedia/commons/9/94/Selection-Sort-Animation.gif)\n",
    "\n",
    "\n",
    "## Pseudocode\n",
    "* Store the first element as the smallest value you've seen so far\n",
    "* Compare this item to the next item in the array until you find a smaller number\n",
    "* If a smaller number is found, designate that smaller number to be the new \"minimum\" and continue until the end of the array\n",
    "* If the \"minimum\" is not the value (index) you initially began with, swap the two values\n",
    "* Repeat this with the next element until the array is sorted\n",
    "\n",
    "## Time complexity\n",
    "* O(n²)\n",
    "* Potentially better than bubble sort if we're worried about memory, because the swap only happens at the end of each iteration as opposed to with each single comparison.  \n"
   ]
  },
  {
   "cell_type": "code",
   "execution_count": 176,
   "metadata": {},
   "outputs": [],
   "source": [
    "def selectionSort(arr):\n",
    "    for i in range(len(arr)-1): \n",
    "        lowest = i\n",
    "        for j in range(i+1, len(arr)):\n",
    "            if arr[j] < arr[lowest]: \n",
    "                lowest = j\n",
    "        arr[i], arr[lowest] = arr[lowest], arr[i]   \n",
    "    return arr\n",
    "        \n",
    "    "
   ]
  },
  {
   "cell_type": "code",
   "execution_count": 178,
   "metadata": {},
   "outputs": [
    {
     "data": {
      "text/plain": [
       "[1, 2, 3, 8, 9, 13, 15, 28]"
      ]
     },
     "execution_count": 178,
     "metadata": {},
     "output_type": "execute_result"
    }
   ],
   "source": [
    "selectionSort([15,1, 2, 28, 8, 13, 3, 9])"
   ]
  },
  {
   "cell_type": "markdown",
   "metadata": {},
   "source": [
    "# Insertion Sort (shifts)\n",
    "* Builds up the sort by gradually creating a larger left half which is always sorted\n",
    "\n",
    "![Alt-text](https://upload.wikimedia.org/wikipedia/commons/0/0f/Insertion-sort-example-300px.gif)\n",
    "\n",
    "## Pseudocode\n",
    "\n",
    "* Start by picking the second element in the array\n",
    "* Now compare the second element with the one before it and swap if necessary\n",
    "* Continue to the next element and if it is in the incorrect order, iterate through the sorted portion(i.e. the left side) to place the element in the correct place\n",
    "* Repeat until the array is sorted. \n",
    "\n",
    "## Time complexity\n",
    "* O(n²)\n",
    "* If the data is mostly sorted, then O(n)\n",
    "* Good for online data, which is incoming data that needs to be inserted one at a time. So, basically, we have an already sorted array that we keep and we only have to insert the incoming data.  "
   ]
  },
  {
   "cell_type": "code",
   "execution_count": 106,
   "metadata": {},
   "outputs": [],
   "source": [
    "def insertionSort(arr):    \n",
    "    for i in range(1, len(arr)):\n",
    "        keep, curr = arr[i], i\n",
    "        while curr > 0 and keep < arr[curr-1]:\n",
    "            arr[curr] = arr[curr-1]\n",
    "            curr -= 1\n",
    "        arr[curr] = keep\n",
    "    return arr"
   ]
  },
  {
   "cell_type": "code",
   "execution_count": 112,
   "metadata": {},
   "outputs": [
    {
     "data": {
      "text/plain": [
       "[1, 2, 3, 4, 5, 6, 7, 8]"
      ]
     },
     "execution_count": 112,
     "metadata": {},
     "output_type": "execute_result"
    }
   ],
   "source": [
    "insertionSort([6,5,3,1,8,7,2,4])"
   ]
  },
  {
   "cell_type": "markdown",
   "metadata": {},
   "source": [
    "| Algorithm     | Time Complexity (Best)| Time Complexity (Average)|Time Complexity(Worst)|Space Complexity|\n",
    "| ------------- |:---------------------:| ------------------------:|---------------------:|---------------:|\n",
    "| Bubble Sort   | O(n)                  | O(n²)                    |O(n²)                 | O(1)           |\n",
    "| Insertion Sort| O(n)                  | O(n²)                    |O(n²)                 | O(1)           |      \n",
    "| Selection Sort| O(n²)                 | O(n²)                    |O(n²)                 | O(1)           |             \n"
   ]
  },
  {
   "cell_type": "markdown",
   "metadata": {},
   "source": [
    "# Merge sort \n",
    "* It's a combination of two things - merging and sorting\n",
    "* Exploits the fact that arrays of 0 or 1 element are always sorted\n",
    "* Works by decomposing an array into smaller arrays of 0 or 1 elements, then building up a newly sorted array \n",
    "\n",
    "![Alt-text](https://upload.wikimedia.org/wikipedia/commons/c/cc/Merge-sort-example-300px.gif)\n",
    "\n",
    "## Merging Arrays Pseudocode\n",
    "\n",
    "* Create an empty array, take a look at the smallest values in each input array\n",
    "* While there are still values we haven't looked at...\n",
    "    * If the value in the first array is smaller than the value in the second array, push the value in the first array into our results and move on to the next value in the first array\n",
    "    * If the value in the first array is larger than the value in the second array, push the value in the second array into our results and move on to the next value in the second array\n",
    "    \n",
    "## MergeSort Pseudocode\n",
    "\n",
    "* Break up the array into halves until you have arrays that are empty or have one element\n",
    "* Once you have smaller sorted arrays, merge those arrays with other sorted arrays until you are back at the full length of the array\n",
    "* Once the array has been merged back together, return the merged (and sorted) array"
   ]
  },
  {
   "cell_type": "code",
   "execution_count": 179,
   "metadata": {},
   "outputs": [],
   "source": [
    "def merge(arr1, arr2): \n",
    "    out = []\n",
    "    i = j = 0\n",
    "    while i < len(arr1) and j < len(arr2):\n",
    "        if arr1[i] <= arr2[j]:\n",
    "            out.append(arr1[i])\n",
    "            i += 1\n",
    "        else: \n",
    "            out.append(arr2[j])\n",
    "            j += 1\n",
    "    while (i < len(arr1)):\n",
    "        out.append(arr1[i])\n",
    "        i += 1\n",
    "    while (j < len(arr2)):\n",
    "        out.append(arr2[j])\n",
    "        j += 1\n",
    "            \n",
    "    return out\n",
    "\n",
    "def mergeSort(arr): \n",
    "    if len(arr) <= 1: \n",
    "        return arr\n",
    "    mid = len(arr)//2\n",
    "    left = mergeSort(arr[:mid])\n",
    "    right = mergeSort(arr[mid:])\n",
    "    return merge(left, right)\n",
    "\n",
    "\n",
    "        \n",
    "            "
   ]
  },
  {
   "cell_type": "code",
   "execution_count": 20,
   "metadata": {},
   "outputs": [
    {
     "data": {
      "text/plain": [
       "[10, 24, 73, 76]"
      ]
     },
     "execution_count": 20,
     "metadata": {},
     "output_type": "execute_result"
    }
   ],
   "source": [
    "mergeSort([10,24,76,73]) "
   ]
  },
  {
   "cell_type": "markdown",
   "metadata": {},
   "source": [
    "| Algorithm     | Time Complexity (Best)| Time Complexity (Average)|Time Complexity(Worst)|Space Complexity|\n",
    "| ------------- |:---------------------:| ------------------------:|---------------------:|---------------:|\n",
    "| Merge Sort    | O(nlogn)              | O(nlogn)                 |O(n)                  | O(n)           |\n"
   ]
  },
  {
   "cell_type": "markdown",
   "metadata": {},
   "source": [
    "# Quick sort\n",
    "\n",
    "* Like merge sort, exploits the fact that arrays of 0 or 1 element are always sorted\n",
    "* Works by selecting one element (called the 'pivot') and finding the index where the pivot should end up in the sorted array\n",
    "* Once the pivot is positioned appropriately, quick sort can be applied on either side of the pivot \n",
    "\n",
    "![Alt-text](https://upload.wikimedia.org/wikipedia/commons/9/9c/Quicksort-example.gif)\n",
    "\n",
    "## Pivot helper \n",
    "\n",
    "* In order to implement quick sort, it's useful to first implement a function responsible arranging elements in an array on either side of a pivot\n",
    "* Given an array, this helper function should designate an element as the pivot \n",
    "* It should then rearrange elements in the array so that all values less than the pivot are moved to the left of the pivot, and all values greater than the pivot are moved to the right of the pivot\n",
    "* The order of elements on either side of the pivot doesn't matter \n",
    "* The helper should do this in place, that is, it should not crete a new array\n",
    "* When complete, the helper should return the index of the pivot \n",
    "\n",
    "## Picking a pivot \n",
    "* The runtime of quick sort depends in part on how one selects the pivot\n",
    "* Ideally, the pivot should be chosen so that it's roughly the median value in the data set you're sorting\n",
    "* For simplicity, we'll always choose the pivot to the first element (we'll talk about consequences of this later)\n",
    "\n",
    "## Pivot Pseudocode\n",
    "* It will help to accept three arguments: an array, a start index, and an end index(these can default to 0 and the array length minus 1, respectively)\n",
    "* Grab the pivot from the start of the array\n",
    "* Store the current pivot index in a variable (this will keep track of where the pivot should end up)\n",
    "* Loop through the array from the start until the end\n",
    "    * If the pivot is greater than the current element, increment the pivot index variable and then swap the current element with the element at the pivot index\n",
    "* Swap the starting element (i.e. the pivot) with the pivot index \n",
    "\n",
    "## Quicksort Pseudocode\n",
    "* Call the pivot helper on the array\n",
    "* When the helper returns the updated index, recursively call the pivot helper on the subarray to the left of that index, and the subarray to the right of that index\n",
    "* Base case occurs when you consider a subarray with less than 2 elements\n"
   ]
  },
  {
   "cell_type": "code",
   "execution_count": 67,
   "metadata": {},
   "outputs": [],
   "source": [
    "def pivot(arr, start=0, end=None):\n",
    "    if end is None: \n",
    "        end = len(arr)+1\n",
    "    pivot = arr[start] \n",
    "    swapIndex = start # 0\n",
    "\n",
    "#[4,8,2,1,5,7,6,3] pivot = 4\n",
    "#[4,2,8,1,5,7,6,3] i = 2\n",
    "#[4,2,1,8,5,7,6,3] i = 3...\n",
    "    for i in range(start+1, len(arr)): \n",
    "        if pivot > arr[i]: \n",
    "            swapIndex += \n",
    "            arr[swapIndex], arr[i] = arr[i], arr[swapIndex] \n",
    "    arr[start], arr[swapIndex] = arr[swapIndex],arr[start]\n",
    "    \n",
    "    return swapIndex\n",
    "\n",
    "def quickSort(arr, left=0, right=None): \n",
    "    if right is None: \n",
    "        right = len(arr)-1\n",
    "    \n",
    "    if left < right: \n",
    "        \n",
    "        pivotIndex = pivot(arr, left, right)\n",
    "        # Left\n",
    "        quickSort(arr, left, pivotIndex-1)\n",
    "        # Right\n",
    "        quickSort(arr, pivotIndex+1, right)\n",
    "    return arr\n",
    "    \n",
    "    \n",
    "    \n",
    "    "
   ]
  },
  {
   "cell_type": "code",
   "execution_count": 70,
   "metadata": {},
   "outputs": [
    {
     "data": {
      "text/plain": [
       "3"
      ]
     },
     "execution_count": 70,
     "metadata": {},
     "output_type": "execute_result"
    }
   ],
   "source": [
    "pivot([4,2,1,8,5,7,6,3])"
   ]
  },
  {
   "cell_type": "markdown",
   "metadata": {},
   "source": [
    "| Algorithm     | Time Complexity (Best)| Time Complexity (Average)|Time Complexity(Worst)|Space Complexity|\n",
    "| ------------- |:---------------------:| ------------------------:|---------------------:|---------------:|\n",
    "| Merge Sort    | O(nlogn)              | O(nlogn)                 |O(n²)                 | O(1)           |"
   ]
  },
  {
   "cell_type": "markdown",
   "metadata": {},
   "source": []
  },
  {
   "cell_type": "markdown",
   "metadata": {},
   "source": [
    "# Comparison sorts\n",
    "\n",
    "* Bubble sort, insertion sort, selection sort - O(n²)\n",
    "* Quick sort, merge sort - O(nlogn) \n",
    "* Nlogn is the best time complexity when using comparison sort\n",
    "\n"
   ]
  },
  {
   "cell_type": "markdown",
   "metadata": {},
   "source": [
    "# Radix sort \n",
    "\n",
    "* Special sorting algorithm that works on lists of numbers\n",
    "* It never makes comparisons between elements\n",
    "* It exploits the fact that information about the size of a number is encoded in the number of digits\n",
    "* More digits means a bigger number \n",
    "\n",
    "## Radix sort helpers\n",
    "\n",
    "* getDigit(num, place)- returns the digit in num at the given place value\n",
    "\n",
    "## Radix sort pseudocode\n",
    "\n",
    "* Define a function that accepts list of numbers \n",
    "* Figure out how many digits the largest number has\n",
    "* Loop from k = 0 up to this largest number of digits\n",
    "* For each iteration of the loop: \n",
    "    * Create buckets for each digit(0 to 9) \n",
    "    * Place each number in the corresponding bucket based on its kth digit\n",
    "    * Replace our existing array with values in our buckets, starting with 0 and going up to 9\n",
    "    * Return list the end "
   ]
  },
  {
   "cell_type": "code",
   "execution_count": 180,
   "metadata": {},
   "outputs": [],
   "source": [
    "import math\n",
    "def getDigit(num, i):\n",
    "    return abs((num//10**i)%10)\n",
    "\n",
    "def digitCount(num): \n",
    "    return 1 if num == 0 else math.floor(abs(math.log10(num)))+1\n",
    "\n",
    "def mostDigits(arr): \n",
    "    maxDigits = 0\n",
    "    for num in arr: \n",
    "        maxDigits = max(maxDigits, digitCount(num))\n",
    "        \n",
    "    return maxDigits\n",
    "\n",
    "def radixSort(arr): \n",
    "    maxDigitCount = mostDigits(arr)\n",
    "    for k in range(maxDigitCount):\n",
    "        digitBuckets = [[] for x in range(10)]\n",
    "        for i in range(len(arr)):\n",
    "            digitBuckets[getDigit(arr[i], k)].append(arr[i])\n",
    "        arr = [num for bucket in digitBuckets for num in bucket]\n",
    "    return arr\n",
    "            "
   ]
  },
  {
   "cell_type": "code",
   "execution_count": 162,
   "metadata": {},
   "outputs": [
    {
     "data": {
      "text/plain": [
       "[12, 23, 345, 2345, 5467, 9852]"
      ]
     },
     "execution_count": 162,
     "metadata": {},
     "output_type": "execute_result"
    }
   ],
   "source": [
    "radixSort([23,345,5467,12,2345,9852])"
   ]
  },
  {
   "cell_type": "markdown",
   "metadata": {},
   "source": [
    "| Algorithm     | Time Complexity (Best)| Time Complexity (Average)|Time Complexity(Worst)|Space Complexity|\n",
    "| ------------- |:---------------------:| ------------------------:|---------------------:|---------------:|\n",
    "| Radix Sort    | O(nk)                 | O(nk)                    |O(nk)                 | O(n+k)           |\n",
    "\n",
    "* k is the num size\n",
    "* n is the array length"
   ]
  }
 ],
 "metadata": {
  "kernelspec": {
   "display_name": "Python 3",
   "language": "python",
   "name": "python3"
  },
  "language_info": {
   "codemirror_mode": {
    "name": "ipython",
    "version": 3
   },
   "file_extension": ".py",
   "mimetype": "text/x-python",
   "name": "python",
   "nbconvert_exporter": "python",
   "pygments_lexer": "ipython3",
   "version": "3.6.4"
  }
 },
 "nbformat": 4,
 "nbformat_minor": 2
}
