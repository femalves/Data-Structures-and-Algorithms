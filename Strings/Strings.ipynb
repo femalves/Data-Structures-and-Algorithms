{
 "cells": [
  {
   "cell_type": "markdown",
   "metadata": {},
   "source": [
    "# --------------------------------------------------------------------------------------------\n",
    "\n",
    "# Sentence Reversal\n",
    "\n",
    "Problem\n",
    "Given a string of words, reverse all the words. For example:\n",
    "\n",
    "Given:\n",
    "\n",
    "'This is the best'\n",
    "\n",
    "Return:\n",
    "\n",
    "'best the is This'\n",
    "\n",
    "As part of this exercise you should remove all leading and trailing whitespace. So that inputs such as:\n",
    "\n",
    "'  space here'  and 'space here      '\n",
    "\n",
    "both become:\n",
    "\n",
    "'here space'"
   ]
  },
  {
   "cell_type": "code",
   "execution_count": 1,
   "metadata": {},
   "outputs": [],
   "source": [
    "def rev_word(s):\n",
    "    new_s = s.strip().split()[::-1]\n",
    "    print(' '.join(new_s))"
   ]
  },
  {
   "cell_type": "code",
   "execution_count": 2,
   "metadata": {},
   "outputs": [
    {
     "name": "stdout",
     "output_type": "stream",
     "text": [
      "best the is This\n",
      "here Space\n"
     ]
    }
   ],
   "source": [
    "rev_word('This is the best')\n",
    "rev_word(' Space here')"
   ]
  },
  {
   "cell_type": "code",
   "execution_count": 3,
   "metadata": {},
   "outputs": [],
   "source": [
    "def rev_word(s): \n",
    "    new_s = s.strip().split()\n",
    "    result = new_s[-1]\n",
    "    for word in new_s[-2::-1]:\n",
    "        result = result + \" \" + word \n",
    "    return result\n",
    "    "
   ]
  },
  {
   "cell_type": "code",
   "execution_count": 4,
   "metadata": {},
   "outputs": [
    {
     "data": {
      "text/plain": [
       "'best the is This'"
      ]
     },
     "execution_count": 4,
     "metadata": {},
     "output_type": "execute_result"
    }
   ],
   "source": [
    "rev_word('This is the best')"
   ]
  },
  {
   "cell_type": "code",
   "execution_count": 5,
   "metadata": {},
   "outputs": [
    {
     "name": "stdout",
     "output_type": "stream",
     "text": [
      "ALL TEST CASES PASSED\n"
     ]
    }
   ],
   "source": [
    "\"\"\"\n",
    "RUN THIS CELL TO TEST YOUR SOLUTION\n",
    "\"\"\"\n",
    "\n",
    "from nose.tools import assert_equal\n",
    "\n",
    "class ReversalTest(object):\n",
    "    \n",
    "    def test(self,sol):\n",
    "        assert_equal(sol('    space before'),'before space')\n",
    "        assert_equal(sol('space after     '),'after space')\n",
    "        assert_equal(sol('   Hello John    how are you   '),'you are how John Hello')\n",
    "        assert_equal(sol('1'),'1')\n",
    "        print (\"ALL TEST CASES PASSED\")\n",
    "        \n",
    "# Run and test\n",
    "t = ReversalTest()\n",
    "t.test(rev_word)"
   ]
  },
  {
   "cell_type": "markdown",
   "metadata": {},
   "source": [
    "# --------------------------------------------------------------------------------------------# String compression 443*: Solution\n",
    "\n",
    "Given an array of characters, compress it in-place.\n",
    "\n",
    "The length after compression must always be smaller than or equal to the original array.\n",
    "\n",
    "Every element of the array should be a character (not int) of length 1.\n",
    "\n",
    "After you are done modifying the input array in-place, return the new length of the array.\n",
    "\n",
    "\n",
    "Follow up:\n",
    "Could you solve it using only O(1) extra space?\n",
    "\n",
    "\n",
    "Example 1:\n",
    "Input:\n",
    "[\"a\",\"a\",\"b\",\"b\",\"c\",\"c\",\"c\"]\n",
    "\n",
    "Output:\n",
    "Return 6, and the first 6 characters of the input array should be: [\"a\",\"2\",\"b\",\"2\",\"c\",\"3\"]\n",
    "\n",
    "Explanation:\n",
    "\"aa\" is replaced by \"a2\". \"bb\" is replaced by \"b2\". \"ccc\" is replaced by \"c3\".\n",
    "Example 2:\n",
    "Input:\n",
    "[\"a\"]\n",
    "\n",
    "Output:\n",
    "Return 1, and the first 1 characters of the input array should be: [\"a\"]\n",
    "\n",
    "Explanation:\n",
    "Nothing is replaced.\n",
    "Example 3:\n",
    "Input:\n",
    "[\"a\",\"b\",\"b\",\"b\",\"b\",\"b\",\"b\",\"b\",\"b\",\"b\",\"b\",\"b\",\"b\"]\n",
    "\n",
    "Output:\n",
    "Return 4, and the first 4 characters of the input array should be: [\"a\",\"b\",\"1\",\"2\"].\n",
    "\n",
    "Explanation:\n",
    "Since the character \"a\" does not repeat, it is not compressed. \"bbbbbbbbbbbb\" is replaced by \"b12\".\n",
    "Notice each digit has it's own entry in the array.\n",
    "Note:\n",
    "All characters have an ASCII value in [35, 126].\n",
    "1 <= len(chars) <= 1000."
   ]
  },
  {
   "cell_type": "code",
   "execution_count": 237,
   "metadata": {},
   "outputs": [],
   "source": [
    "#O(n) O(1)\n",
    "def string_compression(chars):\n",
    "    \n",
    "    if len(chars) == 0: return 0\n",
    "    if len(chars) == 1: return len(chars)\n",
    "    \n",
    "    counter = 1\n",
    "    i = 1\n",
    "    r = ''\n",
    "    \n",
    "    while i < len(chars):\n",
    "        if chars[i] == chars[i-1]:\n",
    "            counter +=1\n",
    "        else:\n",
    "            if counter > 1:\n",
    "                r = r + chars[i-1] + str(counter)\n",
    "            else:\n",
    "                r = r + chars[i-1]\n",
    "            counter = 1\n",
    "        i += 1\n",
    "\n",
    "    if counter > 1:\n",
    "        r = r + chars[i-1] + str(counter)\n",
    "    else:\n",
    "        r = r + chars[i-1]\n",
    "   \n",
    "    \n",
    "    while len(chars) != 0:\n",
    "        chars.pop()\n",
    "        \n",
    "    for element in r:\n",
    "        chars.append(element)\n",
    "    \n",
    "    return len(chars)\n",
    "   "
   ]
  },
  {
   "cell_type": "code",
   "execution_count": 236,
   "metadata": {},
   "outputs": [
    {
     "data": {
      "text/plain": [
       "8"
      ]
     },
     "execution_count": 236,
     "metadata": {},
     "output_type": "execute_result"
    }
   ],
   "source": [
    "# string_compression([\"a\",\"a\",\"b\",\"b\",\"c\",\"c\", \"c\", \"c\", \"d\"])\n",
    "string_compression([\"b\",\"b\",\"b\",\"b\",\"b\",\"b\",\"b\",\"b\",\"b\",\"b\",\"b\",\"b\", \"b\", \"c\", \"c\", \"d\", \"d\", \"d\", \"a\"])\n",
    "# string_compression([\"a\"])\n",
    "# string_compression([\"a\",\"b\",\"b\",\"c\",\"c\",\"c\", \"c\"])\n",
    "\n",
    "# string_compression(['a'])"
   ]
  },
  {
   "cell_type": "markdown",
   "metadata": {},
   "source": [
    "# --------------------------------------------------------------------------------------------\n",
    "# First Unique Character in a String 387: Solutions\n",
    "\n",
    "Given a string, find the first non-repeating character in it and return it's index. If it doesn't exist, return -1.\n",
    "\n",
    "Examples:\n",
    "\n",
    "s = \"leetcode\"\n",
    "return 0.\n",
    "\n",
    "s = \"loveleetcode\",\n",
    "return 2.\n",
    "Note: You may assume the string contain only lowercase letters."
   ]
  },
  {
   "cell_type": "markdown",
   "metadata": {},
   "source": [
    "def first_unique_char(s):\n",
    "    s1 = {}\n",
    "    for char in s:\n",
    "        if char in s1:\n",
    "            s1[char] += 1\n",
    "        else:\n",
    "            s1[char] = 1\n",
    "    \n",
    "    for i, char in enumerate(s):\n",
    "        if s1[char] == 1:\n",
    "            return i\n",
    "    \n",
    "    return -1"
   ]
  },
  {
   "cell_type": "code",
   "execution_count": 13,
   "metadata": {},
   "outputs": [],
   "source": [
    "def first_unique_char(s):\n",
    "    s1 = {}\n",
    "    for char in s:\n",
    "        if char in s1:\n",
    "            s1[char] += 1\n",
    "        else:\n",
    "            s1[char] = 1\n",
    "    \n",
    "    for i, char in enumerate(s):\n",
    "        if s1[char] == 1:\n",
    "            return i\n",
    "    \n",
    "    return -1"
   ]
  },
  {
   "cell_type": "code",
   "execution_count": 14,
   "metadata": {},
   "outputs": [
    {
     "data": {
      "text/plain": [
       "2"
      ]
     },
     "execution_count": 14,
     "metadata": {},
     "output_type": "execute_result"
    }
   ],
   "source": [
    "first_unique_char('loveleetcode')"
   ]
  },
  {
   "cell_type": "markdown",
   "metadata": {},
   "source": [
    "# --------------------------------------------------------------------------------------------\n",
    "# Longest Substring Without Repeating Characters 3: Solution\n",
    "\n",
    "\n",
    "Given a string, find the length of the longest substring without repeating characters.\n",
    "\n",
    "Examples:\n",
    "\n",
    "Given \"abcabcbb\", the answer is \"abc\", which the length is 3.\n",
    "\n",
    "Given \"bbbbb\", the answer is \"b\", with the length of 1.\n",
    "\n",
    "Given \"pwwkew\", the answer is \"wke\", with the length of 3. Note that the answer must be a substring, \"pwke\" is a subsequence and not a substring."
   ]
  },
  {
   "cell_type": "code",
   "execution_count": 16,
   "metadata": {},
   "outputs": [],
   "source": [
    "def long_subs(s):\n",
    "    s1 = ''\n",
    "    max_sub = 0\n",
    "\n",
    "    for char in s:\n",
    "        if char not in s1:\n",
    "            s1 += char \n",
    "            if len(s1) > max_sub:\n",
    "                max_sub = len(s1)\n",
    "        else:\n",
    "            s1 = s1[s1.find(char)+1:]\n",
    "            s1 += char \n",
    "        \n",
    "\n",
    "    return max_sub"
   ]
  },
  {
   "cell_type": "code",
   "execution_count": 18,
   "metadata": {},
   "outputs": [
    {
     "data": {
      "text/plain": [
       "3"
      ]
     },
     "execution_count": 18,
     "metadata": {},
     "output_type": "execute_result"
    }
   ],
   "source": [
    "# s = \"abcabcbb\"\n",
    "# s = \"bbbbb\"\n",
    "# s = \"pwwkew\" #wke\n",
    "# s = \"\" \n",
    "s = \"dvdf\" #\n",
    "\n",
    "long_subs(s)"
   ]
  },
  {
   "cell_type": "markdown",
   "metadata": {},
   "source": [
    "# ----------------------------------------------------------------------------------------\n",
    "# Group anagrams 49\n",
    "\n",
    "Given an array of strings, group anagrams together.\n",
    "\n",
    "Example:\n",
    "\n",
    "Input: [\"eat\", \"tea\", \"tan\", \"ate\", \"nat\", \"bat\"],\n",
    "Output:\n",
    "[\n",
    "  [\"ate\",\"eat\",\"tea\"],\n",
    "  [\"nat\",\"tan\"],\n",
    "  [\"bat\"]\n",
    "]\n",
    "Note:\n",
    "\n",
    "All inputs will be in lowercase.\n",
    "The order of your output does not matter."
   ]
  },
  {
   "cell_type": "code",
   "execution_count": 19,
   "metadata": {},
   "outputs": [],
   "source": [
    "# group_anagrams([\"eat\", \"tan\", \"ate\", \"nat\", \"tea\", \"bat\"])\n",
    "def group_anagrams(strs):\n",
    "    print(sorted(strs))\n",
    "\n",
    "    \n",
    "\n",
    "def is_anagram(s1, s2):\n",
    "    \n",
    "    if len(s1) != len(s2): return False\n",
    "    \n",
    "    counter = {}\n",
    "    \n",
    "    for letter in s1: \n",
    "        if letter in counter:\n",
    "            counter[letter] +=1\n",
    "        else:\n",
    "            counter[letter] = 1\n",
    "    \n",
    "    for letter in s2: \n",
    "        if letter in counter:\n",
    "            counter[letter] -=1\n",
    "        else:\n",
    "            return False\n",
    "        \n",
    "    return all(counter.values()) == 0"
   ]
  },
  {
   "cell_type": "code",
   "execution_count": 20,
   "metadata": {},
   "outputs": [
    {
     "name": "stdout",
     "output_type": "stream",
     "text": [
      "['ate', 'bat', 'eat', 'nat', 'tan', 'tea']\n"
     ]
    }
   ],
   "source": [
    "group_anagrams([\"eat\", \"tan\", \"ate\", \"nat\", \"tea\", \"bat\"])"
   ]
  },
  {
   "cell_type": "markdown",
   "metadata": {},
   "source": [
    "# ---------------------------------------------------------------------------------------Longest Common Prefix 14: Solution \n",
    "\n",
    "Write a function to find the longest common prefix string amongst an array of strings.\n",
    "\n",
    "If there is no common prefix, return an empty string \"\".\n",
    "\n",
    "Example 1:\n",
    "\n",
    "Input: [\"flower\",\"flow\",\"flight\"]\n",
    "Output: \"fl\"\n",
    "Example 2:\n",
    "\n",
    "Input: [\"dog\",\"racecar\",\"car\"]\n",
    "Output: \"\"\n",
    "Explanation: There is no common prefix among the input strings.\n",
    "Note:\n",
    "\n",
    "All given inputs are in lowercase letters a-z."
   ]
  },
  {
   "cell_type": "code",
   "execution_count": 317,
   "metadata": {},
   "outputs": [],
   "source": [
    "def prefix(strs):\n",
    "   \n",
    "    if len(strs) == 0: return \"\"\n",
    "    shortest = strs[0]\n",
    "    for word in strs:\n",
    "        if len(word) < len(shortest):\n",
    "            shortest = word\n",
    "    strs.remove(shortest)\n",
    "    position = len(shortest)\n",
    "    for i in range(len(strs)):\n",
    "        for j in range(1, len(shortest)+1):\n",
    "            if (strs[i][:j] != shortest[:j]):\n",
    "                position = min(position, j-1)\n",
    "#                 print(strs[i][:j], shortest[:j], position)\n",
    "    return shortest[:position]\n",
    "                \n",
    "           \n",
    "        "
   ]
  },
  {
   "cell_type": "code",
   "execution_count": 319,
   "metadata": {},
   "outputs": [
    {
     "data": {
      "text/plain": [
       "'flower'"
      ]
     },
     "execution_count": 319,
     "metadata": {},
     "output_type": "execute_result"
    }
   ],
   "source": [
    "# prefix([\"flower\",\"fannel\",\"flow\",\"flight\", \"fluid\", \"flannel\"])\n",
    "# prefix([\"racecar\",\"rcar\"] )\n",
    "# prefix([\"car\",\"racar\"] )\n",
    "# prefix([\"banana\",\"ban\"] )\n",
    "#prefix([\"flower\",\"flow\",\"flight\"] )\n",
    "#prefix([] )\n",
    "prefix([\"flower\"])"
   ]
  },
  {
   "cell_type": "markdown",
   "metadata": {},
   "source": [
    "# --------------------------------------------------------------------------------------------\n",
    "\n",
    "# Reverse Words in a String 151: Solution\n",
    "\n",
    "Given an input string, reverse the string word by word.\n",
    "\n",
    "Example:  \n",
    "\n",
    "Input: \"the sky is blue\",\n",
    "Output: \"blue is sky the\".\n",
    "Note:\n",
    "\n",
    "A word is defined as a sequence of non-space characters.\n",
    "Input string may contain leading or trailing spaces. However, your reversed string should not contain leading or trailing spaces.\n",
    "You need to reduce multiple spaces between two words to a single space in the reversed string.\n",
    "Follow up: For C programmers, try to solve it in-place in O(1) space."
   ]
  },
  {
   "cell_type": "code",
   "execution_count": 37,
   "metadata": {},
   "outputs": [],
   "source": [
    "def reverse_words(s):\n",
    "    s = s.strip().split()\n",
    "    if len(s) == 0: return \"\"\n",
    "    result = s[-1]\n",
    "    for word in reversed(s[:-1]):\n",
    "        result += \" \" + word\n",
    "    return result\n"
   ]
  },
  {
   "cell_type": "code",
   "execution_count": 41,
   "metadata": {},
   "outputs": [
    {
     "data": {
      "text/plain": [
       "'cat'"
      ]
     },
     "execution_count": 41,
     "metadata": {},
     "output_type": "execute_result"
    }
   ],
   "source": [
    "# reverse_words(\"   the   sky is blue   \")\n",
    "# reverse_words(\"    \")\n",
    "reverse_words(\"cat  \")"
   ]
  },
  {
   "cell_type": "markdown",
   "metadata": {},
   "source": [
    "# --------------------------------------------------------------------------------------------\n",
    "\n",
    "# Reverse Words in a String II 186: Solution\n",
    "\n",
    "// Given an input string, reverse the string word by word. A word is defined as a sequence of non-space characters.\n",
    "\n",
    "// The input string does not contain leading or trailing spaces and the words are always separated by a single space.\n",
    "\n",
    "// For example,\n",
    "// Given s = \"the sky is blue\",\n",
    "// return \"blue is sky the\".\n",
    "\n",
    "// Could you do it in-place without allocating extra space?"
   ]
  },
  {
   "cell_type": "code",
   "execution_count": 194,
   "metadata": {},
   "outputs": [],
   "source": [
    "def reverse_wordsii(s):\n",
    "    result = \"\"\n",
    "    s = reversed(s)\n",
    "    right = len(s)\n",
    "    for i, word in enumerate(s):\n",
    "        if word == \" \":\n",
    "            print(i)\n",
    "            right = i\n",
    "        else:\n",
    "            print(word)\n",
    "        \n",
    "    \n"
   ]
  },
  {
   "cell_type": "code",
   "execution_count": 195,
   "metadata": {},
   "outputs": [
    {
     "ename": "TypeError",
     "evalue": "object of type 'reversed' has no len()",
     "output_type": "error",
     "traceback": [
      "\u001b[0;31m---------------------------------------------------------------------------\u001b[0m",
      "\u001b[0;31mTypeError\u001b[0m                                 Traceback (most recent call last)",
      "\u001b[0;32m<ipython-input-195-9cf7a01d5f78>\u001b[0m in \u001b[0;36m<module>\u001b[0;34m()\u001b[0m\n\u001b[0;32m----> 1\u001b[0;31m \u001b[0mreverse_wordsii\u001b[0m\u001b[0;34m(\u001b[0m\u001b[0;34m\"the sky is blue\"\u001b[0m\u001b[0;34m)\u001b[0m\u001b[0;34m\u001b[0m\u001b[0m\n\u001b[0m",
      "\u001b[0;32m<ipython-input-194-213082b3c344>\u001b[0m in \u001b[0;36mreverse_wordsii\u001b[0;34m(s)\u001b[0m\n\u001b[1;32m      2\u001b[0m     \u001b[0mresult\u001b[0m \u001b[0;34m=\u001b[0m \u001b[0;34m\"\"\u001b[0m\u001b[0;34m\u001b[0m\u001b[0m\n\u001b[1;32m      3\u001b[0m     \u001b[0ms\u001b[0m \u001b[0;34m=\u001b[0m \u001b[0mreversed\u001b[0m\u001b[0;34m(\u001b[0m\u001b[0ms\u001b[0m\u001b[0;34m)\u001b[0m\u001b[0;34m\u001b[0m\u001b[0m\n\u001b[0;32m----> 4\u001b[0;31m     \u001b[0mright\u001b[0m \u001b[0;34m=\u001b[0m \u001b[0mlen\u001b[0m\u001b[0;34m(\u001b[0m\u001b[0ms\u001b[0m\u001b[0;34m)\u001b[0m\u001b[0;34m\u001b[0m\u001b[0m\n\u001b[0m\u001b[1;32m      5\u001b[0m     \u001b[0;32mfor\u001b[0m \u001b[0mi\u001b[0m\u001b[0;34m,\u001b[0m \u001b[0mword\u001b[0m \u001b[0;32min\u001b[0m \u001b[0menumerate\u001b[0m\u001b[0;34m(\u001b[0m\u001b[0ms\u001b[0m\u001b[0;34m)\u001b[0m\u001b[0;34m:\u001b[0m\u001b[0;34m\u001b[0m\u001b[0m\n\u001b[1;32m      6\u001b[0m         \u001b[0;32mif\u001b[0m \u001b[0mword\u001b[0m \u001b[0;34m==\u001b[0m \u001b[0;34m\" \"\u001b[0m\u001b[0;34m:\u001b[0m\u001b[0;34m\u001b[0m\u001b[0m\n",
      "\u001b[0;31mTypeError\u001b[0m: object of type 'reversed' has no len()"
     ]
    }
   ],
   "source": [
    "reverse_wordsii(\"the sky is blue\")"
   ]
  },
  {
   "cell_type": "markdown",
   "metadata": {},
   "source": [
    "# --------------------------------------------------------------------------------------------#  Implement strStr() 28: Solution\n",
    "\n",
    "Implement strStr().\n",
    "\n",
    "Return the index of the first occurrence of needle in haystack, or -1 if needle is not part of haystack.\n",
    "\n",
    "Example 1:\n",
    "\n",
    "Input: haystack = \"hello\", needle = \"ll\"\n",
    "Output: 2\n",
    "Example 2:\n",
    "\n",
    "Input: haystack = \"aaaaa\", needle = \"bba\"\n",
    "Output: -1\n",
    "Clarification:\n",
    "\n",
    "What should we return when needle is an empty string? This is a great question to ask during an interview.\n",
    "\n",
    "For the purpose of this problem, we will return 0 when needle is an empty string. This is consistent to C's strstr() and Java's indexOf()."
   ]
  },
  {
   "cell_type": "code",
   "execution_count": 64,
   "metadata": {},
   "outputs": [],
   "source": [
    "def strStr(haystack, needle):\n",
    "    if not needle:\n",
    "            return 0\n",
    "    if len(needle) > len(haystack):\n",
    "        return -1\n",
    "    for i in range(len(haystack)+1-(len(needle))):\n",
    "        if haystack[i:i+len(needle)] == needle:\n",
    "            return i\n",
    "    return -1\n",
    "        \n",
    "   \n",
    "    \n",
    "    "
   ]
  },
  {
   "cell_type": "code",
   "execution_count": 65,
   "metadata": {},
   "outputs": [
    {
     "name": "stdout",
     "output_type": "stream",
     "text": [
      "abr\n",
      "bra\n",
      "rac\n",
      "aca\n",
      "cad\n",
      "ada\n",
      "dab\n",
      "abr\n",
      "bra\n"
     ]
    }
   ],
   "source": [
    "# strStr(\"b\", \"aa\") \n",
    "strStr(\"abracadabra\", \"bra\")"
   ]
  },
  {
   "cell_type": "code",
   "execution_count": 68,
   "metadata": {},
   "outputs": [
    {
     "name": "stdout",
     "output_type": "stream",
     "text": [
      "f\n",
      "e\n",
      "r\n",
      "n\n",
      "a\n",
      "n\n",
      "d\n",
      "a\n"
     ]
    },
    {
     "ename": "IndexError",
     "evalue": "string index out of range",
     "output_type": "error",
     "traceback": [
      "\u001b[0;31m---------------------------------------------------------------------------\u001b[0m",
      "\u001b[0;31mIndexError\u001b[0m                                Traceback (most recent call last)",
      "\u001b[0;32m<ipython-input-68-07c8ce64ec03>\u001b[0m in \u001b[0;36m<module>\u001b[0;34m()\u001b[0m\n\u001b[1;32m      1\u001b[0m \u001b[0;32mfor\u001b[0m \u001b[0mi\u001b[0m \u001b[0;32min\u001b[0m \u001b[0mrange\u001b[0m\u001b[0;34m(\u001b[0m\u001b[0mlen\u001b[0m\u001b[0;34m(\u001b[0m\u001b[0;34m'fernanda'\u001b[0m\u001b[0;34m)\u001b[0m\u001b[0;34m+\u001b[0m\u001b[0;36m1\u001b[0m\u001b[0;34m)\u001b[0m\u001b[0;34m:\u001b[0m\u001b[0;34m\u001b[0m\u001b[0m\n\u001b[0;32m----> 2\u001b[0;31m     \u001b[0mprint\u001b[0m\u001b[0;34m(\u001b[0m\u001b[0;34m'fernanda'\u001b[0m\u001b[0;34m[\u001b[0m\u001b[0mi\u001b[0m\u001b[0;34m]\u001b[0m\u001b[0;34m)\u001b[0m\u001b[0;34m\u001b[0m\u001b[0m\n\u001b[0m",
      "\u001b[0;31mIndexError\u001b[0m: string index out of range"
     ]
    }
   ],
   "source": [
    "for i in range(len('fernanda')+1):\n",
    "    print('fernanda'[i])"
   ]
  },
  {
   "cell_type": "code",
   "execution_count": null,
   "metadata": {},
   "outputs": [],
   "source": []
  },
  {
   "cell_type": "code",
   "execution_count": null,
   "metadata": {},
   "outputs": [],
   "source": []
  }
 ],
 "metadata": {
  "kernelspec": {
   "display_name": "Python 3",
   "language": "python",
   "name": "python3"
  },
  "language_info": {
   "codemirror_mode": {
    "name": "ipython",
    "version": 3
   },
   "file_extension": ".py",
   "mimetype": "text/x-python",
   "name": "python",
   "nbconvert_exporter": "python",
   "pygments_lexer": "ipython3",
   "version": "3.6.4"
  }
 },
 "nbformat": 4,
 "nbformat_minor": 2
}
