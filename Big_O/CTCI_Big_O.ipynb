{
 "cells": [
  {
   "cell_type": "markdown",
   "metadata": {},
   "source": [
    "# Big O\n",
    "\n",
    "\n",
    "* If your algorithm is in the form \"do this, then, when you're all done, do that\"then you add the runtimes.\n",
    "* If your algorithm is in the form \"do this for each time you do that\"then you multiply the runtimes\n",
    "* When you see a problem where the number of elements in the problem space gets halved each time, that will likely be a O(log N) runtime. \n",
    "\n",
    "## Quick sort\n",
    "\n",
    "* Best case: If all elements are equal\n",
    "* Worst case: The pivot is repeatedly the biggest element in the array\n",
    "\n",
    "\n",
    "| Algorithm     | Time Complexity (Best)| Time Complexity (Average)|Time Complexity(Worst)|Space Complexity|\n",
    "| ------------- |:---------------------:| ------------------------:|---------------------:|---------------:|\n",
    "| Quick Sort    | O(n)              | O(nlogn)                 |O(n²)                 | O(1)           |\n",
    "\n",
    "\n",
    "\n",
    "# Merge sort\n",
    "\n",
    "| Algorithm     | Time Complexity (Best)| Time Complexity (Average)|Time Complexity(Worst)|Space Complexity|\n",
    "| ------------- |:---------------------:| ------------------------:|---------------------:|---------------:|\n",
    "| Merge Sort    | O(nlogn)              | O(nlogn)                 |O(n)                  | O(n)           |\n",
    "\n",
    "# Comparison sort\n",
    "\n",
    "| Algorithm     | Time Complexity (Best)| Time Complexity (Average)|Time Complexity(Worst)|Space Complexity|\n",
    "| ------------- |:---------------------:| ------------------------:|---------------------:|---------------:|\n",
    "| Bubble Sort   | O(n)                  | O(n²)                    |O(n²)                 | O(1)           |\n",
    "| Insertion Sort| O(n)                  | O(n²)                    |O(n²)                 | O(1)           |      \n",
    "| Selection Sort| O(n²)                 | O(n²)                    |O(n²)                 | O(1)           |             \n",
    "\n",
    "\n",
    "## Recursive runtimes\n",
    "\n",
    "* Try to remember this pattern. When you have a recursive function that makes multiple calls, the runtime will often (but not always) look like O(branches^depth), where branches is the number of times each recursive call branches. In this case, this gives us O(2^N).\n",
    "\n",
    "\n",
    "\n",
    "\n",
    "\n",
    "\n",
    "\n",
    "\n",
    "\n",
    "\n"
   ]
  },
  {
   "cell_type": "markdown",
   "metadata": {},
   "source": [
    "# Space complexity\n",
    "\n",
    "* Time: O(n)\n",
    "* Space: O(n) (The calls exist simultanously) \n",
    "```\n",
    "int sum(int n) {/*Ex 1.*/\n",
    "    if (n <= 0) {\n",
    "        return 0;\n",
    "    return n + sum(n-1);\n",
    "}\n",
    "```\n",
    "* Time: O(n)\n",
    "* Space: O(1) (The calls do not exist simultanously) \n",
    "```\n",
    "int pairSumSequence(int n) {/* Ex 2.*/\n",
    "    int sum = 0;\n",
    "    for (inti= 0; i < n; i++) {\n",
    "        sum+= pairSum(i, i + 1);\n",
    "    }\n",
    "    return sum;\n",
    "}\n",
    "\n",
    "int pairSum(int a, int b) {\n",
    "    return a + b;\n",
    "}\n",
    "```\n",
    "\n",
    "\n",
    " "
   ]
  },
  {
   "cell_type": "markdown",
   "metadata": {},
   "source": [
    "## Examples\n",
    "\n",
    "* Example 8: page 49\n",
    "* Example 10: page 50\n",
    "* Example 12: page 51\n",
    "* Example 13: page 52\n",
    "* Example 15: page 53\n",
    "* Example 16: page 54\n",
    "\n",
    "Fibonacci O(2^n)"
   ]
  },
  {
   "cell_type": "markdown",
   "metadata": {},
   "source": [
    "# Additional problems\n",
    "\n",
    "\n",
    "6) O(n) \n",
    "\n",
    "9) O(n)\n",
    "\n",
    "10) O(d) -> O(log n)\n",
    "\n",
    "11) O(k*c^k)\n",
    "\n"
   ]
  },
  {
   "cell_type": "code",
   "execution_count": 11,
   "metadata": {},
   "outputs": [],
   "source": [
    "def sumDigits(num): \n",
    "    sum_d = 0\n",
    "    while num > 0:\n",
    "        sum_d += (num % 10)\n",
    "        num //= 10\n",
    "    return sum_d"
   ]
  },
  {
   "cell_type": "code",
   "execution_count": 15,
   "metadata": {},
   "outputs": [
    {
     "data": {
      "text/plain": [
       "26"
      ]
     },
     "execution_count": 15,
     "metadata": {},
     "output_type": "execute_result"
    }
   ],
   "source": [
    "sumDigits(24938)"
   ]
  },
  {
   "cell_type": "code",
   "execution_count": 16,
   "metadata": {},
   "outputs": [],
   "source": [
    "num = 1234\n"
   ]
  },
  {
   "cell_type": "code",
   "execution_count": 20,
   "metadata": {},
   "outputs": [
    {
     "data": {
      "text/plain": [
       "3"
      ]
     },
     "execution_count": 20,
     "metadata": {},
     "output_type": "execute_result"
    }
   ],
   "source": [
    "num%10"
   ]
  },
  {
   "cell_type": "code",
   "execution_count": 21,
   "metadata": {},
   "outputs": [],
   "source": [
    "num = num//10"
   ]
  },
  {
   "cell_type": "code",
   "execution_count": 22,
   "metadata": {},
   "outputs": [
    {
     "data": {
      "text/plain": [
       "12"
      ]
     },
     "execution_count": 22,
     "metadata": {},
     "output_type": "execute_result"
    }
   ],
   "source": [
    "num"
   ]
  },
  {
   "cell_type": "code",
   "execution_count": null,
   "metadata": {},
   "outputs": [],
   "source": []
  }
 ],
 "metadata": {
  "kernelspec": {
   "display_name": "Python 3",
   "language": "python",
   "name": "python3"
  },
  "language_info": {
   "codemirror_mode": {
    "name": "ipython",
    "version": 3
   },
   "file_extension": ".py",
   "mimetype": "text/x-python",
   "name": "python",
   "nbconvert_exporter": "python",
   "pygments_lexer": "ipython3",
   "version": "3.6.4"
  }
 },
 "nbformat": 4,
 "nbformat_minor": 2
}
