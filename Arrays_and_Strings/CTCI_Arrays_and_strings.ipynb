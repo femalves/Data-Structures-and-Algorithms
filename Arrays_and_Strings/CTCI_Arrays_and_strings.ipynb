{
 "cells": [
  {
   "cell_type": "markdown",
   "metadata": {},
   "source": [
    "1.1 Is Unique: Implement an algorithm to determine if a string has all unique characters. What if you cannot use additional data structures?\n",
    "Hints: #44, #117, #132"
   ]
  },
  {
   "cell_type": "markdown",
   "metadata": {},
   "source": [
    "* Is the string an ASCII string or Unicode? \n",
    "* On the book is assumed the character set is ASCII (128 character limit)\n",
    "* Extended ASCII has 256 character limit"
   ]
  },
  {
   "cell_type": "code",
   "execution_count": 173,
   "metadata": {},
   "outputs": [],
   "source": [
    "# O(n) time, O(n) space\n",
    "def unique(s): \n",
    "    s1 = set()\n",
    "    \n",
    "    for char in s: \n",
    "        s1.add(char)\n",
    "    return len(s1) == len(s)\n",
    "    \n",
    "    "
   ]
  },
  {
   "cell_type": "code",
   "execution_count": 174,
   "metadata": {},
   "outputs": [],
   "source": [
    "# Brute force O(n²) time, but constant space \n",
    "def unique(s):\n",
    "    for i in range(len(s)): \n",
    "        for char in s[i+1:]:\n",
    "            if char == s[i]: \n",
    "                return False\n",
    "    return True"
   ]
  },
  {
   "cell_type": "code",
   "execution_count": 175,
   "metadata": {},
   "outputs": [],
   "source": [
    "# O(n) time, O(n) space\n",
    "def unique(s): \n",
    "    s_dict = {}\n",
    "    for char in s: \n",
    "        if char not in s_dict: \n",
    "            s_dict[char] = 1\n",
    "        else: \n",
    "            return False\n",
    "    return True"
   ]
  },
  {
   "cell_type": "code",
   "execution_count": 176,
   "metadata": {},
   "outputs": [],
   "source": [
    "# O(n) time, O(n) space\n",
    "def unique(s): \n",
    "    s1 = sorted(s)\n",
    "    \n",
    "    for i in range(1, len(s1)): \n",
    "        if s1[i] == s1[i-1]: \n",
    "            return False\n",
    "    return True\n",
    "        "
   ]
  },
  {
   "cell_type": "code",
   "execution_count": 177,
   "metadata": {},
   "outputs": [
    {
     "data": {
      "text/plain": [
       "True"
      ]
     },
     "execution_count": 177,
     "metadata": {},
     "output_type": "execute_result"
    }
   ],
   "source": [
    "unique('a')"
   ]
  },
  {
   "cell_type": "code",
   "execution_count": 178,
   "metadata": {},
   "outputs": [],
   "source": [
    "# O(n) time, O(n) space\n",
    "def unique(s): \n",
    "    s1 = sorted(s)\n",
    "    \n",
    "    for i in range(1, len(s1)): \n",
    "        if s1[i] == s1[i-1]: \n",
    "            return False\n",
    "    return True"
   ]
  },
  {
   "cell_type": "code",
   "execution_count": 179,
   "metadata": {},
   "outputs": [],
   "source": [
    "# O(n) time, O(1) space\n",
    "def unique(s): \n",
    "    # 0, 128 for ASCII chars\n",
    "    # 97, 124 for lowercase chars\n",
    "    chars = {chr(i): False for i in range(128)}\n",
    "    for char in s: \n",
    "        if chars[char] == False: \n",
    "            chars[char] = True\n",
    "        else: \n",
    "            return False\n",
    "    return True"
   ]
  },
  {
   "cell_type": "code",
   "execution_count": 169,
   "metadata": {},
   "outputs": [
    {
     "data": {
      "text/plain": [
       "False"
      ]
     },
     "execution_count": 169,
     "metadata": {},
     "output_type": "execute_result"
    }
   ],
   "source": [
    "unique('banana')"
   ]
  },
  {
   "cell_type": "markdown",
   "metadata": {},
   "source": [
    "1.2 Check Permutation: Given two strings, write a method to decide if one is a permutation of the other\n",
    "Hints: #1, #84, #122, #131  "
   ]
  },
  {
   "cell_type": "markdown",
   "metadata": {},
   "source": [
    "* Case sensitive? (Ex: dog, God)\n",
    "* Whitespace?\n",
    "* Assumed that is case sensitive and whitespace is relevant"
   ]
  },
  {
   "cell_type": "code",
   "execution_count": 189,
   "metadata": {},
   "outputs": [],
   "source": [
    "# O(n + m) or if n=m O(n) time, O(n) space\n",
    "def permutation(s1, s2):\n",
    "    s_dict = {}\n",
    "    \n",
    "    for char in s1: \n",
    "        if char not in s_dict: \n",
    "            s_dict[char] = 1\n",
    "        else: \n",
    "            s_dict[char] += 1\n",
    "    \n",
    "    for char in s2: \n",
    "        if char not in s_dict: \n",
    "            return False\n",
    "        else: \n",
    "            s_dict[char] -= 1\n",
    "            if s_dict[char] < 0: \n",
    "                return False\n",
    "    return True"
   ]
  },
  {
   "cell_type": "code",
   "execution_count": 256,
   "metadata": {},
   "outputs": [
    {
     "data": {
      "text/plain": [
       "False"
      ]
     },
     "execution_count": 256,
     "metadata": {},
     "output_type": "execute_result"
    }
   ],
   "source": [
    "permutation('God','dog')"
   ]
  },
  {
   "cell_type": "code",
   "execution_count": 248,
   "metadata": {},
   "outputs": [],
   "source": [
    "# O(n) time if same length, O(1) space\n",
    "def permutation(s1, s2): \n",
    "    if len(s1) != len(s2): return False\n",
    "    s_dict = {chr(i): 0 for i in range(256)}\n",
    "    for char in s1: \n",
    "        s_dict[char] += 1\n",
    "    for char in s2: \n",
    "        s_dict[char] -= 1\n",
    "        if s_dict[char] < 0: \n",
    "            return False\n",
    "        \n",
    "    return True"
   ]
  },
  {
   "cell_type": "code",
   "execution_count": 259,
   "metadata": {},
   "outputs": [
    {
     "data": {
      "text/plain": [
       "False"
      ]
     },
     "execution_count": 259,
     "metadata": {},
     "output_type": "execute_result"
    }
   ],
   "source": [
    "permutation('dog    ','God')"
   ]
  },
  {
   "cell_type": "code",
   "execution_count": 253,
   "metadata": {},
   "outputs": [],
   "source": [
    "# O(nlogn)+O(mlogm) time, O(1) space\n",
    "def permutation(s1, s2): \n",
    "    return sorted(s1) == sorted(s2)"
   ]
  },
  {
   "cell_type": "code",
   "execution_count": 252,
   "metadata": {},
   "outputs": [
    {
     "data": {
      "text/plain": [
       "True"
      ]
     },
     "execution_count": 252,
     "metadata": {},
     "output_type": "execute_result"
    }
   ],
   "source": [
    "permutation('abcde','abedc')"
   ]
  },
  {
   "cell_type": "markdown",
   "metadata": {},
   "source": [
    "1.3 URLify: Write a method to replace all spaces in a string with '%20'. You may assume that the string has sufficient space at the end to hold the additional characters,and that you are given the \"true\" length of the string. (Note: If implementing in Java,please use a character array so that you can perform this operation in place.)\n",
    "EXAMPLE\n",
    "Input: \"Mr John Smith \", 13 Output: \"Mr%20John%20Smith\" Hints: #53, #118"
   ]
  },
  {
   "cell_type": "code",
   "execution_count": 272,
   "metadata": {},
   "outputs": [],
   "source": [
    "def urlify(s):\n",
    "    s1 = s.strip().split()\n",
    "    if not s1: return \"\"\n",
    "    out = '' + s1[0]\n",
    "    for word in s1[1:]: \n",
    "        out += '%20' + word\n",
    "    return out\n",
    "    "
   ]
  },
  {
   "cell_type": "code",
   "execution_count": 274,
   "metadata": {},
   "outputs": [
    {
     "data": {
      "text/plain": [
       "''"
      ]
     },
     "execution_count": 274,
     "metadata": {},
     "output_type": "execute_result"
    }
   ],
   "source": [
    "urlify(\"\")"
   ]
  },
  {
   "cell_type": "code",
   "execution_count": 287,
   "metadata": {},
   "outputs": [],
   "source": [
    "# O(n) time and O(n) space \n",
    "def urlify(s): \n",
    "    s = list(s)\n",
    "    while s[0] == ' ' or s[len(s)-1] == ' ': \n",
    "        if s[0] == ' ': \n",
    "            s.pop(0)\n",
    "        if s[len(s)-1] == ' ': \n",
    "            s.pop()\n",
    "    for i in range(len(s)): \n",
    "        if s[i] == ' ': \n",
    "            s[i] = '%20'\n",
    "    return ''.join(s)"
   ]
  },
  {
   "cell_type": "code",
   "execution_count": 288,
   "metadata": {},
   "outputs": [
    {
     "data": {
      "text/plain": [
       "'Mr%20John%20Smith'"
      ]
     },
     "execution_count": 288,
     "metadata": {},
     "output_type": "execute_result"
    }
   ],
   "source": [
    "urlify(\"     Mr John Smith    \")"
   ]
  },
  {
   "cell_type": "markdown",
   "metadata": {},
   "source": [
    "1.4 Palindrome Permutation: Given a string, write a function to check if it is a permutation of a palindrome. A palindrome is a word or phrase that is the same forwards and backwards. A permutation is a rearrangement of letters. The palindrome does not need to be limited to just dictionary words.\n",
    "EXAMPLE\n",
    "Input: Tact Coa\n",
    "Output: True (permutations: \"taco cat\", \"atco eta\", etc.) Hints:#106,#121,#134,#136"
   ]
  },
  {
   "cell_type": "code",
   "execution_count": 385,
   "metadata": {},
   "outputs": [],
   "source": [
    "# Leetcode 266\n",
    "# O(n) time and O(1) space\n",
    "def palindrome_perm(s): \n",
    "    \n",
    "    s = s.replace(\" \", \"\").lower()\n",
    "    counter = 0\n",
    "    \n",
    "    p_dict = {chr(i): 0 for i in range(97,124)}\n",
    "    \n",
    "    for char in s: \n",
    "        p_dict[char] += 1   \n",
    "    \n",
    "    for val in p_dict.values(): \n",
    "        if val % 2 != 0: \n",
    "            counter += 1\n",
    "    \n",
    "    return counter <= 1\n",
    "    "
   ]
  },
  {
   "cell_type": "code",
   "execution_count": 386,
   "metadata": {},
   "outputs": [
    {
     "data": {
      "text/plain": [
       "True"
      ]
     },
     "execution_count": 386,
     "metadata": {},
     "output_type": "execute_result"
    }
   ],
   "source": [
    "palindrome_perm(\"tactcoapapa\")"
   ]
  },
  {
   "cell_type": "markdown",
   "metadata": {},
   "source": [
    "1.5 One Away: There are three types of edits that can be performed on strings: insert a character, remove a character, or replace a character. Given two strings, write a function to check if they are one edit (or zero edits) away.\n",
    "EXAMPLE\n",
    "pale, ple -> true pales, pale -> true pale, bale -> true pale, bake -> false Hints:#23, #97, #130"
   ]
  },
  {
   "cell_type": "code",
   "execution_count": 586,
   "metadata": {},
   "outputs": [],
   "source": [
    "def one_way(s1, s2): \n",
    "    if len(s1) < len(s2): \n",
    "        s1, s2 = s2,s1\n",
    "    \n",
    "    i = j = counter = 0\n",
    "    \n",
    "    if len(s1) == len(s2): \n",
    "        for i in range(len(s1)): \n",
    "            if s1[i] != s2[i]: \n",
    "                counter += 1\n",
    "                if counter > 1: return False\n",
    "    else:\n",
    "        while j < len(s2) or i < len(s1):\n",
    "            while j < len(s2) and s1[i] == s2[j]: \n",
    "                i += 1\n",
    "                j += 1 \n",
    "            if (j < len(s2) and s1[i] != s2[j]) or (j >= len(s2) and i < len(s1)):\n",
    "                i += 1\n",
    "                counter += 1\n",
    "                if counter > 1: return False\n",
    "            \n",
    "    return counter <= 1\n",
    "                \n",
    "            \n",
    "    "
   ]
  },
  {
   "cell_type": "code",
   "execution_count": 590,
   "metadata": {},
   "outputs": [
    {
     "data": {
      "text/plain": [
       "True"
      ]
     },
     "execution_count": 590,
     "metadata": {},
     "output_type": "execute_result"
    }
   ],
   "source": [
    "# \"pale\", \"bake\"\n",
    "# \"ple\", \"pale\"\n",
    "one_way(\"bale\", \"pale\")"
   ]
  },
  {
   "cell_type": "markdown",
   "metadata": {},
   "source": [
    "Leetcode 443\n",
    "\n",
    "\n",
    "1.6 String Compression: Implement a method to perform basic string compression using the counts of repeated characters. \n",
    "For example, the string aabcccccaaa would become a2blc5a3. If the \"compressed\" string would not become smaller than the original string, your method should return\n",
    "the original string. You can assume the string has only uppercase and lowercase letters (a - z).\n",
    "Hints:#92, #110"
   ]
  },
  {
   "cell_type": "code",
   "execution_count": 601,
   "metadata": {},
   "outputs": [],
   "source": [
    "# O(n) time\n",
    "\n",
    "def s_compression(s): \n",
    "#     'aabcccccaaa'\n",
    "    if not s: return s\n",
    "    out = []\n",
    "    counter = 0\n",
    "    for i in range(len(s)): \n",
    "        if i-1 >= 0 and s[i-1] != s[i]:   \n",
    "            out.append(s[i-1] + str(counter))\n",
    "            counter = 1\n",
    "        else: \n",
    "            counter += 1\n",
    "    out.append(s[i-1] + str(counter))\n",
    "    out = ''.join(out)\n",
    "    return out if len(out) <= len(s) else s\n",
    "        "
   ]
  },
  {
   "cell_type": "code",
   "execution_count": 602,
   "metadata": {},
   "outputs": [
    {
     "data": {
      "text/plain": [
       "'a4u3f1i1o2'"
      ]
     },
     "execution_count": 602,
     "metadata": {},
     "output_type": "execute_result"
    }
   ],
   "source": [
    "s_compression('aaaauuufioo')"
   ]
  },
  {
   "cell_type": "markdown",
   "metadata": {},
   "source": [
    "# 443. String Compression\n",
    "\n",
    "Given an array of characters, compress it in-place.\n",
    "\n",
    "The length after compression must always be smaller than or equal to the original array.\n",
    "\n",
    "Every element of the array should be a character (not int) of length 1.\n",
    "\n",
    "After you are done modifying the input array in-place, return the new length of the array.\n",
    "\n",
    " \n",
    "Follow up:\n",
    "Could you solve it using only O(1) extra space?\n",
    "\n",
    " \n",
    "Example 1:\n",
    "\n",
    "Input:\n",
    "[\"a\",\"a\",\"b\",\"b\",\"c\",\"c\",\"c\"]\n",
    "\n",
    "Output:\n",
    "Return 6, and the first 6 characters of the input array should be: [\"a\",\"2\",\"b\",\"2\",\"c\",\"3\"]\n",
    "\n",
    "Explanation:\n",
    "\"aa\" is replaced by \"a2\". \"bb\" is replaced by \"b2\". \"ccc\" is replaced by \"c3\".\n",
    " \n",
    "\n",
    "Example 2:\n",
    "\n",
    "Input:\n",
    "[\"a\"]\n",
    "\n",
    "Output:\n",
    "Return 1, and the first 1 characters of the input array should be: [\"a\"]\n",
    "\n",
    "Explanation:\n",
    "Nothing is replaced.\n",
    " \n",
    "\n",
    "Example 3:\n",
    "\n",
    "Input:\n",
    "[\"a\",\"b\",\"b\",\"b\",\"b\",\"b\",\"b\",\"b\",\"b\",\"b\",\"b\",\"b\",\"b\"]\n",
    "\n",
    "Output:\n",
    "Return 4, and the first 4 characters of the input array should be: [\"a\",\"b\",\"1\",\"2\"].\n",
    "\n",
    "Explanation:\n",
    "Since the character \"a\" does not repeat, it is not compressed. \"bbbbbbbbbbbb\" is replaced by \"b12\".\n",
    "Notice each digit has it's own entry in the array.\n",
    " \n",
    "\n",
    "Note:\n",
    "\n",
    "All characters have an ASCII value in [35, 126].\n",
    "1 <= len(chars) <= 1000.\n",
    "\n",
    " \n",
    "    \n",
    "        "
   ]
  },
  {
   "cell_type": "code",
   "execution_count": 845,
   "metadata": {},
   "outputs": [],
   "source": [
    "\n",
    "def compress(chars):\n",
    "    counter = 1\n",
    "    for i in range(len(chars)-1, -1, -1): \n",
    "        if i - 1 >= 0 and chars[i-1] == chars[i]: \n",
    "            counter += 1\n",
    "            chars.pop(i)\n",
    "        else: \n",
    "            if counter > 1 and counter <= 9: \n",
    "                chars.insert(i+1, str(counter))\n",
    "            elif counter > 9: \n",
    "                 for digit in str(counter)[::-1]: \n",
    "                    chars.insert(i+1, digit)\n",
    "            counter = 1\n",
    "    return len(chars)\n",
    "\n",
    "        \n",
    "    "
   ]
  },
  {
   "cell_type": "code",
   "execution_count": 846,
   "metadata": {},
   "outputs": [
    {
     "data": {
      "text/plain": [
       "6"
      ]
     },
     "execution_count": 846,
     "metadata": {},
     "output_type": "execute_result"
    }
   ],
   "source": [
    "compress([\"a\",\"a\",\"b\",\"b\",\"c\",\"c\",\"c\"])"
   ]
  },
  {
   "cell_type": "code",
   "execution_count": 803,
   "metadata": {},
   "outputs": [
    {
     "name": "stdout",
     "output_type": "stream",
     "text": [
      "['a']\n"
     ]
    }
   ],
   "source": [
    "[\"a\",\"a\",\"b\",\"b\",\"c\",\"c\",\"c\"]\n",
    "[\"a\"]\n",
    "[\"a\",\"b\",\"b\",\"b\",\"b\",\"b\",\"b\",\"b\",\"b\",\"b\",\"b\",\"b\",\"b\"]\n",
    "[\"a\",\"a\",\"a\",\"b\",\"b\",\"a\",\"a\"]\n",
    "[\"n\",\"n\",\"y\",\"y\",\"j\",\"y\",\"y\",\"n\",\"n\",\"n\",\"n\",\"?\",\"y\",\"y\",\"y\",\"y\",\"y\",\"y\",\"y\",\"y\",\"y\",\"y\",\"y\",\"q\",\"q\",\"g\",\"g\",\"g\"]\n",
    "[\"a\",\"a\",\"b\",\"b\",\"c\",\"c\",\"c\"]\n",
    "\n"
   ]
  },
  {
   "cell_type": "markdown",
   "metadata": {},
   "source": [
    "Leetcode 48 \n",
    "\n",
    "\n",
    "1.7 Rotate Matrix: Given an image represented by an NxN matrix, where each pixel in the image is 4 bytes, write a method to rotate the image by 90 degrees. Can you do this in place?\n",
    "Hints:#51, #100"
   ]
  },
  {
   "cell_type": "code",
   "execution_count": 888,
   "metadata": {},
   "outputs": [],
   "source": [
    "def rotate(matrix):\n",
    "    matrix.reverse()\n",
    "    for i in range(len(matrix)-1): \n",
    "        for j in range(len(matrix[i])): \n",
    "            if j > i: \n",
    "                matrix[i][j], matrix[j][i] = matrix[j][i], matrix[i][j]\n",
    "    return matrix\n",
    "        "
   ]
  },
  {
   "cell_type": "code",
   "execution_count": 126,
   "metadata": {},
   "outputs": [],
   "source": [
    "matrix = [\n",
    "    [1,2,3],\n",
    "    [4,0,6],\n",
    "    [7,8,9]\n",
    "]\n",
    "\n",
    "#rotate(matrix)"
   ]
  },
  {
   "cell_type": "code",
   "execution_count": null,
   "metadata": {},
   "outputs": [],
   "source": [
    "1.8 Zero Matrix: Write an algorithm such that if an element in an MxN matrix is 0, its entire row and column are set to 0.\n",
    "Hints:#17, #74, #702"
   ]
  },
  {
   "cell_type": "code",
   "execution_count": 127,
   "metadata": {},
   "outputs": [],
   "source": [
    "def zero_matrix(matrix): \n",
    "    has_zero = not all(matrix[0])\n",
    "    for i in range(1,len(matrix)):\n",
    "        for j in range(len(matrix[0])):\n",
    "            if matrix[i][j] == 0:\n",
    "                matrix[0][j] = 0\n",
    "                matrix[i][0] = 0\n",
    "\n",
    "    for i in range(1,len(matrix)):\n",
    "        for j in range(len(matrix[0])-1,-1,-1):\n",
    "            if matrix[0][j] == 0 or matrix[i][0] == 0:\n",
    "                matrix[i][j] = 0\n",
    "\n",
    "    if has_zero:\n",
    "        matrix[0] = [0]*len(matrix[0])"
   ]
  },
  {
   "cell_type": "code",
   "execution_count": 128,
   "metadata": {},
   "outputs": [
    {
     "data": {
      "text/plain": [
       "[[1, 0, 3], [0, 0, 0], [7, 0, 9]]"
      ]
     },
     "execution_count": 128,
     "metadata": {},
     "output_type": "execute_result"
    }
   ],
   "source": [
    "zero_matrix(matrix)"
   ]
  },
  {
   "cell_type": "code",
   "execution_count": 103,
   "metadata": {},
   "outputs": [
    {
     "data": {
      "text/plain": [
       "[[0, 0, 3], [0, 0, 6], [0, 0, 9]]"
      ]
     },
     "execution_count": 103,
     "metadata": {},
     "output_type": "execute_result"
    }
   ],
   "source": [
    "matrix"
   ]
  },
  {
   "cell_type": "markdown",
   "metadata": {},
   "source": [
    "1.9 String Rotation: Assume you have a method isSubstringwhich checks if one word is a substring of another. Given two strings, sl and s2, write code to check if s2 is a rotation of sl using only one call to isSubstring (e.g.,\"waterbottle\" is a rotation of\"erbottlewat\").\n",
    "Hints: #34,#88, #704"
   ]
  },
  {
   "cell_type": "code",
   "execution_count": 387,
   "metadata": {},
   "outputs": [],
   "source": [
    "def isSubstringwhich(s1, s2): \n",
    "    return isSubstring(s1, s2)\n",
    "\n",
    "# O(n) time, O(1) space\n",
    "def isSubstring(s1, s2): \n",
    "    if len(s1) == 0: \n",
    "        return True\n",
    "    for i in range(len(s2)): \n",
    "        if s1[0] == s2[i]: \n",
    "            if s2[i:]+s2[:i] == s1: \n",
    "                return True\n",
    "    return False\n",
    "            \n",
    "    \n",
    "    "
   ]
  },
  {
   "cell_type": "code",
   "execution_count": 391,
   "metadata": {},
   "outputs": [
    {
     "data": {
      "text/plain": [
       "True"
      ]
     },
     "execution_count": 391,
     "metadata": {},
     "output_type": "execute_result"
    }
   ],
   "source": [
    "isSubstringwhich(\"waterbottle\", \"erbottlewat\")"
   ]
  },
  {
   "cell_type": "raw",
   "metadata": {},
   "source": [
    "output = [\"N\",\"$\",\"3\",\"s\",\"k\",\"3\",\"b\",\"F\",\"4\",\"w\",\".\",\"^\",\"f\",\"2\",\"B\",\"3\",\"]\",\"V\",\"3\",\"h\",\"2\",\"|\",\"B\",\"3\",\"F\",\"3\",\"2\",\"G\",\"2\",\"=\",\"b\",\"5\",\"-\",\"'\",\"n\",\"2\",\"y\",\"1\",\"1\",\"j\",\"G\",\";\",\"D\",\"2\",\"p\",\"6\",\"5\",\"2\",\"=\",\"2\",\";\",\"2\",\"P\",\"2\",\"*\",\"3\",\"1\",\"2\",\"g\",\"W\",\"K\",\">\",\"2\",\"+\",\"e\",\"2\",\"#\",\"3\",\"A\",\"3\",\"J\",\"2\",\"U\",\"7\",\"2\",\"=\",\"3\",\"X\",\".\",\"8\",\"f\",\">\",\"4\",\"S\",\"4\",\"X\",\"4\",\"y\",\"1\",\"1\",\"T\",\"^\",\"7\",\">\",\"n\",\"4\",\";\",\"2\",\"2\",\"r\",\"4\",\"c\",\"2\",\":\",\"=\",\"2\",\"`\",\"|\",\"f\",\"4\",\"(\",\"Z\",\"?\",\"y\",\"1\",\"1\",\"q\",\"2\",\"g\",\"3\",\"j\",\"N\",\"{\",\"y\",\"4\",\"e\",\"5\",\"$\",\"[\",\"3\",\"E\",\"4\",\"T\",\"2\",\"X\",\"3\",\"+\",\"$\",\"3\",\"m\",\"5\",\"b\",\"T\",\"v\",\"4\",\"G\",\"A\",\"3\",\"'\",\"3\",\"B\",\"2\",\"|\",\"2\",\"~\",\"{\",\"2\",\"'\",\"2\",\"g\",\"3\",\"X\",\"2\",\"V\",\"7\",\"i\",\"4\",\"b\",\":\",\"z\",\"v\",\"Z\",\"J\",\"_\",\"1\",\"2\",\"9\",\"O\",\"2\",\".\",\"}\",\"e\",\"3\",\"4\",\"Z\",\"v\",\"2\",\"E\",\"J\",\"R\",\"2\",\"]\",\"5\",\"J\",\"0\",\"4\",\"w\",\"I\",\"2\",\"n\",\"Y\",\"4\",\"x\",\"2\",\"[\",\">\",\"2\",\"<\",\"4\",\"r\",\"i\",\"l\",\"~\",\"r\",\"3\",\"0\",\"3\",\"#\"]\n",
    "\n",
    "expected = \n",
    "[\"N\",\"$\",\"3\",\"s\",\"k\",\"3\",\"b\",\"F\",\"4\",\"w\",\".\",\"^\",\"f\",\"2\",\"B\",\"3\",\"]\",\"V\",\"3\",\"h\",\"2\",\"|\",\"B\",\"3\",\"F\",\"3\",\"2\",\"G\",\"2\",\"=\",\"b\",\"5\",\"-\",\"'\",\"n\",\"2\",\"y\",\"2\",\"j\",\"G\",\";\",\"D\",\"2\",\"p\",\"6\",\"5\",\"2\",\"=\",\"2\",\";\",\"2\",\"P\",\"2\",\"*\",\"3\",\"1\",\"2\",\"g\",\"W\",\"K\",\">\",\n",
    "\"2\",\"+\",\"e\",\"2\",\"#\",\"3\",\"A\",\"3\",\"J\",\"2\",\"U\",\"7\",\"2\",\"=\",\"3\",\"X\",\".\",\"8\",\"f\",\">\",\"4\",\"S\",\"4\",\"X\",\"4\",\"y\",\"2\",\"T\",\"^\",\"7\",\">\",\"n\",\"4\",\";\",\"2\",\"2\",\"r\",\"4\",\"c\",\"2\",\":\",\"=\",\"2\",\"`\",\"|\",\"f\",\"4\",\"(\",\"Z\",\"?\",\"y\",\"1\",\"1\",\"q\",\"2\",\"g\",\"3\",\"j\",\"N\",\"{\",\"y\",\"4\",\"e\",\"5\",\"$\",\"[\",\"3\",\"E\",\"4\",\"T\",\"2\",\"X\",\"3\",\"+\",\"$\",\"3\",\"m\",\"5\",\"b\",\"T\",\"v\",\"4\",\"G\",\"A\",\"3\",\"'\",\"3\",\"B\",\"2\",\"|\",\"2\",\"~\",\"{\",\"2\",\"'\",\"2\",\"g\",\"3\",\"X\",\"2\",\"V\",\"7\",\"i\",\"4\",\"b\",\":\",\"z\",\"v\",\"Z\",\"J\",\"_\",\"1\",\"2\",\"9\",\"O\",\"2\",\".\",\"}\",\"e\",\"3\",\"4\",\"Z\",\"v\",\"2\",\"E\",\"J\",\"R\",\"2\",\"]\",\"5\",\"J\",\"0\",\"4\",\"w\",\"I\",\"2\",\"n\",\"Y\",\"4\",\"x\",\"2\",\"[\",\">\",\"2\",\"<\",\"4\",\"r\",\"i\",\"l\",\"~\",\"r\",\"3\",\"0\",\"3\",\"#\"]"
   ]
  },
  {
   "cell_type": "code",
   "execution_count": 144,
   "metadata": {},
   "outputs": [],
   "source": [
    " s = [0, 2, 3]"
   ]
  },
  {
   "cell_type": "code",
   "execution_count": 146,
   "metadata": {},
   "outputs": [
    {
     "data": {
      "text/plain": [
       "True"
      ]
     },
     "execution_count": 146,
     "metadata": {},
     "output_type": "execute_result"
    }
   ],
   "source": [
    "not all(s)"
   ]
  },
  {
   "cell_type": "code",
   "execution_count": 155,
   "metadata": {},
   "outputs": [],
   "source": [
    "def reverse(s):\n",
    "    \n",
    "    new_s = list(s)\n",
    "    i = 0\n",
    "    j = len(s)-1\n",
    "    while i < j: \n",
    "        new_s[i], new_s[j] = new_s[j], new_s[i]\n",
    "        i += 1\n",
    "        j -= 1\n",
    "    return ''.join(new_s)"
   ]
  },
  {
   "cell_type": "code",
   "execution_count": 156,
   "metadata": {},
   "outputs": [
    {
     "data": {
      "text/plain": [
       "'bnbria'"
      ]
     },
     "execution_count": 156,
     "metadata": {},
     "output_type": "execute_result"
    }
   ],
   "source": [
    "reverse('airbnb')"
   ]
  },
  {
   "cell_type": "code",
   "execution_count": null,
   "metadata": {},
   "outputs": [],
   "source": []
  }
 ],
 "metadata": {
  "kernelspec": {
   "display_name": "Python 3",
   "language": "python",
   "name": "python3"
  },
  "language_info": {
   "codemirror_mode": {
    "name": "ipython",
    "version": 3
   },
   "file_extension": ".py",
   "mimetype": "text/x-python",
   "name": "python",
   "nbconvert_exporter": "python",
   "pygments_lexer": "ipython3",
   "version": "3.6.4"
  }
 },
 "nbformat": 4,
 "nbformat_minor": 2
}
