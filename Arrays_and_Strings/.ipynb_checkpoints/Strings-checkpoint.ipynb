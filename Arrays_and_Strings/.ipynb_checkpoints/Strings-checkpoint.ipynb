{
 "cells": [
  {
   "cell_type": "markdown",
   "metadata": {},
   "source": [
    "# --------------------------------------------------------------------------------------------\n",
    "\n",
    "# Sentence Reversal\n",
    "\n",
    "Problem\n",
    "Given a string of words, reverse all the words. For example:\n",
    "\n",
    "Given:\n",
    "\n",
    "'This is the best'\n",
    "\n",
    "Return:\n",
    "\n",
    "'best the is This'\n",
    "\n",
    "As part of this exercise you should remove all leading and trailing whitespace. So that inputs such as:\n",
    "\n",
    "'  space here'  and 'space here      '\n",
    "\n",
    "both become:\n",
    "\n",
    "'here space'"
   ]
  },
  {
   "cell_type": "code",
   "execution_count": 1,
   "metadata": {},
   "outputs": [],
   "source": [
    "def rev_word(s):\n",
    "    new_s = s.strip().split()[::-1]\n",
    "    print(' '.join(new_s))"
   ]
  },
  {
   "cell_type": "code",
   "execution_count": 2,
   "metadata": {},
   "outputs": [
    {
     "name": "stdout",
     "output_type": "stream",
     "text": [
      "best the is This\n",
      "here Space\n"
     ]
    }
   ],
   "source": [
    "rev_word('This is the best')\n",
    "rev_word(' Space here')"
   ]
  },
  {
   "cell_type": "code",
   "execution_count": 3,
   "metadata": {},
   "outputs": [],
   "source": [
    "def rev_word(s): \n",
    "    new_s = s.strip().split()\n",
    "    result = new_s[-1]\n",
    "    for word in new_s[-2::-1]:\n",
    "        result = result + \" \" + word \n",
    "    return result"
   ]
  },
  {
   "cell_type": "code",
   "execution_count": 4,
   "metadata": {},
   "outputs": [
    {
     "data": {
      "text/plain": [
       "'best the is This'"
      ]
     },
     "execution_count": 4,
     "metadata": {},
     "output_type": "execute_result"
    }
   ],
   "source": [
    "rev_word('This is the best')"
   ]
  },
  {
   "cell_type": "code",
   "execution_count": 5,
   "metadata": {},
   "outputs": [
    {
     "name": "stdout",
     "output_type": "stream",
     "text": [
      "ALL TEST CASES PASSED\n"
     ]
    }
   ],
   "source": [
    "\"\"\"\n",
    "RUN THIS CELL TO TEST YOUR SOLUTION\n",
    "\"\"\"\n",
    "\n",
    "from nose.tools import assert_equal\n",
    "\n",
    "class ReversalTest(object):\n",
    "    \n",
    "    def test(self,sol):\n",
    "        assert_equal(sol('    space before'),'before space')\n",
    "        assert_equal(sol('space after     '),'after space')\n",
    "        assert_equal(sol('   Hello John    how are you   '),'you are how John Hello')\n",
    "        assert_equal(sol('1'),'1')\n",
    "        print (\"ALL TEST CASES PASSED\")\n",
    "        \n",
    "# Run and test\n",
    "t = ReversalTest()\n",
    "t.test(rev_word)"
   ]
  },
  {
   "cell_type": "markdown",
   "metadata": {},
   "source": [
    "# --------------------------------------------------------------------------------------------# String compression 443: Solution\n",
    "\n",
    "Given an array of characters, compress it in-place.\n",
    "\n",
    "The length after compression must always be smaller than or equal to the original array.\n",
    "\n",
    "Every element of the array should be a character (not int) of length 1.\n",
    "\n",
    "After you are done modifying the input array in-place, return the new length of the array.\n",
    "\n",
    "\n",
    "Follow up:\n",
    "Could you solve it using only O(1) extra space?\n",
    "\n",
    "\n",
    "Example 1:\n",
    "Input:\n",
    "[\"a\",\"a\",\"b\",\"b\",\"c\",\"c\",\"c\"]\n",
    "\n",
    "Output:\n",
    "Return 6, and the first 6 characters of the input array should be: [\"a\",\"2\",\"b\",\"2\",\"c\",\"3\"]\n",
    "\n",
    "Explanation:\n",
    "\"aa\" is replaced by \"a2\". \"bb\" is replaced by \"b2\". \"ccc\" is replaced by \"c3\".\n",
    "Example 2:\n",
    "Input:\n",
    "[\"a\"]\n",
    "\n",
    "Output:\n",
    "Return 1, and the first 1 characters of the input array should be: [\"a\"]\n",
    "\n",
    "Explanation:\n",
    "Nothing is replaced.\n",
    "Example 3:\n",
    "Input:\n",
    "[\"a\",\"b\",\"b\",\"b\",\"b\",\"b\",\"b\",\"b\",\"b\",\"b\",\"b\",\"b\",\"b\"]\n",
    "\n",
    "Output:\n",
    "Return 4, and the first 4 characters of the input array should be: [\"a\",\"b\",\"1\",\"2\"].\n",
    "\n",
    "Explanation:\n",
    "Since the character \"a\" does not repeat, it is not compressed. \"bbbbbbbbbbbb\" is replaced by \"b12\".\n",
    "Notice each digit has it's own entry in the array.\n",
    "Note:\n",
    "All characters have an ASCII value in [35, 126].\n",
    "1 <= len(chars) <= 1000."
   ]
  },
  {
   "cell_type": "code",
   "execution_count": 212,
   "metadata": {},
   "outputs": [],
   "source": [
    "#Not in-place\n",
    "def string_compression(chars):\n",
    "    \n",
    "    if len(chars) == 0: return 0\n",
    "    if len(chars) == 1: return chars\n",
    "    \n",
    "    counter = 1\n",
    "    i = 1\n",
    "    r = ''\n",
    "    \n",
    "    while i < len(chars):\n",
    "        if chars[i] == chars[i-1]:\n",
    "            counter +=1\n",
    "        else:\n",
    "            if counter > 1:\n",
    "                r = r + chars[i-1] + str(counter)\n",
    "            else:\n",
    "                r = r + chars[i-1]\n",
    "            counter = 1\n",
    "        i += 1\n",
    "    if counter > 1:\n",
    "        r = r + chars[i-1] + str(counter)\n",
    "    else:\n",
    "        r = r + chars[i-1]\n",
    "   \n",
    "    \n",
    "    while len(chars) != 0:\n",
    "        chars.pop()\n",
    "        \n",
    "    for element in r:\n",
    "        chars.append(element)\n",
    "    print(chars)\n",
    "    \n",
    "   "
   ]
  },
  {
   "cell_type": "code",
   "execution_count": 213,
   "metadata": {},
   "outputs": [
    {
     "name": "stdout",
     "output_type": "stream",
     "text": [
      "ab2c4\n",
      "['a', 'b', '2', 'c', '4']\n"
     ]
    }
   ],
   "source": [
    "# string_compression([\"a\",\"a\",\"b\",\"b\",\"c\",\"c\", \"c\", \"c\", \"d\"])\n",
    "# string_compression([\"b\",\"b\",\"b\",\"b\",\"b\",\"b\",\"b\",\"b\",\"b\",\"b\",\"b\",\"b\", \"b\", \"c\", \"c\", \"d\", \"d\", \"d\", \"a\"])\n",
    "# string_compression([\"a\"])\n",
    "string_compression([\"a\",\"b\",\"b\",\"c\",\"c\",\"c\", \"c\"])\n",
    "\n",
    "# string_compression(['a'])"
   ]
  },
  {
   "cell_type": "code",
   "execution_count": 209,
   "metadata": {},
   "outputs": [],
   "source": [
    "#     for c in set(s):\n",
    "#         if s.count(c) > 1:\n",
    "#             s.insert(s.index(c)+s.count(c), str(s.count(c)))"
   ]
  },
  {
   "cell_type": "code",
   "execution_count": 10,
   "metadata": {},
   "outputs": [],
   "source": [
    "def compress(chars):\n",
    "# leetcode solutions\n",
    "# p1 = slow pointer\n",
    "# p2 = fast pointer\n",
    "# counter\n",
    "\n",
    "# mc for printing duplicate counter\n",
    "        \"\"\"\n",
    "        :type chars: List[str]\n",
    "        :rtype: int\n",
    "        \"\"\"\n",
    "        length = len(chars)\n",
    "        \n",
    "        if length < 2:\n",
    "            return 1\n",
    "        \n",
    "        p2 = 1\n",
    "        p1 = 0\n",
    "        \n",
    "        count = 1\n",
    "    \n",
    "        while p2 < length:\n",
    "            mc = 1\n",
    "            \n",
    "            while p2 < length and chars[p1] == chars[p2]:\n",
    "                p2 += 1\n",
    "                mc += 1\n",
    "            \n",
    "            if mc > 1:\n",
    "                string = str(mc)\n",
    "                \n",
    "                for i in string:\n",
    "                    count += 1\n",
    "                    p1 += 1\n",
    "                    chars[p1] = i\n",
    "                    \n",
    "            p1 += 1\n",
    "            if p2 < length:\n",
    "                chars[p1] = chars[p2]\n",
    "                count += 1\n",
    "            p2 += 1\n",
    "        print(chars)\n",
    "        return count"
   ]
  },
  {
   "cell_type": "code",
   "execution_count": 11,
   "metadata": {},
   "outputs": [
    {
     "name": "stdout",
     "output_type": "stream",
     "text": [
      "['a', '2', 'b', '2', 'c', '3', 'c']\n"
     ]
    },
    {
     "data": {
      "text/plain": [
       "6"
      ]
     },
     "execution_count": 11,
     "metadata": {},
     "output_type": "execute_result"
    }
   ],
   "source": [
    "# string_compression([\"a\",\"a\",\"b\",\"b\",\"c\",\"c\", \"c\", \"c\", \"d\"])\n",
    "# string_compression([\"b\",\"b\",\"b\",\"b\",\"b\",\"b\",\"b\",\"b\",\"b\",\"b\",\"b\",\"b\", \"b\", \"c\", \"c\", \"d\", \"d\", \"d\", \"a\"])\n",
    "# string_compression([\"a\"])\n",
    "compress([\"a\",\"a\",\"b\",\"b\",\"c\",\"c\",\"c\"])"
   ]
  },
  {
   "cell_type": "markdown",
   "metadata": {},
   "source": [
    "# --------------------------------------------------------------------------------------------\n",
    "# First Unique Character in a String 387: Solutions\n",
    "\n",
    "Given a string, find the first non-repeating character in it and return it's index. If it doesn't exist, return -1.\n",
    "\n",
    "Examples:\n",
    "\n",
    "s = \"leetcode\"\n",
    "return 0.\n",
    "\n",
    "s = \"loveleetcode\",\n",
    "return 2.\n",
    "Note: You may assume the string contain only lowercase letters."
   ]
  },
  {
   "cell_type": "markdown",
   "metadata": {},
   "source": [
    "def first_unique_char(s):\n",
    "    s1 = {}\n",
    "    for char in s:\n",
    "        if char in s1:\n",
    "            s1[char] += 1\n",
    "        else:\n",
    "            s1[char] = 1\n",
    "    \n",
    "    for i, char in enumerate(s):\n",
    "        if s1[char] == 1:\n",
    "            return i\n",
    "    \n",
    "    return -1"
   ]
  },
  {
   "cell_type": "code",
   "execution_count": 13,
   "metadata": {},
   "outputs": [],
   "source": [
    "def first_unique_char(s):\n",
    "    s1 = {}\n",
    "    for char in s:\n",
    "        if char in s1:\n",
    "            s1[char] += 1\n",
    "        else:\n",
    "            s1[char] = 1\n",
    "    \n",
    "    for i, char in enumerate(s):\n",
    "        if s1[char] == 1:\n",
    "            return i\n",
    "    \n",
    "    return -1"
   ]
  },
  {
   "cell_type": "code",
   "execution_count": 14,
   "metadata": {},
   "outputs": [
    {
     "data": {
      "text/plain": [
       "2"
      ]
     },
     "execution_count": 14,
     "metadata": {},
     "output_type": "execute_result"
    }
   ],
   "source": [
    "first_unique_char('loveleetcode')"
   ]
  },
  {
   "cell_type": "markdown",
   "metadata": {},
   "source": [
    "# --------------------------------------------------------------------------------------------\n",
    "# Longest Substring Without Repeating Characters 3: Solution\n",
    "\n",
    "\n",
    "Given a string, find the length of the longest substring without repeating characters.\n",
    "\n",
    "Examples:\n",
    "\n",
    "Given \"abcabcbb\", the answer is \"abc\", which the length is 3.\n",
    "\n",
    "Given \"bbbbb\", the answer is \"b\", with the length of 1.\n",
    "\n",
    "Given \"pwwkew\", the answer is \"wke\", with the length of 3. Note that the answer must be a substring, \"pwke\" is a subsequence and not a substring."
   ]
  },
  {
   "cell_type": "code",
   "execution_count": 16,
   "metadata": {},
   "outputs": [],
   "source": [
    "def long_subs(s):\n",
    "    s1 = ''\n",
    "    max_sub = 0\n",
    "\n",
    "    for char in s:\n",
    "        if char not in s1:\n",
    "            s1 += char \n",
    "            if len(s1) > max_sub:\n",
    "                max_sub = len(s1)\n",
    "        else:\n",
    "            s1 = s1[s1.find(char)+1:]\n",
    "            s1 += char \n",
    "        \n",
    "\n",
    "    return max_sub"
   ]
  },
  {
   "cell_type": "code",
   "execution_count": 18,
   "metadata": {},
   "outputs": [
    {
     "data": {
      "text/plain": [
       "3"
      ]
     },
     "execution_count": 18,
     "metadata": {},
     "output_type": "execute_result"
    }
   ],
   "source": [
    "# s = \"abcabcbb\"\n",
    "# s = \"bbbbb\"\n",
    "# s = \"pwwkew\" #wke\n",
    "# s = \"\" \n",
    "s = \"dvdf\" #\n",
    "\n",
    "long_subs(s)"
   ]
  },
  {
   "cell_type": "markdown",
   "metadata": {},
   "source": [
    "# ----------------------------------------------------------------------------------------\n",
    "# Group anagrams 49\n",
    "\n",
    "Given an array of strings, group anagrams together.\n",
    "\n",
    "Example:\n",
    "\n",
    "Input: [\"eat\", \"tea\", \"tan\", \"ate\", \"nat\", \"bat\"],\n",
    "Output:\n",
    "[\n",
    "  [\"ate\",\"eat\",\"tea\"],\n",
    "  [\"nat\",\"tan\"],\n",
    "  [\"bat\"]\n",
    "]\n",
    "Note:\n",
    "\n",
    "All inputs will be in lowercase.\n",
    "The order of your output does not matter."
   ]
  },
  {
   "cell_type": "code",
   "execution_count": 19,
   "metadata": {},
   "outputs": [],
   "source": [
    "# group_anagrams([\"eat\", \"tan\", \"ate\", \"nat\", \"tea\", \"bat\"])\n",
    "def group_anagrams(strs):\n",
    "    print(sorted(strs))\n",
    "\n",
    "    \n",
    "\n",
    "def is_anagram(s1, s2):\n",
    "    \n",
    "    if len(s1) != len(s2): return False\n",
    "    \n",
    "    counter = {}\n",
    "    \n",
    "    for letter in s1: \n",
    "        if letter in counter:\n",
    "            counter[letter] +=1\n",
    "        else:\n",
    "            counter[letter] = 1\n",
    "    \n",
    "    for letter in s2: \n",
    "        if letter in counter:\n",
    "            counter[letter] -=1\n",
    "        else:\n",
    "            return False\n",
    "        \n",
    "    return all(counter.values()) == 0"
   ]
  },
  {
   "cell_type": "code",
   "execution_count": 20,
   "metadata": {},
   "outputs": [
    {
     "name": "stdout",
     "output_type": "stream",
     "text": [
      "['ate', 'bat', 'eat', 'nat', 'tan', 'tea']\n"
     ]
    }
   ],
   "source": [
    "group_anagrams([\"eat\", \"tan\", \"ate\", \"nat\", \"tea\", \"bat\"])"
   ]
  },
  {
   "cell_type": "code",
   "execution_count": null,
   "metadata": {},
   "outputs": [],
   "source": []
  }
 ],
 "metadata": {
  "kernelspec": {
   "display_name": "Python 3",
   "language": "python",
   "name": "python3"
  }
 },
 "nbformat": 4,
 "nbformat_minor": 2
}
