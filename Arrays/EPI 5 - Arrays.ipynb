{
 "cells": [
  {
   "cell_type": "markdown",
   "metadata": {},
   "source": [
    "# ARRAY BOOTCAMP \n",
    "# REORDER ENTRIES SO THAT THE EVENS APPEAR FIRST"
   ]
  },
  {
   "cell_type": "code",
   "execution_count": 20,
   "metadata": {},
   "outputs": [],
   "source": [
    "def even_odd(nums):\n",
    "    even = 0\n",
    "    odd = len(nums)-1\n",
    "    \n",
    "    while even < odd:\n",
    "        if nums[even] % 2 == 0:\n",
    "            even += 1\n",
    "        else:\n",
    "            nums[even], nums[odd] = nums[odd], nums[even]\n",
    "            odd -= 1\n",
    "        print(nums)\n",
    "            "
   ]
  },
  {
   "cell_type": "code",
   "execution_count": 21,
   "metadata": {},
   "outputs": [
    {
     "name": "stdout",
     "output_type": "stream",
     "text": [
      "[8, 3, 1, 6, 7, 9, 5, 4, 2, 10]\n",
      "[8, 10, 1, 6, 7, 9, 5, 4, 2, 3]\n",
      "[8, 10, 1, 6, 7, 9, 5, 4, 2, 3]\n",
      "[8, 10, 2, 6, 7, 9, 5, 4, 1, 3]\n",
      "[8, 10, 2, 6, 7, 9, 5, 4, 1, 3]\n",
      "[8, 10, 2, 6, 7, 9, 5, 4, 1, 3]\n",
      "[8, 10, 2, 6, 4, 9, 5, 7, 1, 3]\n",
      "[8, 10, 2, 6, 4, 9, 5, 7, 1, 3]\n",
      "[8, 10, 2, 6, 4, 5, 9, 7, 1, 3]\n"
     ]
    }
   ],
   "source": [
    "even_odd([8,3,1,6,7,9,5,4,2,10])"
   ]
  },
  {
   "cell_type": "code",
   "execution_count": 22,
   "metadata": {},
   "outputs": [
    {
     "data": {
      "text/plain": [
       "[1, 0, 0, 0, 0, 0, 0, 0, 0, 0, 0]"
      ]
     },
     "execution_count": 22,
     "metadata": {},
     "output_type": "execute_result"
    }
   ],
   "source": [
    "[1] + [0] * 10"
   ]
  },
  {
   "cell_type": "code",
   "execution_count": 26,
   "metadata": {},
   "outputs": [],
   "source": [
    "a = list(range(10))"
   ]
  },
  {
   "cell_type": "code",
   "execution_count": 27,
   "metadata": {},
   "outputs": [],
   "source": [
    "a.remove(2)"
   ]
  },
  {
   "cell_type": "code",
   "execution_count": 28,
   "metadata": {},
   "outputs": [
    {
     "data": {
      "text/plain": [
       "[0, 1, 3, 4, 5, 6, 7, 8, 9]"
      ]
     },
     "execution_count": 28,
     "metadata": {},
     "output_type": "execute_result"
    }
   ],
   "source": [
    "a"
   ]
  },
  {
   "cell_type": "code",
   "execution_count": 29,
   "metadata": {},
   "outputs": [],
   "source": [
    "a.insert(2, 28)"
   ]
  },
  {
   "cell_type": "code",
   "execution_count": 30,
   "metadata": {},
   "outputs": [
    {
     "data": {
      "text/plain": [
       "[0, 1, 28, 3, 4, 5, 6, 7, 8, 9]"
      ]
     },
     "execution_count": 30,
     "metadata": {},
     "output_type": "execute_result"
    }
   ],
   "source": [
    "a"
   ]
  },
  {
   "cell_type": "code",
   "execution_count": 32,
   "metadata": {},
   "outputs": [
    {
     "data": {
      "text/plain": [
       "True"
      ]
     },
     "execution_count": 32,
     "metadata": {},
     "output_type": "execute_result"
    }
   ],
   "source": [
    "9 in a #O(n)"
   ]
  },
  {
   "cell_type": "code",
   "execution_count": 33,
   "metadata": {},
   "outputs": [],
   "source": [
    "b = a"
   ]
  },
  {
   "cell_type": "code",
   "execution_count": 34,
   "metadata": {},
   "outputs": [],
   "source": [
    "b = list(a)"
   ]
  },
  {
   "cell_type": "code",
   "execution_count": 41,
   "metadata": {},
   "outputs": [],
   "source": [
    "a.reverse() #in-place\n"
   ]
  },
  {
   "cell_type": "code",
   "execution_count": 42,
   "metadata": {},
   "outputs": [
    {
     "data": {
      "text/plain": [
       "[9, 8, 7, 6, 5, 4, 3, 28, 1, 0]"
      ]
     },
     "execution_count": 42,
     "metadata": {},
     "output_type": "execute_result"
    }
   ],
   "source": [
    "a"
   ]
  },
  {
   "cell_type": "code",
   "execution_count": 44,
   "metadata": {},
   "outputs": [
    {
     "data": {
      "text/plain": [
       "<list_reverseiterator at 0x10bcb2f60>"
      ]
     },
     "execution_count": 44,
     "metadata": {},
     "output_type": "execute_result"
    }
   ],
   "source": [
    "reversed(a) #iterator"
   ]
  },
  {
   "cell_type": "code",
   "execution_count": 45,
   "metadata": {},
   "outputs": [],
   "source": [
    "a.sort() #in-place"
   ]
  },
  {
   "cell_type": "code",
   "execution_count": 46,
   "metadata": {},
   "outputs": [
    {
     "data": {
      "text/plain": [
       "[0, 1, 3, 4, 5, 6, 7, 8, 9, 28]"
      ]
     },
     "execution_count": 46,
     "metadata": {},
     "output_type": "execute_result"
    }
   ],
   "source": [
    "a"
   ]
  },
  {
   "cell_type": "code",
   "execution_count": 47,
   "metadata": {},
   "outputs": [
    {
     "data": {
      "text/plain": [
       "[0, 1, 3, 4, 5, 6, 7, 8, 9, 28]"
      ]
     },
     "execution_count": 47,
     "metadata": {},
     "output_type": "execute_result"
    }
   ],
   "source": [
    "sorted(a) #returns a copy of a"
   ]
  },
  {
   "cell_type": "code",
   "execution_count": 49,
   "metadata": {},
   "outputs": [
    {
     "data": {
      "text/plain": [
       "[0, 4, 16]"
      ]
     },
     "execution_count": 49,
     "metadata": {},
     "output_type": "execute_result"
    }
   ],
   "source": [
    "[x ** 2 for x in range(6) if x % 2 == 0]\n"
   ]
  },
  {
   "cell_type": "markdown",
   "metadata": {},
   "source": [
    "# 5.1 Dutch national problem"
   ]
  },
  {
   "cell_type": "code",
   "execution_count": 122,
   "metadata": {},
   "outputs": [],
   "source": [
    "def dutch(nums):\n",
    "    low = 0 \n",
    "    mid = 0 \n",
    "    high = len(nums) - 1\n",
    "    \n",
    "    while mid <= high: \n",
    "        if nums[mid] == 0:\n",
    "            nums[low], nums[mid] = nums[mid], nums[low]\n",
    "            mid += 1\n",
    "            low += 1\n",
    "        elif nums[mid] == 1:\n",
    "            mid += 1\n",
    "        else:\n",
    "            nums[mid], nums[high] = nums[high], nums[mid]\n",
    "            high -= 1\n",
    "    return nums\n",
    "    \n",
    "            "
   ]
  },
  {
   "cell_type": "code",
   "execution_count": 123,
   "metadata": {},
   "outputs": [
    {
     "data": {
      "text/plain": [
       "[0, 0, 0, 0, 0, 1, 1, 1, 1, 1, 2, 2]"
      ]
     },
     "execution_count": 123,
     "metadata": {},
     "output_type": "execute_result"
    }
   ],
   "source": [
    "dutch([0, 1, 1, 0, 1, 2, 1, 2, 0, 0, 0, 1])"
   ]
  },
  {
   "cell_type": "markdown",
   "metadata": {},
   "source": [
    "# 5.2. Increment an arbitrary-precision integer == plus-one (Leetcode 66)\n",
    "\n"
   ]
  },
  {
   "cell_type": "code",
   "execution_count": 125,
   "metadata": {},
   "outputs": [],
   "source": [
    "def increment(digits):\n",
    "    \n",
    "    for i in range(len(digits)-1, -1, -1):\n",
    "        if digits[i] != 9:\n",
    "            digits[i] += 1\n",
    "            return digits\n",
    "        else:\n",
    "            digits[i] = 0\n",
    "            if i == 0:\n",
    "                digits.insert(0, 1)    \n",
    "        return digits\n"
   ]
  },
  {
   "cell_type": "markdown",
   "metadata": {},
   "source": [
    "# 5.3 Multiply two arbitrary-precision integers"
   ]
  },
  {
   "cell_type": "code",
   "execution_count": 132,
   "metadata": {},
   "outputs": [],
   "source": [
    "\n",
    "        \n",
    "\n",
    "    \n",
    "        \n",
    "    "
   ]
  },
  {
   "cell_type": "markdown",
   "metadata": {},
   "source": [
    "# 5.4 Advancing through an array"
   ]
  },
  {
   "cell_type": "code",
   "execution_count": 93,
   "metadata": {},
   "outputs": [],
   "source": [
    "def advancing(nums):\n",
    "    max_jump = i = 0\n",
    "    last_index = len(nums) - 1\n",
    "    \n",
    "    if last_index == 0:\n",
    "        return True\n",
    "\n",
    "    while i <= max_jump:\n",
    "        max_jump = max(i + nums[i], max_jump)\n",
    "        print(i, max_jump)\n",
    "        if max_jump >= last_index:\n",
    "            return True\n",
    "        i += 1\n",
    "    return False\n",
    "    \n",
    "\n",
    "    \n",
    "        \n",
    "        "
   ]
  },
  {
   "cell_type": "code",
   "execution_count": 98,
   "metadata": {},
   "outputs": [
    {
     "name": "stdout",
     "output_type": "stream",
     "text": [
      "0 3\n",
      "1 4\n",
      "2 4\n",
      "3 4\n",
      "4 6\n"
     ]
    },
    {
     "data": {
      "text/plain": [
       "True"
      ]
     },
     "execution_count": 98,
     "metadata": {},
     "output_type": "execute_result"
    }
   ],
   "source": [
    "# nums = [2, 3, 1, 1, 4]\n",
    "# nums = [3, 2, 1, 0, 2, 0, 1]\n",
    "# nums = [1, 1, 2, 1, 0, 3, 2]\n",
    "nums = [3, 3, 1, 0, 2, 0, 1]\n",
    "# nums = [1]\n",
    "advancing(nums)"
   ]
  },
  {
   "cell_type": "markdown",
   "metadata": {},
   "source": [
    "# 5.5 Delete duplicates from a sorted array"
   ]
  },
  {
   "cell_type": "code",
   "execution_count": 147,
   "metadata": {},
   "outputs": [],
   "source": [
    "def remove_duplicates(nums):\n",
    "    i = len(nums)-1;\n",
    "    while i > 0:\n",
    "        if nums[i] == nums[i-1]:\n",
    "            nums.pop(i)\n",
    "        i -= 1\n",
    "    return len(nums)"
   ]
  },
  {
   "cell_type": "markdown",
   "metadata": {},
   "source": [
    "# 5.6 Buy and sell stock once*\n",
    "\n",
    "Say you have an array for which the ith element is the price of a given stock on day i.\n",
    "\n",
    "If you were only permitted to complete at most one transaction (i.e., buy one and sell one share of the stock), design an algorithm to find the maximum profit.\n",
    "\n",
    "Note that you cannot sell a stock before you buy one.\n",
    "\n",
    "Example 1:\n",
    "\n",
    "Input: [7,1,5,3,6,4]\n",
    "Output: 5\n",
    "Explanation: Buy on day 2 (price = 1) and sell on day 5 (price = 6), profit = 6-1 = 5.\n",
    "             Not 7-1 = 6, as selling price needs to be larger than buying price.\n",
    "Example 2:\n",
    "\n",
    "Input: [7,6,4,3,1]\n",
    "Output: 0\n",
    "Explanation: In this case, no transaction is done, i.e. max profit = 0.\n"
   ]
  },
  {
   "cell_type": "code",
   "execution_count": 205,
   "metadata": {},
   "outputs": [],
   "source": [
    "def buy_and_sell(nums):\n",
    "    if not nums: return 0\n",
    "    max_profit = i = sell = 0\n",
    "    buy = nums[i]\n",
    "    while i < len(nums)-1:\n",
    "        if nums[i] < buy:\n",
    "            buy = nums[i]\n",
    "            sell = nums[i]\n",
    "        sell = max(sell, nums[i+1])\n",
    "        max_profit = max(sell-buy, max_profit)\n",
    "        i += 1\n",
    "    return max_profit\n",
    "        "
   ]
  },
  {
   "cell_type": "code",
   "execution_count": 216,
   "metadata": {},
   "outputs": [
    {
     "data": {
      "text/plain": [
       "0"
      ]
     },
     "execution_count": 216,
     "metadata": {},
     "output_type": "execute_result"
    }
   ],
   "source": [
    "# nums = [7,5,1,3,6,4] #5\n",
    "# nums = [1,2,3,4,5] #4\n",
    "# nums = [7,6,4,3,1] #0\n",
    "# nums = [1,1,1] #0\n",
    "# nums = [2,5] #3\n",
    "# nums = [5,2] #0\n",
    "# nums = [3,2,6,5,0,3] #4\n",
    "nums = [1]\n",
    "# nums = []\n",
    "buy_and_sell(nums)"
   ]
  },
  {
   "cell_type": "markdown",
   "metadata": {},
   "source": [
    "# 5.6 Buy and sell stock twice*"
   ]
  },
  {
   "cell_type": "code",
   "execution_count": 322,
   "metadata": {},
   "outputs": [],
   "source": [
    "def buy_and_sell_twice(prices):\n",
    "    max_profits = {1: 0}\n",
    "    buy = prices[0]\n",
    "    day_buy1 = day_buy2 = max_profit = 0\n",
    "    for i in range(1, len(prices)):\n",
    "        if prices[i] < buy:\n",
    "            buy = prices[i]\n",
    "            day_buy1 = day_buy2\n",
    "            day_buy2 = i+2\n",
    "        if prices[i] <= buy:\n",
    "            max_profits[i+1] = max_profits[i]\n",
    "        else:\n",
    "            max_profits[i+1] = max(prices[i]-buy, max_profits[i])\n",
    "            print(day_buy1, day_buy2, buy, prices[i], max_profits)\n",
    "    \n",
    "    if day_buy1 == 0 and day_buy2 == 0:\n",
    "        return max_profits[len(max_profits)]\n",
    "    \n",
    "    for i in range(day_buy2, len(max_profits)+1):\n",
    "        max_profit = max(max_profit, max_profits[i])\n",
    "    \n",
    "    if day_buy1 != 0:\n",
    "        return max_profits[day_buy1] + max_profit\n",
    "    \n",
    "    \n",
    "    \n",
    "    return max_profit   \n",
    "\n",
    "\n"
   ]
  },
  {
   "cell_type": "code",
   "execution_count": 328,
   "metadata": {},
   "outputs": [
    {
     "name": "stdout",
     "output_type": "stream",
     "text": [
      "0 3 2 6 {1: 0, 2: 0, 3: 4}\n",
      "0 3 2 5 {1: 0, 2: 0, 3: 4, 4: 4}\n",
      "3 6 0 3 {1: 0, 2: 0, 3: 4, 4: 4, 5: 4, 6: 4}\n"
     ]
    },
    {
     "data": {
      "text/plain": [
       "8"
      ]
     },
     "execution_count": 328,
     "metadata": {},
     "output_type": "execute_result"
    }
   ],
   "source": [
    "# nums = [0.3, 0.1, 0.4, 0.1]\n",
    "# nums= [12, 11, 13, 9, 12, 8, 14, 13, 15]\n",
    "# nums = [7,5,1,3,6,4] #5\n",
    "# nums = [1,2,3,4,5] #4\n",
    "# nums = [7,6,4,3,1] #0\n",
    "# nums = [1,1,1] #0\n",
    "# nums = [2,5] #3\n",
    "# nums = [5,2] #0\n",
    "nums = [3,2,6,5,0,3] #4\n",
    "# nums = [1]\n",
    "# nums = []\n",
    "buy_and_sell_twice(nums)"
   ]
  },
  {
   "cell_type": "markdown",
   "metadata": {},
   "source": [
    "# 5.9 Enumerate all primes to n*\n"
   ]
  },
  {
   "cell_type": "code",
   "execution_count": 1,
   "metadata": {},
   "outputs": [],
   "source": [
    "import time\n",
    "#Time complexity: O(nloglogn)\n",
    "def generate_primes(n):\n",
    "    primes = []\n",
    "    if n < 2: return []\n",
    "    true = [1]*n\n",
    "\n",
    "    true[0] = true[1] = 0\n",
    "    \n",
    "    for i in range(2, int(n**0.5)+1):\n",
    "        if true[i] == 1:\n",
    "            for j in range(i*i, n, i):\n",
    "                true[j] = 0\n",
    "    \n",
    "    for i in range(len(true)):\n",
    "        if true[i] == 1:\n",
    "            primes.append(i)\n",
    "    return primes\n",
    "            "
   ]
  },
  {
   "cell_type": "code",
   "execution_count": 11,
   "metadata": {},
   "outputs": [
    {
     "name": "stdout",
     "output_type": "stream",
     "text": [
      "Took 0.2764890193939209 seconds to get primes\n"
     ]
    }
   ],
   "source": [
    "start = time.time()\n",
    "generate_primes(1000000)\n",
    "stop = time.time()\n",
    "print('Took %s seconds to get primes' % (stop-start))"
   ]
  },
  {
   "cell_type": "code",
   "execution_count": 4,
   "metadata": {},
   "outputs": [
    {
     "ename": "TypeError",
     "evalue": "unsupported operand type(s) for *: 'int' and 'range'",
     "output_type": "error",
     "traceback": [
      "\u001b[0;31m---------------------------------------------------------------------------\u001b[0m",
      "\u001b[0;31mTypeError\u001b[0m                                 Traceback (most recent call last)",
      "\u001b[0;32m<ipython-input-4-89de27dbb91b>\u001b[0m in \u001b[0;36m<module>\u001b[0;34m()\u001b[0m\n\u001b[0;32m----> 1\u001b[0;31m \u001b[0;36m1\u001b[0m\u001b[0;34m*\u001b[0m\u001b[0mrange\u001b[0m\u001b[0;34m(\u001b[0m\u001b[0;36m10\u001b[0m\u001b[0;34m)\u001b[0m\u001b[0;34m\u001b[0m\u001b[0m\n\u001b[0m",
      "\u001b[0;31mTypeError\u001b[0m: unsupported operand type(s) for *: 'int' and 'range'"
     ]
    }
   ],
   "source": [
    "1*range(10)"
   ]
  },
  {
   "cell_type": "code",
   "execution_count": null,
   "metadata": {},
   "outputs": [],
   "source": []
  }
 ],
 "metadata": {
  "kernelspec": {
   "display_name": "Python 3",
   "language": "python",
   "name": "python3"
  },
  "language_info": {
   "codemirror_mode": {
    "name": "ipython",
    "version": 3
   },
   "file_extension": ".py",
   "mimetype": "text/x-python",
   "name": "python",
   "nbconvert_exporter": "python",
   "pygments_lexer": "ipython3",
   "version": "3.6.4"
  }
 },
 "nbformat": 4,
 "nbformat_minor": 2
}
