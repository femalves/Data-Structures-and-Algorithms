{
 "cells": [
  {
   "cell_type": "markdown",
   "metadata": {},
   "source": [
    "# ARRAY BOOTCAMP \n",
    "# REORDER ENTRIES SO THAT THE EVENS APPEAR FIRST"
   ]
  },
  {
   "cell_type": "code",
   "execution_count": 20,
   "metadata": {},
   "outputs": [],
   "source": [
    "def even_odd(nums):\n",
    "    even = 0\n",
    "    odd = len(nums)-1\n",
    "    \n",
    "    while even < odd:\n",
    "        if nums[even] % 2 == 0:\n",
    "            even += 1\n",
    "        else:\n",
    "            nums[even], nums[odd] = nums[odd], nums[even]\n",
    "            odd -= 1\n",
    "        print(nums)\n",
    "            "
   ]
  },
  {
   "cell_type": "code",
   "execution_count": 21,
   "metadata": {},
   "outputs": [
    {
     "name": "stdout",
     "output_type": "stream",
     "text": [
      "[8, 3, 1, 6, 7, 9, 5, 4, 2, 10]\n",
      "[8, 10, 1, 6, 7, 9, 5, 4, 2, 3]\n",
      "[8, 10, 1, 6, 7, 9, 5, 4, 2, 3]\n",
      "[8, 10, 2, 6, 7, 9, 5, 4, 1, 3]\n",
      "[8, 10, 2, 6, 7, 9, 5, 4, 1, 3]\n",
      "[8, 10, 2, 6, 7, 9, 5, 4, 1, 3]\n",
      "[8, 10, 2, 6, 4, 9, 5, 7, 1, 3]\n",
      "[8, 10, 2, 6, 4, 9, 5, 7, 1, 3]\n",
      "[8, 10, 2, 6, 4, 5, 9, 7, 1, 3]\n"
     ]
    }
   ],
   "source": [
    "even_odd([8,3,1,6,7,9,5,4,2,10])"
   ]
  },
  {
   "cell_type": "code",
   "execution_count": 22,
   "metadata": {},
   "outputs": [
    {
     "data": {
      "text/plain": [
       "[1, 0, 0, 0, 0, 0, 0, 0, 0, 0, 0]"
      ]
     },
     "execution_count": 22,
     "metadata": {},
     "output_type": "execute_result"
    }
   ],
   "source": [
    "[1] + [0] * 10"
   ]
  },
  {
   "cell_type": "code",
   "execution_count": 26,
   "metadata": {},
   "outputs": [],
   "source": [
    "a = list(range(10))"
   ]
  },
  {
   "cell_type": "code",
   "execution_count": 27,
   "metadata": {},
   "outputs": [],
   "source": [
    "a.remove(2)"
   ]
  },
  {
   "cell_type": "code",
   "execution_count": 28,
   "metadata": {},
   "outputs": [
    {
     "data": {
      "text/plain": [
       "[0, 1, 3, 4, 5, 6, 7, 8, 9]"
      ]
     },
     "execution_count": 28,
     "metadata": {},
     "output_type": "execute_result"
    }
   ],
   "source": [
    "a"
   ]
  },
  {
   "cell_type": "code",
   "execution_count": 29,
   "metadata": {},
   "outputs": [],
   "source": [
    "a.insert(2, 28)"
   ]
  },
  {
   "cell_type": "code",
   "execution_count": 30,
   "metadata": {},
   "outputs": [
    {
     "data": {
      "text/plain": [
       "[0, 1, 28, 3, 4, 5, 6, 7, 8, 9]"
      ]
     },
     "execution_count": 30,
     "metadata": {},
     "output_type": "execute_result"
    }
   ],
   "source": [
    "a"
   ]
  },
  {
   "cell_type": "code",
   "execution_count": 32,
   "metadata": {},
   "outputs": [
    {
     "data": {
      "text/plain": [
       "True"
      ]
     },
     "execution_count": 32,
     "metadata": {},
     "output_type": "execute_result"
    }
   ],
   "source": [
    "9 in a #O(n)"
   ]
  },
  {
   "cell_type": "code",
   "execution_count": 33,
   "metadata": {},
   "outputs": [],
   "source": [
    "b = a"
   ]
  },
  {
   "cell_type": "code",
   "execution_count": 34,
   "metadata": {},
   "outputs": [],
   "source": [
    "b = list(a)"
   ]
  },
  {
   "cell_type": "code",
   "execution_count": 41,
   "metadata": {},
   "outputs": [],
   "source": [
    "a.reverse() #in-place\n"
   ]
  },
  {
   "cell_type": "code",
   "execution_count": 42,
   "metadata": {},
   "outputs": [
    {
     "data": {
      "text/plain": [
       "[9, 8, 7, 6, 5, 4, 3, 28, 1, 0]"
      ]
     },
     "execution_count": 42,
     "metadata": {},
     "output_type": "execute_result"
    }
   ],
   "source": [
    "a"
   ]
  },
  {
   "cell_type": "code",
   "execution_count": 44,
   "metadata": {},
   "outputs": [
    {
     "data": {
      "text/plain": [
       "<list_reverseiterator at 0x10bcb2f60>"
      ]
     },
     "execution_count": 44,
     "metadata": {},
     "output_type": "execute_result"
    }
   ],
   "source": [
    "reversed(a) #iterator"
   ]
  },
  {
   "cell_type": "code",
   "execution_count": 45,
   "metadata": {},
   "outputs": [],
   "source": [
    "a.sort() #in-place"
   ]
  },
  {
   "cell_type": "code",
   "execution_count": 46,
   "metadata": {},
   "outputs": [
    {
     "data": {
      "text/plain": [
       "[0, 1, 3, 4, 5, 6, 7, 8, 9, 28]"
      ]
     },
     "execution_count": 46,
     "metadata": {},
     "output_type": "execute_result"
    }
   ],
   "source": [
    "a"
   ]
  },
  {
   "cell_type": "code",
   "execution_count": 47,
   "metadata": {},
   "outputs": [
    {
     "data": {
      "text/plain": [
       "[0, 1, 3, 4, 5, 6, 7, 8, 9, 28]"
      ]
     },
     "execution_count": 47,
     "metadata": {},
     "output_type": "execute_result"
    }
   ],
   "source": [
    "sorted(a) #returns a copy of a"
   ]
  },
  {
   "cell_type": "code",
   "execution_count": 49,
   "metadata": {},
   "outputs": [
    {
     "data": {
      "text/plain": [
       "[0, 4, 16]"
      ]
     },
     "execution_count": 49,
     "metadata": {},
     "output_type": "execute_result"
    }
   ],
   "source": [
    "[x ** 2 for x in range(6) if x % 2 == 0]\n"
   ]
  },
  {
   "cell_type": "markdown",
   "metadata": {},
   "source": [
    "# 5.1 Dutch national problem"
   ]
  },
  {
   "cell_type": "code",
   "execution_count": 1,
   "metadata": {},
   "outputs": [],
   "source": [
    "def dutch(nums):\n",
    "    low = 0 \n",
    "    mid = 0 \n",
    "    high = len(nums) - 1\n",
    "    \n",
    "    while mid <= high: \n",
    "        if nums[mid] == 0:\n",
    "            nums[low], nums[mid] = nums[mid], nums[low]\n",
    "            mid += 1\n",
    "            low += 1\n",
    "            print(nums)\n",
    "        elif nums[mid] == 1:\n",
    "            mid += 1\n",
    "            print(nums)\n",
    "        else:\n",
    "            nums[mid], nums[high] = nums[high], nums[mid]\n",
    "            high -= 1\n",
    "            print(nums)\n",
    "    return nums\n",
    "    \n",
    "            "
   ]
  },
  {
   "cell_type": "code",
   "execution_count": 2,
   "metadata": {},
   "outputs": [
    {
     "name": "stdout",
     "output_type": "stream",
     "text": [
      "[0, 1, 1, 0, 1, 2, 1, 2, 0, 0, 0, 1]\n",
      "[0, 1, 1, 0, 1, 2, 1, 2, 0, 0, 0, 1]\n",
      "[0, 1, 1, 0, 1, 2, 1, 2, 0, 0, 0, 1]\n",
      "[0, 0, 1, 1, 1, 2, 1, 2, 0, 0, 0, 1]\n",
      "[0, 0, 1, 1, 1, 2, 1, 2, 0, 0, 0, 1]\n",
      "[0, 0, 1, 1, 1, 1, 1, 2, 0, 0, 0, 2]\n",
      "[0, 0, 1, 1, 1, 1, 1, 2, 0, 0, 0, 2]\n",
      "[0, 0, 1, 1, 1, 1, 1, 2, 0, 0, 0, 2]\n",
      "[0, 0, 1, 1, 1, 1, 1, 0, 0, 0, 2, 2]\n",
      "[0, 0, 0, 1, 1, 1, 1, 1, 0, 0, 2, 2]\n",
      "[0, 0, 0, 0, 1, 1, 1, 1, 1, 0, 2, 2]\n",
      "[0, 0, 0, 0, 0, 1, 1, 1, 1, 1, 2, 2]\n"
     ]
    },
    {
     "data": {
      "text/plain": [
       "[0, 0, 0, 0, 0, 1, 1, 1, 1, 1, 2, 2]"
      ]
     },
     "execution_count": 2,
     "metadata": {},
     "output_type": "execute_result"
    }
   ],
   "source": [
    "dutch([0, 1, 1, 0, 1, 2, 1, 2, 0, 0, 0, 1])"
   ]
  },
  {
   "cell_type": "markdown",
   "metadata": {},
   "source": [
    "# 5.2. Increment an arbitrary-precision integer == plus-one (Leetcode 66)\n",
    "\n"
   ]
  },
  {
   "cell_type": "code",
   "execution_count": 125,
   "metadata": {},
   "outputs": [],
   "source": [
    "def increment(digits):\n",
    "    \n",
    "    for i in range(len(digits)-1, -1, -1):\n",
    "        if digits[i] != 9:\n",
    "            digits[i] += 1\n",
    "            return digits\n",
    "        else:\n",
    "            digits[i] = 0\n",
    "            if i == 0:\n",
    "                digits.insert(0, 1)    \n",
    "        return digits\n"
   ]
  },
  {
   "cell_type": "markdown",
   "metadata": {},
   "source": [
    "# 5.3 Multiply two arbitrary-precision integers"
   ]
  },
  {
   "cell_type": "code",
   "execution_count": 65,
   "metadata": {},
   "outputs": [],
   "source": [
    "def multiply(num1, num2):\n",
    "    sign = -1 if (num1[0] < 0) ^ (num2[0] < 0) else 1\n",
    "\n",
    "    num1[0], num2[0] = abs(num1[0]), abs(num2[0])\n",
    "    \n",
    "    lesser = num1 if len(num1) <= len(num2) else num2\n",
    "    greater = num1 if len(num1) > len(num2) else num2\n",
    "    \n",
    "    result_sum = 0\n",
    "    for i, num1 in enumerate(lesser): \n",
    "        for j, num2 in enumerate(greater):\n",
    "            # [1,2,2] = (1 * 10**2) * (2 * 10**1) * (2*10**0) = 100 * 20 * 2\n",
    "            result_sum += (num1*(10**(len(lesser)-(i+1))))*(num2*(10**(len(greater)-(j+1))))\n",
    "            \n",
    "    result = [int(dig) for dig in str(result_sum)]\n",
    "    result[0] = result[0]*sign\n",
    "    \n",
    "    return result\n",
    "\n",
    "    \n",
    "        \n",
    "    "
   ]
  },
  {
   "cell_type": "code",
   "execution_count": 66,
   "metadata": {},
   "outputs": [
    {
     "name": "stdout",
     "output_type": "stream",
     "text": [
      "[1, 2, 3, 4] [4, 3, 2, 1]\n"
     ]
    },
    {
     "data": {
      "text/plain": [
       "[5, 3, 3, 2, 1, 1, 4]"
      ]
     },
     "execution_count": 66,
     "metadata": {},
     "output_type": "execute_result"
    }
   ],
   "source": [
    "# multiply([-1, 9, 3, 7, 0, 7, 7, 2, 1], [-7, 6, 1, 8, 3, 8, 2, 5, 7, 2, 8, 7])\n",
    "# multiply([2, 1, 2, 4, 7, 2, 3, 7, 5, 1, 4, 3, 5, 3, 2, 1, 4, 1, 6, 1, 6, 2, 0, 6, 5, 7, 2, 1, 9, 2,1, 3, 2, 7, 5, 0, 8, 5, 3, 5, 4, 5, 2, 1, 8, 5, 8, 3, 5, 9, 7, 9, 2, 4, 0, 3, 5, 3, 6, 4, 0, 1, 3, 6, 9, 3, 0, 8, 7, 1, 6, 5, 1, 5, 4, 1, 8, 9, 1, 9, 2, 3, 7, 9, 7, 1, 5, 4, 5, 1, 0, 3, 1, 4, 1, 2, 7], [4, 8, 4, 3, 3, 8, 7, 0, 9, 0, 4, 1, 1, 0, 2, 0, 9, 8, 3, 3, 0, 5, 9, 5, 6, 1, 6, 0, 6, 9,8, 8, 8, 6, 1, 9, 6, 1, 0, 7, 2, 3, 5, 4, 4, 8, 0, 0, 6, 2, 6, 0, 3, 4, 0, 5, 6, 9, 8, 5, 1, 8, 0, 8, 3, 6, 5, 7, 6, 7, 7, 2, 1, 7, 5, 9, 3, 1, 3, 8, 1, 0, 5, 1, 7, 9, 0, 6, 3, 5, 0, 0, 0, 4, 4, 9, 4])\n",
    "multiply([1,2,3,4],[4,3,2,1])\n",
    "# multiply([1,0,0],[-1,0,0,0])"
   ]
  },
  {
   "cell_type": "code",
   "execution_count": 85,
   "metadata": {},
   "outputs": [],
   "source": [
    "def multiply(num1, num2):\n",
    "    \n",
    "    sign = -1 if (num1[0] < 0) ^ (num2[0] < 0) else 1\n",
    "    num1[0], num2[0] = abs(num1[0]), abs(num2[0])\n",
    "\n",
    "    result = [0] * (len(num1) + len(num2))\n",
    "    \n",
    "    for i in reversed(range(len(num1))):\n",
    "        for j in reversed(range(len(num2))):\n",
    "            result[i + j + 1] += num1[i] * num2[j]\n",
    "            result[i + j] += result[i + j + 1] // 10\n",
    "            result[i + j + 1] %= 10\n",
    "            print(result)\n",
    "      \n",
    "    # Remove the leading zeroes.\n",
    "    result = result[next((\n",
    "        i for i, x in enumerate(result) if x != 0), len(result)):] or [0]\n",
    "    return [sign * result[0]] + result[1:]"
   ]
  },
  {
   "cell_type": "code",
   "execution_count": 86,
   "metadata": {},
   "outputs": [
    {
     "name": "stdout",
     "output_type": "stream",
     "text": [
      "[0, 0, 0, 0, 0, 0, 0, 4]\n",
      "[0, 0, 0, 0, 0, 0, 8, 4]\n",
      "[0, 0, 0, 0, 1, 2, 8, 4]\n",
      "[0, 0, 0, 1, 7, 2, 8, 4]\n",
      "[0, 0, 0, 1, 7, 3, 1, 4]\n",
      "[0, 0, 0, 1, 7, 9, 1, 4]\n",
      "[0, 0, 0, 2, 6, 9, 1, 4]\n",
      "[0, 0, 1, 4, 6, 9, 1, 4]\n",
      "[0, 0, 1, 4, 7, 1, 1, 4]\n",
      "[0, 0, 1, 5, 1, 1, 1, 4]\n",
      "[0, 0, 2, 1, 1, 1, 1, 4]\n",
      "[0, 1, 0, 1, 1, 1, 1, 4]\n",
      "[0, 1, 0, 1, 2, 1, 1, 4]\n",
      "[0, 1, 0, 3, 2, 1, 1, 4]\n",
      "[0, 1, 3, 3, 2, 1, 1, 4]\n",
      "[0, 5, 3, 3, 2, 1, 1, 4]\n"
     ]
    },
    {
     "data": {
      "text/plain": [
       "[5, 3, 3, 2, 1, 1, 4]"
      ]
     },
     "execution_count": 86,
     "metadata": {},
     "output_type": "execute_result"
    }
   ],
   "source": [
    "multiply([1,2,3,4],[4,3,2,1])\n"
   ]
  },
  {
   "cell_type": "code",
   "execution_count": 67,
   "metadata": {},
   "outputs": [
    {
     "name": "stdout",
     "output_type": "stream",
     "text": [
      "100\n",
      "20\n",
      "2\n"
     ]
    }
   ],
   "source": [
    "num = [1,2,2]\n",
    "for i, n in enumerate(num):\n",
    "    print(n*(10**(len(num)-(i+1))))\n",
    "    "
   ]
  },
  {
   "cell_type": "markdown",
   "metadata": {},
   "source": [
    "# 5.4 Advancing through an array*"
   ]
  },
  {
   "cell_type": "code",
   "execution_count": 93,
   "metadata": {},
   "outputs": [],
   "source": [
    "def advancing(nums):\n",
    "    max_jump = i = 0\n",
    "    last_index = len(nums) - 1\n",
    "    \n",
    "    if last_index == 0:\n",
    "        return True\n",
    "\n",
    "    while i <= max_jump:\n",
    "        max_jump = max(i + nums[i], max_jump)\n",
    "        print(i, max_jump)\n",
    "        if max_jump >= last_index:\n",
    "            return True\n",
    "        i += 1\n",
    "    return False\n",
    "    \n",
    "\n",
    "    \n",
    "        \n",
    "        "
   ]
  },
  {
   "cell_type": "code",
   "execution_count": 98,
   "metadata": {},
   "outputs": [
    {
     "name": "stdout",
     "output_type": "stream",
     "text": [
      "0 3\n",
      "1 4\n",
      "2 4\n",
      "3 4\n",
      "4 6\n"
     ]
    },
    {
     "data": {
      "text/plain": [
       "True"
      ]
     },
     "execution_count": 98,
     "metadata": {},
     "output_type": "execute_result"
    }
   ],
   "source": [
    "# nums = [2, 3, 1, 1, 4]\n",
    "# nums = [3, 2, 1, 0, 2, 0, 1]\n",
    "# nums = [1, 1, 2, 1, 0, 3, 2]\n",
    "nums = [3, 3, 1, 0, 2, 0, 1]\n",
    "# nums = [1]\n",
    "advancing(nums)"
   ]
  },
  {
   "cell_type": "markdown",
   "metadata": {},
   "source": [
    "# 5.5 Delete duplicates from a sorted array"
   ]
  },
  {
   "cell_type": "code",
   "execution_count": 147,
   "metadata": {},
   "outputs": [],
   "source": [
    "def remove_duplicates(nums):\n",
    "    i = len(nums)-1;\n",
    "    while i > 0:\n",
    "        if nums[i] == nums[i-1]:\n",
    "            nums.pop(i)\n",
    "        i -= 1\n",
    "    return len(nums)"
   ]
  },
  {
   "cell_type": "markdown",
   "metadata": {},
   "source": [
    "# 5.6 Buy and sell stock once*\n",
    "\n",
    "Say you have an array for which the ith element is the price of a given stock on day i.\n",
    "\n",
    "If you were only permitted to complete at most one transaction (i.e., buy one and sell one share of the stock), design an algorithm to find the maximum profit.\n",
    "\n",
    "Note that you cannot sell a stock before you buy one.\n",
    "\n",
    "Example 1:\n",
    "\n",
    "Input: [7,1,5,3,6,4]\n",
    "Output: 5\n",
    "Explanation: Buy on day 2 (price = 1) and sell on day 5 (price = 6), profit = 6-1 = 5.\n",
    "             Not 7-1 = 6, as selling price needs to be larger than buying price.\n",
    "Example 2:\n",
    "\n",
    "Input: [7,6,4,3,1]\n",
    "Output: 0\n",
    "Explanation: In this case, no transaction is done, i.e. max profit = 0.\n"
   ]
  },
  {
   "cell_type": "code",
   "execution_count": 205,
   "metadata": {},
   "outputs": [],
   "source": [
    "def buy_and_sell(nums):\n",
    "    if not nums: return 0\n",
    "    max_profit = i = sell = 0\n",
    "    buy = nums[i]\n",
    "    while i < len(nums)-1:\n",
    "        if nums[i] < buy:\n",
    "            buy = nums[i]\n",
    "            sell = nums[i]\n",
    "        sell = max(sell, nums[i+1])\n",
    "        max_profit = max(sell-buy, max_profit)\n",
    "        i += 1\n",
    "    return max_profit\n",
    "        "
   ]
  },
  {
   "cell_type": "code",
   "execution_count": 216,
   "metadata": {},
   "outputs": [
    {
     "data": {
      "text/plain": [
       "0"
      ]
     },
     "execution_count": 216,
     "metadata": {},
     "output_type": "execute_result"
    }
   ],
   "source": [
    "# nums = [7,5,1,3,6,4] #5\n",
    "# nums = [1,2,3,4,5] #4\n",
    "# nums = [7,6,4,3,1] #0\n",
    "# nums = [1,1,1] #0\n",
    "# nums = [2,5] #3\n",
    "# nums = [5,2] #0\n",
    "# nums = [3,2,6,5,0,3] #4\n",
    "nums = [1]\n",
    "# nums = []\n",
    "buy_and_sell(nums)"
   ]
  },
  {
   "cell_type": "markdown",
   "metadata": {},
   "source": [
    "# 5.7 Buy and sell stock twice*\n",
    "\n",
    "Algorithm: \n",
    "\n",
    "#1 \n",
    "Traverse the list and compute max profits each day by comparing stock price that day and mininum price of stock so far. \n",
    "max_profit_so_far = max(max_profit_so_far, price[i] - min_price_of_stock_so_far)\n",
    "The results are appended to profits list. This list encompasses most profitable transactions. \n",
    "#2\n",
    "Now we must see how we are to make the second transaction, since it has to happen after the first one. \n",
    "For that purpose, we do the same thing as above, but now from back to front. \n",
    "With that in mind, we reverse the list, and start calculating the highest profit we can obtain each day. \n",
    "First we set max_profit to the first item in the new, reversed price list. \n",
    "From there we calculate the max_profit. \n",
    "max_profit_so_far = max(max_profit_so_far, prices[i])\n",
    "The results are compared to the previous item in the p2 list, and appended if greater\n",
    "p2[i] = max(max_profit_so_far-prices[i], p2[i-1])\n",
    "\n",
    "#3\n",
    "Finally we have the max_profits for first transaction(p1) and max_profits for second transaction(p2), and we can just sum the values and extract the greatest sum of all, but we can't forget to reverse the second list back so that the days coincide. \n",
    "        \n",
    "\n",
    "\n"
   ]
  },
  {
   "cell_type": "code",
   "execution_count": 133,
   "metadata": {},
   "outputs": [],
   "source": [
    "def buy_and_sell_twice(prices):\n",
    "    \n",
    "    if len(prices) == 0: return 0\n",
    "    \n",
    "    p1 = [0]*len(prices)\n",
    "    max_profit, min_so_far = 0, prices[0]\n",
    "    \n",
    "    for i in range(1, len(prices)):\n",
    "        min_so_far = min(min_so_far, prices[i])\n",
    "        max_profit = max(max_profit, prices[i]-min_so_far)\n",
    "        p1[i] = max_profit\n",
    "\n",
    "    prices.reverse()\n",
    "    p2, max_profit = [0]*len(prices), prices[0]\n",
    "   \n",
    "    for i in range(1, len(prices)):\n",
    "        max_profit = max(max_profit, prices[i])\n",
    "        p2[i] = max(max_profit-prices[i], p2[i-1])\n",
    "        \n",
    "#     for i in range(len(prices)-2, -1, -1): #no need to reverse\n",
    "#         max_profit = max(max_profit, prices[i])\n",
    "#         p2[i] = max(max_profit-prices[i], p2[i+1])\n",
    "    \n",
    "    max_profit = 0\n",
    "    p2.reverse()\n",
    "\n",
    "    for i in range(1, len(prices)):\n",
    "        max_profit = max(max_profit, p1[i] + p2[i])\n",
    "    \n",
    "    return max_profit"
   ]
  },
  {
   "cell_type": "code",
   "execution_count": 134,
   "metadata": {},
   "outputs": [
    {
     "name": "stdout",
     "output_type": "stream",
     "text": [
      "[0, 0, 3, 4, 4, 8, 8]\n"
     ]
    },
    {
     "data": {
      "text/plain": [
       "11"
      ]
     },
     "execution_count": 134,
     "metadata": {},
     "output_type": "execute_result"
    }
   ],
   "source": [
    "# nums= [12, 11, 13, 9, 12, 8, 14, 13, 15]\n",
    "# nums = [7,5,1,3,6,4] #5\n",
    "# nums = [1,2,3,4,5] #4\n",
    "# nums = [7,6,4,3,1] #0\n",
    "# nums = [1,1,1] #0\n",
    "# nums = [2,5] #3\n",
    "# nums = [5,2] #0\n",
    "# nums = [3,2,6,5,0,3] #7\n",
    "# nums = [1]\n",
    "# nums = []\n",
    "# nums = [1, 4, 5, 7, 6, 3, 2, 9]\n",
    "# nums = [1, 2, 3, 4, 5]\n",
    "# nums = [3,3,5,0,0,3,1,4]\n",
    "nums = [2,1,4,5,2,9,7]\n",
    "buy_and_sell_twice(nums)"
   ]
  },
  {
   "cell_type": "markdown",
   "metadata": {},
   "source": [
    "# 5.9 Enumerate all primes to n*\n"
   ]
  },
  {
   "cell_type": "code",
   "execution_count": 1,
   "metadata": {},
   "outputs": [],
   "source": [
    "import time\n",
    "#Time complexity: O(nloglogn)\n",
    "def generate_primes(n):\n",
    "    primes = []\n",
    "    if n < 2: return []\n",
    "    true = [1]*n\n",
    "\n",
    "    true[0] = true[1] = 0\n",
    "    \n",
    "    for i in range(2, int(n**0.5)+1):\n",
    "        if true[i] == 1:\n",
    "            for j in range(i*i, n, i):\n",
    "                true[j] = 0\n",
    "    \n",
    "    for i in range(len(true)):\n",
    "        if true[i] == 1:\n",
    "            primes.append(i)\n",
    "    return primes\n",
    "            "
   ]
  },
  {
   "cell_type": "code",
   "execution_count": 11,
   "metadata": {},
   "outputs": [
    {
     "name": "stdout",
     "output_type": "stream",
     "text": [
      "Took 0.2764890193939209 seconds to get primes\n"
     ]
    }
   ],
   "source": [
    "start = time.time()\n",
    "generate_primes(1000000)\n",
    "stop = time.time()\n",
    "print('Took %s seconds to get primes' % (stop-start))"
   ]
  },
  {
   "cell_type": "markdown",
   "metadata": {},
   "source": [
    "# 5.10 Permute the elements of an array"
   ]
  },
  {
   "cell_type": "code",
   "execution_count": 1,
   "metadata": {},
   "outputs": [],
   "source": [
    "def permute(perm, A): \n",
    "    if len(perm) != 0: j = perm[0]\n",
    "    #try: j = perm[0] \n",
    "    #except: pass\n",
    "    for i in range(len(A)-1):  \n",
    "        while j != i: \n",
    "            A[i], A[j] = A[j], A[i]\n",
    "            perm[i], perm[j] = perm[j], perm[i]\n",
    "            j = perm[i]          \n",
    "        i += 1\n",
    "        j = perm[i]      \n",
    "    return A, perm"
   ]
  },
  {
   "cell_type": "code",
   "execution_count": 45,
   "metadata": {},
   "outputs": [
    {
     "data": {
      "text/plain": [
       "([], [])"
      ]
     },
     "execution_count": 45,
     "metadata": {},
     "output_type": "execute_result"
    }
   ],
   "source": [
    "# permute([50,40,70,60,90], [3,0,4,1,2])\n",
    "# permute(['a', 'b', 'c', 'd'], [2, 0, 1, 3])\n",
    "# permute(['a', 'b', 'c', 'd'], [2, 0, 1, 3])\n",
    "# permute([1, 0, 2], [10, 11, 12])\n",
    "permute([], [])"
   ]
  },
  {
   "cell_type": "markdown",
   "metadata": {},
   "source": [
    "# 5.11 Compute the next permutation"
   ]
  },
  {
   "cell_type": "code",
   "execution_count": 46,
   "metadata": {},
   "outputs": [],
   "source": [
    "def next_permutation(perm):\n",
    "    reached_end = True\n",
    "    i = len(perm)-1\n",
    "   \n",
    "    for i in range(len(perm)-1, 0, -1):\n",
    "        if perm[i-1] < perm[i]:\n",
    "            reached_end = False\n",
    "            for j in range(len(perm)-1, i-1, -1):   \n",
    "                if perm[j] > perm[i-1]:\n",
    "                    perm[i-1], perm[j] = perm[j], perm[i-1]\n",
    "                    break\n",
    "            perm[i:] = reversed(perm[i:])\n",
    "            break \n",
    "    if reached_end: return []\n",
    "    return perm"
   ]
  },
  {
   "cell_type": "markdown",
   "metadata": {},
   "source": [
    "# 5.12 Sample offline data"
   ]
  },
  {
   "cell_type": "code",
   "execution_count": 40,
   "metadata": {},
   "outputs": [],
   "source": [
    "from random import randint\n",
    "\n",
    "def random_sample(k, A):\n",
    "    if len(A) == 0: return A\n",
    "    for i in range(k):\n",
    "        r = randint(i, len(A)-1)\n",
    "        A[r], A[i] = A[i], A[r]\n",
    "    return A[:k]"
   ]
  },
  {
   "cell_type": "code",
   "execution_count": 43,
   "metadata": {},
   "outputs": [
    {
     "data": {
      "text/plain": [
       "[15]"
      ]
     },
     "execution_count": 43,
     "metadata": {},
     "output_type": "execute_result"
    }
   ],
   "source": [
    "random_sample(1,[10, 14, 15, 16])"
   ]
  },
  {
   "cell_type": "code",
   "execution_count": 15,
   "metadata": {},
   "outputs": [
    {
     "name": "stdout",
     "output_type": "stream",
     "text": [
      "100\n",
      "20\n",
      "2\n"
     ]
    }
   ],
   "source": [
    "num = [1,2,2]\n",
    "for i, n in enumerate(num):\n",
    "    print(n*(10**(len(num)-(i+1))))\n",
    "    "
   ]
  },
  {
   "cell_type": "markdown",
   "metadata": {},
   "source": [
    "# 5.20 Pascal's Triangle\n"
   ]
  },
  {
   "cell_type": "code",
   "execution_count": 87,
   "metadata": {},
   "outputs": [],
   "source": [
    "def pascals_triangle(n):\n",
    "    \n",
    "    if n == 0: return []\n",
    "    if n == 1: return [[1]]\n",
    "    if n == 2: return [[1],[1,1]]\n",
    "    \n",
    "    result = [[1]]\n",
    "    sum = 0\n",
    "    \n",
    "    #from second row until n\n",
    "    for i in range(2, n+1):\n",
    "        row = [1,1]\n",
    "        \n",
    "        for j in range(1, i-1): #Not going to run when j = 1  \n",
    "            #sum the two numbers right above row \n",
    "            sum += result[i-2][j-1] + result[i-2][j]\n",
    "            #insert sums in between 1s \n",
    "            row.insert(-1, sum)\n",
    "            sum = 0 \n",
    "        result.append(row)      \n",
    "        \n",
    "    return result"
   ]
  },
  {
   "cell_type": "code",
   "execution_count": null,
   "metadata": {},
   "outputs": [],
   "source": []
  }
 ],
 "metadata": {
  "kernelspec": {
   "display_name": "Python 3",
   "language": "python",
   "name": "python3"
  },
  "language_info": {
   "codemirror_mode": {
    "name": "ipython",
    "version": 3
   },
   "file_extension": ".py",
   "mimetype": "text/x-python",
   "name": "python",
   "nbconvert_exporter": "python",
   "pygments_lexer": "ipython3",
   "version": "3.6.4"
  }
 },
 "nbformat": 4,
 "nbformat_minor": 2
}
