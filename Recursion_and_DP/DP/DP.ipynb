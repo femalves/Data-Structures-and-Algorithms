{
 "cells": [
  {
   "cell_type": "markdown",
   "metadata": {},
   "source": [
    "# Dynamic programming \n",
    "\n",
    "\n",
    "## Conditions that need to be present so we can use DP\n",
    "###  Overlapping subproblems\n",
    "    * E.g. Fibonacci \n",
    "### Optimal substructure\n",
    "A problem is said to have optimal substructure if an optimal solution can be constructed from optimal solutions of its subproblems\n",
    "\n",
    "## Memoization\n",
    "Top-down\n",
    "## Tabulation\n",
    "Bottom-up\n",
    "\n",
    "Storing the result af a previous result in a table (usually an array)\n",
    "\n",
    "usually done using iteration\n",
    "\n",
    "Better space complexity can be achieved using tabulation\n"
   ]
  },
  {
   "cell_type": "code",
   "execution_count": 93,
   "metadata": {},
   "outputs": [],
   "source": [
    "# Naive recursive algorithm\n",
    "def fib(num):\n",
    "    if num < 3: \n",
    "        return 1\n",
    "    return fib(num-1) + fib(num-2)"
   ]
  },
  {
   "cell_type": "code",
   "execution_count": 24,
   "metadata": {},
   "outputs": [
    {
     "data": {
      "text/plain": [
       "2"
      ]
     },
     "execution_count": 24,
     "metadata": {},
     "output_type": "execute_result"
    }
   ],
   "source": [
    "fib(3)"
   ]
  },
  {
   "cell_type": "code",
   "execution_count": 67,
   "metadata": {},
   "outputs": [],
   "source": [
    "# Memoization\n",
    "fibonacci_cache = {}\n",
    "def fib(n): \n",
    "    if n in fibonacci_cache: \n",
    "        return fibonacci_cache[n]\n",
    "    if n <= 2: \n",
    "        value = 1\n",
    "    else: \n",
    "        value = fib(n-1) + fib(n-2)\n",
    "    fibonacci_cache[n] = value\n",
    "    return value"
   ]
  },
  {
   "cell_type": "code",
   "execution_count": 69,
   "metadata": {},
   "outputs": [
    {
     "data": {
      "text/plain": [
       "70330367711422815821835254877183549770181269836358732742604905087154537118196933579742249494562611733487750449241765991088186363265450223647106012053374121273867339111198139373125598767690091902245245323403501"
      ]
     },
     "execution_count": 69,
     "metadata": {},
     "output_type": "execute_result"
    }
   ],
   "source": [
    "fib(1001)"
   ]
  },
  {
   "cell_type": "markdown",
   "metadata": {},
   "source": [
    "* fib(k) only recurses the first time it's called. \n",
    "* Memoized calls cost constant time O(1). \n",
    "* Non-memoized calls is n\n",
    "* Nonrecursive work per call is O(1) \n",
    "* Time = O(n)\n",
    "\n",
    "## Memoize (remember) \n",
    "* Reuse solutions to subproblems that help solve the problem\n",
    "* DP is recursion + memoization\n",
    "* Time: number of subproblems * (time/subproblem)\n"
   ]
  },
  {
   "cell_type": "code",
   "execution_count": 108,
   "metadata": {},
   "outputs": [],
   "source": [
    "# Bottom-up DP algorithm \n",
    "def fib(n): \n",
    "    fib = {}\n",
    "    for k in range(1, n+1): \n",
    "        if k <= 2: f = 1\n",
    "        else: f = fib[k-1] + fib[k-2]\n",
    "        fib[k] = f\n",
    "    return fib[n]"
   ]
  },
  {
   "cell_type": "code",
   "execution_count": 109,
   "metadata": {},
   "outputs": [
    {
     "data": {
      "text/plain": [
       "55"
      ]
     },
     "execution_count": 109,
     "metadata": {},
     "output_type": "execute_result"
    }
   ],
   "source": [
    "fib(10)"
   ]
  },
  {
   "cell_type": "markdown",
   "metadata": {},
   "source": [
    "* The bottom-up approach (above) does the exact same computation of topological sort of subproblem dependency DAG (directed acyclic graph) \n",
    "* Can often save space\n",
    "* We can just save the last two items and delete everything else each time"
   ]
  },
  {
   "cell_type": "code",
   "execution_count": 71,
   "metadata": {},
   "outputs": [],
   "source": [
    "from functools import lru_cache\n",
    "\n",
    "@lru_cache(maxsize=1000)\n",
    "def fib(num):\n",
    "    if num < 3: return 1\n",
    "    return fib(num-1) + fib(num-2)\n",
    "    "
   ]
  },
  {
   "cell_type": "code",
   "execution_count": 74,
   "metadata": {},
   "outputs": [
    {
     "data": {
      "text/plain": [
       "1134903170"
      ]
     },
     "execution_count": 74,
     "metadata": {},
     "output_type": "execute_result"
    }
   ],
   "source": [
    "fib(45)"
   ]
  },
  {
   "cell_type": "code",
   "execution_count": 89,
   "metadata": {},
   "outputs": [],
   "source": [
    "def fib(n, cache=[0,1,1]): \n",
    "    if n < len(cache): return cache[n]\n",
    "    out = fib(n-1, cache)+ fib(n-2, cache)\n",
    "    cache.append(out)\n",
    "    return out"
   ]
  },
  {
   "cell_type": "code",
   "execution_count": 92,
   "metadata": {},
   "outputs": [
    {
     "data": {
      "text/plain": [
       "139423224561697880139724382870407283950070256587697307264108962948325571622863290691557658876222521294125"
      ]
     },
     "execution_count": 92,
     "metadata": {},
     "output_type": "execute_result"
    }
   ],
   "source": [
    "fib(500)"
   ]
  },
  {
   "cell_type": "code",
   "execution_count": 104,
   "metadata": {},
   "outputs": [],
   "source": [
    "# Tabulation\n",
    "def fib(n): \n",
    "    if n <= 2: return 1\n",
    "    fibNums = [0, 1, 1]\n",
    "    for i in range(3, n+1): \n",
    "        fibNums.append(fibNums[i-1] + fibNums[i-2])\n",
    "    return fibNums[n]\n",
    "    "
   ]
  },
  {
   "cell_type": "code",
   "execution_count": 107,
   "metadata": {},
   "outputs": [
    {
     "data": {
      "text/plain": [
       "33644764876431783266621612005107543310302148460680063906564769974680081442166662368155595513633734025582065332680836159373734790483865268263040892463056431887354544369559827491606602099884183933864652731300088830269235673613135117579297437854413752130520504347701602264758318906527890855154366159582987279682987510631200575428783453215515103870818298969791613127856265033195487140214287532698187962046936097879900350962302291026368131493195275630227837628441540360584402572114334961180023091208287046088923962328835461505776583271252546093591128203925285393434620904245248929403901706233888991085841065183173360437470737908552631764325733993712871937587746897479926305837065742830161637408969178426378624212835258112820516370298089332099905707920064367426202389783111470054074998459250360633560933883831923386783056136435351892133279732908133732642652633989763922723407882928177953580570993691049175470808931841056146322338217465637321248226383092103297701648054726243842374862411453093812206564914032751086643394517512161526545361333111314042436854805106765843493523836959653428071768775328348234345557366719731392746273629108210679280784718035329131176778924659089938635459327894523777674406192240337638674004021330343297496902028328145933418826817683893072003634795623117103101291953169794607632737589253530772552375943788434504067715555779056450443016640119462580972216729758615026968443146952034614932291105970676243268515992834709891284706740862008587135016260312071903172086094081298321581077282076353186624611278245537208532365305775956430072517744315051539600905168603220349163222640885248852433158051534849622434848299380905070483482449327453732624567755879089187190803662058009594743150052402532709746995318770724376825907419939632265984147498193609285223945039707165443156421328157688908058783183404917434556270520223564846495196112460268313970975069382648706613264507665074611512677522748621598642530711298441182622661057163515069260029861704945425047491378115154139941550671256271197133252763631939606902895650288268608362241082050562430701794976171121233066073310059947366875"
      ]
     },
     "execution_count": 107,
     "metadata": {},
     "output_type": "execute_result"
    }
   ],
   "source": [
    "fib(10000)"
   ]
  },
  {
   "cell_type": "markdown",
   "metadata": {},
   "source": [
    "## Shortest path\n",
    "\n",
    "Guessing: dont't know the answer? Guess. Try all guesses and take the best one\n",
    "\n",
    "Infinite time on graphs with cycles \n",
    "DAGS:   O(v+e)\n",
    "Time for subproblems (S(s,v)) = indegree (incoming edges) of v + 1\n",
    "Total time = sum indegree(v) + 1 \n",
    "\n",
    "* Subproblem dependencies should be acyclic"
   ]
  }
 ],
 "metadata": {
  "kernelspec": {
   "display_name": "Python 3",
   "language": "python",
   "name": "python3"
  },
  "language_info": {
   "codemirror_mode": {
    "name": "ipython",
    "version": 3
   },
   "file_extension": ".py",
   "mimetype": "text/x-python",
   "name": "python",
   "nbconvert_exporter": "python",
   "pygments_lexer": "ipython3",
   "version": "3.6.4"
  }
 },
 "nbformat": 4,
 "nbformat_minor": 2
}
