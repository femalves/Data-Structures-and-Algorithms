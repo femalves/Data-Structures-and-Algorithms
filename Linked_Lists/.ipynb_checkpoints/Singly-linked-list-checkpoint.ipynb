{
 "cells": [
  {
   "cell_type": "code",
   "execution_count": 466,
   "metadata": {},
   "outputs": [],
   "source": [
    "class ListNode(object):\n",
    "    \n",
    "    def __init__(self, value):\n",
    "        \n",
    "        self.value = value\n",
    "        self.next = None\n",
    "        \n",
    "class LinkedList(object):\n",
    "    \n",
    "    def __init__(self, head = None, tail = None): \n",
    "        self.head = head\n",
    "        self.tail = tail\n",
    "        self.size = 0\n",
    "    \n",
    "    def __str__(self):\n",
    "        node = self.head\n",
    "        result = \"\"\n",
    "        while node != None:\n",
    "            result += str(node.value) + \"->\"\n",
    "            node = node.next\n",
    "        return result[:-2]\n",
    "        \n",
    "    # Add item to the beginning of list. Return nothing.\n",
    "    def add(self, value):\n",
    "        newNode = ListNode(value)\n",
    "        if not self.head: \n",
    "            self.head = newNode\n",
    "            self.tail = newNode\n",
    "        else:\n",
    "            oldHead = self.head\n",
    "            self.head = newNode\n",
    "            newNode.next = oldHead\n",
    "        self.size += 1\n",
    "    \n",
    "    # Add item to the end of list. Pass item. Return nothing\n",
    "    def append(self, value):\n",
    "        newNode = Node(value);\n",
    "        if not self.head: \n",
    "            self.head = newNode;\n",
    "            self.tail = newNode;\n",
    "            self.tail.next = None\n",
    "        else:\n",
    "            self.tail.next = newNode \n",
    "            self.tail = newNode\n",
    "            self.tail.next = None\n",
    "        self.size += 1\n",
    "    \n",
    "    # Return node at given index\n",
    "    def getNode(self, index):\n",
    "        node = self.head\n",
    "        counter = 0\n",
    "        for i in range(self.getSize()): \n",
    "            if i == index:\n",
    "                return node\n",
    "            node = node.next\n",
    "        return -1\n",
    "            \n",
    "    # Search for item in the list. Pass item. Return boolean\n",
    "    def search(self, value):\n",
    "        node = self.head\n",
    "        for i in range(self.getSize()):\n",
    "            if node.value == value:\n",
    "                return True\n",
    "            node = node.next\n",
    "        return False\n",
    "    \n",
    "    # Test to see whether the list is empty. Return boolean\n",
    "    def isEmpty(self):\n",
    "        return not self.head\n",
    "    \n",
    "    # Return the number of items in the list. Return integer\n",
    "    def getSize(self):\n",
    "        return self.size\n",
    "    \n",
    "    # Return position of item in the list. Pass item. Return item index\n",
    "    def index(self, value):\n",
    "        node = self.head\n",
    "        for i in range(self.getSize()):\n",
    "            if node.value == value:\n",
    "                return i\n",
    "            node = node.next\n",
    "        return -1\n",
    "    \n",
    "    # Add new item at position given. Need item and return nothing\n",
    "    def insert(self, index, value):\n",
    "        if index == 0: return self.add(value)\n",
    "        if index == self.getSize(): return self.append(value)\n",
    "        else:\n",
    "            newNode = Node(value)\n",
    "            prevNode = self.getNode(index-1)\n",
    "            nextNode =  self.getNode(index)\n",
    "            prevNode.next = newNode\n",
    "            newNode.next = nextNode\n",
    "            self.size += 1\n",
    "    \n",
    "    # Remove and return last item\n",
    "    def pop(self):\n",
    "        node = self.head\n",
    "        for i in range(self.getSize()-2):\n",
    "            node = node.next    \n",
    "        removedItem = node.next\n",
    "        self.tail = node\n",
    "        self.tail.next = None\n",
    "        self.size -= 1\n",
    "        return removedItem.value\n",
    "    \n",
    "    # Remove item from list. Pass item. Return boolean\n",
    "    # 1 -> 2 -> 3 -> 4 -> 5\n",
    "    def remove(self, value):\n",
    "        \n",
    "        if value == self.head.value: \n",
    "            removedNode = self.head\n",
    "            self.head = removedNode.next\n",
    "            removedNode.next = None\n",
    "            self.size -= 1\n",
    "            return not not removedNode\n",
    "        elif value == self.tail.value: return not not self.pop()\n",
    "        else: \n",
    "            node = self.head\n",
    "            for i in range(self.getSize()):\n",
    "                if value == node.value:\n",
    "                    prevNode = self.getNode(i-1)\n",
    "                    removedNode = self.getNode(i)\n",
    "                    nextNode = self.getNode(i+1)\n",
    "                    prevNode.next = nextNode\n",
    "                    removedNode.next = None\n",
    "                    self.size -= 1\n",
    "                    return not not removedNode\n",
    "                node = node.next\n",
    "        return False\n",
    "        \n",
    "    # Remove and return item at position pos\n",
    "    def remove_by_index(self, index):\n",
    "        pass\n",
    "    \n",
    "    \n",
    "            \n",
    "    \n",
    "            \n",
    "\n",
    "    \n",
    "    \n",
    "    "
   ]
  },
  {
   "cell_type": "code",
   "execution_count": 482,
   "metadata": {},
   "outputs": [
    {
     "data": {
      "text/plain": [
       "False"
      ]
     },
     "execution_count": 482,
     "metadata": {},
     "output_type": "execute_result"
    }
   ],
   "source": [
    "# a = Node(1)\n",
    "# b = Node(2)\n",
    "# c = Node(3)\n",
    "myList = LinkedList()\n",
    "myList.add(5)\n",
    "myList.add(4)\n",
    "myList.add(3)\n",
    "myList.add(2)\n",
    "myList.add(1)\n",
    "# myList.append(6)\n",
    "# myList.printNode()\n",
    "# myList.getSize()\n",
    "# myList.remove(4)\n",
    "# myList.append(0)\n",
    "# myList.search(15)\n",
    "# myList.isEmpty()\n",
    "# myList.index(6)\n",
    "# # print(myList)\n",
    "# # myList.head.value\n",
    "# # myList.head.value\n",
    "# # myList.getNode(4).value\n",
    "# myList.insert(0, 0)\n",
    "# myList.insert(6, 6)\n",
    "# myList.insert(5, 5)\n",
    "# myList.getSize()\n",
    "# # print(myList)\n",
    "# myList.pop()\n",
    "# myList.getSize()\n",
    "myList.remove(10)\n",
    "# # print(myList)\n",
    "# myList.remove(1)\n",
    "# # print(myList)\n",
    "# myList.remove(4)\n",
    "# # print(myList)\n",
    "# myList.remove(5)\n",
    "# # print(myList)\n",
    "# myList.remove(2)\n",
    "# # print(myList)"
   ]
  },
  {
   "cell_type": "code",
   "execution_count": 2,
   "metadata": {},
   "outputs": [],
   "source": [
    "# Definition for singly-linked list.\n",
    "class ListNode(object):\n",
    "    def __init__(self, x):\n",
    "        self.val = x\n",
    "        self.next = None\n",
    "\n",
    "class Solution(object):\n",
    "    def deleteNode(self, node):\n",
    "        \"\"\"\n",
    "        :type node: ListNode\n",
    "        :rtype: void Do not return anything, modify node in-place instead.\n",
    "        \"\"\"\n",
    "        node.val, node.next = node.next.val, node.next.next\n",
    "        \n",
    "    def removeElements(self, head, val):\n",
    "        \"\"\"\n",
    "        :type head: ListNode\n",
    "        :type val: int\n",
    "        :rtype: ListNode\n",
    "        \"\"\"\n",
    "        node = head\n",
    "        while node.next:\n",
    "            if node.val == val: \n",
    "                node.val, node = node.next.val, node.next\n",
    "            node = node.next \n",
    "    \n",
    "    def hasCycle(head):\n",
    "        runner1 = runner2 = head\n",
    "\n",
    "        while runner2 and runner2.next:\n",
    "            runner1 = runner1.next\n",
    "            runner2 = runner2.next.next  \n",
    "            if runner1 == runner2:\n",
    "                return True\n",
    "        return False\n",
    "    \n",
    "    def reverseList(head):\n",
    "        current = head\n",
    "        nextNode = None\n",
    "        prev = None\n",
    "\n",
    "        while current: \n",
    "            nextNode = current.next\n",
    "            current.next = prev\n",
    "            prev = current\n",
    "            current = nextNode\n",
    "        return prev\n",
    "    \n",
    "    def printList(head):\n",
    "        node = head\n",
    "\n",
    "        while node: \n",
    "            print(node.val)\n",
    "            node = node.next\n",
    "\n",
    "\n",
    "            \n",
    "    "
   ]
  },
  {
   "cell_type": "code",
   "execution_count": 3,
   "metadata": {},
   "outputs": [],
   "source": [
    "a = ListNode(1)\n",
    "b = ListNode(2)\n",
    "c = ListNode(3)\n",
    "d = ListNode(4)\n",
    "a.next = b\n",
    "b.next = c\n",
    "c.next = d\n",
    "\n",
    "\n"
   ]
  },
  {
   "cell_type": "markdown",
   "metadata": {},
   "source": [
    "# 328. Odd Even Linked List\n",
    "Given a singly linked list, group all odd nodes together followed by the even nodes. Please note here we are talking about the node number and not the value in the nodes.\n",
    "\n",
    "You should try to do it in place. The program should run in O(1) space complexity and O(nodes) time complexity.\n",
    "\n",
    "Example 1:\n",
    "\n",
    "Input: 1->2->3->4->5->NULL\n",
    "Output: 1->3->5->2->4->NULL\n",
    "Example 2:\n",
    "\n",
    "Input: 2->1->3->5->6->4->7->NULL\n",
    "Output: 2->3->6->7->1->5->4->NULL\n",
    "Note:\n",
    "\n",
    "The relative order inside both the even and odd groups should remain as it was in the input.\n",
    "The first node is considered odd, the second node even and so on ..."
   ]
  },
  {
   "cell_type": "code",
   "execution_count": 277,
   "metadata": {},
   "outputs": [],
   "source": [
    "# 1 -> 2 -> 3 -> 4 -> 5 -> 6 -> 7 -> 8 -> 9 -> 10\n",
    "# 1 -> 3 -> 5 -> 7 -> 9 -> 2 -> 4 -> 6 -> 8 -> 10\n",
    "def odd_even(head):\n",
    "    if not head: return \n",
    "    even = evenhead = head.next\n",
    "    odd = oddhead = head\n",
    "\n",
    "    while even and even.next:\n",
    "        odd.next = even.next\n",
    "        even.next = odd.next.next\n",
    "        odd = odd.next\n",
    "        even = odd.next\n",
    "\n",
    "    odd.next = evenhead\n",
    "\n",
    "    return oddhead\n",
    "\n",
    "    \n",
    "    "
   ]
  },
  {
   "cell_type": "code",
   "execution_count": 278,
   "metadata": {},
   "outputs": [],
   "source": [
    "a = ListNode(1)\n",
    "b = ListNode(2)\n",
    "c = ListNode(3)\n",
    "# d = ListNode(4)\n",
    "# e = ListNode(5)\n",
    "# f = ListNode(6)\n",
    "# g = ListNode(7)\n",
    "# h = ListNode(8)\n",
    "# i = ListNode(9)\n",
    "# j = ListNode(10)\n",
    "\n",
    "a.next = b\n",
    "b.next = c\n",
    "# c.next = d\n",
    "# d.next = e\n",
    "# e.next = f\n",
    "# f.next = g\n",
    "# g.next = h\n",
    "# h.next = i \n",
    "# i.next = j"
   ]
  },
  {
   "cell_type": "code",
   "execution_count": 279,
   "metadata": {},
   "outputs": [],
   "source": [
    "result = odd_even(a)\n",
    "\n",
    "\n"
   ]
  },
  {
   "cell_type": "markdown",
   "metadata": {},
   "source": [
    "\n",
    "In a Linked List the first node is called the head and the last node is called the tail. Let's discuss the pros and cons of Linked Lists:\n",
    "\n",
    "Pros\n",
    "Linked Lists have constant-time insertions and deletions in any position, in comparison, arrays require O(n) time to do the same thing.\n",
    "\n",
    "Linked lists can continue to expand without having to specify their size ahead of time (remember our lectures on Array sizing form the Array Sequence section of the course!)\n",
    "\n",
    "Cons\n",
    "To access an element in a linked list, you need to take O(k) time to go from the head of the list to the kth element. In contrast, arrays have constant time operations to access elements in an array."
   ]
  },
  {
   "cell_type": "code",
   "execution_count": 12,
   "metadata": {},
   "outputs": [],
   "source": [
    "def printList(head):\n",
    "        node = head\n",
    "        result = \"\"\n",
    "        while node != None:\n",
    "            result += str(node.val) + \"->\"\n",
    "            node = node.next\n",
    "        return result[:-2]"
   ]
  },
  {
   "cell_type": "code",
   "execution_count": 281,
   "metadata": {},
   "outputs": [
    {
     "data": {
      "text/plain": [
       "'1->3->2'"
      ]
     },
     "execution_count": 281,
     "metadata": {},
     "output_type": "execute_result"
    }
   ],
   "source": [
    "printList(result)"
   ]
  },
  {
   "cell_type": "markdown",
   "metadata": {},
   "source": [
    "# 19. Remove Nth Node From End of List\n",
    "Given a linked list, remove the n-th node from the end of list and return its head.\n",
    "\n",
    "Example:\n",
    "\n",
    "Given linked list: 1->2->3->4->5, and n = 2.\n",
    "\n",
    "After removing the second node from the end, the linked list becomes 1->2->3->5.\n",
    "Note:\n",
    "\n",
    "Given n will always be valid.\n",
    "\n",
    "Follow up:\n",
    "\n",
    "Could you do this in one pass?"
   ]
  },
  {
   "cell_type": "code",
   "execution_count": 468,
   "metadata": {},
   "outputs": [],
   "source": [
    "def removeNthFromEnd(head, n):\n",
    "    \n",
    "    ishead = head\n",
    "    node = head\n",
    "    size = 1\n",
    "    \n",
    "    while node.next:\n",
    "        size +=1 \n",
    "        node = node.next\n",
    "        \n",
    "    if size == n and size == 1: \n",
    "        return \n",
    "    elif size == n: \n",
    "        ishead = head.next\n",
    "        return ishead\n",
    "    else: \n",
    "        counter = 1\n",
    "        node = head\n",
    "        while counter < size - n: \n",
    "            counter += 1\n",
    "            node = node.next\n",
    "\n",
    "    node.next = node.next.next\n",
    "   \n",
    "    return ishead \n",
    "  "
   ]
  },
  {
   "cell_type": "code",
   "execution_count": 471,
   "metadata": {},
   "outputs": [],
   "source": [
    "a = ListNode(1)\n",
    "b = ListNode(2)\n",
    "# c = ListNode(3)\n",
    "# # d = ListNode(4)\n",
    "# e = ListNode(5)\n",
    "# # f = ListNode(6)\n",
    "# # g = ListNode(7)\n",
    "# # h = ListNode(8)\n",
    "# # i = ListNode(9)\n",
    "# # j = ListNode(10)\n",
    "\n",
    "a.next = b\n",
    "# b.next = c\n",
    "# # # c.next = d\n",
    "# # d.next = e\n",
    "# # # e.next = f\n",
    "# # f.next = g\n",
    "# # g.next = h\n",
    "# # h.next = i \n",
    "# # i.next = j\n",
    "\n",
    "result = removeNthFromEnd(a,2)"
   ]
  },
  {
   "cell_type": "code",
   "execution_count": 472,
   "metadata": {},
   "outputs": [
    {
     "data": {
      "text/plain": [
       "'2'"
      ]
     },
     "execution_count": 472,
     "metadata": {},
     "output_type": "execute_result"
    }
   ],
   "source": [
    "printList(result)"
   ]
  },
  {
   "cell_type": "markdown",
   "metadata": {},
   "source": [
    "# 21. Merge Two Sorted Lists\n",
    "Merge two sorted linked lists and return it as a new list. The new list should be made by splicing together the nodes of the first two lists.\n",
    "\n",
    "Example:\n",
    "\n",
    "Input: 1->2->4, 1->3->4\n",
    "Output: 1->1->2->3->4->4\n"
   ]
  },
  {
   "cell_type": "code",
   "execution_count": 223,
   "metadata": {},
   "outputs": [],
   "source": [
    "def mergeTwoLists(l1, l2):\n",
    "    head = current = ListNode(None)\n",
    "    \n",
    "    while l1 and l2: \n",
    "\n",
    "        if l1.val <= l2.val:\n",
    "            current.next = l1\n",
    "            l1 = l1.next\n",
    "        else:\n",
    "            current.next = l2\n",
    "            l2 = l2.next\n",
    "        current = current.next\n",
    "    current.next = l1 or l2\n",
    "\n",
    "    return head.next\n",
    "\n",
    "      \n",
    "  \n",
    "    "
   ]
  },
  {
   "cell_type": "code",
   "execution_count": 2,
   "metadata": {},
   "outputs": [],
   "source": [
    "class ListNode:\n",
    "    def __init__(self, x):\n",
    "        self.val = x\n",
    "        self.next = None"
   ]
  },
  {
   "cell_type": "code",
   "execution_count": 225,
   "metadata": {},
   "outputs": [],
   "source": [
    "a = ListNode(1)\n",
    "b = ListNode(2)\n",
    "c = ListNode(4)\n",
    "a.next = b\n",
    "b.next = c\n",
    "\n",
    "d = ListNode(1)\n",
    "e = ListNode(3)\n",
    "f = ListNode(4)\n",
    "\n",
    "d.next = e\n",
    "e.next = f"
   ]
  },
  {
   "cell_type": "code",
   "execution_count": 226,
   "metadata": {},
   "outputs": [],
   "source": [
    "result = mergeTwoLists(a, d)"
   ]
  },
  {
   "cell_type": "code",
   "execution_count": 227,
   "metadata": {},
   "outputs": [
    {
     "data": {
      "text/plain": [
       "'1->1->2->3->4->4'"
      ]
     },
     "execution_count": 227,
     "metadata": {},
     "output_type": "execute_result"
    }
   ],
   "source": [
    "printList(result)"
   ]
  },
  {
   "cell_type": "markdown",
   "metadata": {},
   "source": [
    "# 23. Merge k Sorted Lists\n",
    "\n",
    "Merge k sorted linked lists and return it as one sorted list. Analyze and describe its complexity.\n",
    "\n",
    "Example:\n",
    "\n",
    "Input:\n",
    "[\n",
    "  1->4->5,\n",
    "  1->3->4,\n",
    "  2->6\n",
    "]\n",
    "Output: 1->1->2->3->4->4->5->6\n"
   ]
  },
  {
   "cell_type": "code",
   "execution_count": 586,
   "metadata": {},
   "outputs": [],
   "source": [
    "a = ListNode(1)\n",
    "b = ListNode(4)\n",
    "c = ListNode(5)\n",
    "\n",
    "a.next = b\n",
    "b.next = c\n",
    "\n",
    "d = ListNode(1)\n",
    "e = ListNode(3)\n",
    "f = ListNode(4)\n",
    "\n",
    "d.next = e\n",
    "e.next = f\n",
    "\n",
    "g = ListNode(2)\n",
    "h = ListNode(6)\n",
    "\n",
    "g.next = h"
   ]
  },
  {
   "cell_type": "code",
   "execution_count": 162,
   "metadata": {},
   "outputs": [],
   "source": [
    "def mergeKLists(lists):\n",
    "    result =[]\n",
    "    for node in lists:\n",
    "        while node:\n",
    "            result.append(node.val)\n",
    "            node = node.next\n",
    "    result.sort()\n",
    "    head = current = ListNode(None)\n",
    "    for item in result:\n",
    "        current.next = ListNode(item)\n",
    "        current = current.next\n",
    "    return head.next\n",
    "    \n"
   ]
  },
  {
   "cell_type": "code",
   "execution_count": 163,
   "metadata": {},
   "outputs": [],
   "source": [
    "result = mergeKLists([[]])\n"
   ]
  },
  {
   "cell_type": "code",
   "execution_count": 164,
   "metadata": {},
   "outputs": [
    {
     "data": {
      "text/plain": [
       "''"
      ]
     },
     "execution_count": 164,
     "metadata": {},
     "output_type": "execute_result"
    }
   ],
   "source": [
    "printList(result)"
   ]
  },
  {
   "cell_type": "markdown",
   "metadata": {},
   "source": [
    "# 24. Swap Nodes in Pairs\n",
    "Given a linked list, swap every two adjacent nodes and return its head.\n",
    "\n",
    "Example:\n",
    "\n",
    "Given 1->2->3->4, you should return the list as 2->1->4->3.\n",
    "Note:\n",
    "\n",
    "Your algorithm should use only constant extra space.\n",
    "You may not modify the values in the list's nodes, only nodes itself may be changed."
   ]
  },
  {
   "cell_type": "code",
   "execution_count": 175,
   "metadata": {},
   "outputs": [],
   "source": [
    "class ListNode(object):\n",
    "    def __init__(self, x):\n",
    "        self.val = x\n",
    "        self.next = None\n",
    "\n",
    "\n",
    "a = ListNode(1)\n",
    "b = ListNode(2)\n",
    "c = ListNode(3)\n",
    "d = ListNode(4)\n",
    "e = ListNode(5)\n",
    "f = ListNode(6)\n",
    "\n",
    "\n",
    "a.next = b\n",
    "b.next = c\n",
    "c.next = d\n",
    "d.next = e\n",
    "e.next = f\n",
    "\n",
    "\n"
   ]
  },
  {
   "cell_type": "code",
   "execution_count": 180,
   "metadata": {},
   "outputs": [],
   "source": [
    "# None -> 1 -> 2 -> 3 -> 4 -> 5 -> 6 -> None\n",
    "# None -> 2 -> 1 -> 4 -> 3 -> 6 -> 5 -> None\n",
    "def swapPairs(head):\n",
    "    \n",
    "    dummy = previous = ListNode(None) #None\n",
    "    dummy.next = current = nextNode = head\n",
    "    \n",
    "#     while prev.next and prev.next.next:\n",
    "       \n",
    "#         current = prev.next # 1\n",
    "#         nextNode = prev.next.next # 2\n",
    "        \n",
    "#         current.next = nextNode.next # 3\n",
    "#         prev.next = nextNode # 2 \n",
    "#         nextNode.next = current # 1\n",
    "#         # None -> 2 -> 1 -> 3\n",
    "        \n",
    "#         prev = prev.next.next #\n",
    "        \n",
    "            \n",
    "            \n",
    "        \n",
    "\n",
    "    return newHead.next\n"
   ]
  },
  {
   "cell_type": "code",
   "execution_count": 177,
   "metadata": {},
   "outputs": [],
   "source": [
    "result = swapPairs(a)"
   ]
  },
  {
   "cell_type": "code",
   "execution_count": 9,
   "metadata": {},
   "outputs": [],
   "source": [
    "def printList(head):\n",
    "        node = head\n",
    "        result = \"\"\n",
    "        while node != None:\n",
    "            result += str(node.val) + \"->\"\n",
    "            node = node.next\n",
    "        return result[:-2]"
   ]
  },
  {
   "cell_type": "code",
   "execution_count": 179,
   "metadata": {},
   "outputs": [
    {
     "data": {
      "text/plain": [
       "'2->1->4->3->6->5'"
      ]
     },
     "execution_count": 179,
     "metadata": {},
     "output_type": "execute_result"
    }
   ],
   "source": [
    "printList(b)\n",
    "\n"
   ]
  },
  {
   "cell_type": "code",
   "execution_count": 207,
   "metadata": {},
   "outputs": [],
   "source": [
    "# None -> 1 -> 2 -> 3 -> 4 -> 5\n",
    "# 5 -> 4 -> 3 -> 2 -> 1 -> None\n",
    "def reverse(head): \n",
    "    \n",
    "    current = head\n",
    "    prev = None\n",
    "\n",
    "    while current: \n",
    "        nextNode = current.next\n",
    "        current.next = prev\n",
    "        prev = current\n",
    "        current = nextNode\n",
    "    return prev\n",
    "    \n",
    "    \n",
    "    "
   ]
  },
  {
   "cell_type": "code",
   "execution_count": 349,
   "metadata": {},
   "outputs": [],
   "source": [
    "a = ListNode(1)\n",
    "b = ListNode(2)\n",
    "c = ListNode(3)\n",
    "d = ListNode(4)\n",
    "e = ListNode(5)\n",
    "# f = ListNode(6)\n",
    "\n",
    "\n",
    "a.next = b\n",
    "b.next = c\n",
    "c.next = d\n",
    "d.next = e\n",
    "# e.next = f\n",
    "\n"
   ]
  },
  {
   "cell_type": "code",
   "execution_count": 209,
   "metadata": {},
   "outputs": [],
   "source": [
    "result = reverse(a)"
   ]
  },
  {
   "cell_type": "code",
   "execution_count": 210,
   "metadata": {},
   "outputs": [
    {
     "data": {
      "text/plain": [
       "'6->5->4->3->2->1'"
      ]
     },
     "execution_count": 210,
     "metadata": {},
     "output_type": "execute_result"
    }
   ],
   "source": [
    "printList(result)"
   ]
  },
  {
   "cell_type": "code",
   "execution_count": 359,
   "metadata": {},
   "outputs": [
    {
     "name": "stdout",
     "output_type": "stream",
     "text": [
      "1\n",
      "2\n"
     ]
    }
   ],
   "source": [
    "reverseKGroups(a, 2)"
   ]
  },
  {
   "cell_type": "markdown",
   "metadata": {},
   "source": [
    "# 234. Palindrome Linked List\n",
    "Given a singly linked list, determine if it is a palindrome.\n",
    "\n",
    "Example 1:\n",
    "\n",
    "Input: 1->2\n",
    "Output: false\n",
    "Example 2:\n",
    "\n",
    "Input: 1->2->2->1\n",
    "Output: true\n",
    "Follow up:\n",
    "Could you do it in O(n) time and O(1) space?"
   ]
  },
  {
   "cell_type": "code",
   "execution_count": 96,
   "metadata": {},
   "outputs": [],
   "source": [
    "def palindrome(head):\n",
    "   \n",
    "    if not head or not head.next: return True\n",
    "    stack = []\n",
    "    counter = 0\n",
    "    size = getSize(head)\n",
    "    \n",
    "    while head:\n",
    "        if size % 2 == 0:  \n",
    "            if counter < size//2: \n",
    "                stack.append(head.val)\n",
    "            else:\n",
    "                if not stack or stack[-1] != head.val:\n",
    "                    return False\n",
    "                stack.pop()\n",
    "        else: \n",
    "            if counter < size//2: \n",
    "                stack.append(head.val)\n",
    "                print('impar', stack)  \n",
    "            elif counter > size//2:\n",
    "                if not stack or stack[-1] != head.val:\n",
    "                    return False\n",
    "                stack.pop() \n",
    "        counter += 1\n",
    "        head = head.next\n",
    "        \n",
    "    return stack == []\n",
    "\n",
    "\n",
    "def getSize(head):\n",
    "    counter = 0\n",
    "    while head:\n",
    "        counter += 1\n",
    "        head = head.next\n",
    "    return counter\n",
    "        "
   ]
  },
  {
   "cell_type": "code",
   "execution_count": 198,
   "metadata": {},
   "outputs": [],
   "source": [
    "class ListNode(object):\n",
    "    def __init__(self, x):\n",
    "        self.val = x\n",
    "        self.next = None\n",
    "a = ListNode(1)\n",
    "b = ListNode(2)\n",
    "# c = ListNode(3)\n",
    "d = ListNode(2)\n",
    "e = ListNode(1)\n",
    "\n",
    "a.next = b\n",
    "b.next = d\n",
    "\n",
    "# c.next = d\n",
    "d.next = e\n"
   ]
  },
  {
   "cell_type": "code",
   "execution_count": 188,
   "metadata": {},
   "outputs": [
    {
     "data": {
      "text/plain": [
       "True"
      ]
     },
     "execution_count": 188,
     "metadata": {},
     "output_type": "execute_result"
    }
   ],
   "source": [
    "palindrome(a)"
   ]
  },
  {
   "cell_type": "code",
   "execution_count": 205,
   "metadata": {},
   "outputs": [
    {
     "ename": "AttributeError",
     "evalue": "'list' object has no attribute 'val'",
     "output_type": "error",
     "traceback": [
      "\u001b[0;31m---------------------------------------------------------------------------\u001b[0m",
      "\u001b[0;31mAttributeError\u001b[0m                            Traceback (most recent call last)",
      "\u001b[0;32m<ipython-input-205-44cc1c04da7a>\u001b[0m in \u001b[0;36m<module>\u001b[0;34m()\u001b[0m\n\u001b[0;32m----> 1\u001b[0;31m \u001b[0mprintList\u001b[0m\u001b[0;34m(\u001b[0m\u001b[0;34m[\u001b[0m\u001b[0;34m]\u001b[0m\u001b[0;34m)\u001b[0m\u001b[0;34m\u001b[0m\u001b[0m\n\u001b[0m",
      "\u001b[0;32m<ipython-input-9-e305391be442>\u001b[0m in \u001b[0;36mprintList\u001b[0;34m(head)\u001b[0m\n\u001b[1;32m      3\u001b[0m         \u001b[0mresult\u001b[0m \u001b[0;34m=\u001b[0m \u001b[0;34m\"\"\u001b[0m\u001b[0;34m\u001b[0m\u001b[0m\n\u001b[1;32m      4\u001b[0m         \u001b[0;32mwhile\u001b[0m \u001b[0mnode\u001b[0m \u001b[0;34m!=\u001b[0m \u001b[0;32mNone\u001b[0m\u001b[0;34m:\u001b[0m\u001b[0;34m\u001b[0m\u001b[0m\n\u001b[0;32m----> 5\u001b[0;31m             \u001b[0mresult\u001b[0m \u001b[0;34m+=\u001b[0m \u001b[0mstr\u001b[0m\u001b[0;34m(\u001b[0m\u001b[0mnode\u001b[0m\u001b[0;34m.\u001b[0m\u001b[0mval\u001b[0m\u001b[0;34m)\u001b[0m \u001b[0;34m+\u001b[0m \u001b[0;34m\"->\"\u001b[0m\u001b[0;34m\u001b[0m\u001b[0m\n\u001b[0m\u001b[1;32m      6\u001b[0m             \u001b[0mnode\u001b[0m \u001b[0;34m=\u001b[0m \u001b[0mnode\u001b[0m\u001b[0;34m.\u001b[0m\u001b[0mnext\u001b[0m\u001b[0;34m\u001b[0m\u001b[0m\n\u001b[1;32m      7\u001b[0m         \u001b[0;32mreturn\u001b[0m \u001b[0mresult\u001b[0m\u001b[0;34m[\u001b[0m\u001b[0;34m:\u001b[0m\u001b[0;34m-\u001b[0m\u001b[0;36m2\u001b[0m\u001b[0;34m]\u001b[0m\u001b[0;34m\u001b[0m\u001b[0m\n",
      "\u001b[0;31mAttributeError\u001b[0m: 'list' object has no attribute 'val'"
     ]
    }
   ],
   "source": [
    "printList([])"
   ]
  },
  {
   "cell_type": "code",
   "execution_count": 203,
   "metadata": {},
   "outputs": [],
   "source": [
    "# 1 -> 2 -> 3 -> 2 -> 1\n",
    "def palindrome(head):\n",
    "\n",
    "    stack = []\n",
    "    \n",
    "    while head:\n",
    "        stack.append(head.val)\n",
    "        head = head.next\n",
    "        \n",
    "    return stack == stack[::-1]\n",
    "   \n",
    "    \n",
    "\n"
   ]
  },
  {
   "cell_type": "code",
   "execution_count": 204,
   "metadata": {},
   "outputs": [
    {
     "data": {
      "text/plain": [
       "True"
      ]
     },
     "execution_count": 204,
     "metadata": {},
     "output_type": "execute_result"
    }
   ],
   "source": [
    "palindrome(a)"
   ]
  },
  {
   "cell_type": "code",
   "execution_count": 167,
   "metadata": {},
   "outputs": [
    {
     "data": {
      "text/plain": [
       "'1->2->3->2->1'"
      ]
     },
     "execution_count": 167,
     "metadata": {},
     "output_type": "execute_result"
    }
   ],
   "source": [
    "printList(result)"
   ]
  },
  {
   "cell_type": "markdown",
   "metadata": {},
   "source": [
    "# 160. Intersection of Two Linked Lists\n",
    "\n",
    "Write a program to find the node at which the intersection of two singly linked lists begins.\n",
    "\n",
    "\n",
    "For example, the following two linked lists:\n",
    "\n",
    "A:          a1 → a2\n",
    "                   ↘\n",
    "                     c1 → c2 → c3\n",
    "                   ↗            \n",
    "B:     b1 → b2 → b3\n",
    "begin to intersect at node c1.\n",
    "\n",
    "\n",
    "Notes:\n",
    "\n",
    "If the two linked lists have no intersection at all, return null.\n",
    "The linked lists must retain their original structure after the function returns.\n",
    "You may assume there are no cycles anywhere in the entire linked structure.\n",
    "Your code should preferably run in O(n) time and use only O(1) memory.\n",
    "Credits:\n",
    "Special thanks to @stellari for adding this problem and creating all test cases.\n",
    "\n",
    "\n",
    "Algorithm: We don't know which list is the longest, so to offset the difference in length we put the head of list B on A each time list A reaches its end, and the head of list A on B each time B reaches its end. So we are left with the following:\n",
    "\n",
    "a = 1 -> 2 -> 4 -> 3 -> 8\n",
    "b = 5 -> 6 -> 7 -> 4 -> 3 -> 8 \n",
    "4 being the intersection node\n",
    "\n",
    "a = 1 -> 2 -> 4 -> 3 -> 8 -> end -> 5   -> 6 -> 7 -> 4\n",
    "b = 5 -> 6 -> 7 -> 4 -> 3 -> 8   -> end -> 1 -> 2 -> 4\n",
    "\n",
    "while a != b we keep going, else we return the node. "
   ]
  },
  {
   "cell_type": "code",
   "execution_count": 270,
   "metadata": {},
   "outputs": [],
   "source": [
    "a = ListNode(2)\n",
    "a1 = ListNode(3)\n",
    "\n",
    "a.next = a1\n",
    "\n",
    "b = ListNode(1)\n",
    "b1 = ListNode(2)\n",
    "b2 = ListNode(3)\n",
    "\n",
    "b.next = b1\n",
    "b1.next = b2\n",
    "\n",
    "c = ListNode(4)\n",
    "c1 = ListNode(5)\n",
    "c2 = ListNode(6)\n",
    "\n",
    "c.next = c1\n",
    "c1.next = c2\n",
    "\n",
    "a1.next = c\n",
    "b2.next = c"
   ]
  },
  {
   "cell_type": "code",
   "execution_count": 271,
   "metadata": {},
   "outputs": [
    {
     "data": {
      "text/plain": [
       "'2->3->4->5->6'"
      ]
     },
     "execution_count": 271,
     "metadata": {},
     "output_type": "execute_result"
    }
   ],
   "source": [
    "printList(a)"
   ]
  },
  {
   "cell_type": "code",
   "execution_count": 272,
   "metadata": {},
   "outputs": [
    {
     "data": {
      "text/plain": [
       "'1->2->3->4->5->6'"
      ]
     },
     "execution_count": 272,
     "metadata": {},
     "output_type": "execute_result"
    }
   ],
   "source": [
    "printList(b)"
   ]
  },
  {
   "cell_type": "code",
   "execution_count": 273,
   "metadata": {},
   "outputs": [],
   "source": [
    "def getIntersectionNode(headA, headB):\n",
    "        \"\"\"\n",
    "        :type head1, head1: ListNode\n",
    "        :rtype: ListNode\n",
    "        \"\"\"\n",
    "        if headA is None or headB is None: return None\n",
    "        nodeA, nodeB = headA, headB\n",
    "        newListA = []\n",
    "        newListB = []\n",
    "        \n",
    "        while nodeA:\n",
    "            newListA.append(nodeA)\n",
    "            nodeA = nodeA.next\n",
    "        while nodeB:\n",
    "            newListB.append(nodeB)\n",
    "            nodeB = nodeB.next \n",
    "        \n",
    "        nodeA, nodeB = headA, headB\n",
    "        \n",
    "        while nodeA:\n",
    "            newListB.append(nodeA)\n",
    "            nodeA = nodeA.next\n",
    "        while nodeB:\n",
    "            newListA.append(nodeB)\n",
    "            nodeB = nodeB.next\n",
    "        \n",
    "        for i in range(len(newListA)):\n",
    "            if newListA[i] == newListB[i]:\n",
    "                return newListA[i]\n",
    "            \n",
    "        return None"
   ]
  },
  {
   "cell_type": "code",
   "execution_count": 262,
   "metadata": {},
   "outputs": [
    {
     "data": {
      "text/plain": [
       "4"
      ]
     },
     "execution_count": 262,
     "metadata": {},
     "output_type": "execute_result"
    }
   ],
   "source": [
    "getIntersectionNode(a, b)"
   ]
  },
  {
   "cell_type": "code",
   "execution_count": 263,
   "metadata": {},
   "outputs": [],
   "source": [
    "def getIntersectionNode(self, headA, headB):\n",
    "        \"\"\"\n",
    "        :type head1, head1: ListNode\n",
    "        :rtype: ListNode\n",
    "        \"\"\"\n",
    "        if not headA or not headB: return None\n",
    "        pA, pB = headA, headB\n",
    "        \n",
    "        while pA != pB: \n",
    "            pA = headB if pA is None else pA.next\n",
    "            pB = headA if pB is None else pB.next\n",
    "        return pA\n",
    "        "
   ]
  },
  {
   "cell_type": "code",
   "execution_count": 265,
   "metadata": {},
   "outputs": [],
   "source": [
    "class Solution(object):\n",
    "    def getIntersectionNode(self, headA, headB):\n",
    "        \"\"\"\n",
    "        :type head1, head1: ListNode\n",
    "        :rtype: ListNode\n",
    "        \"\"\"\n",
    "        if not headA or not headB: return None\n",
    "        pA, pB = headA, headB\n",
    "        \n",
    "        while pA != pB: \n",
    "            pA = headB if pA is None else pA.next\n",
    "            pB = headA if pB is None else pB.next\n",
    "        return pA"
   ]
  },
  {
   "cell_type": "code",
   "execution_count": 268,
   "metadata": {},
   "outputs": [],
   "source": [
    "solution = Solution()\n"
   ]
  },
  {
   "cell_type": "code",
   "execution_count": 269,
   "metadata": {},
   "outputs": [
    {
     "data": {
      "text/plain": [
       "<__main__.ListNode at 0x10cdc6048>"
      ]
     },
     "execution_count": 269,
     "metadata": {},
     "output_type": "execute_result"
    }
   ],
   "source": [
    "solution.getIntersectionNode(a,b)"
   ]
  },
  {
   "cell_type": "markdown",
   "metadata": {},
   "source": [
    "# 25. Reverse nodes in k groups\n",
    "Given a linked list, reverse the nodes of a linked list k at a time and return its modified list.\n",
    "\n",
    "k is a positive integer and is less than or equal to the length of the linked list. If the number of nodes is not a multiple of k then left-out nodes in the end should remain as it is.\n",
    "\n",
    "Example:\n",
    "\n",
    "Given this linked list: 1->2->3->4->5\n",
    "\n",
    "For k = 2, you should return: 2->1->4->3->5\n",
    "\n",
    "For k = 3, you should return: 3->2->1->4->5\n",
    "\n",
    "Note:\n",
    "\n",
    "Only constant extra memory is allowed.\n",
    "You may not alter the values in the list's nodes, only nodes itself may be changed.\n"
   ]
  },
  {
   "cell_type": "code",
   "execution_count": 135,
   "metadata": {},
   "outputs": [],
   "source": [
    "class ListNode(object):\n",
    "    def __init__(self, val):\n",
    "        self.val = val\n",
    "        self.next = None\n",
    "\n",
    "def printList(head):\n",
    "    node = head\n",
    "    result = \"\"\n",
    "    while node != None:\n",
    "        result += str(node.val) + \"->\"\n",
    "        node = node.next\n",
    "    return result[:-2]\n"
   ]
  },
  {
   "cell_type": "code",
   "execution_count": 136,
   "metadata": {},
   "outputs": [],
   "source": [
    "def reverseKgroups(head, k):\n",
    "    dummy = previous = ListNode(0)\n",
    "    dummy.next = start = end = head\n",
    "\n",
    "    while True:\n",
    "        counter = 0\n",
    "        while end and counter < k:\n",
    "            counter += 1\n",
    "            end = end.next\n",
    "        if counter == k:\n",
    "            current, nextNode = start, end\n",
    "            for _ in range(k):\n",
    "                current.next, current, nextNode = nextNode, current.next, current\n",
    "            previous.next, previous, start = nextNode, start, end\n",
    "        else: \n",
    "            return dummy.next\n",
    "    "
   ]
  },
  {
   "cell_type": "code",
   "execution_count": 284,
   "metadata": {},
   "outputs": [],
   "source": [
    "a = ListNode(1)\n",
    "b = ListNode(2)\n",
    "c = ListNode(3)\n",
    "d = ListNode(4)\n",
    "e = ListNode(5)\n",
    "f = ListNode(6)\n",
    "\n",
    "\n",
    "a.next = b\n",
    "b.next = c\n",
    "c.next = d\n",
    "d.next = e\n",
    "e.next = f\n",
    "\n",
    "\n",
    "# result = reverseKgroups(a, 2)"
   ]
  },
  {
   "cell_type": "code",
   "execution_count": 171,
   "metadata": {},
   "outputs": [
    {
     "data": {
      "text/plain": [
       "'0->1'"
      ]
     },
     "execution_count": 171,
     "metadata": {},
     "output_type": "execute_result"
    }
   ],
   "source": [
    "printList(result)"
   ]
  },
  {
   "cell_type": "code",
   "execution_count": 175,
   "metadata": {},
   "outputs": [],
   "source": [
    "def reverse(head):\n",
    "    previous = None\n",
    "    current = head\n",
    "    while current:\n",
    "        nextNode = current.next\n",
    "        current.next = previous\n",
    "        previous = current\n",
    "        current = nextNode\n",
    "    return previous\n"
   ]
  },
  {
   "cell_type": "code",
   "execution_count": 173,
   "metadata": {},
   "outputs": [],
   "source": [
    "result = reverse(a)"
   ]
  },
  {
   "cell_type": "code",
   "execution_count": 174,
   "metadata": {},
   "outputs": [
    {
     "data": {
      "text/plain": [
       "'6->5->4->3->2->1'"
      ]
     },
     "execution_count": 174,
     "metadata": {},
     "output_type": "execute_result"
    }
   ],
   "source": [
    "printList(result)"
   ]
  },
  {
   "cell_type": "code",
   "execution_count": 285,
   "metadata": {},
   "outputs": [],
   "source": [
    "# None -> 1 -> 2 -> 3 -> 4 -> 5 -> 6 -> None\n",
    "# None -> 2 -> 1 -> 4 -> 3 -> 6 -> 5 -> None\n",
    "def swapPairs(head):\n",
    "    \n",
    "    dummy = previous = ListNode(0)\n",
    "    dummy.next = current = nextNode = head\n",
    "\n",
    "    while True:\n",
    "        counter = 0\n",
    "        while current and counter < 2:\n",
    "            counter += 1\n",
    "            nextNode = nextNode.next\n",
    "        if counter == 2:\n",
    "            start = current\n",
    "            for _ in range(2):\n",
    "                current.next, current, nextNode = nextNode, current.next, current\n",
    "            previous.next, previous, nextNode = nextNode, start, current\n",
    "        else: \n",
    "            return dummy.next\n",
    "        "
   ]
  },
  {
   "cell_type": "code",
   "execution_count": 286,
   "metadata": {},
   "outputs": [],
   "source": [
    "result = swapPairs(a)"
   ]
  },
  {
   "cell_type": "code",
   "execution_count": 287,
   "metadata": {},
   "outputs": [
    {
     "data": {
      "text/plain": [
       "'2->1->4->3->6->5'"
      ]
     },
     "execution_count": 287,
     "metadata": {},
     "output_type": "execute_result"
    }
   ],
   "source": [
    "printList(result)"
   ]
  },
  {
   "cell_type": "code",
   "execution_count": null,
   "metadata": {},
   "outputs": [],
   "source": []
  },
  {
   "cell_type": "code",
   "execution_count": null,
   "metadata": {},
   "outputs": [],
   "source": []
  }
 ],
 "metadata": {
  "kernelspec": {
   "display_name": "Python 3",
   "language": "python",
   "name": "python3"
  },
  "language_info": {
   "codemirror_mode": {
    "name": "ipython",
    "version": 3
   },
   "file_extension": ".py",
   "mimetype": "text/x-python",
   "name": "python",
   "nbconvert_exporter": "python",
   "pygments_lexer": "ipython3",
   "version": "3.6.4"
  }
 },
 "nbformat": 4,
 "nbformat_minor": 2
}
