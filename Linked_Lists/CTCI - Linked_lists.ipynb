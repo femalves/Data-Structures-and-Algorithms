{
 "cells": [
  {
   "cell_type": "code",
   "execution_count": 1195,
   "metadata": {},
   "outputs": [],
   "source": [
    "class ListNode: \n",
    "    def __init__(self, val): \n",
    "        self.val = val\n",
    "        self.next = None\n",
    "\n",
    "def printList(head):\n",
    "\n",
    "    curr = head\n",
    "    out = []\n",
    "    while curr: \n",
    "        out.append(curr.val)\n",
    "        curr = curr.next\n",
    "    return out\n",
    "\n",
    "    \n",
    "    "
   ]
  },
  {
   "cell_type": "code",
   "execution_count": 521,
   "metadata": {},
   "outputs": [],
   "source": [
    "a = Node(1)\n",
    "b = Node(2)\n",
    "c = Node(3)\n",
    "d = Node(4)\n",
    "e = Node(5)\n",
    "\n",
    "a.next = b\n",
    "b.next = c\n",
    "c.next = d\n",
    "d.next = e\n"
   ]
  },
  {
   "cell_type": "code",
   "execution_count": 522,
   "metadata": {},
   "outputs": [
    {
     "data": {
      "text/plain": [
       "[1, 2, 3, 4, 5]"
      ]
     },
     "execution_count": 522,
     "metadata": {},
     "output_type": "execute_result"
    }
   ],
   "source": [
    "printList(a)"
   ]
  },
  {
   "cell_type": "markdown",
   "metadata": {},
   "source": [
    "2.1 Remove Dups: Write code to remove duplicates from an unsorted linked list.\n",
    "FOLLOW UP\n",
    "How would you solve this problem if a temporary buffer is not allowed?"
   ]
  },
  {
   "cell_type": "code",
   "execution_count": 226,
   "metadata": {},
   "outputs": [],
   "source": [
    "# Time O(n)\n",
    "def remove_dups(head): \n",
    "    if not head: return \n",
    "    seen = set()\n",
    "    prev = head\n",
    "    seen.add(prev.value)\n",
    "    curr = prev.next\n",
    "    \n",
    "    while curr: \n",
    "        if curr.value not in seen: \n",
    "            seen.add(curr.value)\n",
    "            prev = curr\n",
    "        else:  \n",
    "            prev.next = curr.next if curr.next else None\n",
    "        curr = curr.next\n",
    "    return head\n",
    "         \n",
    "            \n",
    "            \n",
    "        \n",
    "    \n",
    "    \n",
    "    "
   ]
  },
  {
   "cell_type": "code",
   "execution_count": null,
   "metadata": {},
   "outputs": [],
   "source": [
    "# Follow-up\n",
    "def remove_dups(head): \n",
    "    pass"
   ]
  },
  {
   "cell_type": "code",
   "execution_count": 225,
   "metadata": {},
   "outputs": [
    {
     "data": {
      "text/plain": [
       "[1, 2]"
      ]
     },
     "execution_count": 225,
     "metadata": {},
     "output_type": "execute_result"
    }
   ],
   "source": [
    "printList(remove_dups(a))"
   ]
  },
  {
   "cell_type": "markdown",
   "metadata": {},
   "source": [
    "2.2 Return Kth to Last: Implement an algorithm to find the kth to last element of a singly linked list."
   ]
  },
  {
   "cell_type": "code",
   "execution_count": 249,
   "metadata": {},
   "outputs": [],
   "source": [
    "# 1 -> 2 -> 3 -> 4 -> 5\n",
    "# O(n)\n",
    "def kth_to_last(head, kth):\n",
    "    # kth is less than size\n",
    "    \n",
    "    # If not head, returns None \n",
    "    \n",
    "    stop = size(head)-kth\n",
    "    counter = 0\n",
    "    curr = head\n",
    "    while counter < stop: \n",
    "        curr = curr.next\n",
    "        counter += 1\n",
    "    return curr.value\n",
    "\n",
    "def size(head): \n",
    "    count = 0\n",
    "    curr = head\n",
    "    while curr: \n",
    "        count += 1\n",
    "        curr = curr.next\n",
    "    return count"
   ]
  },
  {
   "cell_type": "code",
   "execution_count": 251,
   "metadata": {},
   "outputs": [],
   "source": [
    "kth_to_last(a, 1)"
   ]
  },
  {
   "cell_type": "code",
   "execution_count": 495,
   "metadata": {},
   "outputs": [],
   "source": [
    "# 1 -> 2 -> 3 -> 4 -> 5\n",
    "# kth = 2\n",
    "def kth_to_last(head, kth): \n",
    "    \n",
    "    curr = head \n",
    "    out = head \n",
    "    counter = 0\n",
    "    \n",
    "    while curr: \n",
    "        while curr and counter < kth: \n",
    "            counter += 1\n",
    "            curr = curr.next \n",
    "        if curr: \n",
    "            curr = curr.next\n",
    "            out = out.next\n",
    "    return out.value\n",
    "        \n",
    "\n"
   ]
  },
  {
   "cell_type": "code",
   "execution_count": 496,
   "metadata": {},
   "outputs": [
    {
     "data": {
      "text/plain": [
       "1"
      ]
     },
     "execution_count": 496,
     "metadata": {},
     "output_type": "execute_result"
    }
   ],
   "source": [
    "kth_to_last(a, 5)"
   ]
  },
  {
   "cell_type": "markdown",
   "metadata": {},
   "source": [
    "Leetcode 237\n",
    "\n",
    "2.3\n",
    "Delete Middle Node: Implement an algorithm to delete a node in the middle (i.e., any node but the first and last node, not necessarily the exact middle) of a singly linked list, given only access to that node.\n",
    "SOLUTION\n",
    "EXAMPLE\n",
    "lnput:the node c from the linked list a->b->c->d->e->f\n",
    "Result: nothing is returned, but the new linked list looks like a->b->d->e->f"
   ]
  },
  {
   "cell_type": "code",
   "execution_count": 801,
   "metadata": {},
   "outputs": [],
   "source": [
    "\n",
    "def delete_middle(middle): \n",
    "   \n",
    "    middle.value = middle.next.value\n",
    "    middle.next = middle.next.next\n",
    "    "
   ]
  },
  {
   "cell_type": "code",
   "execution_count": 493,
   "metadata": {},
   "outputs": [],
   "source": [
    "delete_middle(b)"
   ]
  },
  {
   "cell_type": "code",
   "execution_count": 494,
   "metadata": {},
   "outputs": [
    {
     "data": {
      "text/plain": [
       "[1, 3, 4, 5]"
      ]
     },
     "execution_count": 494,
     "metadata": {},
     "output_type": "execute_result"
    }
   ],
   "source": [
    "printList(a)"
   ]
  },
  {
   "cell_type": "markdown",
   "metadata": {},
   "source": [
    "Leetcode 73\n",
    "\n",
    "2.4 Partition: Write code to partition a linked list around a value x, such that all nodes less than x come before all nodes greater than or equal to x. If x is contained within the list the values of x only need to be after the elements less than x (see below). The partition element x can appear anywhere in the \"right partition\"; it does not need to appear between the left and right partitions.\n",
    "SOLUTION\n",
    "EXAMPLE\n",
    "\n",
    "Input: 3 -> 5 -> 8 -> 5 -> 10 -> 2 -> 1[partition=5] \n",
    "\n",
    "Output: 3 -> 1 -> 2 -> 10 -> 5 -> 5 -> 8\n",
    "\n",
    "3 -> 1 -> 2 -> 5 -> 5 -> 10 -> 8"
   ]
  },
  {
   "cell_type": "code",
   "execution_count": 802,
   "metadata": {},
   "outputs": [],
   "source": [
    "# Leetcode 73\n",
    "# Creating two lists (smaller and greater)\n",
    "# O(n) time and O(n) space\n",
    "def partition(head, num): \n",
    "    smaller = greater = greater_head = None\n",
    "    curr = head\n",
    "    while curr: \n",
    "        if curr.value < num: \n",
    "            if smaller == None: \n",
    "                smaller = curr\n",
    "                head = smaller     \n",
    "            else: \n",
    "                smaller.next = curr\n",
    "                smaller = smaller.next        \n",
    "        else: \n",
    "            if greater == None: \n",
    "                greater = curr\n",
    "                greater_head = greater         \n",
    "            else: \n",
    "                greater.next = curr\n",
    "                greater = greater.next       \n",
    "        curr = curr.next\n",
    "    \n",
    "    if greater:\n",
    "        greater.next = None\n",
    "    if smaller: \n",
    "        smaller.next = greater_head\n",
    "    else: \n",
    "        head = greater_head\n",
    "    \n",
    "    return head\n",
    "\n",
    "\n",
    "   \n",
    "\n",
    "        \n",
    "        \n",
    "            \n",
    "        \n",
    "    \n",
    "    \n",
    "    \n",
    "       \n",
    "        \n",
    "    "
   ]
  },
  {
   "cell_type": "code",
   "execution_count": 806,
   "metadata": {},
   "outputs": [
    {
     "data": {
      "text/plain": [
       "[3, 2, 1, 5, 8, 5, 10]"
      ]
     },
     "execution_count": 806,
     "metadata": {},
     "output_type": "execute_result"
    }
   ],
   "source": [
    "a = Node(3)\n",
    "b = Node(5)\n",
    "c = Node(8)\n",
    "d = Node(5)\n",
    "e = Node(10)\n",
    "f = Node(2)\n",
    "g = Node(1)\n",
    "a.next = b\n",
    "b.next = c\n",
    "c.next = d\n",
    "d.next = e\n",
    "e.next = f\n",
    "f.next = g\n",
    "\n",
    "printList(partition(a, 5))"
   ]
  },
  {
   "cell_type": "markdown",
   "metadata": {},
   "source": [
    "Leetcode 2 and 445\n",
    "\n",
    "2.5 Sum Lists: You have two numbers represented by a linked list,where each node contains a single digit. The digits are stored in reverse order,such that the 1's digit is at the head of the list. Write a function that adds the two numbers and returns the sum as a linked list.\n",
    "EXAMPLE\n",
    "Input: (7-> 1 -> 6) + (5 -> 9 -> 2).That is,617 + 295. Output:2 -> 1 -> 9.Thatis,912.\n",
    "FOLLOW UP\n",
    "Suppose the digits are stored in forward order. Repeat the above problem. Input: (6 -> 1 -> 7) + (2 -> 9 -> 5).Thatis,617 + 295. Output:9 ->1 ->2. Thatis,912.\n"
   ]
  },
  {
   "cell_type": "code",
   "execution_count": 1209,
   "metadata": {},
   "outputs": [],
   "source": [
    "def sum_lists(a, b): \n",
    "    curr_a, curr_b = a, b\n",
    "    new_head = next_node = prev_node = None\n",
    "    carry = 0\n",
    "\n",
    "    while curr_a or curr_b: \n",
    "        \n",
    "        # Operate digits sum\n",
    "        if curr_a and curr_b: \n",
    "            sum_value = curr_a.value + curr_b.value + carry\n",
    "        elif curr_a or curr_b: \n",
    "            if curr_a: \n",
    "                sum_value = curr_a.value \n",
    "            else: \n",
    "                sum_value = curr_b.value \n",
    "            sum_value += carry\n",
    "       \n",
    "        \n",
    "        # Take care of carry\n",
    "        if sum_value > 9: \n",
    "            carry = 1 \n",
    "            sum_value = sum_value % 10\n",
    "        else: \n",
    "            carry = 0 \n",
    "\n",
    "        # first iteration\n",
    "        if not new_head: \n",
    "            new_head = Node(sum_value)\n",
    "            prev = new_head\n",
    "        else: #other iterations\n",
    "            next_node = Node(sum_value)\n",
    "            prev.next = next_node\n",
    "            prev = prev.next\n",
    "        \n",
    "        if curr_a: \n",
    "            curr_a = curr_a.next\n",
    "        if curr_b: \n",
    "            curr_b = curr_b.next \n",
    "    \n",
    "    # last carry\n",
    "    if carry != 0: \n",
    "        next_node = Node(carry)\n",
    "        prev.next = next_node\n",
    "        \n",
    "    return new_head\n",
    "\n"
   ]
  },
  {
   "cell_type": "code",
   "execution_count": 1210,
   "metadata": {},
   "outputs": [],
   "source": [
    "a = ListNode(6)\n",
    "b = ListNode(1)\n",
    "c = ListNode(7)\n",
    "\n",
    "f = ListNode(2)\n",
    "g = ListNode(9)\n",
    "h = ListNode(5)\n",
    "\n",
    "a.next = b\n",
    "b.next = c\n",
    "\n",
    "f.next = g\n",
    "g.next = h\n",
    "\n",
    "# printList(sum_lists(a, f))\n"
   ]
  },
  {
   "cell_type": "code",
   "execution_count": 1333,
   "metadata": {},
   "outputs": [],
   "source": [
    "# Leetcode 445\n",
    "\n",
    "# Suppose the digits are stored in forward order. Repeat the above problem. \n",
    "# Input: (6 -> 1 -> 7) + (2 -> 9 -> 5).That is,617 + 295. Output:9 ->1 ->2.Thatis,912.\n",
    "\n",
    "def sum_lists(l1, l2): \n",
    "    curr_a, curr_b = l1, l2\n",
    "    head_a, head_b = l1, l2\n",
    "    size = 0\n",
    "    \n",
    "    while curr_a or curr_b: \n",
    "        size += 1\n",
    "        if curr_a and not curr_b: \n",
    "            new_head_b = ListNode(0)\n",
    "            new_head_b.next = head_b\n",
    "            head_b = new_head_b\n",
    "        elif not curr_a and curr_b: \n",
    "            new_head_a = ListNode(0)\n",
    "            new_head_a.next = head_a\n",
    "            head_a = new_head_a\n",
    "            \n",
    "        if curr_a: \n",
    "            curr_a = curr_a.next\n",
    "        if curr_b:\n",
    "            curr_b = curr_b.next\n",
    "   \n",
    "    vals = [0]*size\n",
    "    \n",
    "    curr_a, curr_b = head_a, head_b\n",
    "    i = 0\n",
    "   \n",
    "    while curr_a and curr_b: \n",
    "        sum_values = curr_a.val + curr_b.val\n",
    "        vals[i] = sum_values\n",
    "        curr_a = curr_a.next \n",
    "        curr_b = curr_b.next \n",
    "        i += 1\n",
    "        \n",
    "        \n",
    "    for i in range(len(vals)-1, -1, -1): \n",
    "        if vals[i] > 9: \n",
    "            vals[i] = vals[i]%10\n",
    "            carry = 1\n",
    "            if i-1 > -1: \n",
    "                vals[i-1] += carry\n",
    "                carry = 0\n",
    "        \n",
    "    head = curr = ListNode(vals[0])\n",
    "    \n",
    "    for digit in vals[1:]: \n",
    "        next_node = ListNode(digit)\n",
    "        curr.next = next_node\n",
    "        curr = curr.next\n",
    "        \n",
    "    if carry == 1: \n",
    "        old_head = head\n",
    "        head = ListNode(carry)\n",
    "        head.next = old_head\n",
    "    \n",
    "    return head\n",
    "\n",
    "        \n",
    "\n",
    "        \n",
    "           "
   ]
  },
  {
   "cell_type": "code",
   "execution_count": 1334,
   "metadata": {},
   "outputs": [
    {
     "data": {
      "text/plain": [
       "[9, 0, 1]"
      ]
     },
     "execution_count": 1334,
     "metadata": {},
     "output_type": "execute_result"
    }
   ],
   "source": [
    "a = ListNode(8)\n",
    "b = ListNode(9)\n",
    "c = ListNode(9)\n",
    "\n",
    "f = ListNode(2)\n",
    "g = ListNode(5)\n",
    "h = ListNode(5)\n",
    "\n",
    "\n",
    "a.next = b\n",
    "b.next = c\n",
    "\n",
    "# f.next = g\n",
    "# g.next = h\n",
    "printList(sum_lists(a, f))"
   ]
  },
  {
   "cell_type": "markdown",
   "metadata": {},
   "source": [
    "Leetcode 234\n",
    "\n",
    "2.6 Palindrome: Implement a function to check if a linked list is a palindrome."
   ]
  },
  {
   "cell_type": "code",
   "execution_count": null,
   "metadata": {},
   "outputs": [],
   "source": []
  },
  {
   "cell_type": "code",
   "execution_count": 1001,
   "metadata": {},
   "outputs": [],
   "source": [
    "def palindrome(head): \n",
    "    fast = head\n",
    "    slow = head\n",
    "    stack = []\n",
    "    \n",
    "    while fast and fast.next: \n",
    "        stack.append(slow.value)\n",
    "        slow = slow.next\n",
    "        fast = fast.next.next \n",
    "\n",
    "    if fast: \n",
    "        slow = slow.next\n",
    "    \n",
    "    while slow: \n",
    "        if slow.value != stack.pop(): \n",
    "            return False \n",
    "        slow = slow.next\n",
    "              \n",
    "    return True\n",
    "    \n",
    "\n",
    "        \n",
    "   "
   ]
  },
  {
   "cell_type": "code",
   "execution_count": 1002,
   "metadata": {},
   "outputs": [],
   "source": [
    "a = Node(1)\n",
    "b = Node(2)\n",
    "c = Node(3)\n",
    "d = Node(4)\n",
    "e = Node(5)\n",
    "f = Node(6)\n",
    "g = Node(7)\n",
    "\n",
    "a.next = b\n",
    "b.next = c\n",
    "c.next = d\n",
    "d.next = a\n",
    "d.next = e\n",
    "e.next = f\n",
    "f.next = g\n",
    "# palindrome(a)"
   ]
  },
  {
   "cell_type": "markdown",
   "metadata": {},
   "source": [
    "Leetcode 160\n",
    "\n",
    "2.7 Intersection: Given two (singly) linked lists, determine if the two lists intersect. Return the intersecting node. Note that the intersection is defined based on reference, not value. That is, if the kth node of the first linked list is the exact same node (by reference) as the jth node of the second linked list, then they are intersecting."
   ]
  },
  {
   "cell_type": "code",
   "execution_count": 1023,
   "metadata": {},
   "outputs": [],
   "source": [
    "def intersect(head_a, head_b): \n",
    "    keep_a, keep_b = head_a, head_b\n",
    "    curr_a, curr_b = head_a, head_b\n",
    "    size_a = size_b = 0\n",
    "    \n",
    "    # Traverse to the end of a and b \n",
    "    # Get sizes of a and b \n",
    "    # If last nodes are not equal, there's no intersection, return None\n",
    "    while curr_a or curr_b: \n",
    "        if curr_a.next: \n",
    "            size_a += 1\n",
    "            curr_a = curr_a.next\n",
    "        if curr_b.next:\n",
    "            size_b += 1\n",
    "            curr_b = curr_b.next\n",
    "        if not curr_a.next and not curr_b.next: \n",
    "            if curr_a != curr_b: \n",
    "                return None \n",
    "            break\n",
    "    \n",
    "    curr_a = keep_a\n",
    "    curr_b = keep_b\n",
    "       \n",
    "    if size_a > size_b: \n",
    "        offset = size_a-size_b\n",
    "        while offset != 0: \n",
    "            curr_a = curr_a.next \n",
    "            offset -= 1\n",
    "    else: \n",
    "        offset = size_b-size_a\n",
    "        while offset != 0: \n",
    "            curr_b = curr_b.next\n",
    "            offset -= 1\n",
    "    \n",
    "    \n",
    "    while curr_a: \n",
    "        if curr_a == curr_b: \n",
    "            break \n",
    "        curr_a = curr_a.next\n",
    "        curr_b = curr_b.next\n",
    "    \n",
    "\n",
    "    return curr_a.value"
   ]
  },
  {
   "cell_type": "code",
   "execution_count": 1029,
   "metadata": {},
   "outputs": [],
   "source": [
    "a = Node(1)\n",
    "b = Node(2)\n",
    "c = Node(3)\n",
    "d = Node(4)\n",
    "e = Node(5)\n",
    "f = Node(6)\n",
    "g = Node(7)\n",
    "\n",
    "h = Node(10)\n",
    "i = Node(15)\n",
    "\n",
    "\n",
    "a.next = b\n",
    "b.next = c\n",
    "c.next = d\n",
    "d.next = a\n",
    "d.next = e\n",
    "e.next = f\n",
    "f.next = g\n",
    "h.next = i\n",
    "# i.next = g\n",
    "\n",
    "intersect(a, h)"
   ]
  },
  {
   "cell_type": "markdown",
   "metadata": {},
   "source": [
    "Leetcode 141 and 142\n",
    "\n",
    "2.8 Given a circular linked list, implement an algorithm that returns the node at the beginning of the loop. \n",
    "DEFINITION \n",
    "Circular linked list: A (corrupt) linked list in which a node's next pointer points to an earlier node, so as to make a loop in the linked list. "
   ]
  },
  {
   "cell_type": "code",
   "execution_count": 1008,
   "metadata": {},
   "outputs": [],
   "source": [
    "def circular(head): \n",
    "    fast = head\n",
    "    slow = head \n",
    "    \n",
    "    while fast and fast.next:\n",
    "        fast = fast.next.next\n",
    "        slow = slow.next\n",
    "        if fast.value == slow.value: \n",
    "            return True\n",
    "        \n",
    "    return False"
   ]
  },
  {
   "cell_type": "code",
   "execution_count": 1009,
   "metadata": {},
   "outputs": [
    {
     "data": {
      "text/plain": [
       "True"
      ]
     },
     "execution_count": 1009,
     "metadata": {},
     "output_type": "execute_result"
    }
   ],
   "source": [
    "circular(a)"
   ]
  },
  {
   "cell_type": "markdown",
   "metadata": {},
   "source": [
    "Leetcode 206\n",
    "\n",
    "2.9 Reverse linked list"
   ]
  },
  {
   "cell_type": "code",
   "execution_count": 830,
   "metadata": {},
   "outputs": [],
   "source": [
    "# 1->2->3->4->5\n",
    "# 5->4->3->2->1\n",
    "\n",
    "def reverse(head): \n",
    "    prev = None \n",
    "    curr = head\n",
    "    while curr: \n",
    "        curr.next, prev, curr = prev, curr, curr.next\n",
    "    return prev"
   ]
  },
  {
   "cell_type": "code",
   "execution_count": 825,
   "metadata": {},
   "outputs": [],
   "source": [
    "# 1->2->3->4->5\n",
    "def reverseList(self, head):\n",
    "    return self._reverse(head)\n",
    "\n",
    "def _reverse(self, head, prev=None):\n",
    "    if not head:\n",
    "        return prev\n",
    "    keep = head.next\n",
    "    head.next = prev\n",
    "    return self._reverse(keep, head)"
   ]
  },
  {
   "cell_type": "code",
   "execution_count": 831,
   "metadata": {},
   "outputs": [
    {
     "data": {
      "text/plain": [
       "[5, 4, 3, 2, 1]"
      ]
     },
     "execution_count": 831,
     "metadata": {},
     "output_type": "execute_result"
    }
   ],
   "source": [
    "a = Node(1)\n",
    "b = Node(2)\n",
    "c = Node(3)\n",
    "d = Node(4)\n",
    "e = Node(5)\n",
    "\n",
    "a.next = b\n",
    "b.next = c\n",
    "c.next = d\n",
    "d.next = e\n",
    "\n",
    "printList(reverse(a))\n",
    "# printList(reverse_rec(a, a.next))"
   ]
  },
  {
   "cell_type": "code",
   "execution_count": 1267,
   "metadata": {},
   "outputs": [],
   "source": [
    "stack = [0]*7"
   ]
  },
  {
   "cell_type": "code",
   "execution_count": 1268,
   "metadata": {},
   "outputs": [
    {
     "data": {
      "text/plain": [
       "[0, 0, 0, 0, 0, 0, 0]"
      ]
     },
     "execution_count": 1268,
     "metadata": {},
     "output_type": "execute_result"
    }
   ],
   "source": [
    "stack"
   ]
  },
  {
   "cell_type": "code",
   "execution_count": null,
   "metadata": {},
   "outputs": [],
   "source": []
  }
 ],
 "metadata": {
  "kernelspec": {
   "display_name": "Python 3",
   "language": "python",
   "name": "python3"
  },
  "language_info": {
   "codemirror_mode": {
    "name": "ipython",
    "version": 3
   },
   "file_extension": ".py",
   "mimetype": "text/x-python",
   "name": "python",
   "nbconvert_exporter": "python",
   "pygments_lexer": "ipython3",
   "version": "3.6.4"
  }
 },
 "nbformat": 4,
 "nbformat_minor": 2
}
