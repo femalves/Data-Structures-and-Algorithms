{
 "cells": [
  {
   "cell_type": "markdown",
   "metadata": {},
   "source": [
    "# Graphs\n",
    "\n",
    "* Used in any social network\n",
    "* Any time we're modeling users\n",
    "* Recommendation engines (people you might know, people also watched, frequently bought with...)\n",
    "* Location / Mapping\n",
    "* Visual Hierarchy\n",
    "* File system optimizations\n",
    "* Peer to peer networking\n",
    "* Web crawlers\n",
    "* Shortest path problems\n",
    "    * GPS navigation\n",
    "    * Solving mazes\n",
    "    * AI\n"
   ]
  },
  {
   "cell_type": "markdown",
   "metadata": {},
   "source": [
    "![Alt Text](https://upload.wikimedia.org/wikipedia/commons/c/cf/Complete_graph_K5.svg)"
   ]
  },
  {
   "cell_type": "markdown",
   "metadata": {},
   "source": [
    "* Vertex - a node\n",
    "* Edge - connection between two nodes\n",
    "\n",
    "# Types of graphs\n",
    "* Trees are graphs in which each node is connected to another one by exactly one path\n",
    "\n",
    "* Undirected - There is no direction associated with an edge (Ex: Facebook connections)\n",
    "* Directed graph - There is a direction associated with an edge (Ex: Instagram followers) \n",
    "\n",
    "* Weighted graph - When we assign value to the edges\n",
    "\n",
    "* Google maps - Weighted, directed graphs. \n",
    "\n",
    "\n"
   ]
  },
  {
   "cell_type": "markdown",
   "metadata": {},
   "source": [
    "# Representing graphs \n",
    "\n",
    "* Adjacency matrix \n",
    "* Adjacency list\n",
    "* Hash table\n",
    "\n",
    "Adjacency List | Adjacency Matrix\n",
    "------------ | -------------\n",
    "Can take up less space (in sparse graphs) | Takes up more space (in sparse graphs)\n",
    "Faster to iterate over all edges | Slower to iterate over all edges\n",
    "Can be slower to lookup specific edge| Faster to lookup specific edge"
   ]
  },
  {
   "cell_type": "code",
   "execution_count": 150,
   "metadata": {},
   "outputs": [],
   "source": [
    "class Graph(object): \n",
    "    def __init__(self):\n",
    "        self.adjacency_list = {}\n",
    "\n",
    "    # Adding a vertex \n",
    "    # It should add a key to the adjacency list \n",
    "    # with the name of the vertex and set its vale to be\n",
    "    # an empty array\n",
    "    def add_vertex(self, node): \n",
    "        if node not in self.adjacency_list: \n",
    "            self.adjacency_list[node] = []\n",
    "        \n",
    "    \n",
    "    # Adding an edge\n",
    "    # This function should accept two vertices\n",
    "    # The function should find in the adjacency list\n",
    "    # the key of v1 and push v2 to the array, and find\n",
    "    # the key of v2 and push v1 to the array\n",
    "    def add_edge(self, v1, v2): \n",
    "        self.adjacency_list[v1].append(v2)\n",
    "        self.adjacency_list[v2].append(v1)\n",
    "        \n",
    "    # Removing an edge\n",
    "    # This function should accept two vertices\n",
    "    # The function should find in the adjacency list\n",
    "    # the key of v1 and remove v2 from the array, and find\n",
    "    # the key of v2 and remove v1 from the array\n",
    "    def remove_edge(self, v1, v2): \n",
    "        for i in range(len(self.adjacency_list[v1])): \n",
    "            if self.adjacency_list[v1][i] == v2:\n",
    "                self.adjacency_list[v1].pop(i)\n",
    "        for i in range(len(self.adjacency_list[v2])): \n",
    "            if self.adjacency_list[v2][i] == v1:\n",
    "                self.adjacency_list[v2].pop(i)\n",
    "    \n",
    "    # Removing a vertex \n",
    "    # It should loop as long as there are any other vertices\n",
    "    # in the adjacency list for that vertex\n",
    "    # Inside of the loop, call our removeEdge function with \n",
    "    # the vertex we are removing and any values in the adjacency list \n",
    "    # for that vertex\n",
    "    # Delete key in the adjacency list for that vertex \n",
    "    def remove_vertex(self, node): \n",
    "        for item in self.adjacency_list[node]: \n",
    "            self.remove_edge(node, item)\n",
    "        self.adjacency_list.pop(node, None)\n",
    "\n",
    "    \n",
    "#     The function should accept a starting node\n",
    "#     Create a list to store the end result, to be returned at the very end\n",
    "#     Create an object to store visited vertices\n",
    "#     Create a helper function which accepts a vertex\n",
    "#     The helper function should return early if the vertex is empty\n",
    "#     The helper function should place the vertex it accepts into the visited \n",
    "#     object and push that vertex into the result array\n",
    "#     Loop over all of the values in the adjacency_list for that vertex\n",
    "#     If any of those values have not been visited, recursively invoke the helper function with that vertex\n",
    "    def DFS_rec(self, start):\n",
    "        out = []\n",
    "        visited = {}\n",
    "        self.DFS_rec_helper(start, out, visited)\n",
    "        return out \n",
    "    \n",
    "    def DFS_rec_helper(self, vertex, out, visited):\n",
    "        if not vertex: return \n",
    "        out += vertex\n",
    "        visited[vertex] = True \n",
    "        for item in self.adjacency_list[vertex]: \n",
    "            if item not in visited: \n",
    "                self.DFS_rec_helper(item, out, visited)\n",
    "                \n",
    "    \n",
    "    # The function should accept a starting node\n",
    "    # Create a stack to help use keep track of vertices (use a list or array)\n",
    "    # Create a list to store the end result, to be returned at the very end\n",
    "    # Create an object to store visited vertices\n",
    "    # Add the starting vertex to the stack, and mark as visited\n",
    "    # While the stack has something in it:\n",
    "    # Pop the next vertex from the stack\n",
    "    # If that vertex hasn't been visited yet\n",
    "    # Mark it as visited\n",
    "    # Add it to the result list\n",
    "    # Push all of its neighbors into the stack\n",
    "    # Return the result array\n",
    "\n",
    "    def DFS_iter(self, start):\n",
    "        stack, result, visited = [start], [], {start: True}\n",
    "        while stack: \n",
    "            curr = stack.pop()\n",
    "            result += curr\n",
    "            for neighbor in self.adjacency_list[curr]: \n",
    "                if neighbor not in visited: \n",
    "                    visited[neighbor] = True\n",
    "                    stack += neighbor\n",
    "        return result\n",
    "    \n",
    "    # This function should accept a starting vertex\n",
    "    # * Create a queue (you can use an array) and place the starting vertex in it\n",
    "    # * Create an array to store the nodes visited\n",
    "    # * Create an object to store nodes visited\n",
    "    # * Mark the starting vertex as visited\n",
    "    # * Loop as long as there is anything in the queue\n",
    "    # * Remove the first vertex from the queue and push it into the array that stores nodes visited\n",
    "    # * Loop over each vertex in the adjacency list for the vertex you are visiting\n",
    "    # * If it is not inside the object that stores nodes visited, mark it as visited and enqueue that vertex\n",
    "    # * Once you have finished looping, return the array of visited nodes\n",
    "    def BFS_iter(self, start):\n",
    "        \n",
    "        queue, result, visited = [start], [], {start: True}\n",
    "        while queue: \n",
    "            curr = queue.pop(0)\n",
    "            result += curr\n",
    "            for neighbor in self.adjacency_list[curr]: \n",
    "                if neighbor not in visited: \n",
    "                    visited[neighbor] = True\n",
    "                    queue += neighbor\n",
    "        return result\n",
    "        \n",
    "        \n",
    "        \n",
    "        \n",
    "        \n",
    "        \n",
    "        "
   ]
  },
  {
   "cell_type": "code",
   "execution_count": 151,
   "metadata": {},
   "outputs": [],
   "source": [
    "g = Graph()"
   ]
  },
  {
   "cell_type": "code",
   "execution_count": 152,
   "metadata": {},
   "outputs": [
    {
     "data": {
      "text/plain": [
       "<__main__.Graph at 0x1118dd668>"
      ]
     },
     "execution_count": 152,
     "metadata": {},
     "output_type": "execute_result"
    }
   ],
   "source": [
    "g"
   ]
  },
  {
   "cell_type": "code",
   "execution_count": 153,
   "metadata": {},
   "outputs": [],
   "source": [
    "g.add_vertex('A')\n",
    "g.add_vertex('B')\n",
    "g.add_vertex('C')\n",
    "g.add_vertex('D')\n",
    "g.add_vertex('E')\n",
    "g.add_vertex('F')"
   ]
  },
  {
   "cell_type": "code",
   "execution_count": 154,
   "metadata": {},
   "outputs": [
    {
     "data": {
      "text/plain": [
       "{'A': [], 'B': [], 'C': [], 'D': [], 'E': [], 'F': []}"
      ]
     },
     "execution_count": 154,
     "metadata": {},
     "output_type": "execute_result"
    }
   ],
   "source": [
    "g.adjacency_list"
   ]
  },
  {
   "cell_type": "code",
   "execution_count": 155,
   "metadata": {},
   "outputs": [],
   "source": [
    "g.add_edge('A', 'B')\n",
    "g.add_edge('A', 'C')\n",
    "g.add_edge('B', 'D')\n",
    "g.add_edge('C', 'E')\n",
    "g.add_edge('D', 'E')\n",
    "g.add_edge('D', 'F')\n",
    "g.add_edge('E', 'F')"
   ]
  },
  {
   "cell_type": "code",
   "execution_count": 156,
   "metadata": {},
   "outputs": [
    {
     "data": {
      "text/plain": [
       "{'A': ['B', 'C'],\n",
       " 'B': ['A', 'D'],\n",
       " 'C': ['A', 'E'],\n",
       " 'D': ['B', 'E', 'F'],\n",
       " 'E': ['C', 'D', 'F'],\n",
       " 'F': ['D', 'E']}"
      ]
     },
     "execution_count": 156,
     "metadata": {},
     "output_type": "execute_result"
    }
   ],
   "source": [
    "g.adjacency_list"
   ]
  },
  {
   "cell_type": "code",
   "execution_count": 136,
   "metadata": {},
   "outputs": [
    {
     "data": {
      "text/plain": [
       "['A', 'B', 'D', 'E', 'C', 'F']"
      ]
     },
     "execution_count": 136,
     "metadata": {},
     "output_type": "execute_result"
    }
   ],
   "source": [
    "g.DFS_rec('A')"
   ]
  },
  {
   "cell_type": "markdown",
   "metadata": {},
   "source": [
    "# Depth first traversal (Recursive)\n",
    "\n",
    "## Pseudocode\n",
    "\n",
    "```\n",
    "DEF (vertex): \n",
    "    if vertex is empty\n",
    "        return (this is base case)\n",
    "    add vertex to results list\n",
    "    mark vertex as visited\n",
    "    for each neighbor in vertex's neighbors: \n",
    "        if neighbor is not visited: \n",
    "            recursively call DFS on neighbor\n",
    "```"
   ]
  },
  {
   "cell_type": "markdown",
   "metadata": {},
   "source": [
    "* The function should accept a starting node\n",
    "* Create a list to store the end result, to be returned at the very end\n",
    "* Create an object to store visited vertices\n",
    "* Create a helper function which accepts a vertex\n",
    "    * The helper function should return early if the vertex is empty\n",
    "    * The helper function should place the vertex it accepts into the visited object and push that vertex into the result array\n",
    "    * Loop over all of the values in the adjacency_list for that vertex\n",
    "    * If any of those values have not been visited, recursively invoke the helper function with that vertex"
   ]
  },
  {
   "cell_type": "markdown",
   "metadata": {},
   "source": [
    "# Depth first traversal (Iterative)\n",
    "# (stack)\n",
    "\n",
    "## Pseudocode\n",
    "\n",
    "```\n",
    "DFS_iter(self, start): \n",
    "    let s be a stack\n",
    "    s.push(start)\n",
    "    while s in not empty: \n",
    "        vertex = s.pop()\n",
    "        if vertex is not labeled as discovered: \n",
    "            visit vertex (add to result list) \n",
    "            label vertex as discovered\n",
    "            for each of vertex's neighbors, N do: \n",
    "                s.push(n)\n",
    "```\n",
    "\n",
    "* The function should accept a starting node\n",
    "* Create a stack to help use keep track of vertices (use a list or array)\n",
    "* Create a list to store the end result, to be returned at the very end\n",
    "* Create an object to store visited vertices\n",
    "* Add the starting vertex to the stack, and mark as visited\n",
    "* While the stack has something in it: \n",
    "    * Pop the next vertex from the stack \n",
    "    * If that vertex hasn't been visited yet\n",
    "        * Mark it as visited\n",
    "        * Add it to the result list\n",
    "        * Push all of its neighbors into the stack\n",
    "* Return the result array"
   ]
  },
  {
   "cell_type": "code",
   "execution_count": 157,
   "metadata": {},
   "outputs": [
    {
     "data": {
      "text/plain": [
       "['A', 'C', 'E', 'F', 'D', 'B']"
      ]
     },
     "execution_count": 157,
     "metadata": {},
     "output_type": "execute_result"
    }
   ],
   "source": [
    "g.DFS_iter('A')"
   ]
  },
  {
   "cell_type": "markdown",
   "metadata": {},
   "source": [
    "# Breadth first (queue)\n",
    "\n",
    "* This function should accept a starting vertex\n",
    "* Create a queue (you can use an array) and place the starting vertex in it\n",
    "* Create an array to store the nodes visited\n",
    "* Create an object to store nodes visited\n",
    "* Mark the starting vertex as visited\n",
    "* Loop as long as there is anything in the queue\n",
    "* Remove the first vertex from the queue and push it into the array that stores nodes visited\n",
    "* Loop over each vertex in the adjacency list for the vertex you are visiting\n",
    "* If it is not inside the object that stores nodes visited, mark it as visited and enqueue that vertex\n",
    "* Once you have finished looping, return the array of visited nodes"
   ]
  },
  {
   "cell_type": "markdown",
   "metadata": {},
   "source": [
    "# Dijkstra's Algorithm \n",
    "\n",
    "* GPS - Finding fastest route\n",
    "* Network routing \n",
    "* Biology - Used to model the spread of viruses \n",
    "* Airline tickets - Finding cheapest route \n"
   ]
  },
  {
   "cell_type": "code",
   "execution_count": 16,
   "metadata": {},
   "outputs": [],
   "source": [
    "class WeightedGraph(object):\n",
    "    def __init__(self): \n",
    "        self.adjacency_list = {}\n",
    "    \n",
    "    def add_vertex(self, vertex): \n",
    "        if vertex not in self.adjacency_list: \n",
    "            self.adjacency_list[vertex] = []\n",
    "    \n",
    "    def add_edge(self, vertex1, vertex2, weight): \n",
    "        self.adjacency_list[vertex1].append({'node': vertex2, 'weight': weight})\n",
    "        self.adjacency_list[vertex2].append({'node': vertex1, 'weight': weight})\n",
    "        \n"
   ]
  },
  {
   "cell_type": "code",
   "execution_count": 17,
   "metadata": {},
   "outputs": [],
   "source": [
    "g = WeightedGraph()"
   ]
  },
  {
   "cell_type": "code",
   "execution_count": 18,
   "metadata": {},
   "outputs": [],
   "source": [
    "g.add_vertex('A')\n",
    "g.add_vertex('B')\n",
    "g.add_vertex('C')\n",
    "g.add_edge('A', 'B', 9)\n",
    "g.add_edge('A', 'C', 5)\n",
    "g.add_edge('B', 'C', 7)"
   ]
  },
  {
   "cell_type": "code",
   "execution_count": 20,
   "metadata": {},
   "outputs": [
    {
     "data": {
      "text/plain": [
       "{'A': [{'node': 'B', 'weight': 9}, {'node': 'C', 'weight': 5}],\n",
       " 'B': [{'node': 'A', 'weight': 9}, {'node': 'C', 'weight': 7}],\n",
       " 'C': [{'node': 'A', 'weight': 5}, {'node': 'B', 'weight': 7}]}"
      ]
     },
     "execution_count": 20,
     "metadata": {},
     "output_type": "execute_result"
    }
   ],
   "source": [
    "g.adjacency_list \n"
   ]
  },
  {
   "cell_type": "markdown",
   "metadata": {},
   "source": [
    "# The approach\n",
    "\n",
    "1. Every time we look to visit a new node, we pick the node with the smallest known distance to visit first\n",
    "2. Once we've moved to the node we're going to visit, we look at each of its neighbors\n",
    "3. For each neighboring node, we calculate the distance by summing the total edges that lead to the node we're checking from the starting node\n",
    "4. If the new total distance to a node is less than the previous total, we store the new shorter distance for that node"
   ]
  },
  {
   "cell_type": "markdown",
   "metadata": {},
   "source": [
    "# Dijkstra's pseudocode\n",
    "\n",
    "* This function should accept a starting and ending vertex\n",
    "* Create an object (we'll call it distances) and set each key to be every vertex in the adjacency list with the value of infinity, except for the starting vertex which should have a value of 0\n",
    "* After setting a value in the distances object, add each vertex with a priority of infinity to the priority queue, except the starting vertex, which should have a priority of of 0 because that's where we begin\n",
    "* Create another object called previous and set each key to be every vertex in the adjacency list with a value of null\n",
    "* Start looping as long as there is anything in the priority queue\n",
    "    * dequeue the distance to that vertex with the new lower distance\n",
    "    * If the distance is less than what is currently stored in our distances object\n",
    "        * Update the distances object with the new lower distance\n",
    "        * Update the previous object to contain that vertex\n",
    "        * enqueue the vertex with the total distance from the start node"
   ]
  },
  {
   "cell_type": "code",
   "execution_count": 349,
   "metadata": {},
   "outputs": [],
   "source": [
    "import heapq\n",
    "class WeightedGraph(object):\n",
    "    def __init__(self): \n",
    "        self.adjacency_list = {}\n",
    "    \n",
    "    def add_vertex(self, vertex): \n",
    "        if vertex not in self.adjacency_list: \n",
    "            self.adjacency_list[vertex] = []\n",
    "    \n",
    "    def add_edge(self, vertex1, vertex2, weight): \n",
    "        self.adjacency_list[vertex1].append({'node': vertex2, 'weight': weight})\n",
    "        self.adjacency_list[vertex2].append({'node': vertex1, 'weight': weight})\n",
    "\n",
    "    def dijkstra(self, start, end): \n",
    "        nodes = PriorityQueue()\n",
    "        distances = {}\n",
    "        previous = {}\n",
    "        path = []\n",
    "    \n",
    "        \n",
    "        # Build up initial state\n",
    "        # Adjacency_list\n",
    "        # {'A': [{'node': 'B', 'weight': 4}, {'node': 'C', 'weight': 2}], \n",
    "        #  'B': [{'node': 'A', 'weight': 4}, {'node': 'E', 'weight': 3}], \n",
    "        #  'C': [{'node': 'A', 'weight': 2}, {'node': 'D', 'weight': 2}, {'node': 'F', 'weight': 4}], \n",
    "        #  'D': [{'node': 'C', 'weight': 2}, {'node': 'E', 'weight': 3}, {'node': 'F', 'weight': 1}], \n",
    "        #  'E': [{'node': 'B', 'weight': 3}, {'node': 'D', 'weight': 3}, {'node': 'F', 'weight': 1}], \n",
    "        #  'F': [{'node': 'C', 'weight': 4}, {'node': 'D', 'weight': 1}, {'node': 'E', 'weight': 1}]}\n",
    "\n",
    "        for vertex in self.adjacency_list: \n",
    "            if vertex == start: \n",
    "                distances[vertex] = 0\n",
    "                nodes.enqueue(vertex, 0)\n",
    "            else:\n",
    "                distances[vertex] = float('inf')\n",
    "                nodes.enqueue(vertex, float('inf'))\n",
    "            previous[vertex] = None\n",
    "\n",
    "        # Previous \n",
    "        # {'A': None, 'B': None, 'C': None, 'D': None, 'E': None, 'F': None}\n",
    "        \n",
    "        # Distances\n",
    "        # {'A': 0, 'B': inf, 'C': inf, 'D': inf, 'E': inf, 'F': inf}\n",
    "        \n",
    "        # As long as there is something to visit\n",
    "        while nodes: \n",
    "            smallest = nodes.dequeue()\n",
    "            if not smallest: break\n",
    "            smallest = smallest[0]\n",
    "#             print(smallest)\n",
    "            if smallest or distances[smallest] != float('inf'): \n",
    "                # Find neighboring node \n",
    "                for neighbor in self.adjacency_list[smallest]:\n",
    "                    # Calculate new distance to neighboring node\n",
    "                    candidate = distances[smallest] + neighbor['weight']\n",
    "#                     print(neighbor, candidate)\n",
    "                    if candidate < distances[neighbor['node']]: \n",
    "#                         print('distance is smaller')\n",
    "#                         print(neighbor['node'], candidate)\n",
    "                        # Updating new smallest distance to neighbor\n",
    "                        distances[neighbor['node']] = candidate\n",
    "                        # Updating previous \n",
    "                        previous[neighbor['node']] = smallest \n",
    "                        # Enqueue in priority\n",
    "                        nodes.enqueue(neighbor['node'], candidate)\n",
    "                \n",
    "        \n",
    "\n",
    "        smallest = end \n",
    "        path.append(end)\n",
    "        while previous[smallest]: \n",
    "            path.append(previous[smallest])\n",
    "            smallest = previous[smallest]\n",
    "#         print('dist', distances)\n",
    "#         print('prev', previous)\n",
    "       \n",
    "        \n",
    "        return path[::-1]\n",
    "            \n",
    "                \n",
    "class PriorityQueue(object):\n",
    "    def __init__(self):\n",
    "        self.values = []\n",
    "        \n",
    "    def enqueue(self, val, priority):\n",
    "        heapq.heappush(self.values, [val, priority])\n",
    "        \n",
    "    def dequeue(self):\n",
    "        return heapq.heappop(self.values) if self.values else None\n",
    "        \n",
    "\n",
    "    \n",
    "                \n",
    "                \n",
    "                "
   ]
  },
  {
   "cell_type": "code",
   "execution_count": 350,
   "metadata": {},
   "outputs": [
    {
     "data": {
      "text/plain": [
       "['A', 'C', 'D']"
      ]
     },
     "execution_count": 350,
     "metadata": {},
     "output_type": "execute_result"
    }
   ],
   "source": [
    "g = WeightedGraph()\n",
    "g.add_vertex('A')\n",
    "g.add_vertex('B')\n",
    "g.add_vertex('C')\n",
    "g.add_vertex('D')\n",
    "g.add_vertex('E')\n",
    "g.add_vertex('F')\n",
    "\n",
    "g.add_edge('A', 'B', 4)\n",
    "g.add_edge('A', 'C', 2)\n",
    "g.add_edge('B', 'E', 3)\n",
    "g.add_edge('C', 'D', 2)\n",
    "g.add_edge('C', 'F', 4)\n",
    "g.add_edge('D', 'E', 3)\n",
    "g.add_edge('D', 'F', 1)\n",
    "g.add_edge('E', 'F', 1)\n",
    "g.dijkstra('A', 'D')\n"
   ]
  },
  {
   "cell_type": "code",
   "execution_count": 351,
   "metadata": {},
   "outputs": [],
   "source": [
    "import heapq\n",
    "class WeightedGraph(object):\n",
    "    def __init__(self): \n",
    "        self.adjacency_list = {}\n",
    "    \n",
    "    def add_vertex(self, vertex): \n",
    "        if vertex not in self.adjacency_list: \n",
    "            self.adjacency_list[vertex] = []\n",
    "    \n",
    "    def add_edge(self, vertex1, vertex2, weight): \n",
    "        self.adjacency_list[vertex1].append({'node': vertex2, 'weight': weight})\n",
    "        self.adjacency_list[vertex2].append({'node': vertex1, 'weight': weight})\n",
    "\n",
    "    def dijkstra(self, start, end): \n",
    "        nodes = PriorityQueue()\n",
    "        distances = {}\n",
    "        previous = {}\n",
    "        path = []\n",
    "\n",
    "        for vertex in self.adjacency_list: \n",
    "            if vertex == start: \n",
    "                distances[vertex] = 0\n",
    "                nodes.enqueue(vertex, 0)\n",
    "            else:\n",
    "                distances[vertex] = float('inf')\n",
    "                nodes.enqueue(vertex, float('inf'))\n",
    "            previous[vertex] = None       \n",
    "        \n",
    "        # As long as there is something to visit\n",
    "        while nodes: \n",
    "            smallest = nodes.dequeue()\n",
    "            if not smallest: break\n",
    "            smallest = smallest[0]\n",
    "\n",
    "            if smallest or distances[smallest] != float('inf'): \n",
    "                # Find neighboring node \n",
    "                for neighbor in self.adjacency_list[smallest]:\n",
    "                    # Calculate new distance to neighboring node\n",
    "                    candidate = distances[smallest] + neighbor['weight']   \n",
    "                    if candidate < distances[neighbor['node']]: \n",
    "                        # Updating new smallest distance to neighbor\n",
    "                        distances[neighbor['node']] = candidate\n",
    "                        # Updating previous \n",
    "                        previous[neighbor['node']] = smallest \n",
    "                        # Enqueue in priority\n",
    "                        nodes.enqueue(neighbor['node'], candidate)\n",
    "                \n",
    "        # Building path\n",
    "        smallest = end \n",
    "        path.append(end)\n",
    "        while previous[smallest]: \n",
    "            path.append(previous[smallest])\n",
    "            smallest = previous[smallest]\n",
    "            \n",
    "        return path[::-1]\n",
    "            \n",
    "                \n",
    "class PriorityQueue(object):\n",
    "    def __init__(self):\n",
    "        self.values = []\n",
    "        \n",
    "    def enqueue(self, val, priority):\n",
    "        heapq.heappush(self.values, [val, priority])\n",
    "        \n",
    "    def dequeue(self):\n",
    "        return heapq.heappop(self.values) if self.values else None\n",
    "        \n"
   ]
  },
  {
   "cell_type": "code",
   "execution_count": 353,
   "metadata": {},
   "outputs": [],
   "source": [
    "# José Implementation\n",
    "class Vertex: \n",
    "    \n",
    "    def __init__(self, key):\n",
    "        self.id = key\n",
    "        self.connectedTo = {}\n",
    "        \n",
    "    def addNeighbor(self, nbr, weight=0):\n",
    "        self.connectedTo[nbr] = weight\n",
    "        \n",
    "    def getConnections(self):\n",
    "        return self.connectedTo.keys()\n",
    "    \n",
    "    def getId(self):\n",
    "        return self.id\n",
    "    \n",
    "    def getWeight(self, nbr):\n",
    "        return self.connectedTo[nbr]\n",
    "    \n",
    "    def __str__(self):\n",
    "        return str(self.id)+ ' connected to: ' + str([x.id for x in self.connectedTo])\n",
    "    \n",
    "    \n",
    "    "
   ]
  },
  {
   "cell_type": "code",
   "execution_count": 354,
   "metadata": {},
   "outputs": [],
   "source": [
    "class Graph: \n",
    "    \n",
    "    def __init__(self):\n",
    "        self.vertList = {}\n",
    "        self.numVertices = 0\n",
    "    \n",
    "    def addVertex(self, key):\n",
    "        self.numVertices += 1\n",
    "        newVertex = Vertex(key)\n",
    "        self.vertList[key] = newVertex\n",
    "        \n",
    "    def getVertex(self,n): \n",
    "        if n in self.vertList: \n",
    "            return self.vertList[n]\n",
    "        return None\n",
    "    \n",
    "    def addEdge(self, start, end, cost=0):\n",
    "        if start not in self.vertList: \n",
    "            nv = self.addVertex(start)\n",
    "        if end not in self.vertList: \n",
    "            nv = self. addVertex(end)\n",
    "            \n",
    "        self.vertList[start].addNeighbor(self.vertList[end], cost)\n",
    "        \n",
    "    def getVertices(self):\n",
    "        return self.vertList.keys()\n",
    "    \n",
    "    def __iter__(self):\n",
    "        return iter(self.vertList.values())\n",
    "    \n",
    "    def __contains__(self, n):\n",
    "        return n in self.vertList\n",
    "        \n",
    "        "
   ]
  },
  {
   "cell_type": "code",
   "execution_count": 355,
   "metadata": {},
   "outputs": [],
   "source": [
    "g = Graph()"
   ]
  },
  {
   "cell_type": "code",
   "execution_count": 356,
   "metadata": {},
   "outputs": [],
   "source": [
    "for i in range(6):\n",
    "    g.addVertex(i)"
   ]
  },
  {
   "cell_type": "code",
   "execution_count": 357,
   "metadata": {},
   "outputs": [
    {
     "data": {
      "text/plain": [
       "{0: <__main__.Vertex at 0x107eb8048>,\n",
       " 1: <__main__.Vertex at 0x107eb8358>,\n",
       " 2: <__main__.Vertex at 0x107eb8b70>,\n",
       " 3: <__main__.Vertex at 0x107eb8c50>,\n",
       " 4: <__main__.Vertex at 0x107e7ec18>,\n",
       " 5: <__main__.Vertex at 0x107e7e4a8>}"
      ]
     },
     "execution_count": 357,
     "metadata": {},
     "output_type": "execute_result"
    }
   ],
   "source": [
    "g.vertList"
   ]
  },
  {
   "cell_type": "code",
   "execution_count": 358,
   "metadata": {},
   "outputs": [],
   "source": [
    "g.addEdge(0, 1, 2)"
   ]
  },
  {
   "cell_type": "code",
   "execution_count": 359,
   "metadata": {},
   "outputs": [
    {
     "name": "stdout",
     "output_type": "stream",
     "text": [
      "0 connected to: [1] dict_keys([<__main__.Vertex object at 0x107eb8358>])\n",
      "1 connected to: [] dict_keys([])\n",
      "2 connected to: [] dict_keys([])\n",
      "3 connected to: [] dict_keys([])\n",
      "4 connected to: [] dict_keys([])\n",
      "5 connected to: [] dict_keys([])\n"
     ]
    }
   ],
   "source": [
    "for vertex in g: \n",
    "    print(vertex, vertex.getConnections())"
   ]
  },
  {
   "cell_type": "markdown",
   "metadata": {},
   "source": [
    "# 133. Clone Graph\n",
    "\n",
    "Given a reference of a node in a connected undirected graph, return a deep copy (clone) of the graph. Each node in the graph contains a val (int) and a list (List[Node]) of its neighbors.\n",
    "\n",
    " \n",
    "\n",
    "Example:\n",
    "\n",
    "\n",
    "\n",
    "Input:\n",
    "{\"$id\":\"1\",\"neighbors\":[{\"$id\":\"2\",\"neighbors\":[{\"$ref\":\"1\"},{\"$id\":\"3\",\"neighbors\":[{\"$ref\":\"2\"},{\"$id\":\"4\",\"neighbors\":[{\"$ref\":\"3\"},{\"$ref\":\"1\"}],\"val\":4}],\"val\":3}],\"val\":2},{\"$ref\":\"4\"}],\"val\":1}\n",
    "\n",
    "Explanation:\n",
    "Node 1's value is 1, and it has two neighbors: Node 2 and 4.\n",
    "Node 2's value is 2, and it has two neighbors: Node 1 and 3.\n",
    "Node 3's value is 3, and it has two neighbors: Node 2 and 4.\n",
    "Node 4's value is 4, and it has two neighbors: Node 1 and 3."
   ]
  },
  {
   "cell_type": "code",
   "execution_count": 1,
   "metadata": {},
   "outputs": [],
   "source": [
    "def cloneGraph(node): \n",
    "    \n",
    "    if not node:\n",
    "        return \n",
    "        \n",
    "    queue = collections.deque()  \n",
    "    headCopy = Node(node.val, [])\n",
    "    visited = {node: headCopy}\n",
    "        \n",
    "    queue.append(node)\n",
    "    \n",
    "    while queue:\n",
    "        node = queue.popleft()\n",
    "        for neighbor in node.neighbors:\n",
    "            if neighbor not in visited:\n",
    "                visited[neighbor] = Node(neighbor.val, [])\n",
    "                visited[node].neighbors.append(visited[neighbor])\n",
    "                queue.append(neighbor)\n",
    "            else:\n",
    "                visited[node].neighbors.append(visited[neighbor])\n",
    "    \n",
    "    return headCopy"
   ]
  },
  {
   "cell_type": "markdown",
   "metadata": {},
   "source": [
    "# 207. Course Schedule\n",
    "There are a total of n courses you have to take, labeled from 0 to n-1.\n",
    "\n",
    "Some courses may have prerequisites, for example to take course 0 you have to first take course 1, which is expressed as a pair: [0,1]\n",
    "\n",
    "Given the total number of courses and a list of prerequisite pairs, is it possible for you to finish all courses?\n",
    "\n",
    "Example 1:\n",
    "\n",
    "Input: 2, [[1,0]] \n",
    "Output: true\n",
    "Explanation: There are a total of 2 courses to take. \n",
    "             To take course 1 you should have finished course 0. So it is possible.\n",
    "Example 2:\n",
    "\n",
    "Input: 2, [[1,0],[0,1]]\n",
    "Output: false\n",
    "Explanation: There are a total of 2 courses to take. \n",
    "             To take course 1 you should have finished course 0, and to take course 0 you should\n",
    "             also have finished course 1. So it is impossible."
   ]
  },
  {
   "cell_type": "code",
   "execution_count": 424,
   "metadata": {},
   "outputs": [],
   "source": [
    "# 207: Course schedule.  \n",
    "def course_schedule(numCourses, prerequisites): \n",
    "    \n",
    "    \n",
    "    color = [0]*numCourses # Mark every course as unvisited\n",
    "\n",
    "    graph = collections.defaultdict(set)\n",
    "    for course, prereq in prerequisites:\n",
    "        graph[course].add(prereq) # Dictionary where keys are courses and values are sets\n",
    "                                  # with courses prereqs\n",
    "\n",
    "    def dfs(course):\n",
    "        color[course] = -1 # Mark visiting\n",
    "        for prereq in graph[course]:\n",
    "            if color[prereq] == 0:  \n",
    "                if not dfs(prereq):\n",
    "                    return False\n",
    "            if color[prereq] == -1: # Has a cycle\n",
    "                return False\n",
    "        color[course] = 1 # Mark visited\n",
    "        return True\n",
    "\n",
    "\n",
    "    for course in range(numCourses):\n",
    "        if color[course] == 0:   \n",
    "            if not dfs(course):\n",
    "                return False\n",
    "        \n",
    "    return True\n",
    "\n",
    "def course_schedule(numCourses, prerequisites): \n",
    "    \n",
    "    \n",
    "    color = [0]*numCourses # Mark every course as unvisited\n",
    "\n",
    "    graph = collections.defaultdict(set)\n",
    "    for course, prereq in prerequisites:\n",
    "        graph[course].add(prereq) # Dictionary where keys are courses and values are sets\n",
    "                                  # with courses prereqs\n",
    "\n",
    "    def dfs(course):\n",
    "        color[course] = -1 # Mark visiting\n",
    "        for prereq in graph[course]:\n",
    "            if color[prereq] == 0:  \n",
    "                if not dfs(prereq):\n",
    "                    return False\n",
    "            if color[prereq] == -1: # Has a cycle\n",
    "                return False\n",
    "        color[course] = 1 # Mark visited\n",
    "        return True\n",
    "\n",
    "\n",
    "    for course in range(numCourses):\n",
    "        if color[course] == 0:   \n",
    "            if not dfs(course):\n",
    "                return False\n",
    "        \n",
    "    return True\n",
    "#     graph = {n:[] for n in range(numCourses)} #[0]\n",
    "        \n",
    "#     for c, p in prerequisites:\n",
    "#         graph[c].append(p)\n",
    "\n",
    "#     for course in graph.keys(): \n",
    "#         stack = graph[course]\n",
    "#         visited = set()\n",
    "#         while stack:\n",
    "#             prereq = stack.pop()\n",
    "#             visited.add(prereq)\n",
    "#             if prereq == course: return False\n",
    "#             for neighbor in graph[prereq]:\n",
    "#                 if neighbor not in visited:\n",
    "#                     stack.append(neighbor)\n",
    "#     return True\n",
    "            \n",
    "        \n",
    "    \n",
    "    \n",
    "    \n",
    "    \n",
    "    \n",
    "    "
   ]
  },
  {
   "cell_type": "code",
   "execution_count": 426,
   "metadata": {},
   "outputs": [
    {
     "data": {
      "text/plain": [
       "False"
      ]
     },
     "execution_count": 426,
     "metadata": {},
     "output_type": "execute_result"
    }
   ],
   "source": [
    "# course_schedule(6, [[2,0],[2,1],[3,1],[4,2],[5,4],[5,3]])\n",
    "course_schedule(2, [[1,0], [0,1]])\n",
    "# course_schedule(4, [[2,0],[1,2],[3,1],[2,3]])"
   ]
  },
  {
   "cell_type": "markdown",
   "metadata": {},
   "source": [
    "# 210. Course Schedule II\n",
    "\n",
    "There are a total of n courses you have to take, labeled from 0 to n-1.\n",
    "\n",
    "Some courses may have prerequisites, for example to take course 0 you have to first take course 1, which is expressed as a pair: [0,1]\n",
    "\n",
    "Given the total number of courses and a list of prerequisite pairs, return the ordering of courses you should take to finish all courses.\n",
    "\n",
    "There may be multiple correct orders, you just need to return one of them. If it is impossible to finish all courses, return an empty array.\n",
    "\n",
    "Example 1:\n",
    "\n",
    "Input: 2, [[1,0]] \n",
    "Output: [0,1]\n",
    "Explanation: There are a total of 2 courses to take. To take course 1 you should have finished   \n",
    "             course 0. So the correct course order is [0,1] .\n",
    "Example 2:\n",
    "\n",
    "Input: 4, [[1,0],[2,0],[3,1],[3,2]]\n",
    "Output: [0,1,2,3] or [0,2,1,3]\n",
    "Explanation: There are a total of 4 courses to take. To take course 3 you should have finished both     \n",
    "             courses 1 and 2. Both courses 1 and 2 should be taken after you finished course 0. \n",
    "             So one correct course order is [0,1,2,3]. Another correct ordering is [0,2,1,3] .\n",
    "Note:\n",
    "\n",
    "The input prerequisites is a graph represented by a list of edges, not adjacency matrices. Read more about how a graph is represented.\n",
    "You may assume that there are no duplicate edges in the input prerequisites.\n",
    "\n",
    "\n",
    "    "
   ]
  },
  {
   "cell_type": "code",
   "execution_count": 420,
   "metadata": {},
   "outputs": [],
   "source": [
    "import collections\n",
    "# Topological sorting\n",
    "def findOrder(numCourses, prerequisites):\n",
    "        \"\"\"\n",
    "        :type numCourses: int\n",
    "        :type prerequisites: List[List[int]]\n",
    "        :rtype: List[int]\n",
    "        \"\"\"\n",
    "        color = [0]*numCourses # Mark every course as unvisited\n",
    "        out = [] # Empty list that will contain the sorted elements\n",
    "        \n",
    "        graph = collections.defaultdict(set)\n",
    "        for course, prereq in prerequisites:\n",
    "            graph[course].add(prereq) # Dictionary where keys are courses and values are sets\n",
    "                                      # with courses prereqs\n",
    "          \n",
    "        def dfs(course):\n",
    "            color[course] = -1 # Mark visiting\n",
    "            for prereq in graph[course]:\n",
    "                if color[prereq] == 0:  \n",
    "                    if not dfs(prereq):\n",
    "                        return False\n",
    "                if color[prereq] == -1: # Has a cycle\n",
    "                    return False\n",
    "            out.append(course) \n",
    "            color[course] = 1 # Mark visited\n",
    "            return True\n",
    "        \n",
    "\n",
    "        for course in range(numCourses):\n",
    "            if color[course] == 0:   \n",
    "                if not dfs(course):\n",
    "                    return []\n",
    "        \n",
    "        return out\n",
    "                        \n",
    "        \n",
    "        \n",
    "        "
   ]
  },
  {
   "cell_type": "code",
   "execution_count": 421,
   "metadata": {},
   "outputs": [
    {
     "name": "stdout",
     "output_type": "stream",
     "text": [
      "defaultdict(<class 'set'>, {1: {0}, 0: {1}})\n",
      "here\n"
     ]
    },
    {
     "data": {
      "text/plain": [
       "[]"
      ]
     },
     "execution_count": 421,
     "metadata": {},
     "output_type": "execute_result"
    }
   ],
   "source": [
    "# findOrder(6, [[2,0],[2,1],[3,1],[4,2],[5,4],[5,3]]) #[1,3,0,2,4,5]\n",
    "# findOrder(2, [[1,0]])\n",
    "findOrder(2, [[1,0],[0,1]])\n",
    "# findOrder(3, [[1,0],[2,0]])\n",
    "# findOrder(1, [])\n",
    "# findOrder(4, [[2,0],[1,0],[3,1],[3,2],[1,3]])"
   ]
  },
  {
   "cell_type": "markdown",
   "metadata": {},
   "source": [
    "# 127. Word Ladder\n",
    "\n",
    "Given two words (beginWord and endWord), and a dictionary's word list, find the length of shortest transformation sequence from beginWord to endWord, such that:\n",
    "\n",
    "Only one letter can be changed at a time.\n",
    "Each transformed word must exist in the word list. Note that beginWord is not a transformed word.\n",
    "Note:\n",
    "\n",
    "Return 0 if there is no such transformation sequence.\n",
    "All words have the same length.\n",
    "All words contain only lowercase alphabetic characters.\n",
    "You may assume no duplicates in the word list.\n",
    "You may assume beginWord and endWord are non-empty and are not the same.\n",
    "\n",
    "Example 1:\n",
    "\n",
    "Input:\n",
    "beginWord = \"hit\",\n",
    "endWord = \"cog\",\n",
    "wordList = [\"hot\",\"dot\",\"dog\",\"lot\",\"log\",\"cog\"]\n",
    "\n",
    "Output: 5\n",
    "\n",
    "Explanation: As one shortest transformation is \"hit\" -> \"hot\" -> \"dot\" -> \"dog\" -> \"cog\",\n",
    "return its length 5.\n",
    "Example 2:\n",
    "\n",
    "Input:\n",
    "beginWord = \"hit\"\n",
    "endWord = \"cog\"\n",
    "wordList = [\"hot\",\"dot\",\"dog\",\"lot\",\"log\"]\n",
    "\n",
    "Output: 0\n",
    "\n",
    "Explanation: The endWord \"cog\" is not in wordList, therefore no possible transformation."
   ]
  },
  {
   "cell_type": "code",
   "execution_count": 604,
   "metadata": {},
   "outputs": [],
   "source": [
    "def ladderLength(beginWord, endWord, wordList):\n",
    "    wordDict = collections.defaultdict(list)\n",
    "    for word in wordList:\n",
    "        for i in range(len(word)):\n",
    "            wordDict[word[:i] + '_' + word[i+1:]].append(word)\n",
    "\n",
    "    visited = set()\n",
    "    queue = collections.deque([(beginWord, 1)])\n",
    "    while queue:\n",
    "        word, distance = queue.popleft()\n",
    "        if word == endWord:\n",
    "            return distance\n",
    "        if word not in visited:\n",
    "            visited.add(word)\n",
    "            for i in range(len(word)):\n",
    "                neighbors = word[:i] + '_' + word[i+1:]\n",
    "                for neighbor in wordDict[neighbors]:\n",
    "                    queue.append((neighbor, distance+1))\n",
    "    return 0\n",
    "        "
   ]
  },
  {
   "cell_type": "code",
   "execution_count": 605,
   "metadata": {},
   "outputs": [
    {
     "data": {
      "text/plain": [
       "5"
      ]
     },
     "execution_count": 605,
     "metadata": {},
     "output_type": "execute_result"
    }
   ],
   "source": [
    "ladderLength(\"hit\", \"cog\", [\"hot\",\"dot\",\"dog\",\"lot\",\"log\",\"cog\"])"
   ]
  },
  {
   "cell_type": "code",
   "execution_count": 657,
   "metadata": {},
   "outputs": [],
   "source": [
    "def findLadders(beginWord, endWord, wordList):\n",
    "        \"\"\"\n",
    "        :type beginWord: str\n",
    "        :type endWord: str\n",
    "        :type wordList: List[str]\n",
    "        :rtype: List[List[str]]\n",
    "        \"\"\"\n",
    "        \n",
    "        \n",
    "        temp_front = collections.deque()\n",
    "        wordDict = collections.defaultdict(list)\n",
    "        \n",
    "        for word in wordList: \n",
    "            for i in range(len(word)): \n",
    "                wordDict[word[:i] + '_' + word[i+1:]].append(word)\n",
    "                \n",
    "        queue = collections.deque([(beginWord, None, 1)])\n",
    "        visited = set() \n",
    "        \n",
    "        while queue: \n",
    "            word, prev, distance = queue.popleft()\n",
    "            if word == endWord: \n",
    "#                 temp_front.appendleft((word, temp_front[0][1]))\n",
    "                print(temp_front)\n",
    "            if word not in visited: \n",
    "                visited.add(word)\n",
    "                for i in range(len(word)): \n",
    "                    neighbors = word[:i] + '_' + word[i+1:]\n",
    "                    for neighbor in wordDict[neighbors]: \n",
    "                        if neighbor != word: \n",
    "                            temp_front.appendleft((neighbor, word, distance + 1))\n",
    "                        queue.append((neighbor, word, distance + 1))\n",
    "        "
   ]
  },
  {
   "cell_type": "code",
   "execution_count": 658,
   "metadata": {},
   "outputs": [
    {
     "name": "stdout",
     "output_type": "stream",
     "text": [
      "deque([('lot', 'log', 5), ('cog', 'log', 5), ('dog', 'log', 5), ('dot', 'dog', 5), ('cog', 'dog', 5), ('log', 'dog', 5), ('log', 'lot', 4), ('dot', 'lot', 4), ('hot', 'lot', 4), ('dog', 'dot', 4), ('lot', 'dot', 4), ('hot', 'dot', 4), ('lot', 'hot', 3), ('dot', 'hot', 3), ('hot', 'hit', 2)])\n",
      "deque([('log', 'cog', 6), ('dog', 'cog', 6), ('lot', 'log', 5), ('cog', 'log', 5), ('dog', 'log', 5), ('dot', 'dog', 5), ('cog', 'dog', 5), ('log', 'dog', 5), ('log', 'lot', 4), ('dot', 'lot', 4), ('hot', 'lot', 4), ('dog', 'dot', 4), ('lot', 'dot', 4), ('hot', 'dot', 4), ('lot', 'hot', 3), ('dot', 'hot', 3), ('hot', 'hit', 2)])\n",
      "deque([('log', 'cog', 6), ('dog', 'cog', 6), ('lot', 'log', 5), ('cog', 'log', 5), ('dog', 'log', 5), ('dot', 'dog', 5), ('cog', 'dog', 5), ('log', 'dog', 5), ('log', 'lot', 4), ('dot', 'lot', 4), ('hot', 'lot', 4), ('dog', 'dot', 4), ('lot', 'dot', 4), ('hot', 'dot', 4), ('lot', 'hot', 3), ('dot', 'hot', 3), ('hot', 'hit', 2)])\n",
      "deque([('log', 'cog', 6), ('dog', 'cog', 6), ('lot', 'log', 5), ('cog', 'log', 5), ('dog', 'log', 5), ('dot', 'dog', 5), ('cog', 'dog', 5), ('log', 'dog', 5), ('log', 'lot', 4), ('dot', 'lot', 4), ('hot', 'lot', 4), ('dog', 'dot', 4), ('lot', 'dot', 4), ('hot', 'dot', 4), ('lot', 'hot', 3), ('dot', 'hot', 3), ('hot', 'hit', 2)])\n",
      "deque([('log', 'cog', 6), ('dog', 'cog', 6), ('lot', 'log', 5), ('cog', 'log', 5), ('dog', 'log', 5), ('dot', 'dog', 5), ('cog', 'dog', 5), ('log', 'dog', 5), ('log', 'lot', 4), ('dot', 'lot', 4), ('hot', 'lot', 4), ('dog', 'dot', 4), ('lot', 'dot', 4), ('hot', 'dot', 4), ('lot', 'hot', 3), ('dot', 'hot', 3), ('hot', 'hit', 2)])\n"
     ]
    }
   ],
   "source": [
    "findLadders(\"hit\", \"cog\", [\"hot\",\"dot\",\"dog\",\"lot\",\"log\",\"cog\"])"
   ]
  },
  {
   "cell_type": "markdown",
   "metadata": {},
   "source": [
    "# 130. Surrounded Regions\n",
    "Given a 2D board containing 'X' and 'O' (the letter O), capture all regions surrounded by 'X'.\n",
    "\n",
    "A region is captured by flipping all 'O's into 'X's in that surrounded region.\n",
    "\n",
    "Example:\n",
    "\n",
    "X X X X\n",
    "\n",
    "X O O X\n",
    "\n",
    "X X O X\n",
    "\n",
    "X O X X\n",
    "\n",
    "After running your function, the board should be:\n",
    "\n",
    "X X X X\n",
    "\n",
    "X X X X\n",
    "\n",
    "X X X X\n",
    "\n",
    "X O X X\n",
    "\n",
    "Explanation:\n",
    "\n",
    "Surrounded regions shouldn’t be on the border, which means that any 'O' on the border of the board are not flipped to 'X'. Any 'O' that is not on the border and it is not connected to an 'O' on the border will be flipped to 'X'. Two cells are connected if they are adjacent cells connected horizontally or vertically."
   ]
  },
  {
   "cell_type": "code",
   "execution_count": 681,
   "metadata": {},
   "outputs": [],
   "source": [
    "def solve(self, board):\n",
    "        \"\"\"\n",
    "        :type board: List[List[str]]\n",
    "        :rtype: None Do not return anything, modify board in-place instead.\n",
    "        \"\"\"\n",
    " \n",
    "    # Put border 'O' in a queue\n",
    "    # Change it's neighbors to 'D'\n",
    "    # Change neighbors back to 'O' and unchanged 'O' to 'X'\n",
    "    \n",
    "    \n",
    "        queue = collections.deque([])\n",
    "        for i in range(len(board)):\n",
    "            for j in range(len(board[0])):\n",
    "                # if i or j are on a border and board[i][j] == 'O'\n",
    "                if (i in [0, len(board)-1] or j in [0, len(board[0])-1]) and board[i][j] == \"O\":\n",
    "                    queue.append((i, j))\n",
    "        \n",
    "        while queue:\n",
    "            i, j = queue.popleft()\n",
    "            if 0<=i<len(board) and 0<=j<len(board[0]) and board[i][j] == \"O\":\n",
    "                board[i][j] = \"D\"\n",
    "                queue.append((i-1, j))\n",
    "                queue.append((i+1, j))\n",
    "                queue.append((i, j-1))\n",
    "                queue.append((i, j+1))\n",
    "\n",
    "        for i in range(len(board)):\n",
    "            for j in range(len(board[0])):\n",
    "                if board[i][j] == \"O\":\n",
    "                    board[i][j] = \"X\"\n",
    "                elif board[i][j] == \"D\":\n",
    "                    board[i][j] = \"O\"\n",
    "           \n"
   ]
  }
 ],
 "metadata": {
  "kernelspec": {
   "display_name": "Python 3",
   "language": "python",
   "name": "python3"
  },
  "language_info": {
   "codemirror_mode": {
    "name": "ipython",
    "version": 3
   },
   "file_extension": ".py",
   "mimetype": "text/x-python",
   "name": "python",
   "nbconvert_exporter": "python",
   "pygments_lexer": "ipython3",
   "version": "3.6.4"
  }
 },
 "nbformat": 4,
 "nbformat_minor": 2
}
