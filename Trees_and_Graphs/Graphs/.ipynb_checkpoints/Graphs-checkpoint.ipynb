{
 "cells": [
  {
   "cell_type": "markdown",
   "metadata": {},
   "source": [
    "# Graphs\n",
    "\n",
    "* Used in any social network\n",
    "* Any time we're modeling users\n",
    "* Recommendation engines (people you might know, people also watched, frequently bought with...)\n",
    "* Location / Mapping\n",
    "* Visual Hierarchy\n",
    "* File system optimizations\n",
    "* Peer to peer networking\n",
    "* Web crawlers\n",
    "* Shortest path problems\n",
    "    * GPS navigation\n",
    "    * Solving mazes\n",
    "    * AI\n"
   ]
  },
  {
   "cell_type": "markdown",
   "metadata": {},
   "source": [
    "![Alt Text](https://upload.wikimedia.org/wikipedia/commons/c/cf/Complete_graph_K5.svg)"
   ]
  },
  {
   "cell_type": "markdown",
   "metadata": {},
   "source": [
    "* Vertex - a node\n",
    "* Edge - connection between two nodes\n",
    "\n",
    "# Types of graphs\n",
    "* Trees are graphs in which each node is connected to another one by exactly one path\n",
    "\n",
    "* Undirected - There is no direction associated with an edge (Ex: Facebook connections)\n",
    "* Directed graph - There is a direction associated with an edge (Ex: Instagram followers) \n",
    "\n",
    "* Weighted graph - When we assign value to the edges\n",
    "\n",
    "* Google maps - Weighted, directed graphs. \n",
    "\n",
    "\n"
   ]
  },
  {
   "cell_type": "markdown",
   "metadata": {},
   "source": [
    "# Representing graphs \n",
    "\n",
    "* Adjacency matrix \n",
    "* Adjacency list\n",
    "* Hash table\n",
    "\n",
    "Adjacency List | Adjacency Matrix\n",
    "------------ | -------------\n",
    "Can take up less space (in sparse graphs) | Takes up more space (in sparse graphs)\n",
    "Faster to iterate over all edges | Slower to iterate over all edges\n",
    "Can be slower to lookup specific edge| Faster to lookup specific edge"
   ]
  },
  {
   "cell_type": "code",
   "execution_count": 150,
   "metadata": {},
   "outputs": [],
   "source": [
    "class Graph(object): \n",
    "    def __init__(self):\n",
    "        self.adjacency_list = {}\n",
    "\n",
    "    # Adding a vertex \n",
    "    # It should add a key to the adjacency list \n",
    "    # with the name of the vertex and set its vale to be\n",
    "    # an empty array\n",
    "    def add_vertex(self, node): \n",
    "        if node not in self.adjacency_list: \n",
    "            self.adjacency_list[node] = []\n",
    "        \n",
    "    \n",
    "    # Adding an edge\n",
    "    # This function should accept two vertices\n",
    "    # The function should find in the adjacency list\n",
    "    # the key of v1 and push v2 to the array, and find\n",
    "    # the key of v2 and push v1 to the array\n",
    "    def add_edge(self, v1, v2): \n",
    "        self.adjacency_list[v1].append(v2)\n",
    "        self.adjacency_list[v2].append(v1)\n",
    "        \n",
    "    # Removing an edge\n",
    "    # This function should accept two vertices\n",
    "    # The function should find in the adjacency list\n",
    "    # the key of v1 and remove v2 from the array, and find\n",
    "    # the key of v2 and remove v1 from the array\n",
    "    def remove_edge(self, v1, v2): \n",
    "        for i in range(len(self.adjacency_list[v1])): \n",
    "            if self.adjacency_list[v1][i] == v2:\n",
    "                self.adjacency_list[v1].pop(i)\n",
    "        for i in range(len(self.adjacency_list[v2])): \n",
    "            if self.adjacency_list[v2][i] == v1:\n",
    "                self.adjacency_list[v2].pop(i)\n",
    "    \n",
    "    # Removing a vertex \n",
    "    # It should loop as long as there are any other vertices\n",
    "    # in the adjacency list for that vertex\n",
    "    # Inside of the loop, call our removeEdge function with \n",
    "    # the vertex we are removing and any values in the adjacency list \n",
    "    # for that vertex\n",
    "    # Delete key in the adjacency list for that vertex \n",
    "    def remove_vertex(self, node): \n",
    "        for item in self.adjacency_list[node]: \n",
    "            self.remove_edge(node, item)\n",
    "        self.adjacency_list.pop(node, None)\n",
    "\n",
    "    \n",
    "#     The function should accept a starting node\n",
    "#     Create a list to store the end result, to be returned at the very end\n",
    "#     Create an object to store visited vertices\n",
    "#     Create a helper function which accepts a vertex\n",
    "#     The helper function should return early if the vertex is empty\n",
    "#     The helper function should place the vertex it accepts into the visited \n",
    "#     object and push that vertex into the result array\n",
    "#     Loop over all of the values in the adjacency_list for that vertex\n",
    "#     If any of those values have not been visited, recursively invoke the helper function with that vertex\n",
    "    def DFS_rec(self, start):\n",
    "        out = []\n",
    "        visited = {}\n",
    "        self.DFS_rec_helper(start, out, visited)\n",
    "        return out \n",
    "    \n",
    "    def DFS_rec_helper(self, vertex, out, visited):\n",
    "        if not vertex: return \n",
    "        out += vertex\n",
    "        visited[vertex] = True \n",
    "        for item in self.adjacency_list[vertex]: \n",
    "            if item not in visited: \n",
    "                self.DFS_rec_helper(item, out, visited)\n",
    "                \n",
    "    \n",
    "    # The function should accept a starting node\n",
    "    # Create a stack to help use keep track of vertices (use a list or array)\n",
    "    # Create a list to store the end result, to be returned at the very end\n",
    "    # Create an object to store visited vertices\n",
    "    # Add the starting vertex to the stack, and mark as visited\n",
    "    # While the stack has something in it:\n",
    "    # Pop the next vertex from the stack\n",
    "    # If that vertex hasn't been visited yet\n",
    "    # Mark it as visited\n",
    "    # Add it to the result list\n",
    "    # Push all of its neighbors into the stack\n",
    "    # Return the result array\n",
    "\n",
    "    def DFS_iter(self, start):\n",
    "        stack, result, visited = [start], [], {start: True}\n",
    "        while stack: \n",
    "            curr = stack.pop()\n",
    "            result += curr\n",
    "            for neighbor in self.adjacency_list[curr]: \n",
    "                if neighbor not in visited: \n",
    "                    visited[neighbor] = True\n",
    "                    stack += neighbor\n",
    "        return result\n",
    "    \n",
    "    # This function should accept a starting vertex\n",
    "    # * Create a queue (you can use an array) and place the starting vertex in it\n",
    "    # * Create an array to store the nodes visited\n",
    "    # * Create an object to store nodes visited\n",
    "    # * Mark the starting vertex as visited\n",
    "    # * Loop as long as there is anything in the queue\n",
    "    # * Remove the first vertex from the queue and push it into the array that stores nodes visited\n",
    "    # * Loop over each vertex in the adjacency list for the vertex you are visiting\n",
    "    # * If it is not inside the object that stores nodes visited, mark it as visited and enqueue that vertex\n",
    "    # * Once you have finished looping, return the array of visited nodes\n",
    "    def DFS_iter(self, start):\n",
    "        \n",
    "        queue, result, visited = [start], [], {start: True}\n",
    "        while queue: \n",
    "            curr = queue.pop(0)\n",
    "            result += curr\n",
    "            for neighbor in self.adjacency_list[curr]: \n",
    "                if neighbor not in visited: \n",
    "                    visited[neighbor] = True\n",
    "                    queue += neighbor\n",
    "        return result\n",
    "        \n",
    "        \n",
    "        \n",
    "        \n",
    "        \n",
    "        \n",
    "        "
   ]
  },
  {
   "cell_type": "code",
   "execution_count": 151,
   "metadata": {},
   "outputs": [],
   "source": [
    "g = Graph()"
   ]
  },
  {
   "cell_type": "code",
   "execution_count": 152,
   "metadata": {},
   "outputs": [
    {
     "data": {
      "text/plain": [
       "<__main__.Graph at 0x1118dd668>"
      ]
     },
     "execution_count": 152,
     "metadata": {},
     "output_type": "execute_result"
    }
   ],
   "source": [
    "g"
   ]
  },
  {
   "cell_type": "code",
   "execution_count": 153,
   "metadata": {},
   "outputs": [],
   "source": [
    "g.add_vertex('A')\n",
    "g.add_vertex('B')\n",
    "g.add_vertex('C')\n",
    "g.add_vertex('D')\n",
    "g.add_vertex('E')\n",
    "g.add_vertex('F')"
   ]
  },
  {
   "cell_type": "code",
   "execution_count": 154,
   "metadata": {},
   "outputs": [
    {
     "data": {
      "text/plain": [
       "{'A': [], 'B': [], 'C': [], 'D': [], 'E': [], 'F': []}"
      ]
     },
     "execution_count": 154,
     "metadata": {},
     "output_type": "execute_result"
    }
   ],
   "source": [
    "g.adjacency_list"
   ]
  },
  {
   "cell_type": "code",
   "execution_count": 155,
   "metadata": {},
   "outputs": [],
   "source": [
    "g.add_edge('A', 'B')\n",
    "g.add_edge('A', 'C')\n",
    "g.add_edge('B', 'D')\n",
    "g.add_edge('C', 'E')\n",
    "g.add_edge('D', 'E')\n",
    "g.add_edge('D', 'F')\n",
    "g.add_edge('E', 'F')"
   ]
  },
  {
   "cell_type": "code",
   "execution_count": 156,
   "metadata": {},
   "outputs": [
    {
     "data": {
      "text/plain": [
       "{'A': ['B', 'C'],\n",
       " 'B': ['A', 'D'],\n",
       " 'C': ['A', 'E'],\n",
       " 'D': ['B', 'E', 'F'],\n",
       " 'E': ['C', 'D', 'F'],\n",
       " 'F': ['D', 'E']}"
      ]
     },
     "execution_count": 156,
     "metadata": {},
     "output_type": "execute_result"
    }
   ],
   "source": [
    "g.adjacency_list"
   ]
  },
  {
   "cell_type": "code",
   "execution_count": 136,
   "metadata": {},
   "outputs": [
    {
     "data": {
      "text/plain": [
       "['A', 'B', 'D', 'E', 'C', 'F']"
      ]
     },
     "execution_count": 136,
     "metadata": {},
     "output_type": "execute_result"
    }
   ],
   "source": [
    "g.DFS_rec('A')"
   ]
  },
  {
   "cell_type": "markdown",
   "metadata": {},
   "source": [
    "# Depth first traversal (Recursive)\n",
    "\n",
    "## Pseudocode\n",
    "\n",
    "```\n",
    "DEF (vertex): \n",
    "    if vertex is empty\n",
    "        return (this is base case)\n",
    "    add vertex to results list\n",
    "    mark vertex as visited\n",
    "    for each neighbor in vertex's neighbors: \n",
    "        if neighbor is not visited: \n",
    "            recursively call DFS on neighbor\n",
    "```"
   ]
  },
  {
   "cell_type": "markdown",
   "metadata": {},
   "source": [
    "* The function should accept a starting node\n",
    "* Create a list to store the end result, to be returned at the very end\n",
    "* Create an object to store visited vertices\n",
    "* Create a helper function which accepts a vertex\n",
    "    * The helper function should return early if the vertex is empty\n",
    "    * The helper function should place the vertex it accepts into the visited object and push that vertex into the result array\n",
    "    * Loop over all of the values in the adjacency_list for that vertex\n",
    "    * If any of those values have not been visited, recursively invoke the helper function with that vertex"
   ]
  },
  {
   "cell_type": "markdown",
   "metadata": {},
   "source": [
    "# Depth first traversal (Iterative)\n",
    "# (stack)\n",
    "\n",
    "## Pseudocode\n",
    "\n",
    "```\n",
    "DFS_iter(self, start): \n",
    "    let s be a stack\n",
    "    s.push(start)\n",
    "    while s in not empty: \n",
    "        vertex = s.pop()\n",
    "        if vertex is not labeled as discovered: \n",
    "            visit vertex (add to result list) \n",
    "            label vertex as discovered\n",
    "            for each of vertex's neighbors, N do: \n",
    "                s.push(n)\n",
    "```\n",
    "\n",
    "* The function should accept a starting node\n",
    "* Create a stack to help use keep track of vertices (use a list or array)\n",
    "* Create a list to store the end result, to be returned at the very end\n",
    "* Create an object to store visited vertices\n",
    "* Add the starting vertex to the stack, and mark as visited\n",
    "* While the stack has something in it: \n",
    "    * Pop the next vertex from the stack \n",
    "    * If that vertex hasn't been visited yet\n",
    "        * Mark it as visited\n",
    "        * Add it to the result list\n",
    "        * Push all of its neighbors into the stack\n",
    "* Return the result array"
   ]
  },
  {
   "cell_type": "code",
   "execution_count": 157,
   "metadata": {},
   "outputs": [
    {
     "data": {
      "text/plain": [
       "['A', 'C', 'E', 'F', 'D', 'B']"
      ]
     },
     "execution_count": 157,
     "metadata": {},
     "output_type": "execute_result"
    }
   ],
   "source": [
    "g.DFS_iter('A')"
   ]
  },
  {
   "cell_type": "markdown",
   "metadata": {},
   "source": [
    "# Breadth first (queue)\n",
    "\n",
    "* This function should accept a starting vertex\n",
    "* Create a queue (you can use an array) and place the starting vertex in it\n",
    "* Create an array to store the nodes visited\n",
    "* Create an object to store nodes visited\n",
    "* Mark the starting vertex as visited\n",
    "* Loop as long as there is anything in the queue\n",
    "* Remove the first vertex from the queue and push it into the array that stores nodes visited\n",
    "* Loop over each vertex in the adjacency list for the vertex you are visiting\n",
    "* If it is not inside the object that stores nodes visited, mark it as visited and enqueue that vertex\n",
    "* Once you have finished looping, return the array of visited nodes"
   ]
  },
  {
   "cell_type": "markdown",
   "metadata": {},
   "source": [
    "# Dijkstra's Algorithm \n",
    "\n",
    "* GPS - Finding fastest route\n",
    "* Network routing \n",
    "* Biology - Used to model the spread of viruses \n",
    "* Airline tickets - Finding cheapest route \n"
   ]
  },
  {
   "cell_type": "code",
   "execution_count": 16,
   "metadata": {},
   "outputs": [],
   "source": [
    "class WeightedGraph(object):\n",
    "    def __init__(self): \n",
    "        self.adjacency_list = {}\n",
    "    \n",
    "    def add_vertex(self, vertex): \n",
    "        if vertex not in self.adjacency_list: \n",
    "            self.adjacency_list[vertex] = []\n",
    "    \n",
    "    def add_edge(self, vertex1, vertex2, weight): \n",
    "        self.adjacency_list[vertex1].append({'node': vertex2, 'weight': weight})\n",
    "        self.adjacency_list[vertex2].append({'node': vertex1, 'weight': weight})\n",
    "        \n"
   ]
  },
  {
   "cell_type": "code",
   "execution_count": 17,
   "metadata": {},
   "outputs": [],
   "source": [
    "g = WeightedGraph()"
   ]
  },
  {
   "cell_type": "code",
   "execution_count": 18,
   "metadata": {},
   "outputs": [],
   "source": [
    "g.add_vertex('A')\n",
    "g.add_vertex('B')\n",
    "g.add_vertex('C')\n",
    "g.add_edge('A', 'B', 9)\n",
    "g.add_edge('A', 'C', 5)\n",
    "g.add_edge('B', 'C', 7)"
   ]
  },
  {
   "cell_type": "code",
   "execution_count": 20,
   "metadata": {},
   "outputs": [
    {
     "data": {
      "text/plain": [
       "{'A': [{'node': 'B', 'weight': 9}, {'node': 'C', 'weight': 5}],\n",
       " 'B': [{'node': 'A', 'weight': 9}, {'node': 'C', 'weight': 7}],\n",
       " 'C': [{'node': 'A', 'weight': 5}, {'node': 'B', 'weight': 7}]}"
      ]
     },
     "execution_count": 20,
     "metadata": {},
     "output_type": "execute_result"
    }
   ],
   "source": [
    "g.adjacency_list \n"
   ]
  },
  {
   "cell_type": "markdown",
   "metadata": {},
   "source": [
    "# The approach\n",
    "\n",
    "1. Every time we look to visit a new node, we pick the node with the smallest known distance to visit first\n",
    "2. Once we've moved to the node we're going to visit, we look at each of its neighbors\n",
    "3. For each neighboring node, we calculate the distance by summing the total edges that lead to the node we're checking from the starting node\n",
    "4. If the new total distance to a node is less than the previous total, we store the new shorter distance for that node"
   ]
  },
  {
   "cell_type": "markdown",
   "metadata": {},
   "source": [
    "# Dijkstra's pseudocode\n",
    "\n",
    "* This function should accept a starting and ending vertex\n",
    "* Create an object (we'll call it distances) and set each key to be every vertex in the adjacency list with the value of infinity, except for the starting vertex which should have a value of 0\n",
    "* After setting a value in the distances object, add each vertex with a priority of infinity to the priority queue, except the starting vertex, which should have a priority of of 0 because that's where we begin\n",
    "* Create another object called previous and set each key to be every vertex in the adjacency list with a value of null\n",
    "* Start looping as long as there is anything in the priority queue\n",
    "    * dequeue the distance to that vertex with the new lower distance\n",
    "    * If the distance is less than what is currently stored in our distances object\n",
    "        * Update the distances object with the new lower distance\n",
    "        * Update the previous object to contain that vertex\n",
    "        * enqueue the vertex with the total distance from the start node"
   ]
  },
  {
   "cell_type": "code",
   "execution_count": 100,
   "metadata": {},
   "outputs": [],
   "source": [
    "from collections import deque\n",
    "class WeightedGraph(object):\n",
    "    def __init__(self): \n",
    "        self.adjacency_list = {}\n",
    "    \n",
    "    def add_vertex(self, vertex): \n",
    "        if vertex not in self.adjacency_list: \n",
    "            self.adjacency_list[vertex] = []\n",
    "    \n",
    "    def add_edge(self, vertex1, vertex2, weight): \n",
    "        self.adjacency_list[vertex1].append({'node': vertex2, 'weight': weight})\n",
    "        self.adjacency_list[vertex2].append({'node': vertex1, 'weight': weight})\n",
    "\n",
    "    def dijkstra(self, start, end): \n",
    "        nodes = PriorityQueue()\n",
    "        distances = {}\n",
    "        previous = {}\n",
    "        \n",
    "        # Build up initial state\n",
    "        for vertex in self.adjacency_list: \n",
    "            if vertex == start: \n",
    "                distances[vertex] = 0\n",
    "                nodes.enqueue(vertex, 0)\n",
    "            else:\n",
    "                distances[vertex] = float('inf')\n",
    "                nodes.enqueue(vertex, float('inf'))\n",
    "            previous[vertex] = None\n",
    "        \n",
    "        # as long as there is something to visit\n",
    "        while nodes: \n",
    "            smallest = nodes.dequeue()\n",
    "            print(smallest)\n",
    "            if smallest == end:\n",
    "                continue\n",
    "                # We are done and need to build path \n",
    "            if smallest or distances[smallest] < float('inf'):\n",
    "                print(smallest)\n",
    "                for neighbor in self.adjacency_list[smallest]:\n",
    "                    nextNode = self.adjacency_list[smallest]\n",
    "#                     print(neighbor)  \n",
    "                print('-----')\n",
    "                \n",
    "class PriorityQueue(object):\n",
    "    def __init__(self):\n",
    "        self.values = []\n",
    "    \n",
    "    def enqueue(self, val, priority):\n",
    "        self.values.append([val, priority])\n",
    "        self.sort()\n",
    "        return self.values\n",
    "        \n",
    "    def dequeue(self):\n",
    "        return deque.popleft()\n",
    "\n",
    "    def sort(self):\n",
    "        self.values.sort(key=lambda x: x[1])\n",
    "                \n",
    "                \n",
    "                \n",
    "                "
   ]
  },
  {
   "cell_type": "code",
   "execution_count": 101,
   "metadata": {},
   "outputs": [
    {
     "name": "stdout",
     "output_type": "stream",
     "text": [
      "['A', 0]\n",
      "['A', 0]\n"
     ]
    },
    {
     "ename": "TypeError",
     "evalue": "unhashable type: 'list'",
     "output_type": "error",
     "traceback": [
      "\u001b[0;31m---------------------------------------------------------------------------\u001b[0m",
      "\u001b[0;31mTypeError\u001b[0m                                 Traceback (most recent call last)",
      "\u001b[0;32m<ipython-input-101-245ccb33952f>\u001b[0m in \u001b[0;36m<module>\u001b[0;34m()\u001b[0m\n\u001b[1;32m     16\u001b[0m \u001b[0mg\u001b[0m\u001b[0;34m.\u001b[0m\u001b[0madd_edge\u001b[0m\u001b[0;34m(\u001b[0m\u001b[0;34m'E'\u001b[0m\u001b[0;34m,\u001b[0m \u001b[0;34m'F'\u001b[0m\u001b[0;34m,\u001b[0m \u001b[0;36m1\u001b[0m\u001b[0;34m)\u001b[0m\u001b[0;34m\u001b[0m\u001b[0m\n\u001b[1;32m     17\u001b[0m \u001b[0mg\u001b[0m\u001b[0;34m.\u001b[0m\u001b[0madjacency_list\u001b[0m\u001b[0;34m\u001b[0m\u001b[0m\n\u001b[0;32m---> 18\u001b[0;31m \u001b[0mg\u001b[0m\u001b[0;34m.\u001b[0m\u001b[0mdijkstra\u001b[0m\u001b[0;34m(\u001b[0m\u001b[0;34m'A'\u001b[0m\u001b[0;34m,\u001b[0m \u001b[0;34m'B'\u001b[0m\u001b[0;34m)\u001b[0m\u001b[0;34m\u001b[0m\u001b[0m\n\u001b[0m",
      "\u001b[0;32m<ipython-input-100-a79476f0ed96>\u001b[0m in \u001b[0;36mdijkstra\u001b[0;34m(self, start, end)\u001b[0m\n\u001b[1;32m     35\u001b[0m             \u001b[0;32mif\u001b[0m \u001b[0msmallest\u001b[0m \u001b[0;32mor\u001b[0m \u001b[0mdistances\u001b[0m\u001b[0;34m[\u001b[0m\u001b[0msmallest\u001b[0m\u001b[0;34m]\u001b[0m \u001b[0;34m<\u001b[0m \u001b[0mfloat\u001b[0m\u001b[0;34m(\u001b[0m\u001b[0;34m'inf'\u001b[0m\u001b[0;34m)\u001b[0m\u001b[0;34m:\u001b[0m\u001b[0;34m\u001b[0m\u001b[0m\n\u001b[1;32m     36\u001b[0m                 \u001b[0mprint\u001b[0m\u001b[0;34m(\u001b[0m\u001b[0msmallest\u001b[0m\u001b[0;34m)\u001b[0m\u001b[0;34m\u001b[0m\u001b[0m\n\u001b[0;32m---> 37\u001b[0;31m                 \u001b[0;32mfor\u001b[0m \u001b[0mneighbor\u001b[0m \u001b[0;32min\u001b[0m \u001b[0mself\u001b[0m\u001b[0;34m.\u001b[0m\u001b[0madjacency_list\u001b[0m\u001b[0;34m[\u001b[0m\u001b[0msmallest\u001b[0m\u001b[0;34m]\u001b[0m\u001b[0;34m:\u001b[0m\u001b[0;34m\u001b[0m\u001b[0m\n\u001b[0m\u001b[1;32m     38\u001b[0m                     \u001b[0mnextNode\u001b[0m \u001b[0;34m=\u001b[0m \u001b[0mself\u001b[0m\u001b[0;34m.\u001b[0m\u001b[0madjacency_list\u001b[0m\u001b[0;34m[\u001b[0m\u001b[0msmallest\u001b[0m\u001b[0;34m]\u001b[0m\u001b[0;34m\u001b[0m\u001b[0m\n\u001b[1;32m     39\u001b[0m \u001b[0;31m#                     print(neighbor)\u001b[0m\u001b[0;34m\u001b[0m\u001b[0;34m\u001b[0m\u001b[0m\n",
      "\u001b[0;31mTypeError\u001b[0m: unhashable type: 'list'"
     ]
    }
   ],
   "source": [
    "g = WeightedGraph()\n",
    "g.add_vertex('A')\n",
    "g.add_vertex('B')\n",
    "g.add_vertex('C')\n",
    "g.add_vertex('D')\n",
    "g.add_vertex('E')\n",
    "g.add_vertex('F')\n",
    "\n",
    "g.add_edge('A', 'B', 4)\n",
    "g.add_edge('A', 'C', 2)\n",
    "g.add_edge('B', 'E', 3)\n",
    "g.add_edge('C', 'D', 2)\n",
    "g.add_edge('C', 'F', 4)\n",
    "g.add_edge('D', 'E', 3)\n",
    "g.add_edge('D', 'F', 1)\n",
    "g.add_edge('E', 'F', 1)\n",
    "g.adjacency_list\n",
    "g.dijkstra('A', 'B')\n"
   ]
  },
  {
   "cell_type": "code",
   "execution_count": null,
   "metadata": {},
   "outputs": [],
   "source": [
    "from collections import deque, namedtuple\n",
    "\n",
    "inf = float('inf')\n",
    "Edge = namedtuple('Edge', 'start, end, weight')\n",
    "\n",
    "def make_edge(start, end, weight=1): \n",
    "    return Edge(start, end, weight)\n",
    "\n",
    "class Graph: \n",
    "    def __init__(self, edges): \n",
    "        # check data \n",
    "        \n",
    "        self.edges = [make_edge(*edge) from edge in edges]"
   ]
  },
  {
   "cell_type": "code",
   "execution_count": 44,
   "metadata": {},
   "outputs": [],
   "source": []
  },
  {
   "cell_type": "code",
   "execution_count": 47,
   "metadata": {},
   "outputs": [
    {
     "data": {
      "text/plain": [
       "[['Z', 1], ['B', 2], ['C', 3]]"
      ]
     },
     "execution_count": 47,
     "metadata": {},
     "output_type": "execute_result"
    }
   ],
   "source": []
  },
  {
   "cell_type": "code",
   "execution_count": null,
   "metadata": {},
   "outputs": [],
   "source": []
  }
 ],
 "metadata": {
  "kernelspec": {
   "display_name": "Python 3",
   "language": "python",
   "name": "python3"
  },
  "language_info": {
   "codemirror_mode": {
    "name": "ipython",
    "version": 3
   },
   "file_extension": ".py",
   "mimetype": "text/x-python",
   "name": "python",
   "nbconvert_exporter": "python",
   "pygments_lexer": "ipython3",
   "version": "3.6.4"
  }
 },
 "nbformat": 4,
 "nbformat_minor": 2
}
