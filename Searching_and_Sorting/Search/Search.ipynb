{
 "cells": [
  {
   "cell_type": "markdown",
   "metadata": {},
   "source": [
    "# Linear Search \n",
    "\n",
    "* Visit one item at a time\n",
    "\n",
    "Time complexity\n",
    "* Best case O(1)\n",
    "* Worst case O(n)\n",
    "* Average case O(n)\n",
    "\n",
    "## Pseudocode\n",
    "\n",
    "* This function accepts an array and a value\n",
    "* Loop through the array and check if the current array element is equal to the value\n",
    "* If it is, return the index at which the element is found\n",
    "* If the value is never found, return -1 "
   ]
  },
  {
   "cell_type": "code",
   "execution_count": 26,
   "metadata": {},
   "outputs": [],
   "source": [
    "def linearSearch(items, item):\n",
    "    \n",
    "    for i in range(len(items)):\n",
    "        if item == items[i]: \n",
    "            return i\n",
    "    return -1\n",
    "   "
   ]
  },
  {
   "cell_type": "code",
   "execution_count": 27,
   "metadata": {},
   "outputs": [
    {
     "data": {
      "text/plain": [
       "2"
      ]
     },
     "execution_count": 27,
     "metadata": {},
     "output_type": "execute_result"
    }
   ],
   "source": [
    "linearSearch([1,2,6,4,3,0], 6)"
   ]
  },
  {
   "cell_type": "markdown",
   "metadata": {},
   "source": [
    "# Binary Search \n",
    "* Much faster form of search\n",
    "* Rather than eliminating one element at a time, you can eliminate half of the remaining elements at a time\n",
    "* Only works on sorted arrays\n",
    "* Divide and conquer\n",
    "\n",
    "Time complexity \n",
    "* Worst and average case - O(log n)\n",
    "* Best case - O(1)"
   ]
  },
  {
   "cell_type": "markdown",
   "metadata": {},
   "source": [
    "## Pseudocode\n",
    "\n",
    "* The function accepts a sorted array and a value\n",
    "* Create a left pointer at the start of the array, and a right pointer at\n",
    "the end of the array\n",
    "* While the left pointer comes before the right pointer:\n",
    "    * Create a pointer in the middle\n",
    "    * If the you find the value you want, return the index\n",
    "    * If the value is too small, move the left pointer up\n",
    "    * If the value is too large, move the right pointer down\n",
    "* If you never find the value, return -1 \n"
   ]
  },
  {
   "cell_type": "code",
   "execution_count": 95,
   "metadata": {},
   "outputs": [],
   "source": [
    "def binarySearch(nums, target):\n",
    "    \n",
    "    low, high = 0, len(nums)-1\n",
    "    out = []\n",
    "    \n",
    "    for i in range(low, high+1):\n",
    "        mid = (low+high)//2\n",
    "        if nums[mid] == target: \n",
    "            return mid\n",
    "        elif target > nums[mid]:\n",
    "            low = mid+1\n",
    "        else: \n",
    "            high = mid-1\n",
    "\n",
    "    return -1 "
   ]
  },
  {
   "cell_type": "code",
   "execution_count": 96,
   "metadata": {},
   "outputs": [
    {
     "data": {
      "text/plain": [
       "1"
      ]
     },
     "execution_count": 96,
     "metadata": {},
     "output_type": "execute_result"
    }
   ],
   "source": [
    "binarySearch([1, 2, 3, 4, 5, 6, 7, 8], 2)"
   ]
  },
  {
   "cell_type": "code",
   "execution_count": 8,
   "metadata": {},
   "outputs": [],
   "source": [
    "# Recursive\n",
    "def binarySearch(arr, target):\n",
    "    if len(arr) == 0:\n",
    "        return -1\n",
    "    mid = len(arr)//2\n",
    "    \n",
    "    if arr[mid] == target:\n",
    "        return mid\n",
    "    if target < arr[mid]:\n",
    "        return binarySearch(arr[:mid], target)\n",
    "    else:\n",
    "        return binarySearch(arr[mid+1:], target)\n"
   ]
  },
  {
   "cell_type": "code",
   "execution_count": 9,
   "metadata": {},
   "outputs": [
    {
     "data": {
      "text/plain": [
       "-1"
      ]
     },
     "execution_count": 9,
     "metadata": {},
     "output_type": "execute_result"
    }
   ],
   "source": [
    "binarySearch([1, 2, 3, 4, 5, 6, 7, 8], 100)"
   ]
  },
  {
   "cell_type": "markdown",
   "metadata": {},
   "source": [
    "# Naive string search \n",
    "\n",
    "## Pseudocode\n",
    "\n",
    "* Loop over the longer string \n",
    "* Loop over the shorter string \n",
    "* If the characters don't match, break out of the inner loop \n",
    "* If the characters do match, keep going \n",
    "* If you complete the inner loop and find a match, increment the count of matches \n",
    "\n"
   ]
  },
  {
   "cell_type": "code",
   "execution_count": null,
   "metadata": {},
   "outputs": [],
   "source": []
  },
  {
   "cell_type": "code",
   "execution_count": 126,
   "metadata": {},
   "outputs": [],
   "source": [
    "def naiveStringSearch(long, short):\n",
    "    counter = 0  \n",
    "\n",
    "    for i in range(len(long)): \n",
    "        for j in range(len(short)):\n",
    "            if long[i+j] != short[j]: break \n",
    "            if j == len(short)-1: counter += 1\n",
    "    return counter\n"
   ]
  },
  {
   "cell_type": "code",
   "execution_count": 128,
   "metadata": {},
   "outputs": [
    {
     "data": {
      "text/plain": [
       "1"
      ]
     },
     "execution_count": 128,
     "metadata": {},
     "output_type": "execute_result"
    }
   ],
   "source": [
    "naiveStringSearch('zomgzomi', 'omg')"
   ]
  },
  {
   "cell_type": "markdown",
   "metadata": {},
   "source": [
    "# KNP String Search "
   ]
  },
  {
   "cell_type": "markdown",
   "metadata": {},
   "source": [
    "# 33. Search in Rotated Sorted Array\n",
    "Suppose an array sorted in ascending order is rotated at some pivot unknown to you beforehand.\n",
    "\n",
    "(i.e., [0,1,2,4,5,6,7] might become [4,5,6,7,0,1,2]).\n",
    "\n",
    "You are given a target value to search. If found in the array return its index, otherwise return -1.\n",
    "\n",
    "You may assume no duplicate exists in the array.\n",
    "\n",
    "Your algorithm's runtime complexity must be in the order of O(log n).\n",
    "\n",
    "Example 1:\n",
    "\n",
    "Input: nums = [4,5,6,7,0,1,2], target = 0\n",
    "Output: 4\n",
    "Example 2:\n",
    "\n",
    "Input: nums = [4,5,6,7,0,1,2], target = 3\n",
    "Output: -1"
   ]
  },
  {
   "cell_type": "code",
   "execution_count": 64,
   "metadata": {},
   "outputs": [],
   "source": [
    "# O(log n)\n",
    "def search(nums, target):\n",
    "        \"\"\"\n",
    "        :type nums: List[int]\n",
    "        :type target: int\n",
    "        :rtype: int\n",
    "        \"\"\"\n",
    "        \n",
    "        low, high = 0, len(nums)-1\n",
    "        \n",
    "        for i in range(low, high+1):\n",
    "            mid = (low+high)//2\n",
    "            if nums[mid] == target: \n",
    "                return mid\n",
    "            # If mid is lower than high, then right half is sorted\n",
    "            elif nums[mid] <= nums[high]:\n",
    "                # If target is in sorted right half, discard left half\n",
    "                if nums[mid] < target <= nums[high]:\n",
    "                    low = mid+1\n",
    "                # If target is not in sorted right, half, discard it\n",
    "                else: \n",
    "                    high = mid-1\n",
    "            # If mid is higher than low, then left half is sorted\n",
    "            elif nums[low] <= nums[mid]:\n",
    "                # If target is in sorted left half, discard right half\n",
    "                if nums[low] <= target < nums[mid]:\n",
    "                    high = mid-1\n",
    "                # Else, discard left half\n",
    "                else: \n",
    "                    low = mid + 1\n",
    "        return -1\n",
    "        \n",
    "            "
   ]
  },
  {
   "cell_type": "code",
   "execution_count": 63,
   "metadata": {},
   "outputs": [
    {
     "data": {
      "text/plain": [
       "0"
      ]
     },
     "execution_count": 63,
     "metadata": {},
     "output_type": "execute_result"
    }
   ],
   "source": [
    "search([2], 2)"
   ]
  },
  {
   "cell_type": "markdown",
   "metadata": {},
   "source": [
    "# 34. Find First and Last Position of Element in Sorted Array\n",
    "Given an array of integers nums sorted in ascending order, find the starting and ending position of a given target value.\n",
    "\n",
    "Your algorithm's runtime complexity must be in the order of O(log n).\n",
    "\n",
    "If the target is not found in the array, return [-1, -1].\n",
    "\n",
    "Example 1:\n",
    "\n",
    "Input: nums = [5,7,7,8,8,10], target = 8\n",
    "Output: [3,4]\n",
    "Example 2:\n",
    "\n",
    "Input: nums = [5,7,7,8,8,10], target = 6\n",
    "Output: [-1,-1]"
   ]
  },
  {
   "cell_type": "code",
   "execution_count": 268,
   "metadata": {},
   "outputs": [],
   "source": [
    "def searchRange(nums, target):\n",
    "    \"\"\"\n",
    "    :type nums: List[int]\n",
    "    :type target: int\n",
    "    :rtype: List[int]\n",
    "    \"\"\"\n",
    "    \n",
    "    low, high = 0, len(nums)-1\n",
    "    out = [-1,-1]\n",
    "\n",
    "    while low <= high:\n",
    "        mid = (low+high)//2\n",
    "        if target == nums[mid]:\n",
    "            out = [mid, mid]\n",
    "            high = mid-1\n",
    "        elif target > nums[mid]:\n",
    "            low = mid + 1\n",
    "        elif target < nums[mid]:\n",
    "            high = mid - 1\n",
    "\n",
    "    low, high = 0, len(nums)-1\n",
    "\n",
    "    while low <= high:\n",
    "        mid = (low+high)//2\n",
    "        if target == nums[mid]:\n",
    "            out[1] = mid\n",
    "            low = mid+1\n",
    "        elif target > nums[mid]:\n",
    "            low = mid + 1\n",
    "        elif target < nums[mid]:\n",
    "            high = mid - 1\n",
    "\n",
    "    return out \n",
    "\n",
    "            \n",
    "   \n",
    "\n",
    "    \n",
    "#     for i in range(low, high+1):\n",
    "#         mid = (low+high)//2\n",
    "#         if nums[mid] == target: \n",
    "#             i = j = mid\n",
    "#             while i >=0 and nums[i] == target: \n",
    "#                 i -= 1\n",
    "#             while j < len(nums) and nums[j] == target: \n",
    "#                 j += 1\n",
    "#             return [i+1,j-1]\n",
    "#         elif target > nums[mid]:\n",
    "#             low = mid+1\n",
    "#         else: \n",
    "#             high = mid-1\n",
    "#     return [-1,-1]\n",
    "            \n",
    "        "
   ]
  },
  {
   "cell_type": "code",
   "execution_count": 276,
   "metadata": {},
   "outputs": [
    {
     "data": {
      "text/plain": [
       "[5, 5]"
      ]
     },
     "execution_count": 276,
     "metadata": {},
     "output_type": "execute_result"
    }
   ],
   "source": [
    "searchRange([5,7,7,8,8,10], 10)"
   ]
  },
  {
   "cell_type": "markdown",
   "metadata": {},
   "source": [
    "# 74. Search a 2D Matrix\n",
    "Write an efficient algorithm that searches for a value in an m x n matrix. This matrix has the following properties:\n",
    "\n",
    "Integers in each row are sorted from left to right.\n",
    "The first integer of each row is greater than the last integer of the previous row.\n",
    "Example 1:\n",
    "\n",
    "Input:\n",
    "matrix = [\n",
    "  [1,   3,  5,  7],\n",
    "  [10, 11, 16, 20],\n",
    "  [23, 30, 34, 50]\n",
    "]\n",
    "target = 3\n",
    "Output: true\n",
    "Example 2:\n",
    "\n",
    "Input:\n",
    "matrix = [\n",
    "  [1,   3,  5,  7],\n",
    "  [10, 11, 16, 20],\n",
    "  [23, 30, 34, 50]\n",
    "]\n",
    "target = 13\n",
    "Output: false"
   ]
  },
  {
   "cell_type": "code",
   "execution_count": 50,
   "metadata": {},
   "outputs": [],
   "source": [
    "def searchMatrix(matrix, target):\n",
    "    if not matrix or matrix[0]: return False\n",
    "    \n",
    "    for i in range(len(matrix)):\n",
    "        low, high = 0, len(matrix[i])-1\n",
    "\n",
    "        if matrix[i][-1] >= target: \n",
    "            while low <= high: \n",
    "                mid = (high+low)//2\n",
    "                if target == matrix[i][mid]:\n",
    "                    return True\n",
    "                elif target > matrix[i][mid]:\n",
    "                    low = mid + 1\n",
    "                else: \n",
    "                    high = mid-1 \n",
    "            \n",
    "    return False"
   ]
  },
  {
   "cell_type": "code",
   "execution_count": 37,
   "metadata": {},
   "outputs": [
    {
     "data": {
      "text/plain": [
       "False"
      ]
     },
     "execution_count": 37,
     "metadata": {},
     "output_type": "execute_result"
    }
   ],
   "source": [
    "matrix = [\n",
    "  [2]\n",
    "]\n",
    "target = 1\n",
    "\n",
    "searchMatrix(matrix, target)"
   ]
  },
  {
   "cell_type": "code",
   "execution_count": 30,
   "metadata": {},
   "outputs": [],
   "source": [
    "m = [[]]\n"
   ]
  },
  {
   "cell_type": "code",
   "execution_count": 33,
   "metadata": {},
   "outputs": [
    {
     "name": "stdout",
     "output_type": "stream",
     "text": [
      "[[]]\n"
     ]
    }
   ],
   "source": [
    "if not m[0]: print(m)"
   ]
  },
  {
   "cell_type": "code",
   "execution_count": 55,
   "metadata": {},
   "outputs": [],
   "source": [
    "def searchMatrixII(matrix, target):\n",
    "    if not matrix or not matrix[0]: return False\n",
    "    \n",
    "    for i in range(len(matrix)):\n",
    "        low, high = 0, len(matrix[i])-1\n",
    "        while low <= high: \n",
    "            mid = (high+low)//2\n",
    "            if target == matrix[i][mid]:\n",
    "                return True\n",
    "            elif target > matrix[i][mid]:\n",
    "                low = mid + 1\n",
    "            else: \n",
    "                high = mid-1 \n",
    "            \n",
    "    return False"
   ]
  },
  {
   "cell_type": "code",
   "execution_count": 56,
   "metadata": {},
   "outputs": [
    {
     "data": {
      "text/plain": [
       "True"
      ]
     },
     "execution_count": 56,
     "metadata": {},
     "output_type": "execute_result"
    }
   ],
   "source": [
    "matrix = [\n",
    "  [1,   4,  7, 11, 15],\n",
    "  [2,   5,  8, 12, 19],\n",
    "  [3,   6,  9, 16, 22],\n",
    "  [10, 13, 14, 17, 24],\n",
    "  [18, 21, 23, 26, 30]\n",
    "]\n",
    "target = 5\n",
    "searchMatrixII(matrix, target)"
   ]
  },
  {
   "cell_type": "code",
   "execution_count": 3,
   "metadata": {},
   "outputs": [],
   "source": [
    "# O(m+n)\n",
    "def searchMatrixII(matrix, target):\n",
    "    if not matrix or not matrix[0]: return False \n",
    "    m, n = len(matrix), len(matrix[0])\n",
    "    r, c = 0, n-1\n",
    "    \n",
    "    while r < m and c >= 0: \n",
    "        if target == matrix[r][c]: \n",
    "            return True\n",
    "        elif target > matrix[r][c]: \n",
    "            r += 1\n",
    "        else: \n",
    "            c -= 1\n",
    "    return False\n",
    "        \n",
    "            \n",
    "        \n",
    "        \n",
    "        "
   ]
  },
  {
   "cell_type": "code",
   "execution_count": 7,
   "metadata": {},
   "outputs": [
    {
     "data": {
      "text/plain": [
       "False"
      ]
     },
     "execution_count": 7,
     "metadata": {},
     "output_type": "execute_result"
    }
   ],
   "source": [
    "matrix = [\n",
    "  [1,   4,  7, 11, 15],\n",
    "  [2,   5,  8, 12, 19],\n",
    "  [3,   6,  9, 16, 22],\n",
    "  [10, 13, 14, 17, 24],\n",
    "  [18, 21, 23, 26, 30]\n",
    "]\n",
    "target = 25\n",
    "searchMatrixII(matrix, target)"
   ]
  },
  {
   "cell_type": "code",
   "execution_count": null,
   "metadata": {},
   "outputs": [],
   "source": []
  }
 ],
 "metadata": {
  "kernelspec": {
   "display_name": "Python 3",
   "language": "python",
   "name": "python3"
  },
  "language_info": {
   "codemirror_mode": {
    "name": "ipython",
    "version": 3
   },
   "file_extension": ".py",
   "mimetype": "text/x-python",
   "name": "python",
   "nbconvert_exporter": "python",
   "pygments_lexer": "ipython3",
   "version": "3.6.4"
  }
 },
 "nbformat": 4,
 "nbformat_minor": 2
}
