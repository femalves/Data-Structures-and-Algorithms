{
 "cells": [
  {
   "cell_type": "code",
   "execution_count": 5,
   "metadata": {},
   "outputs": [],
   "source": [
    "def factorial(n):\n",
    "    return 1 if n == 0 else n*factorial(n-1)"
   ]
  },
  {
   "cell_type": "code",
   "execution_count": 6,
   "metadata": {},
   "outputs": [
    {
     "data": {
      "text/plain": [
       "120"
      ]
     },
     "execution_count": 6,
     "metadata": {},
     "output_type": "execute_result"
    }
   ],
   "source": [
    "factorial(5)"
   ]
  },
  {
   "cell_type": "code",
   "execution_count": 7,
   "metadata": {},
   "outputs": [],
   "source": [
    "def cumulative_sum(n):\n",
    "    if n == 1: return 1\n",
    "    return n+cumulative_sum(n-1)"
   ]
  },
  {
   "cell_type": "code",
   "execution_count": 9,
   "metadata": {},
   "outputs": [
    {
     "data": {
      "text/plain": [
       "10"
      ]
     },
     "execution_count": 9,
     "metadata": {},
     "output_type": "execute_result"
    }
   ],
   "source": [
    "cumulative_sum(4)"
   ]
  },
  {
   "cell_type": "code",
   "execution_count": 24,
   "metadata": {},
   "outputs": [],
   "source": [
    "def sum_digits(n):\n",
    "    if n < 10: return n\n",
    "    return (n%10)+sum_digits(int((n-n%10)/(10)))\n"
   ]
  },
  {
   "cell_type": "code",
   "execution_count": 25,
   "metadata": {},
   "outputs": [
    {
     "data": {
      "text/plain": [
       "10"
      ]
     },
     "execution_count": 25,
     "metadata": {},
     "output_type": "execute_result"
    }
   ],
   "source": [
    "sum_digits(4321)"
   ]
  },
  {
   "cell_type": "code",
   "execution_count": 185,
   "metadata": {},
   "outputs": [],
   "source": [
    "def word_split(phrase, words, output = None):\n",
    "    \n",
    "    if output is None: output = []\n",
    "        \n",
    "    for word in words:  \n",
    "        if phrase.startswith(word):\n",
    "            output.append(word)\n",
    "            return word_split(phrase[len(word):], words, output)\n",
    "    return output\n",
    "    \n",
    "    \n",
    "    \n",
    "    "
   ]
  },
  {
   "cell_type": "code",
   "execution_count": 189,
   "metadata": {},
   "outputs": [
    {
     "data": {
      "text/plain": [
       "['the']"
      ]
     },
     "execution_count": 189,
     "metadata": {},
     "output_type": "execute_result"
    }
   ],
   "source": [
    "word_split('thewomanran', ['the', 'ran', 'man'])"
   ]
  },
  {
   "cell_type": "code",
   "execution_count": 193,
   "metadata": {},
   "outputs": [],
   "source": [
    "def reverse_string(s):\n",
    "    \n",
    "    if s == '': return ''\n",
    "    \n",
    "    return s[-1] + reverse_string(s[:-1])\n",
    "    "
   ]
  },
  {
   "cell_type": "code",
   "execution_count": 195,
   "metadata": {},
   "outputs": [
    {
     "data": {
      "text/plain": [
       "'adnanref'"
      ]
     },
     "execution_count": 195,
     "metadata": {},
     "output_type": "execute_result"
    }
   ],
   "source": [
    "reverse_string('')"
   ]
  },
  {
   "cell_type": "code",
   "execution_count": 198,
   "metadata": {},
   "outputs": [
    {
     "name": "stdout",
     "output_type": "stream",
     "text": [
      "Passed all test cases!\n"
     ]
    }
   ],
   "source": [
    "from nose.tools import assert_equal\n",
    "\n",
    "class TestReverse(object):\n",
    "    def test_rev(self, solution):\n",
    "        assert_equal(solution('hello'), 'olleh')\n",
    "        assert_equal(solution('hello world'), 'dlrow olleh')\n",
    "        assert_equal(solution(''), '')\n",
    "        \n",
    "        print('Passed all test cases!')\n",
    "        \n",
    "test = TestReverse()\n",
    "test.test_rev(reverse_string)\n",
    "        "
   ]
  },
  {
   "cell_type": "code",
   "execution_count": 209,
   "metadata": {},
   "outputs": [],
   "source": [
    "def permute(s):\n",
    "    \n",
    "    out = []\n",
    "    \n",
    "    if len(s) == 1:\n",
    "        out = [s]\n",
    "    else:\n",
    "        # for every letter in string\n",
    "        for i, let in enumerate(s):\n",
    "            #for every permutation resulting from step 2 and 3\n",
    "            for perm in permute(s[:i]+s[i+1:]):\n",
    "                print('current letter is ', let)\n",
    "                print ('perm is ', perm)\n",
    "                out += [let+perm]\n",
    "    return out"
   ]
  },
  {
   "cell_type": "code",
   "execution_count": 210,
   "metadata": {},
   "outputs": [
    {
     "name": "stdout",
     "output_type": "stream",
     "text": [
      "current letter is  b\n",
      "perm is  c\n",
      "current letter is  c\n",
      "perm is  b\n",
      "current letter is  a\n",
      "perm is  bc\n",
      "current letter is  a\n",
      "perm is  cb\n",
      "current letter is  a\n",
      "perm is  c\n",
      "current letter is  c\n",
      "perm is  a\n",
      "current letter is  b\n",
      "perm is  ac\n",
      "current letter is  b\n",
      "perm is  ca\n",
      "current letter is  a\n",
      "perm is  b\n",
      "current letter is  b\n",
      "perm is  a\n",
      "current letter is  c\n",
      "perm is  ab\n",
      "current letter is  c\n",
      "perm is  ba\n"
     ]
    },
    {
     "data": {
      "text/plain": [
       "['abc', 'acb', 'bac', 'bca', 'cab', 'cba']"
      ]
     },
     "execution_count": 210,
     "metadata": {},
     "output_type": "execute_result"
    }
   ],
   "source": [
    "permute('abc')"
   ]
  },
  {
   "cell_type": "code",
   "execution_count": 119,
   "metadata": {},
   "outputs": [
    {
     "data": {
      "text/plain": [
       "True"
      ]
     },
     "execution_count": 119,
     "metadata": {},
     "output_type": "execute_result"
    }
   ],
   "source": [
    "'fer' == ''.join(l)"
   ]
  },
  {
   "cell_type": "code",
   "execution_count": 122,
   "metadata": {},
   "outputs": [
    {
     "data": {
      "text/plain": [
       "True"
      ]
     },
     "execution_count": 122,
     "metadata": {},
     "output_type": "execute_result"
    }
   ],
   "source": [
    "'g' not in name"
   ]
  },
  {
   "cell_type": "code",
   "execution_count": 232,
   "metadata": {},
   "outputs": [],
   "source": [
    "def fib(n):\n",
    "    \n",
    "    if n <= 2: return 1\n",
    "    return fib(n-1)+fib(n-2)"
   ]
  },
  {
   "cell_type": "code",
   "execution_count": 237,
   "metadata": {},
   "outputs": [
    {
     "data": {
      "text/plain": [
       "5"
      ]
     },
     "execution_count": 237,
     "metadata": {},
     "output_type": "execute_result"
    }
   ],
   "source": [
    "fib(5)"
   ]
  },
  {
   "cell_type": "code",
   "execution_count": 242,
   "metadata": {},
   "outputs": [],
   "source": [
    "def fib_iter(n):\n",
    "    num1, num2 = 0, 1\n",
    "    \n",
    "    for num in range(n):\n",
    "        num1, num2 = num2, num1+num2\n",
    "    return num1"
   ]
  },
  {
   "cell_type": "code",
   "execution_count": 243,
   "metadata": {},
   "outputs": [
    {
     "data": {
      "text/plain": [
       "55"
      ]
     },
     "execution_count": 243,
     "metadata": {},
     "output_type": "execute_result"
    }
   ],
   "source": [
    "fib_iter(10)"
   ]
  },
  {
   "cell_type": "code",
   "execution_count": 28,
   "metadata": {},
   "outputs": [],
   "source": [
    "#Fibonacci series \n",
    "# 0 steps -> return 1 {[0]} Total 1 \n",
    "# 1 step -> return 1 {[0,1]} Total 1 \n",
    "# 2 steps -> return {[0,1,2], [0,2]} Total 2 = 1 step + 0 steps \n",
    "# 3 steps -> return {[0,1,2,3], [0,1,3], [0,2,3]} Total 3 = 2 steps + 1 step \n",
    "# 4 steps -> return {[0,1,2,3,4], [0,1,3,4], [0,2,3,4], [0,2,4], , [0,1,2,4]}  Total 5 = 3 steps + 2 steps\n",
    "# O(n) space, O(n) time\n",
    "def climbing_stairs(n):\n",
    "    \n",
    "    if n == 1 or n == 0: return 1\n",
    "    \n",
    "    nums = [0*x for x in range(n+1)]\n",
    "    nums[0], nums[1] = 1,1\n",
    "    \n",
    "    for i in range(2, len(nums)): \n",
    "        nums[i] = nums[i-1] + nums[i-2]\n",
    "    return nums[-1]"
   ]
  },
  {
   "cell_type": "code",
   "execution_count": 29,
   "metadata": {},
   "outputs": [
    {
     "data": {
      "text/plain": [
       "354224848179261915075"
      ]
     },
     "execution_count": 29,
     "metadata": {},
     "output_type": "execute_result"
    }
   ],
   "source": [
    "climbing_stairs(99)"
   ]
  },
  {
   "cell_type": "code",
   "execution_count": 44,
   "metadata": {},
   "outputs": [],
   "source": [
    "#constant space, O(n) time\n",
    "def climbing_stairs(n):\n",
    "    \n",
    "    if n == 1:\n",
    "        return 1\n",
    "    last, curr = 1, 2\n",
    "    \n",
    "    for i in range(2, n):\n",
    "        last,curr = curr, last+curr\n",
    "       \n",
    "    return curr"
   ]
  },
  {
   "cell_type": "code",
   "execution_count": 45,
   "metadata": {},
   "outputs": [
    {
     "data": {
      "text/plain": [
       "3"
      ]
     },
     "execution_count": 45,
     "metadata": {},
     "output_type": "execute_result"
    }
   ],
   "source": [
    "climbing_stairs(3)\n"
   ]
  },
  {
   "cell_type": "markdown",
   "metadata": {},
   "source": [
    "A happy number is a number defined by the following process: Starting with any positive integer, replace the number by the sum of the squares of its digits, and repeat the process until the number equals 1 (where it will stay), or it loops endlessly in a cycle which does not include 1. Those numbers for which this process ends in 1 are happy numbers.\n",
    "\n",
    "Example: \n",
    "\n",
    "Input: 19\n",
    "Output: true\n",
    "Explanation: \n",
    "\n",
    "1^2 + 9^2 = 82\n",
    "\n",
    "8^2 + 2^2 = 68\n",
    "\n",
    "6^2 + 8^2 = 100\n",
    "\n",
    "1^2 + 0^2 + 0^2 = 1"
   ]
  },
  {
   "cell_type": "code",
   "execution_count": 399,
   "metadata": {},
   "outputs": [],
   "source": [
    "def happy(n):   \n",
    "    # suppose n is 19\n",
    "    seen = []\n",
    "    while True:\n",
    "        sum_num = 0\n",
    "        while n > 9:\n",
    "            sum_num += (n%10)**2 #remove last digit, which is this case is 9, and add its squared value to sum \n",
    "            n -= n%10 # subtract 9 from 19 = 10\n",
    "            n = n//10 # divide 10 by 10 = 1\n",
    "        sum_num += n**2 # broke out of the loop, because (n = 1) < 9. Add first digit squared (1*1) to sum\n",
    "        n = sum_num # new n now is sum, which at this point is 82 (9^2 + 1^2)\n",
    "        if n == 1: # if n is 1, then we have happy number. Return True\n",
    "            return True \n",
    "        else: # if n is not 1\n",
    "            if n not in seen: # add it to seen \n",
    "                seen.append(sum_num)\n",
    "            else:\n",
    "                return False # if we have seen n before, then it's going on a loop. Return False\n",
    "    \n",
    "        #start everything all over again. Now with number 82\n",
    "    \n",
    "    \n",
    "    \n",
    "        \n",
    "        "
   ]
  },
  {
   "cell_type": "code",
   "execution_count": 400,
   "metadata": {},
   "outputs": [
    {
     "name": "stdout",
     "output_type": "stream",
     "text": [
      "9 81\n",
      "out 162\n",
      "16 4\n",
      "1 40\n",
      "out 41\n",
      "4 1\n",
      "out 17\n",
      "1 49\n",
      "out 50\n",
      "5 0\n",
      "out 25\n",
      "2 25\n",
      "out 29\n",
      "2 81\n",
      "out 85\n",
      "8 25\n",
      "out 89\n",
      "8 81\n",
      "out 145\n",
      "14 25\n",
      "1 41\n",
      "out 42\n",
      "4 4\n",
      "out 20\n",
      "2 0\n",
      "out 4\n",
      "out 16\n",
      "1 36\n",
      "out 37\n",
      "3 49\n",
      "out 58\n",
      "5 64\n",
      "out 89\n"
     ]
    },
    {
     "data": {
      "text/plain": [
       "False"
      ]
     },
     "execution_count": 400,
     "metadata": {},
     "output_type": "execute_result"
    }
   ],
   "source": [
    "happy(99)"
   ]
  },
  {
   "cell_type": "code",
   "execution_count": 209,
   "metadata": {},
   "outputs": [
    {
     "data": {
      "text/plain": [
       "19"
      ]
     },
     "execution_count": 209,
     "metadata": {},
     "output_type": "execute_result"
    }
   ],
   "source": [
    "num = 19\n",
    "keep = num % 10\n",
    "num"
   ]
  },
  {
   "cell_type": "code",
   "execution_count": 210,
   "metadata": {},
   "outputs": [],
   "source": [
    "num -= keep"
   ]
  },
  {
   "cell_type": "code",
   "execution_count": 211,
   "metadata": {},
   "outputs": [
    {
     "data": {
      "text/plain": [
       "10"
      ]
     },
     "execution_count": 211,
     "metadata": {},
     "output_type": "execute_result"
    }
   ],
   "source": [
    "num"
   ]
  },
  {
   "cell_type": "code",
   "execution_count": 392,
   "metadata": {},
   "outputs": [],
   "source": [
    "n = 100\n",
    "sum_num = 0"
   ]
  },
  {
   "cell_type": "code",
   "execution_count": 393,
   "metadata": {},
   "outputs": [
    {
     "name": "stdout",
     "output_type": "stream",
     "text": [
      "10 0\n",
      "1 0\n",
      "out 1\n",
      "True\n"
     ]
    }
   ],
   "source": [
    "\n",
    "    \n",
    "    \n",
    "        \n",
    "        \n",
    "    \n",
    "    \n",
    "    "
   ]
  },
  {
   "cell_type": "code",
   "execution_count": 387,
   "metadata": {},
   "outputs": [
    {
     "ename": "SyntaxError",
     "evalue": "'return' outside function (<ipython-input-387-1adfd3915985>, line 24)",
     "output_type": "error",
     "traceback": [
      "\u001b[0;36m  File \u001b[0;32m\"<ipython-input-387-1adfd3915985>\"\u001b[0;36m, line \u001b[0;32m24\u001b[0m\n\u001b[0;31m    return Tru\u001b[0m\n\u001b[0m              ^\u001b[0m\n\u001b[0;31mSyntaxError\u001b[0m\u001b[0;31m:\u001b[0m 'return' outside function\n"
     ]
    }
   ],
   "source": [
    "    sum_num = 0\n",
    "    seen = []\n",
    "    while n != 1: \n",
    "        \n",
    "        while n % 10 == 0: \n",
    "            n = int(n/10)\n",
    "            print('here')\n",
    "        \n",
    "        while n > 9: \n",
    "            sum_num += (n % 10)**2\n",
    "            print('1', n, sum_num)\n",
    "            n -= n%10\n",
    "            print('2', n, sum_num)\n",
    "            n = int(n/10)\n",
    "            print('3', n, sum_num)\n",
    "            sum_num += (n%10)**2\n",
    "            print('4', n, sum_num)\n",
    "            if sum_num not in seen:\n",
    "                seen.append(sum_num)\n",
    "            else: print('False')\n",
    "        n = sum_num\n",
    "        sum_num = 0\n",
    "\n",
    "    return Tru"
   ]
  },
  {
   "cell_type": "code",
   "execution_count": 360,
   "metadata": {},
   "outputs": [
    {
     "data": {
      "text/plain": [
       "19"
      ]
     },
     "execution_count": 360,
     "metadata": {},
     "output_type": "execute_result"
    }
   ],
   "source": [
    "num"
   ]
  },
  {
   "cell_type": "code",
   "execution_count": 58,
   "metadata": {},
   "outputs": [],
   "source": [
    "last = num%10"
   ]
  },
  {
   "cell_type": "code",
   "execution_count": 59,
   "metadata": {},
   "outputs": [
    {
     "data": {
      "text/plain": [
       "0"
      ]
     },
     "execution_count": 59,
     "metadata": {},
     "output_type": "execute_result"
    }
   ],
   "source": [
    "last"
   ]
  },
  {
   "cell_type": "code",
   "execution_count": 73,
   "metadata": {},
   "outputs": [],
   "source": [
    "num = 100"
   ]
  },
  {
   "cell_type": "code",
   "execution_count": 74,
   "metadata": {},
   "outputs": [
    {
     "data": {
      "text/plain": [
       "0"
      ]
     },
     "execution_count": 74,
     "metadata": {},
     "output_type": "execute_result"
    }
   ],
   "source": [
    "num % 10"
   ]
  },
  {
   "cell_type": "code",
   "execution_count": 191,
   "metadata": {},
   "outputs": [],
   "source": [
    "n = 0\n"
   ]
  },
  {
   "cell_type": "code",
   "execution_count": 192,
   "metadata": {},
   "outputs": [],
   "source": [
    "if n:\n",
    "    print('exists')"
   ]
  },
  {
   "cell_type": "code",
   "execution_count": null,
   "metadata": {},
   "outputs": [],
   "source": []
  }
 ],
 "metadata": {
  "kernelspec": {
   "display_name": "Python 3",
   "language": "python",
   "name": "python3"
  },
  "language_info": {
   "codemirror_mode": {
    "name": "ipython",
    "version": 3
   },
   "file_extension": ".py",
   "mimetype": "text/x-python",
   "name": "python",
   "nbconvert_exporter": "python",
   "pygments_lexer": "ipython3",
   "version": "3.6.4"
  }
 },
 "nbformat": 4,
 "nbformat_minor": 2
}
