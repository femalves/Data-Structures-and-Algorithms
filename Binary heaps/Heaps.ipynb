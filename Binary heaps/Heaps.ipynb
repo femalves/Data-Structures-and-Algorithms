{
 "cells": [
  {
   "cell_type": "markdown",
   "metadata": {},
   "source": [
    "# Binary Heaps \n",
    "\n",
    "* Are trees \n",
    "* Can have at most two children;\n",
    "* A binary heap is very similar to a binary search tree;\n",
    "* In a **MaxBinaryHeap**, parent nodes are always larger than child nodes;\n",
    "* In a **MinBinaryHeap**, parent nodes are always smaller than child nodes;\n",
    "* Is at compact as possible. All the chidren of each node are as full as they can be\n",
    "and left children are filled out first;\n",
    "* Are used to implement Priority Queues and do graph traversals.\n",
    "* For any index of an array n, the left child is stored at 2*n+1 and the right child \n",
    "is stored at 2n+2;\n",
    "* For any child node at index n, its parent is at index (n-1)//2\n",
    "\n",
    "### Big O of Binary heaps\n",
    "\n",
    "Insertion - O(log n)\n",
    "Removal - O(log n)\n",
    "Search - O(n/2)\n",
    "Worst case - O(log n) unlike BST that is O(n)\n"
   ]
  },
  {
   "cell_type": "code",
   "execution_count": 57,
   "metadata": {},
   "outputs": [],
   "source": [
    "# Colt Steele code\n",
    "class MaxBinaryHeap(object):\n",
    "\n",
    "    def __init__(self):\n",
    "        #55,39,41,18,27,12,33\n",
    "        self.values = [33]\n",
    " \n",
    "    # Push to the end of the values property\n",
    "    # Bubble it up to its correct spot\n",
    "    # How to bubble up\n",
    "    # Create a variable called index which is the len of the values property -1\n",
    "    # Create a variable called parentIndex which is the floor of (index-1)/2\n",
    "    # Keep looping as long as the values element at the parentIndex is less than the values element at the child index\n",
    "        # Swap the value of values element at the parentIndex with the value at the child index\n",
    "        # Set the index to be the parentindex, and start over\n",
    "    def insert(self, value):\n",
    "        self.values.append(value)\n",
    "        self._bubbleUp()\n",
    " \n",
    "    def _bubbleUp(self):\n",
    "        index = len(self.values)-1\n",
    "        element = self.values[index]\n",
    "        while index > 0:\n",
    "            parentIndex = (index-1)//2\n",
    "            if self.values[index] > self.values[parentIndex]:\n",
    "                self.values[parentIndex], self.values[index] = self.values[index], self.values[parentIndex]\n",
    "                index = parentIndex\n",
    "            else: \n",
    "                return\n",
    "     \n",
    "    # Remove the root\n",
    "    # Swap the first value in the values property with the last one\n",
    "    # Pop from the values property, so you can return the vale at the end\n",
    "    # Have the new root \"bubble down\" \n",
    "    # How to \"bubble down\"\n",
    "        # Parent index starts at 0 (the root)\n",
    "        # Find the index of the left child: 2*index+1 (make sure it's not out of bounds)\n",
    "        # Find the index of the right child: 2*index+2 (make sure it's not out of bounds)\n",
    "        # If the left or right child is greater than the element...swap. If both left and\n",
    "        # and right are larger, swap with the largest child.\n",
    "        # The child index you swapped to now becomes the new parent index\n",
    "        # Keep looping and swapping until neither child is larger than the element\n",
    "        # Return the old root     \n",
    "    \n",
    "    def remove(self):\n",
    "        if not self.values: return \n",
    "        if len(self.values) == 1: return self.values.pop()\n",
    "        self.values[len(self.values) - 1], self.values[0] = self.values[0], self.values[len(self.values) - 1]\n",
    "        root = self.values.pop()\n",
    "        self._bubbleDown()      \n",
    "        return root\n",
    "        \n",
    "    \n",
    "    def _bubbleDown(self):\n",
    "        index = 0\n",
    "        length = len(self.values)\n",
    "        element = self.values[0]\n",
    "        while True:\n",
    "            leftIndex = 2 * index + 1\n",
    "            rightIndex = 2 * index + 2\n",
    "            leftChild = rightChild = swap = None\n",
    "            \n",
    "            \n",
    "            if leftIndex < length:\n",
    "                leftChild = self.values[leftIndex]\n",
    "                if (leftChild > element):\n",
    "                    swap = leftIndex\n",
    "            if rightIndex < length:\n",
    "                rightChild = self.values[rightIndex]\n",
    "                if (not swap and rightChild > element) or\\\n",
    "                (swap and rightChild > leftChild):\n",
    "                     swap = rightIndex\n",
    "            \n",
    "            if not swap: break\n",
    "                 \n",
    "            self.values[index], self.values[swap] = self.values[swap], self.values[index]\n",
    "            index = swap\n",
    "                 \n",
    "       \n",
    "                 \n",
    "                 \n",
    "                 "
   ]
  },
  {
   "cell_type": "code",
   "execution_count": 58,
   "metadata": {},
   "outputs": [],
   "source": [
    "heap = MaxBinaryHeap()"
   ]
  },
  {
   "cell_type": "code",
   "execution_count": 59,
   "metadata": {},
   "outputs": [
    {
     "data": {
      "text/plain": [
       "[33]"
      ]
     },
     "execution_count": 59,
     "metadata": {},
     "output_type": "execute_result"
    }
   ],
   "source": [
    "heap.values"
   ]
  },
  {
   "cell_type": "code",
   "execution_count": 61,
   "metadata": {},
   "outputs": [],
   "source": [
    "heap.remove()"
   ]
  },
  {
   "cell_type": "code",
   "execution_count": 55,
   "metadata": {},
   "outputs": [
    {
     "data": {
      "text/plain": [
       "[]"
      ]
     },
     "execution_count": 55,
     "metadata": {},
     "output_type": "execute_result"
    }
   ],
   "source": [
    "heap.values"
   ]
  },
  {
   "cell_type": "code",
   "execution_count": 23,
   "metadata": {},
   "outputs": [],
   "source": [
    "heap.insert(100)"
   ]
  },
  {
   "cell_type": "code",
   "execution_count": 24,
   "metadata": {},
   "outputs": [
    {
     "data": {
      "text/plain": [
       "[100, 55, 41, 39, 44, 12, 33, 7, 18, 27]"
      ]
     },
     "execution_count": 24,
     "metadata": {},
     "output_type": "execute_result"
    }
   ],
   "source": [
    "heap.values"
   ]
  },
  {
   "cell_type": "markdown",
   "metadata": {},
   "source": [
    "# Priority Queue\n",
    "\n",
    "* A data structure where each element has a priority\n",
    "* Elements with higher priorities are served before elements with lower priorities\n",
    "* Lower number denotes higher priority\n",
    "\n"
   ]
  },
  {
   "cell_type": "code",
   "execution_count": 91,
   "metadata": {},
   "outputs": [],
   "source": [
    "# Colt Steele code\n",
    "class Node(object):\n",
    "    def __init__(self, val, priority):\n",
    "        self.val = val\n",
    "        self.priority = priority\n",
    "\n",
    "class PriorityQueue (object):\n",
    "    \n",
    "    # Write a Min Binary Heap - Lower number means higher priority\n",
    "    # Each node has a val and a priority. Use the priority to build the heap\n",
    "    # Enqueue method accepts a value and priority, makes a new node, \n",
    "    # and puts it in the right spot based off of its priority\n",
    "    # Dequeue method removes root element, returns it, \n",
    "    # and rearranges heap using priority\n",
    "\n",
    "    def __init__(self):\n",
    "        self.values = []\n",
    " \n",
    "    def enqueue(self, val, priority):\n",
    "        newNode = Node(val, priority)\n",
    "        self.values.append(newNode)\n",
    "        self.bubbleUp()\n",
    " \n",
    "    def bubbleUp(self):\n",
    "        index = len(self.values)-1\n",
    "        element = self.values[index]\n",
    "        while index > 0:\n",
    "            parentIndex = (index-1)//2\n",
    "            parent = self.values[parentIndex]\n",
    "            if element.priority <= parent.priority:\n",
    "                self.values[parentIndex], self.values[index] = self.values[index], self.values[parentIndex]\n",
    "                index = parentIndex\n",
    "            else: \n",
    "                return\n",
    "     \n",
    "    def dequeue(self):\n",
    "        if not self.values: return \n",
    "        if len(self.values) == 1: return self.values.pop()\n",
    "        self.values[len(self.values) - 1], self.values[0] = self.values[0], self.values[len(self.values) - 1]\n",
    "        root = self.values.pop()\n",
    "        self.bubbleDown()      \n",
    "        return root\n",
    "        \n",
    "    \n",
    "    def bubbleDown(self):\n",
    "        index = 0\n",
    "        length = len(self.values)\n",
    "        element = self.values[0]\n",
    "        while True:\n",
    "            leftIndex = 2 * index + 1\n",
    "            rightIndex = 2 * index + 2\n",
    "            leftChild = rightChild = swap = None\n",
    "            \n",
    "            \n",
    "            if leftIndex < length:\n",
    "                leftChild = self.values[leftIndex]\n",
    "                if (leftChild.priority < element.priority):\n",
    "                    swap = leftIndex\n",
    "            if rightIndex < length:\n",
    "                rightChild = self.values[rightIndex]\n",
    "                if (not swap and rightChild.priority < element.priority) or\\\n",
    "                (swap and rightChild.priority < leftChild.priority):\n",
    "                     swap = rightIndex\n",
    "            \n",
    "            if not swap: break\n",
    "                 \n",
    "            self.values[index], self.values[swap] = self.values[swap], self.values[index]\n",
    "            index = swap\n",
    "                 "
   ]
  },
  {
   "cell_type": "code",
   "execution_count": 84,
   "metadata": {},
   "outputs": [],
   "source": [
    "ER = PriorityQueue()"
   ]
  },
  {
   "cell_type": "code",
   "execution_count": 85,
   "metadata": {},
   "outputs": [],
   "source": [
    "ER.enqueue('common cold', 5)\n",
    "ER.enqueue('GSW', 1)\n",
    "ER.enqueue('High Fever', 4)\n",
    "ER.enqueue('Broken arm', 2)\n",
    "ER.enqueue('Glass in foot', 3)"
   ]
  },
  {
   "cell_type": "code",
   "execution_count": 90,
   "metadata": {},
   "outputs": [
    {
     "data": {
      "text/plain": [
       "'common cold'"
      ]
     },
     "execution_count": 90,
     "metadata": {},
     "output_type": "execute_result"
    }
   ],
   "source": [
    "ER.dequeue().val"
   ]
  },
  {
   "cell_type": "code",
   "execution_count": 2,
   "metadata": {},
   "outputs": [],
   "source": [
    "# Binary Heap\n",
    "# My implementation\n",
    "\n",
    "class minBinaryHeap:\n",
    "    def __init__(self):\n",
    "        # 2, 3, 17, 19, 36, 7, 25, 100\n",
    "        self.heapList = [3,2,1,5,6,4]\n",
    "       \n",
    "    def insert(self, k):\n",
    "        self.heapList.append(k)\n",
    "        self.percUp()\n",
    "    \n",
    "    def percUp(self):\n",
    "        i = len(self.heapList)-1\n",
    "        while (i-1) // 2 >= 0:\n",
    "            if self.heapList[(i-1)//2] > self.heapList[i]:\n",
    "                self.heapList[(i-1)//2], self.heapList[i] = self.heapList[i], self.heapList[(i-1)//2]\n",
    "            else: break\n",
    "            i = (i-1)//2\n",
    "            \n",
    "    def remove(self):\n",
    "        last = len(self.heapList)-1\n",
    "        if len(self.heapList) == 0: return \n",
    "        if len(self.heapList) == 1: self.heapList.pop()  \n",
    "        self.heapList[0], self.heapList[last] = self.heapList[last], self.heapList[0]\n",
    "        root = self.heapList.pop()\n",
    "        self.percDown()\n",
    "        return root\n",
    "    \n",
    "    def percDown(self):\n",
    "        i = 0\n",
    "        element = self.heapList[i]\n",
    "        size = len(self.heapList)-1\n",
    "        while True: \n",
    "            left, right = 2*i+1, 2*i+2\n",
    "            swap = None\n",
    "            if left < size: \n",
    "                if self.heapList[left] < element:\n",
    "                    swap = left\n",
    "            if right < size: \n",
    "                if self.heapList[right] < self.heapList[left]:\n",
    "                    swap = right\n",
    "            if not swap: return \n",
    "            \n",
    "            self.heapList[i], self.heapList[swap] = self.heapList[swap], self.heapList[i] \n",
    "            i = swap \n",
    "    "
   ]
  },
  {
   "cell_type": "code",
   "execution_count": 3,
   "metadata": {},
   "outputs": [
    {
     "data": {
      "text/plain": [
       "[]"
      ]
     },
     "execution_count": 3,
     "metadata": {},
     "output_type": "execute_result"
    }
   ],
   "source": [
    "mbh = minBinaryHeap()\n",
    "mbh.heapList"
   ]
  },
  {
   "cell_type": "code",
   "execution_count": 9,
   "metadata": {},
   "outputs": [
    {
     "data": {
      "text/plain": [
       "[1, 3, 2, 5, 6, 4]"
      ]
     },
     "execution_count": 9,
     "metadata": {},
     "output_type": "execute_result"
    }
   ],
   "source": [
    "mbh.insert(4)\n",
    "mbh.heapList"
   ]
  },
  {
   "cell_type": "code",
   "execution_count": 296,
   "metadata": {},
   "outputs": [
    {
     "data": {
      "text/plain": [
       "1"
      ]
     },
     "execution_count": 296,
     "metadata": {},
     "output_type": "execute_result"
    }
   ],
   "source": [
    "mbh.remove()\n"
   ]
  },
  {
   "cell_type": "code",
   "execution_count": 297,
   "metadata": {},
   "outputs": [
    {
     "data": {
      "text/plain": [
       "[2, 3, 17, 19, 36, 7, 25, 100]"
      ]
     },
     "execution_count": 297,
     "metadata": {},
     "output_type": "execute_result"
    }
   ],
   "source": [
    "mbh.heapList"
   ]
  },
  {
   "cell_type": "markdown",
   "metadata": {},
   "source": [
    "# 215. Kth Largest Element in an Array\n",
    "\n",
    "Find the kth largest element in an unsorted array. Note that it is the kth largest element in the sorted order, not the kth distinct element.\n",
    "\n",
    "Example 1:\n",
    "\n",
    "Input: [3,2,1,5,6,4] and k = 2\n",
    "Output: 5\n",
    "Example 2:\n",
    "\n",
    "Input: [3,2,3,1,2,4,5,5,6] and k = 4\n",
    "Output: 4"
   ]
  },
  {
   "cell_type": "code",
   "execution_count": 63,
   "metadata": {},
   "outputs": [],
   "source": [
    "import heapq\n",
    "def findKthLargest(nums, k):\n",
    "    \n",
    "    first_k = nums[:k]\n",
    "    heapq.heapify(first_k)\n",
    "    print(first_k)\n",
    "    if len(nums) > k:\n",
    "        for n in nums[k:]:\n",
    "            print(n)\n",
    "            if n > first_k[0]:\n",
    "                heapq.heapreplace(first_k, n)\n",
    "                print(first_k)\n",
    "    return first_k[0]\n",
    "   \n",
    "def findKthLargest(nums, k):\n",
    "    return sorted(nums)[-k]\n",
    "        \n",
    "\n",
    "    \n",
    "        \n",
    "    \n",
    "    "
   ]
  },
  {
   "cell_type": "code",
   "execution_count": 64,
   "metadata": {},
   "outputs": [
    {
     "data": {
      "text/plain": [
       "4"
      ]
     },
     "execution_count": 64,
     "metadata": {},
     "output_type": "execute_result"
    }
   ],
   "source": [
    "nums = [3,2,3,1,2,4,5,5,6]\n",
    "k = 4\n",
    "findKthLargest(nums, k)"
   ]
  },
  {
   "cell_type": "markdown",
   "metadata": {},
   "source": [
    "# 378. Kth Smallest Element in a Sorted Matrix\n",
    "\n",
    "Given a n x n matrix where each of the rows and columns are sorted in ascending order, find the kth smallest element in the matrix.\n",
    "\n",
    "Note that it is the kth smallest element in the sorted order, not the kth distinct element.\n",
    "\n"
   ]
  },
  {
   "cell_type": "code",
   "execution_count": null,
   "metadata": {},
   "outputs": [],
   "source": []
  },
  {
   "cell_type": "markdown",
   "metadata": {},
   "source": [
    "# 239. Sliding Window Maximum\n",
    "Hard\n",
    "\n",
    "Given an array nums, there is a sliding window of size k which is moving from the very left of the array to the very right. You can only see the k numbers in the window. Each time the sliding window moves right by one position. Return the max sliding window.\n",
    "\n",
    "Example:\n",
    "\n",
    "Input: nums = [1,3,-1,-3,5,3,6,7], and k = 3\n",
    "Output: [3,3,5,5,6,7] \n",
    "Explanation: \n",
    "\n",
    "Window position                Max\n",
    "---------------               -----\n",
    "[1  3  -1] -3  5  3  6  7       3\n",
    "\n",
    "1 [3  -1  -3] 5  3  6  7       3\n",
    "\n",
    "1  3 [-1  -3  5] 3  6  7       5\n",
    "\n",
    "1  3  -1 [-3  5  3] 6  7       5\n",
    "\n",
    "1  3  -1  -3 [5  3  6] 7       6\n",
    " \n",
    " 1  3  -1  -3  5 [3  6  7]      7"
   ]
  },
  {
   "cell_type": "code",
   "execution_count": 77,
   "metadata": {},
   "outputs": [],
   "source": [
    "#O(2n)\n",
    "def maxSlidingWindow(nums, k):\n",
    "        \"\"\"\n",
    "        :type nums: List[int]\n",
    "        :type k: int\n",
    "        :rtype: List[int]\n",
    "        \"\"\"\n",
    "    \n",
    "        output = []\n",
    "        winSum = 0\n",
    "\n",
    "        for i, num in enumerate(nums):\n",
    "            winSum += max(nums[i:i+k])\n",
    "            output.append(winSum)\n",
    "            if i+k == len(nums):\n",
    "                break\n",
    "            winSum = 0\n",
    "        return output\n",
    "\n"
   ]
  },
  {
   "cell_type": "code",
   "execution_count": 78,
   "metadata": {},
   "outputs": [
    {
     "data": {
      "text/plain": [
       "[3, 3, 5, 5, 6, 7]"
      ]
     },
     "execution_count": 78,
     "metadata": {},
     "output_type": "execute_result"
    }
   ],
   "source": [
    "nums = [1,3,-1,-3,5,3,6,7]\n",
    "k = 3\n",
    "maxSlidingWindow(nums, k)\n"
   ]
  },
  {
   "cell_type": "code",
   "execution_count": 80,
   "metadata": {},
   "outputs": [],
   "source": [
    "# O(n) Using deque\n",
    "def maxSlidingWindow(nums, k):\n",
    "        \"\"\"\n",
    "        :type nums: List[int]\n",
    "        :type k: int\n",
    "        :rtype: List[int]\n",
    "        \"\"\"\n",
    "        import collections\n",
    "        deque = collections.deque() \n",
    "        out = []\n",
    "        j = 0\n",
    "        \n",
    "        for i in range(len(nums)):\n",
    "            if i-j == k: \n",
    "                deque.popleft()\n",
    "            while deque and nums[i] > nums[deque[-1]]:\n",
    "                deque.pop()\n",
    "            deque.append(i)\n",
    "            if i+1 >= k:\n",
    "                j = deque[0]\n",
    "                out.append(nums[j])\n",
    "                \n",
    "        return out \n",
    "    \n",
    "    \n",
    "            "
   ]
  },
  {
   "cell_type": "code",
   "execution_count": 75,
   "metadata": {},
   "outputs": [
    {
     "data": {
      "text/plain": [
       "[1]"
      ]
     },
     "execution_count": 75,
     "metadata": {},
     "output_type": "execute_result"
    }
   ],
   "source": [
    "nums = [1]\n",
    "k = 0\n",
    "maxSlidingWindow(nums, k)\n"
   ]
  },
  {
   "cell_type": "code",
   "execution_count": 47,
   "metadata": {},
   "outputs": [
    {
     "data": {
      "text/plain": [
       "deque([])"
      ]
     },
     "execution_count": 47,
     "metadata": {},
     "output_type": "execute_result"
    }
   ],
   "source": [
    "d"
   ]
  },
  {
   "cell_type": "code",
   "execution_count": null,
   "metadata": {},
   "outputs": [],
   "source": []
  }
 ],
 "metadata": {
  "kernelspec": {
   "display_name": "Python 3",
   "language": "python",
   "name": "python3"
  },
  "language_info": {
   "codemirror_mode": {
    "name": "ipython",
    "version": 3
   },
   "file_extension": ".py",
   "mimetype": "text/x-python",
   "name": "python",
   "nbconvert_exporter": "python",
   "pygments_lexer": "ipython3",
   "version": "3.6.4"
  }
 },
 "nbformat": 4,
 "nbformat_minor": 2
}
