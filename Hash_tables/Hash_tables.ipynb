{
 "cells": [
  {
   "cell_type": "markdown",
   "metadata": {},
   "source": [
    "# 771. Jewels and Stones\n",
    "\n",
    "You're given strings J representing the types of stones that are jewels, and S representing the stones you have.  Each character in S is a type of stone you have.  You want to know how many of the stones you have are also jewels.\n",
    "\n",
    "The letters in J are guaranteed distinct, and all characters in J and S are letters. Letters are case sensitive, so \"a\" is considered a different type of stone from \"A\".\n",
    "\n",
    "Example 1:\n",
    "\n",
    "Input: J = \"aA\", S = \"aAAbbbb\"\n",
    "Output: 3\n",
    "Example 2:\n",
    "\n",
    "Input: J = \"z\", S = \"ZZ\"\n",
    "Output: 0\n",
    "Note:\n",
    "\n",
    "S and J will consist of letters and have length at most 50.\n",
    "The characters in J are distinct."
   ]
  },
  {
   "cell_type": "code",
   "execution_count": 23,
   "metadata": {},
   "outputs": [],
   "source": [
    "def jewels_and_stones(J, S):\n",
    "    \n",
    "    J_dict = {}\n",
    "    jewels_sum = 0\n",
    "    \n",
    "    for j in J: \n",
    "        J_dict[j] = 0\n",
    "    \n",
    "    for s in S: \n",
    "        if s in J_dict: \n",
    "            jewels_sum += 1\n",
    "    \n",
    "    return jewels_sum\n",
    "        \n",
    "    "
   ]
  },
  {
   "cell_type": "code",
   "execution_count": 24,
   "metadata": {},
   "outputs": [
    {
     "data": {
      "text/plain": [
       "1"
      ]
     },
     "execution_count": 24,
     "metadata": {},
     "output_type": "execute_result"
    }
   ],
   "source": [
    "jewels_and_stones('zAAa', 'ZZZa')"
   ]
  },
  {
   "cell_type": "markdown",
   "metadata": {},
   "source": [
    "# 706. Design HashMap\n",
    "\n",
    "Design a HashMap without using any built-in hash table libraries.\n",
    "\n",
    "To be specific, your design should include these functions:\n",
    "\n",
    "put(key, value) : Insert a (key, value) pair into the HashMap. If the value already exists in the HashMap, update the value.\n",
    "get(key): Returns the value to which the specified key is mapped, or -1 if this map contains no mapping for the key.\n",
    "remove(key) : Remove the mapping for the value key if this map contains the mapping for the key.\n",
    "\n",
    "Example:\n",
    "\n",
    "MyHashMap hashMap = new MyHashMap();\n",
    "hashMap.put(1, 1);          \n",
    "hashMap.put(2, 2);         \n",
    "hashMap.get(1);            // returns 1\n",
    "hashMap.get(3);            // returns -1 (not found)\n",
    "hashMap.put(2, 1);          // update the existing value\n",
    "hashMap.get(2);            // returns 1 \n",
    "hashMap.remove(2);          // remove the mapping for 2\n",
    "hashMap.get(2);            // returns -1 (not found) \n"
   ]
  },
  {
   "cell_type": "code",
   "execution_count": 107,
   "metadata": {},
   "outputs": [],
   "source": [
    "class MyHashMap(object):\n",
    "\n",
    "    def __init__(self):\n",
    "        \"\"\"\n",
    "        Initialize your data structure here.\n",
    "        \"\"\"\n",
    "        self.keyMap = [-1] * 1000001\n",
    "    \n",
    "    \n",
    "    def _hashing(self, key):\n",
    "        \n",
    "        return (key*1000033)%len(self.keyMap)\n",
    "\n",
    "    def put(self, key, value):\n",
    "        \"\"\"\n",
    "        value will always be non-negative.\n",
    "        :type key: int\n",
    "        :type value: int\n",
    "        :rtype: void\n",
    "        \"\"\"\n",
    "        index = self._hashing(key)\n",
    "        self.keyMap[index] = [key, value]\n",
    "        \n",
    "    def get(self, key):\n",
    "        \"\"\"\n",
    "        Returns the value to which the specified key is mapped, or -1 if this map contains no mapping for the key\n",
    "        :type key: int\n",
    "        :rtype: int\n",
    "        \"\"\"\n",
    "        index = self._hashing(key)\n",
    "        return self.keyMap[index][1]\n",
    "    \n",
    "    def remove(self, key):\n",
    "        \"\"\"\n",
    "        Removes the mapping of the specified value key if this map contains a mapping for the key\n",
    "        :type key: int\n",
    "        :rtype: void\n",
    "        \"\"\"\n",
    "        index = self._hashing(key)\n",
    "        self.keyMap[index] = -1\n",
    "        \n",
    "# Your MyHashMap object will be instantiated and called as such:\n",
    "# obj = MyHashMap()\n",
    "# obj.put(key,value)\n",
    "# param_2 = obj.get(key)\n",
    "# obj.remove(key)\n"
   ]
  },
  {
   "cell_type": "code",
   "execution_count": 7,
   "metadata": {},
   "outputs": [],
   "source": [
    "has = MyHashMap()"
   ]
  },
  {
   "cell_type": "code",
   "execution_count": 8,
   "metadata": {},
   "outputs": [
    {
     "name": "stdout",
     "output_type": "stream",
     "text": [
      "-1\n"
     ]
    }
   ],
   "source": [
    "has.put(1,100036)"
   ]
  },
  {
   "cell_type": "code",
   "execution_count": 204,
   "metadata": {},
   "outputs": [
    {
     "data": {
      "text/plain": [
       "100036"
      ]
     },
     "execution_count": 204,
     "metadata": {},
     "output_type": "execute_result"
    }
   ],
   "source": [
    "has.get(1)"
   ]
  },
  {
   "cell_type": "code",
   "execution_count": 205,
   "metadata": {},
   "outputs": [
    {
     "name": "stdout",
     "output_type": "stream",
     "text": [
      "one element\n",
      "-1\n"
     ]
    }
   ],
   "source": [
    "has.remove(1)"
   ]
  },
  {
   "cell_type": "code",
   "execution_count": 4,
   "metadata": {},
   "outputs": [],
   "source": [
    "name = [None]\n"
   ]
  },
  {
   "cell_type": "code",
   "execution_count": 5,
   "metadata": {},
   "outputs": [
    {
     "name": "stdout",
     "output_type": "stream",
     "text": [
      "none\n"
     ]
    }
   ],
   "source": [
    "if name[0] == None:\n",
    "    print('none')"
   ]
  },
  {
   "cell_type": "markdown",
   "metadata": {},
   "source": [
    "# 380. Insert Delete GetRandom O(1)\n",
    "\n",
    "Design a data structure that supports all following operations in average O(1) time.\n",
    "\n",
    "insert(val): Inserts an item val to the set if not already present.\n",
    "remove(val): Removes an item val from the set if present.\n",
    "getRandom: Returns a random element from current set of elements. Each element must have the same probability of being returned.\n",
    "Example:\n",
    "\n",
    "// Init an empty set.\n",
    "RandomizedSet randomSet = new RandomizedSet();\n",
    "\n",
    "// Inserts 1 to the set. Returns true as 1 was inserted successfully.\n",
    "randomSet.insert(1);\n",
    "\n",
    "// Returns false as 2 does not exist in the set.\n",
    "randomSet.remove(2);\n",
    "\n",
    "// Inserts 2 to the set, returns true. Set now contains [1,2].\n",
    "randomSet.insert(2);\n",
    "\n",
    "// getRandom should return either 1 or 2 randomly.\n",
    "randomSet.getRandom();\n",
    "\n",
    "// Removes 1 from the set, returns true. Set now contains [2].\n",
    "randomSet.remove(1);\n",
    "\n",
    "// 2 was already in the set, so return false.\n",
    "randomSet.insert(2);\n",
    "\n",
    "// Since 2 is the only number in the set, getRandom always return 2.\n",
    "randomSet.getRandom();"
   ]
  },
  {
   "cell_type": "code",
   "execution_count": 105,
   "metadata": {},
   "outputs": [],
   "source": [
    "class RandomizedSet(object):\n",
    "\n",
    "    def __init__(self):\n",
    "        \"\"\"\n",
    "        Initialize your data structure here.\n",
    "        \"\"\"\n",
    "        self.nums, self.ind = [], {}\n",
    "    \n",
    "        \n",
    "    def insert(self, val):\n",
    "        \"\"\"\n",
    "        Inserts a value to the set. Returns true if \n",
    "        the set did not already contain the specified element.\n",
    "        :type val: int\n",
    "        :rtype: bool\n",
    "        \"\"\"\n",
    "        if val not in self.ind: \n",
    "            self.nums += val,\n",
    "            self.ind[val] = len(self.nums)-1\n",
    "            return True \n",
    "        return False\n",
    "        \n",
    "        \n",
    "    def remove(self, val):\n",
    "        \"\"\"\n",
    "        Removes a value from the set. Returns true if the set contained \n",
    "        the specified element.\n",
    "        :type val: int\n",
    "        :rtype: bool\n",
    "        \"\"\"\n",
    "        if val not in self.ind:\n",
    "            return False\n",
    "        if val == self.nums[-1]:\n",
    "            del self.ind[self.nums.pop()]\n",
    "            print(self.ind, self.nums)\n",
    "        else: \n",
    "            index = self.ind[val]\n",
    "            self.nums[index], self.nums[-1] = self.nums[-1], self.nums[index]\n",
    "            self.ind[self.nums[index]] = index\n",
    "            del self.ind[self.nums.pop()]    \n",
    "        return True\n",
    "        \n",
    "        \n",
    "\n",
    "    def getRandom(self):\n",
    "        \"\"\"\n",
    "        Removes the mapping of the specified value key if this map \n",
    "        contains a mapping for the key\n",
    "        :type key: int\n",
    "        :rtype: void\n",
    "        \"\"\"\n",
    "        return random.choice(self.nums)\n",
    "       "
   ]
  },
  {
   "cell_type": "code",
   "execution_count": 97,
   "metadata": {},
   "outputs": [],
   "source": [
    "myset = RandomizedSet()"
   ]
  },
  {
   "cell_type": "code",
   "execution_count": 98,
   "metadata": {},
   "outputs": [
    {
     "name": "stdout",
     "output_type": "stream",
     "text": [
      "{1: 0} [1]\n"
     ]
    },
    {
     "data": {
      "text/plain": [
       "True"
      ]
     },
     "execution_count": 98,
     "metadata": {},
     "output_type": "execute_result"
    }
   ],
   "source": [
    "myset.insert(1)"
   ]
  },
  {
   "cell_type": "code",
   "execution_count": 99,
   "metadata": {},
   "outputs": [
    {
     "name": "stdout",
     "output_type": "stream",
     "text": [
      "{1: 0, 2: 1} [1, 2]\n"
     ]
    },
    {
     "data": {
      "text/plain": [
       "True"
      ]
     },
     "execution_count": 99,
     "metadata": {},
     "output_type": "execute_result"
    }
   ],
   "source": [
    "myset.insert(2)"
   ]
  },
  {
   "cell_type": "code",
   "execution_count": 100,
   "metadata": {},
   "outputs": [
    {
     "name": "stdout",
     "output_type": "stream",
     "text": [
      "{1: 0, 2: 1, 3: 2} [1, 2, 3]\n"
     ]
    },
    {
     "data": {
      "text/plain": [
       "True"
      ]
     },
     "execution_count": 100,
     "metadata": {},
     "output_type": "execute_result"
    }
   ],
   "source": [
    "myset.insert(3)"
   ]
  },
  {
   "cell_type": "code",
   "execution_count": 101,
   "metadata": {},
   "outputs": [
    {
     "name": "stdout",
     "output_type": "stream",
     "text": [
      "{1: 0, 2: 1} [1, 2]\n"
     ]
    },
    {
     "data": {
      "text/plain": [
       "True"
      ]
     },
     "execution_count": 101,
     "metadata": {},
     "output_type": "execute_result"
    }
   ],
   "source": [
    "myset.remove(3)"
   ]
  },
  {
   "cell_type": "code",
   "execution_count": 102,
   "metadata": {},
   "outputs": [
    {
     "data": {
      "text/plain": [
       "True"
      ]
     },
     "execution_count": 102,
     "metadata": {},
     "output_type": "execute_result"
    }
   ],
   "source": [
    "myset.remove(1)"
   ]
  },
  {
   "cell_type": "code",
   "execution_count": 103,
   "metadata": {},
   "outputs": [
    {
     "name": "stdout",
     "output_type": "stream",
     "text": [
      "{} []\n"
     ]
    },
    {
     "data": {
      "text/plain": [
       "True"
      ]
     },
     "execution_count": 103,
     "metadata": {},
     "output_type": "execute_result"
    }
   ],
   "source": [
    "myset.remove(2)"
   ]
  },
  {
   "cell_type": "code",
   "execution_count": 104,
   "metadata": {},
   "outputs": [
    {
     "data": {
      "text/plain": [
       "False"
      ]
     },
     "execution_count": 104,
     "metadata": {},
     "output_type": "execute_result"
    }
   ],
   "source": [
    "myset.remove(1)"
   ]
  },
  {
   "cell_type": "code",
   "execution_count": null,
   "metadata": {},
   "outputs": [],
   "source": []
  }
 ],
 "metadata": {
  "kernelspec": {
   "display_name": "Python 3",
   "language": "python",
   "name": "python3"
  },
  "language_info": {
   "codemirror_mode": {
    "name": "ipython",
    "version": 3
   },
   "file_extension": ".py",
   "mimetype": "text/x-python",
   "name": "python",
   "nbconvert_exporter": "python",
   "pygments_lexer": "ipython3",
   "version": "3.6.4"
  }
 },
 "nbformat": 4,
 "nbformat_minor": 2
}
