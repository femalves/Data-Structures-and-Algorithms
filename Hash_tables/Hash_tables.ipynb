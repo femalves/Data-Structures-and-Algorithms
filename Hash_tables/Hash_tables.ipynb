{
 "cells": [
  {
   "cell_type": "markdown",
   "metadata": {},
   "source": [
    "# 771. Jewels and Stones\n",
    "\n",
    "You're given strings J representing the types of stones that are jewels, and S representing the stones you have.  Each character in S is a type of stone you have.  You want to know how many of the stones you have are also jewels.\n",
    "\n",
    "The letters in J are guaranteed distinct, and all characters in J and S are letters. Letters are case sensitive, so \"a\" is considered a different type of stone from \"A\".\n",
    "\n",
    "Example 1:\n",
    "\n",
    "Input: J = \"aA\", S = \"aAAbbbb\"\n",
    "Output: 3\n",
    "Example 2:\n",
    "\n",
    "Input: J = \"z\", S = \"ZZ\"\n",
    "Output: 0\n",
    "Note:\n",
    "\n",
    "S and J will consist of letters and have length at most 50.\n",
    "The characters in J are distinct."
   ]
  },
  {
   "cell_type": "code",
   "execution_count": 23,
   "metadata": {},
   "outputs": [],
   "source": [
    "def jewels_and_stones(J, S):\n",
    "    \n",
    "    J_dict = {}\n",
    "    jewels_sum = 0\n",
    "    \n",
    "    for j in J: \n",
    "        J_dict[j] = 0\n",
    "    \n",
    "    for s in S: \n",
    "        if s in J_dict: \n",
    "            jewels_sum += 1\n",
    "    \n",
    "    return jewels_sum\n",
    "        \n",
    "    "
   ]
  },
  {
   "cell_type": "code",
   "execution_count": 24,
   "metadata": {},
   "outputs": [
    {
     "data": {
      "text/plain": [
       "1"
      ]
     },
     "execution_count": 24,
     "metadata": {},
     "output_type": "execute_result"
    }
   ],
   "source": [
    "jewels_and_stones('zAAa', 'ZZZa')"
   ]
  },
  {
   "cell_type": "markdown",
   "metadata": {},
   "source": [
    "# 706. Design HashMap**\n",
    "\n",
    "Design a HashMap without using any built-in hash table libraries.\n",
    "\n",
    "To be specific, your design should include these functions:\n",
    "\n",
    "put(key, value) : Insert a (key, value) pair into the HashMap. If the value already exists in the HashMap, update the value.\n",
    "\n",
    "get(key): Returns the value to which the specified key is mapped, or -1 if this map contains no mapping for the key.\n",
    "\n",
    "remove(key) : Remove the mapping for the value key if this map contains the mapping for the key.\n",
    "\n",
    "Example:\n",
    "\n",
    "MyHashMap hashMap = new MyHashMap();\n",
    "hashMap.put(1, 1);          \n",
    "hashMap.put(2, 2);         \n",
    "hashMap.get(1);            // returns 1\n",
    "hashMap.get(3);            // returns -1 (not found)\n",
    "hashMap.put(2, 1);          // update the existing value\n",
    "hashMap.get(2);            // returns 1 \n",
    "hashMap.remove(2);          // remove the mapping for 2\n",
    "hashMap.get(2);            // returns -1 (not found) \n"
   ]
  },
  {
   "cell_type": "code",
   "execution_count": 211,
   "metadata": {},
   "outputs": [],
   "source": [
    "# Passed leetcode, but slow\n",
    "class MyHashMap(object):\n",
    "\n",
    "    def __init__(self):\n",
    "        \"\"\"\n",
    "        Initialize your data structure here.\n",
    "        \"\"\"\n",
    "        self.keyMap = [-1] * 1000001\n",
    "    \n",
    "    \n",
    "    def _hashing(self, key):\n",
    "        \n",
    "        return (key*1000033)%len(self.keyMap)\n",
    "\n",
    "    def put(self, key, value):\n",
    "        \"\"\"\n",
    "        value will always be non-negative.\n",
    "        :type key: int\n",
    "        :type value: int\n",
    "        :rtype: void\n",
    "        \"\"\"\n",
    "        index = self._hashing(key)\n",
    "        self.keyMap[index] = [key, value]\n",
    "        \n",
    "    def get(self, key):\n",
    "        \"\"\"\n",
    "        Returns the value to which the specified key is mapped, or -1 if this map contains no mapping for the key\n",
    "        :type key: int\n",
    "        :rtype: int\n",
    "        \"\"\"\n",
    "        index = self._hashing(key)\n",
    "        return self.keyMap[index][1]\n",
    "    \n",
    "    def remove(self, key):\n",
    "        \"\"\"\n",
    "        Removes the mapping of the specified value key if this map contains a mapping for the key\n",
    "        :type key: int\n",
    "        :rtype: void\n",
    "        \"\"\"\n",
    "        index = self._hashing(key)\n",
    "        self.keyMap[index] = -1\n",
    "        \n",
    "# Your MyHashMap object will be instantiated and called as such:\n",
    "# obj = MyHashMap()\n",
    "# obj.put(key,value)\n",
    "# param_2 = obj.get(key)\n",
    "# obj.remove(key)\n"
   ]
  },
  {
   "cell_type": "code",
   "execution_count": 212,
   "metadata": {},
   "outputs": [],
   "source": [
    "# Passed leetcode, but slower than slow\n",
    "class MyHashMap(object):\n",
    "\n",
    "    def __init__(self):\n",
    "        \"\"\"\n",
    "        Initialize your data structure here.\n",
    "        \"\"\"\n",
    "        self.size = 1000033\n",
    "        self.keyMap = [-1]*self.size\n",
    "    \n",
    "    # Accepts a key and a value\n",
    "    # Hashes the key\n",
    "    # Stores the key-value pair in the hash table \n",
    "    # array via separate chaining\n",
    "    def put(self, key, value):\n",
    "        \"\"\"\n",
    "        value will always be non-negative.\n",
    "        :type key: int\n",
    "        :type value: int\n",
    "        :rtype: void\n",
    "        \"\"\"\n",
    "        \n",
    "        index = key%self.size\n",
    "        if self.keyMap[index] == -1:\n",
    "            self.keyMap[index] = [[key, value]]  \n",
    "        else:\n",
    "            for i in range(len(self.keyMap[index])):\n",
    "                if self.keyMap[index][i][0] == key:\n",
    "                    self.keyMap[index][i][1] = value      \n",
    "                    return\n",
    "            self.keyMap[index].append([key, value])\n",
    "           \n",
    "        \n",
    "    # Accepts a key \n",
    "    # Hashes the key\n",
    "    # Retrieves the key-value pair in the hash table \n",
    "    # array via separate chaining\n",
    "    # If the key isn't found, returns -1\n",
    "    def get(self, key):\n",
    "        \"\"\"\n",
    "        Returns the value to which the specified key is mapped, or -1 if this map contains no mapping for the key\n",
    "        :type key: int\n",
    "        :rtype: int\n",
    "        \"\"\"\n",
    "        index = key%self.size\n",
    "        if self.keyMap[index] == -1:\n",
    "            return -1\n",
    "        else:\n",
    "            for i in range(len(self.keyMap[index])):\n",
    "                if self.keyMap[index][i][0] == key:\n",
    "                    return self.keyMap[index][i][1]\n",
    "        return -1\n",
    "    \n",
    "    def remove(self, key):\n",
    "        \"\"\"\n",
    "        Removes the mapping of the specified value key if this map contains a mapping for the key\n",
    "        :type key: int\n",
    "        :rtype: void\n",
    "        \"\"\"\n",
    "        index = key%self.size\n",
    "        if self.keyMap[index] == -1:\n",
    "            return \n",
    "        else:\n",
    "            for i in range(len(self.keyMap[index])):\n",
    "                if self.keyMap[index][i][0] == key:\n",
    "                    break\n",
    "            del self.keyMap[index][i]\n",
    "        if len(self.keyMap[index]) == 0:\n",
    "            self.keyMap[index] = -1\n",
    "        \n",
    "            \n",
    "    \n",
    "        \n",
    "# Your MyHashMap object will be instantiated and called as such:\n",
    "# obj = MyHashMap()\n",
    "# obj.put(key,value)\n",
    "# param_2 = obj.get(key)\n",
    "# obj.remove(key)\n"
   ]
  },
  {
   "cell_type": "code",
   "execution_count": 1,
   "metadata": {},
   "outputs": [],
   "source": [
    "# Best solution\n",
    "class ListNode:\n",
    "    def __init__(self, key, val):\n",
    "        self.pair = (key, val)\n",
    "        self.next = None\n",
    "\n",
    "class MyHashMap(object):\n",
    "\n",
    "    def __init__(self):\n",
    "        \"\"\"\n",
    "        Initialize your data structure here.\n",
    "        \"\"\"\n",
    "        self.size = 1000\n",
    "        self.keyMap = [None]*self.size\n",
    "        \n",
    "\n",
    "    def put(self, key, value):\n",
    "        \"\"\"\n",
    "        value will always be non-negative.\n",
    "        :type key: int\n",
    "        :type value: int\n",
    "        :rtype: void\n",
    "        \"\"\"\n",
    "        index = key % self.size\n",
    "        if self.keyMap[index] == None:\n",
    "            self.keyMap[index] = ListNode(key, value)\n",
    "        else:\n",
    "            cur = self.keyMap[index]\n",
    "            while cur:\n",
    "                if cur.pair[0] == key:\n",
    "                    curr.pair = (key,value)\n",
    "                    return\n",
    "                prev, cur = cur, cur.next\n",
    "            prev.next = ListNode(key,value)\n",
    "        \n",
    "\n",
    "    def get(self, key):\n",
    "        \"\"\"\n",
    "        Returns the value to which the specified key is mapped, or -1 if this map contains no mapping for the key\n",
    "        :type key: int\n",
    "        :rtype: int\n",
    "        \"\"\"\n",
    "        index = key % self.size\n",
    "        cur = self.keyMap[index]\n",
    "        while cur:\n",
    "            if cur.pair[0] == key:\n",
    "                return cur.pair[1]\n",
    "            cur = cur.next\n",
    "        return -1\n",
    "        \n",
    "\n",
    "    def remove(self, key):\n",
    "        \"\"\"\n",
    "        Removes the mapping of the specified value key if this map contains a mapping for the key\n",
    "        :type key: int\n",
    "        :rtype: void\n",
    "        \"\"\"\n",
    "        index = key % self.size\n",
    "        cur = prev = self.keyMap[index]\n",
    "        if not cur: return \n",
    "        if cur.pair[0] == key:\n",
    "            self.keyMap[index] = cur.next\n",
    "        else:\n",
    "            cur = cur.next\n",
    "            while cur: \n",
    "                if cur.pair[0] == key:\n",
    "                    prev.next = cur.next\n",
    "                    break\n",
    "                prev, cur = cur, cur.next\n",
    "                    \n",
    "                \n",
    "        "
   ]
  },
  {
   "cell_type": "code",
   "execution_count": 2,
   "metadata": {},
   "outputs": [],
   "source": [
    "h= MyHashMap()"
   ]
  },
  {
   "cell_type": "code",
   "execution_count": 3,
   "metadata": {},
   "outputs": [],
   "source": [
    "h.put(1,1000411)"
   ]
  },
  {
   "cell_type": "code",
   "execution_count": 206,
   "metadata": {},
   "outputs": [
    {
     "data": {
      "text/plain": [
       "1000414"
      ]
     },
     "execution_count": 206,
     "metadata": {},
     "output_type": "execute_result"
    }
   ],
   "source": [
    "h.get(4)"
   ]
  },
  {
   "cell_type": "code",
   "execution_count": 210,
   "metadata": {},
   "outputs": [
    {
     "name": "stdout",
     "output_type": "stream",
     "text": [
      "[-1, -1, -1, -1, -1, -1, -1, -1, -1, -1, -1]\n"
     ]
    }
   ],
   "source": [
    "h.remove(4)"
   ]
  },
  {
   "cell_type": "code",
   "execution_count": 4,
   "metadata": {},
   "outputs": [],
   "source": [
    "name = [None]\n"
   ]
  },
  {
   "cell_type": "code",
   "execution_count": 5,
   "metadata": {},
   "outputs": [
    {
     "name": "stdout",
     "output_type": "stream",
     "text": [
      "none\n"
     ]
    }
   ],
   "source": [
    "if name[0] == None:\n",
    "    print('none')"
   ]
  },
  {
   "cell_type": "markdown",
   "metadata": {},
   "source": [
    "# 380. Insert Delete GetRandom O(1)\n",
    "\n",
    "Design a data structure that supports all following operations in average O(1) time.\n",
    "\n",
    "insert(val): Inserts an item val to the set if not already present.\n",
    "remove(val): Removes an item val from the set if present.\n",
    "getRandom: Returns a random element from current set of elements. Each element must have the same probability of being returned.\n",
    "Example:\n",
    "\n",
    "// Init an empty set.\n",
    "RandomizedSet randomSet = new RandomizedSet();\n",
    "\n",
    "// Inserts 1 to the set. Returns true as 1 was inserted successfully.\n",
    "randomSet.insert(1);\n",
    "\n",
    "// Returns false as 2 does not exist in the set.\n",
    "randomSet.remove(2);\n",
    "\n",
    "// Inserts 2 to the set, returns true. Set now contains [1,2].\n",
    "randomSet.insert(2);\n",
    "\n",
    "// getRandom should return either 1 or 2 randomly.\n",
    "randomSet.getRandom();\n",
    "\n",
    "// Removes 1 from the set, returns true. Set now contains [2].\n",
    "randomSet.remove(1);\n",
    "\n",
    "// 2 was already in the set, so return false.\n",
    "randomSet.insert(2);\n",
    "\n",
    "// Since 2 is the only number in the set, getRandom always return 2.\n",
    "randomSet.getRandom();"
   ]
  },
  {
   "cell_type": "code",
   "execution_count": 105,
   "metadata": {},
   "outputs": [],
   "source": [
    "class RandomizedSet(object):\n",
    "\n",
    "    def __init__(self):\n",
    "        \"\"\"\n",
    "        Initialize your data structure here.\n",
    "        \"\"\"\n",
    "        self.nums, self.ind = [], {}\n",
    "    \n",
    "        \n",
    "    def insert(self, val):\n",
    "        \"\"\"\n",
    "        Inserts a value to the set. Returns true if \n",
    "        the set did not already contain the specified element.\n",
    "        :type val: int\n",
    "        :rtype: bool\n",
    "        \"\"\"\n",
    "        if val not in self.ind: \n",
    "            self.nums += val,\n",
    "            self.ind[val] = len(self.nums)-1\n",
    "            return True \n",
    "        return False\n",
    "        \n",
    "        \n",
    "    def remove(self, val):\n",
    "        \"\"\"\n",
    "        Removes a value from the set. Returns true if the set contained \n",
    "        the specified element.\n",
    "        :type val: int\n",
    "        :rtype: bool\n",
    "        \"\"\"\n",
    "        if val not in self.ind:\n",
    "            return False\n",
    "        if val == self.nums[-1]:\n",
    "            del self.ind[self.nums.pop()]\n",
    "            print(self.ind, self.nums)\n",
    "        else: \n",
    "            index = self.ind[val]\n",
    "            self.nums[index], self.nums[-1] = self.nums[-1], self.nums[index]\n",
    "            self.ind[self.nums[index]] = index\n",
    "            del self.ind[self.nums.pop()]    \n",
    "        return True\n",
    "        \n",
    "        \n",
    "\n",
    "    def getRandom(self):\n",
    "        \"\"\"\n",
    "        Removes the mapping of the specified value key if this map \n",
    "        contains a mapping for the key\n",
    "        :type key: int\n",
    "        :rtype: void\n",
    "        \"\"\"\n",
    "        return random.choice(self.nums)\n",
    "       "
   ]
  },
  {
   "cell_type": "code",
   "execution_count": 97,
   "metadata": {},
   "outputs": [],
   "source": [
    "myset = RandomizedSet()"
   ]
  },
  {
   "cell_type": "code",
   "execution_count": 98,
   "metadata": {},
   "outputs": [
    {
     "name": "stdout",
     "output_type": "stream",
     "text": [
      "{1: 0} [1]\n"
     ]
    },
    {
     "data": {
      "text/plain": [
       "True"
      ]
     },
     "execution_count": 98,
     "metadata": {},
     "output_type": "execute_result"
    }
   ],
   "source": [
    "myset.insert(1)"
   ]
  },
  {
   "cell_type": "code",
   "execution_count": 99,
   "metadata": {},
   "outputs": [
    {
     "name": "stdout",
     "output_type": "stream",
     "text": [
      "{1: 0, 2: 1} [1, 2]\n"
     ]
    },
    {
     "data": {
      "text/plain": [
       "True"
      ]
     },
     "execution_count": 99,
     "metadata": {},
     "output_type": "execute_result"
    }
   ],
   "source": [
    "myset.insert(2)"
   ]
  },
  {
   "cell_type": "code",
   "execution_count": 100,
   "metadata": {},
   "outputs": [
    {
     "name": "stdout",
     "output_type": "stream",
     "text": [
      "{1: 0, 2: 1, 3: 2} [1, 2, 3]\n"
     ]
    },
    {
     "data": {
      "text/plain": [
       "True"
      ]
     },
     "execution_count": 100,
     "metadata": {},
     "output_type": "execute_result"
    }
   ],
   "source": [
    "myset.insert(3)"
   ]
  },
  {
   "cell_type": "code",
   "execution_count": 101,
   "metadata": {},
   "outputs": [
    {
     "name": "stdout",
     "output_type": "stream",
     "text": [
      "{1: 0, 2: 1} [1, 2]\n"
     ]
    },
    {
     "data": {
      "text/plain": [
       "True"
      ]
     },
     "execution_count": 101,
     "metadata": {},
     "output_type": "execute_result"
    }
   ],
   "source": [
    "myset.remove(3)"
   ]
  },
  {
   "cell_type": "code",
   "execution_count": 102,
   "metadata": {},
   "outputs": [
    {
     "data": {
      "text/plain": [
       "True"
      ]
     },
     "execution_count": 102,
     "metadata": {},
     "output_type": "execute_result"
    }
   ],
   "source": [
    "myset.remove(1)"
   ]
  },
  {
   "cell_type": "code",
   "execution_count": 103,
   "metadata": {},
   "outputs": [
    {
     "name": "stdout",
     "output_type": "stream",
     "text": [
      "{} []\n"
     ]
    },
    {
     "data": {
      "text/plain": [
       "True"
      ]
     },
     "execution_count": 103,
     "metadata": {},
     "output_type": "execute_result"
    }
   ],
   "source": [
    "myset.remove(2)"
   ]
  },
  {
   "cell_type": "code",
   "execution_count": 104,
   "metadata": {},
   "outputs": [
    {
     "data": {
      "text/plain": [
       "False"
      ]
     },
     "execution_count": 104,
     "metadata": {},
     "output_type": "execute_result"
    }
   ],
   "source": [
    "myset.remove(1)"
   ]
  },
  {
   "cell_type": "code",
   "execution_count": 30,
   "metadata": {},
   "outputs": [],
   "source": [
    "myList = [1, 2, 3, 4]"
   ]
  },
  {
   "cell_type": "code",
   "execution_count": 33,
   "metadata": {},
   "outputs": [],
   "source": [
    "myList.append([5])"
   ]
  },
  {
   "cell_type": "code",
   "execution_count": 34,
   "metadata": {},
   "outputs": [
    {
     "data": {
      "text/plain": [
       "[1, 2, 3, 4, 5, [5]]"
      ]
     },
     "execution_count": 34,
     "metadata": {},
     "output_type": "execute_result"
    }
   ],
   "source": [
    "myList"
   ]
  },
  {
   "cell_type": "markdown",
   "metadata": {},
   "source": [
    "# 76. Minimum Window Substring\n",
    "\n",
    "Given a string S and a string T, find the minimum window in S which will contain all the characters in T in complexity O(n).\n",
    "\n",
    "Example:\n",
    "\n",
    "Input: S = \"ADOBECODEBANC\", T = \"ABC\"\n",
    "Output: \"BANC\"\n",
    "Note:\n",
    "\n",
    "If there is no such window in S that covers all characters in T, return the empty string \"\".\n",
    "If there is such window, you are guaranteed that there will always be only one unique minimum window in S.\n"
   ]
  },
  {
   "cell_type": "code",
   "execution_count": 145,
   "metadata": {},
   "outputs": [],
   "source": [
    "def minWindow(s, t):\n",
    "    not_seen, extras = {}, {}\n",
    "    seen = {key:0 for key in t}\n",
    "    result = \"\"\n",
    "    i = j = 0\n",
    "    \n",
    "    for char in t:\n",
    "        not_seen[char] = 1 if char not in not_seen else not_seen[char] + 1\n",
    "    \n",
    "    while j < len(s): \n",
    " \n",
    "        while j < len(s) and not_seen != seen:\n",
    "            if s[j] in not_seen and not_seen[s[j]] > seen[s[j]]:\n",
    "                seen[s[j]] += 1\n",
    "            elif s[j] in not_seen:\n",
    "                if s[j] not in extras: \n",
    "                    extras[s[j]] = 1\n",
    "                else: \n",
    "                    extras[s[j]] += 1\n",
    "            j += 1\n",
    "        \n",
    "        if not_seen != seen: break\n",
    "    \n",
    "        while i < len(s) and s[i] not in not_seen or (s[i] in extras and extras[s[i]] > 0): \n",
    "            if s[i] in extras: \n",
    "                extras[s[i]] -= 1\n",
    "            i += 1\n",
    "        \n",
    "        if not_seen == seen:\n",
    "            result = s[i:j] if len(result) == 0 or len(s[i:j]) < len(result) else result\n",
    "       \n",
    "         \n",
    "        seen[s[i]] -= 1\n",
    "        i += 1\n",
    "    \n",
    "    return result\n",
    "        \n",
    "\n",
    "        \n",
    "        "
   ]
  },
  {
   "cell_type": "code",
   "execution_count": 149,
   "metadata": {},
   "outputs": [
    {
     "data": {
      "text/plain": [
       "'ksfor'"
      ]
     },
     "execution_count": 149,
     "metadata": {},
     "output_type": "execute_result"
    }
   ],
   "source": [
    "# minWindow(\"ADOBECODEBANC\", \"ABC\")\n",
    "\n",
    "\n",
    "# minWindow(\"a\", \"b\")\n",
    "\n",
    "\n",
    "# minWindow(\"geeksforgeeks\", \"ork\") #\"ksfor\"\n",
    "\n",
    "# minWindow(\"this is a test string\", \"tist\") #\"t stri\""
   ]
  },
  {
   "cell_type": "markdown",
   "metadata": {},
   "source": [
    "# 454. 4Sum II\n",
    "\n",
    "Given four lists A, B, C, D of integer values, compute how many tuples (i, j, k, l) there are such that A[i] + B[j] + C[k] + D[l] is zero.\n",
    "\n",
    "To make problem a bit easier, all A, B, C, D have same length of N where 0 ≤ N ≤ 500. All integers are in the range of -228 to 228 - 1 and the result is guaranteed to be at most 231 - 1.\n",
    "\n",
    "Example:\n",
    "\n",
    "Input:\n",
    "A = [ 1, 2]\n",
    "B = [-2,-1]\n",
    "C = [-1, 2]\n",
    "D = [ 0, 2]\n",
    "\n",
    "Output:\n",
    "2\n",
    "\n",
    "Explanation:\n",
    "The two tuples are:\n",
    "1. (0, 0, 0, 1) -> A[0] + B[0] + C[0] + D[1] = 1 + (-2) + (-1) + 2 = 0\n",
    "2. (1, 1, 0, 0) -> A[1] + B[1] + C[0] + D[0] = 2 + (-1) + (-1) + 0 = 0"
   ]
  },
  {
   "cell_type": "code",
   "execution_count": 39,
   "metadata": {},
   "outputs": [],
   "source": [
    "def fourSumCount(A, B, C, D):\n",
    "        \"\"\"\n",
    "        :type A: List[int]\n",
    "        :type B: List[int]\n",
    "        :type C: List[int]\n",
    "        :type D: List[int]\n",
    "        :rtype: int\n",
    "        \"\"\"\n",
    "       \n",
    "        frequency = {}\n",
    "        result = 0\n",
    "        \n",
    "        for a in A: \n",
    "            for b in B: \n",
    "                if a+b not in frequency: \n",
    "                    frequency[a+b] = 1\n",
    "                else: \n",
    "                    frequency[a+b] += 1\n",
    "        \n",
    "        for c in C: \n",
    "            for d in D: \n",
    "                if -(c+d) in frequency: \n",
    "                    result += frequency[-(c+d)]\n",
    "       \n",
    "        return result"
   ]
  },
  {
   "cell_type": "code",
   "execution_count": 41,
   "metadata": {},
   "outputs": [
    {
     "name": "stdout",
     "output_type": "stream",
     "text": [
      "{-1: 1, 0: 2, 1: 1}\n"
     ]
    },
    {
     "data": {
      "text/plain": [
       "2"
      ]
     },
     "execution_count": 41,
     "metadata": {},
     "output_type": "execute_result"
    }
   ],
   "source": [
    "A = [ 1, 2]  {-1: 1, 0: 2, 1: 1}\n",
    "B = [-2,-1] \n",
    "\n",
    "\n",
    "C = [-1, 2]  result = 2\n",
    "D = [ 0, 2]\n",
    "\n",
    "# A = [-1,-1]\n",
    "# B = [-1,1]\n",
    "# C = [-1,1]\n",
    "# D = [1,-1]\n",
    "fourSumCount(A, B, C, D)"
   ]
  },
  {
   "cell_type": "code",
   "execution_count": 15,
   "metadata": {},
   "outputs": [
    {
     "data": {
      "text/plain": [
       "False"
      ]
     },
     "execution_count": 15,
     "metadata": {},
     "output_type": "execute_result"
    }
   ],
   "source": []
  },
  {
   "cell_type": "code",
   "execution_count": null,
   "metadata": {},
   "outputs": [],
   "source": []
  }
 ],
 "metadata": {
  "kernelspec": {
   "display_name": "Python 3",
   "language": "python",
   "name": "python3"
  },
  "language_info": {
   "codemirror_mode": {
    "name": "ipython",
    "version": 3
   },
   "file_extension": ".py",
   "mimetype": "text/x-python",
   "name": "python",
   "nbconvert_exporter": "python",
   "pygments_lexer": "ipython3",
   "version": "3.6.4"
  }
 },
 "nbformat": 4,
 "nbformat_minor": 2
}
