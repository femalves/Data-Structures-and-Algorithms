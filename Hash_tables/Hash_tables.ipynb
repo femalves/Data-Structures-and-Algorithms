{
 "cells": [
  {
   "cell_type": "code",
   "execution_count": 23,
   "metadata": {},
   "outputs": [],
   "source": [
    "def jewels_and_stones(J, S):\n",
    "    \n",
    "    J_dict = {}\n",
    "    jewels_sum = 0\n",
    "    \n",
    "    for j in J: \n",
    "        J_dict[j] = 0\n",
    "    \n",
    "    for s in S: \n",
    "        if s in J_dict: \n",
    "            jewels_sum += 1\n",
    "    \n",
    "    return jewels_sum\n",
    "        \n",
    "    "
   ]
  },
  {
   "cell_type": "code",
   "execution_count": 24,
   "metadata": {},
   "outputs": [
    {
     "data": {
      "text/plain": [
       "1"
      ]
     },
     "execution_count": 24,
     "metadata": {},
     "output_type": "execute_result"
    }
   ],
   "source": [
    "jewels_and_stones('zAAa', 'ZZZa')"
   ]
  },
  {
   "cell_type": "code",
   "execution_count": 201,
   "metadata": {},
   "outputs": [],
   "source": [
    "class MyHashMap(object):\n",
    "\n",
    "    def __init__(self):\n",
    "        \"\"\"\n",
    "        Initialize your data structure here.\n",
    "        \"\"\"\n",
    "        self.keyMap = [-1] * 1000001\n",
    "    \n",
    "    \n",
    "    def _hashing(self, key):\n",
    "        \n",
    "        return (key*1000033)%len(self.keyMap)\n",
    "\n",
    "    def put(self, key, value):\n",
    "        \"\"\"\n",
    "        value will always be non-negative.\n",
    "        :type key: int\n",
    "        :type value: int\n",
    "        :rtype: void\n",
    "        \"\"\"\n",
    "        index = self._hashing(key)\n",
    "        self.keyMap[index] = [key, value]\n",
    "#         seen = False\n",
    "       \n",
    "#         if self.keyMap[index] == -1:\n",
    "#             self.keyMap[index] = [key, value]\n",
    "        \n",
    "#         for pair in self.keyMap[index]:\n",
    "#             if pair[0] == key: \n",
    "#                 pair[1] = value\n",
    "#                 seen = True\n",
    "#         if not seen: \n",
    "#             self.keyMap[index].append([key, value])\n",
    "        \n",
    "        \n",
    "        \n",
    "    def get(self, key):\n",
    "        \"\"\"\n",
    "        Returns the value to which the specified key is mapped, or -1 if this map contains no mapping for the key\n",
    "        :type key: int\n",
    "        :rtype: int\n",
    "        \"\"\"\n",
    "        index = self._hashing(key)\n",
    "        return self.keyMap[index][1]\n",
    "        \n",
    "#         if self.keyMap[index] == -1: \n",
    "#             return -1\n",
    "#         for i in range(len(self.keyMap[index])):\n",
    "#             if self.keyMap[index][i][0] == key:\n",
    "#                 return self.keyMap[index][i][1]\n",
    "        \n",
    "        \n",
    "\n",
    "    def remove(self, key):\n",
    "        \"\"\"\n",
    "        Removes the mapping of the specified value key if this map contains a mapping for the key\n",
    "        :type key: int\n",
    "        :rtype: void\n",
    "        \"\"\"\n",
    "        index = self._hashing(key)\n",
    "        self.keyMap[index] = -1\n",
    "        \n",
    "# Your MyHashMap object will be instantiated and called as such:\n",
    "# obj = MyHashMap()\n",
    "# obj.put(key,value)\n",
    "# param_2 = obj.get(key)\n",
    "# obj.remove(key)\n"
   ]
  },
  {
   "cell_type": "code",
   "execution_count": 202,
   "metadata": {},
   "outputs": [],
   "source": [
    "has = MyHashMap()"
   ]
  },
  {
   "cell_type": "code",
   "execution_count": 203,
   "metadata": {},
   "outputs": [
    {
     "name": "stdout",
     "output_type": "stream",
     "text": [
      "[[1, 100036]]\n"
     ]
    }
   ],
   "source": [
    "has.put(1,100036)"
   ]
  },
  {
   "cell_type": "code",
   "execution_count": 204,
   "metadata": {},
   "outputs": [
    {
     "data": {
      "text/plain": [
       "100036"
      ]
     },
     "execution_count": 204,
     "metadata": {},
     "output_type": "execute_result"
    }
   ],
   "source": [
    "has.get(1)"
   ]
  },
  {
   "cell_type": "code",
   "execution_count": 205,
   "metadata": {},
   "outputs": [
    {
     "name": "stdout",
     "output_type": "stream",
     "text": [
      "one element\n",
      "-1\n"
     ]
    }
   ],
   "source": [
    "has.remove(1)"
   ]
  },
  {
   "cell_type": "code",
   "execution_count": null,
   "metadata": {},
   "outputs": [],
   "source": []
  }
 ],
 "metadata": {
  "kernelspec": {
   "display_name": "Python 3",
   "language": "python",
   "name": "python3"
  },
  "language_info": {
   "codemirror_mode": {
    "name": "ipython",
    "version": 3
   },
   "file_extension": ".py",
   "mimetype": "text/x-python",
   "name": "python",
   "nbconvert_exporter": "python",
   "pygments_lexer": "ipython3",
   "version": "3.6.4"
  }
 },
 "nbformat": 4,
 "nbformat_minor": 2
}
